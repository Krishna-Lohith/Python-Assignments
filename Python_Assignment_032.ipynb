{
 "cells": [
  {
   "cell_type": "markdown",
   "id": "d920b21c",
   "metadata": {},
   "source": [
    "# Python_Assignment_032"
   ]
  },
  {
   "cell_type": "markdown",
   "id": "b25919dd",
   "metadata": {},
   "source": [
    "**Topics covered:-**  \n",
    "try and except   \n",
    "try and finally  \n",
    "raise  \n",
    "assert  \n",
    "with  "
   ]
  },
  {
   "cell_type": "markdown",
   "id": "a7e82b78",
   "metadata": {},
   "source": [
    "=============================================================================================================="
   ]
  },
  {
   "cell_type": "markdown",
   "id": "12e123e4",
   "metadata": {},
   "source": [
    "## Q1. What is the purpose of the try statement?"
   ]
  },
  {
   "cell_type": "markdown",
   "id": "34cb9a2d",
   "metadata": {},
   "source": [
    "The try statement is used in Python to handle exceptions. It allows you to write a block of code that might raise an exception and provides a mechanism to handle the exception if one is raised.\n",
    "\n",
    "The basic syntax of the try statement is as follows:"
   ]
  },
  {
   "cell_type": "code",
   "execution_count": null,
   "id": "9a7fb4ac",
   "metadata": {},
   "outputs": [],
   "source": [
    "try:\n",
    "    # code that might raise an exception\n",
    "except ExceptionType:\n",
    "    # code to handle the exception\n"
   ]
  },
  {
   "cell_type": "markdown",
   "id": "c89bf01b",
   "metadata": {},
   "source": [
    "Here, the try block contains the code that might raise an exception. If an exception is raised, it is caught by the except block, which contains the code to handle the exception. The ExceptionType is the type of exception that you want to handle. You can use specific exception types like ValueError, TypeError, NameError, or you can use the generic Exception to catch all types of exceptions.\n",
    "\n",
    "The purpose of the try statement is to allow you to write robust code that can handle errors gracefully. Instead of crashing the program, an exception can be caught, and the program can continue to run or take appropriate corrective actions."
   ]
  },
  {
   "cell_type": "markdown",
   "id": "9f4e47c2",
   "metadata": {},
   "source": [
    "=============================================================================================================="
   ]
  },
  {
   "cell_type": "markdown",
   "id": "52b4ac59",
   "metadata": {},
   "source": [
    "## Q2. What are the two most popular try statement variations?"
   ]
  },
  {
   "cell_type": "markdown",
   "id": "2693fe22",
   "metadata": {},
   "source": [
    "The two most popular try statement variations in Python are:\n",
    "\n",
    "1. **try-except:** This variation is used to catch and handle exceptions. The try block contains the code that might raise an exception, and the except block contains the code to handle the exception if it occurs."
   ]
  },
  {
   "cell_type": "code",
   "execution_count": 2,
   "id": "b36def43",
   "metadata": {},
   "outputs": [
    {
     "name": "stdout",
     "output_type": "stream",
     "text": [
      "Enter a number: 5\n",
      "The result is: 0.2\n"
     ]
    }
   ],
   "source": [
    "try:\n",
    "    x = int(input(\"Enter a number: \"))\n",
    "    y = 1 / x\n",
    "    print(\"The result is:\", y)\n",
    "except ValueError:\n",
    "    print(\"Invalid input\")\n",
    "except ZeroDivisionError:\n",
    "    print(\"Cannot divide by zero\")"
   ]
  },
  {
   "cell_type": "markdown",
   "id": "34f5f767",
   "metadata": {},
   "source": [
    "In this example, the try block contains code that prompts the user for a number, performs a calculation, and prints the result. If the user enters an invalid input or tries to divide by zero, an exception is raised. The except blocks catch the specific exception and handle it appropriately."
   ]
  },
  {
   "cell_type": "markdown",
   "id": "5254b8fa",
   "metadata": {},
   "source": [
    "\n",
    "\n",
    "2. **try-finally:** This variation is used to ensure that a block of code is executed, regardless of whether an exception occurs or not. The try block contains the code that might raise an exception, and the finally block contains the code that is guaranteed to be executed, whether an exception is raised or not."
   ]
  },
  {
   "cell_type": "code",
   "execution_count": null,
   "id": "99f277da",
   "metadata": {},
   "outputs": [],
   "source": [
    "file = None\n",
    "try:\n",
    "    file = open(\"example.txt\", \"r\")\n",
    "    contents = file.read()\n",
    "    print(contents)\n",
    "finally:\n",
    "    if file:\n",
    "        file.close()"
   ]
  },
  {
   "cell_type": "markdown",
   "id": "e38ea390",
   "metadata": {},
   "source": [
    "In this example, the try block contains code that attempts to open a file and read its contents. If an exception occurs, the finally block ensures that the file is closed before the program terminates, using the close() method of the file object."
   ]
  },
  {
   "cell_type": "markdown",
   "id": "2e8a7fbe",
   "metadata": {},
   "source": [
    "=============================================================================================================="
   ]
  },
  {
   "cell_type": "markdown",
   "id": "30b9448d",
   "metadata": {},
   "source": [
    "## Q3. What is the purpose of the raise statement?"
   ]
  },
  {
   "cell_type": "markdown",
   "id": "f3632fac",
   "metadata": {},
   "source": [
    "The raise statement in Python is used to explicitly raise an exception in a program. It allows you to signal to the caller of a function that a certain error or unexpected condition has occurred, and to provide information about the nature of the error.\n",
    "\n",
    "The raise statement takes an exception object as its argument, which is usually a built-in exception like ValueError, TypeError, or Exception. You can also define your own custom exceptions by creating a new class that inherits from the Exception class.\n",
    "\n",
    "Here's an example of using the raise statement to raise a ValueError exception:"
   ]
  },
  {
   "cell_type": "code",
   "execution_count": 4,
   "id": "125850e6",
   "metadata": {},
   "outputs": [
    {
     "name": "stdout",
     "output_type": "stream",
     "text": [
      "Error: Cannot divide by zero\n"
     ]
    }
   ],
   "source": [
    "def divide(x, y):\n",
    "    if y == 0:\n",
    "        raise ValueError(\"Cannot divide by zero\")\n",
    "    return x / y\n",
    "\n",
    "try:\n",
    "    result = divide(10, 0)\n",
    "except ValueError as e:\n",
    "    print(\"Error:\", e)"
   ]
  },
  {
   "cell_type": "markdown",
   "id": "09671f59",
   "metadata": {},
   "source": [
    "In this example, the divide() function checks if the second argument is zero, and raises a ValueError exception with a custom error message if it is. The try-except block is used to catch the exception and print the error message.\n",
    "\n",
    "The raise statement can also be used without an argument to re-raise the last exception that occurred, allowing you to propagate the exception up the call stack. This is useful in situations where you want to catch and handle an exception at a higher level of your program, but still allow it to be raised and handled by lower-level functions if necessary."
   ]
  },
  {
   "cell_type": "markdown",
   "id": "52aa1a32",
   "metadata": {},
   "source": [
    "=============================================================================================================="
   ]
  },
  {
   "cell_type": "markdown",
   "id": "64627fc7",
   "metadata": {},
   "source": [
    "## Q4. What does the assert statement do, and what other statement is it like?"
   ]
  },
  {
   "cell_type": "markdown",
   "id": "f0bc3a94",
   "metadata": {},
   "source": [
    "The assert statement in Python is a debugging aid that tests a condition, and triggers an AssertionError exception if the condition is not true. It's a way to assert that something you believe to be true is actually true at runtime, and to catch programming errors early.\n",
    "\n",
    "The assert statement takes an expression and an optional error message as its arguments. If the expression evaluates to False, the assert statement raises an AssertionError with the error message. If the expression evaluates to True, the assert statement does nothing.\n",
    "\n",
    "Here's an example of using the assert statement to check if a function returns the expected value:"
   ]
  },
  {
   "cell_type": "code",
   "execution_count": 5,
   "id": "36035399",
   "metadata": {},
   "outputs": [],
   "source": [
    "def add_numbers(a, b):\n",
    "    return a + b\n",
    "\n",
    "assert add_numbers(2, 2) == 4, \"Expected result is incorrect\""
   ]
  },
  {
   "cell_type": "markdown",
   "id": "d8c88272",
   "metadata": {},
   "source": [
    "In this example, the assert statement checks if the result of calling add_numbers(2, 2) is equal to 4. If it's not, an AssertionError with the message \"Expected result is incorrect\" is raised.\n",
    "\n",
    "The assert statement is similar to the if statement, in that it tests a condition and executes code based on the result. However, while the if statement is used for program control flow, the assert statement is used for debugging and error checking. Unlike the if statement, the assert statement should not be used to handle expected errors or exceptions in a program."
   ]
  },
  {
   "cell_type": "markdown",
   "id": "e2945bf1",
   "metadata": {},
   "source": [
    "=============================================================================================================="
   ]
  },
  {
   "cell_type": "markdown",
   "id": "cb2fee04",
   "metadata": {},
   "source": [
    "## Q5. What is the purpose of the with/as argument, and what other statement is it like?"
   ]
  },
  {
   "cell_type": "markdown",
   "id": "07a48396",
   "metadata": {},
   "source": [
    "The with statement in Python is used to wrap the execution of a block of code with methods defined by a context manager. The most common use of the with statement is to ensure that a resource is properly acquired and released.\n",
    "\n",
    "The with statement takes an expression that evaluates to a context manager, and a block of code to execute. The context manager is responsible for defining the methods __enter__() and __exit__() that set up and tear down the context in which the block of code is executed.\n",
    "\n",
    "Here's an example of using the with statement to read a file and automatically close it when the block of code is exited:"
   ]
  },
  {
   "cell_type": "code",
   "execution_count": null,
   "id": "636bf071",
   "metadata": {},
   "outputs": [],
   "source": [
    "with open(\"file.txt\", \"r\") as f:\n",
    "    contents = f.read()"
   ]
  },
  {
   "cell_type": "markdown",
   "id": "4cbce321",
   "metadata": {},
   "source": [
    "In this example, the open() function returns a context manager object that represents the open file. The with statement takes this object and executes the block of code, which reads the contents of the file. When the block of code is exited, the context manager's __exit__() method is called, which closes the file.\n",
    "\n",
    "The with statement is similar to the try/finally statement, in that it ensures that some cleanup code is executed even if an error occurs in the block of code. However, the with statement is more concise and easier to read than the try/finally statement, and is specifically designed for working with context managers."
   ]
  },
  {
   "cell_type": "markdown",
   "id": "a3ee0c82",
   "metadata": {},
   "source": [
    "=============================================================================================================="
   ]
  }
 ],
 "metadata": {
  "kernelspec": {
   "display_name": "Python 3",
   "language": "python",
   "name": "python3"
  },
  "language_info": {
   "codemirror_mode": {
    "name": "ipython",
    "version": 3
   },
   "file_extension": ".py",
   "mimetype": "text/x-python",
   "name": "python",
   "nbconvert_exporter": "python",
   "pygments_lexer": "ipython3",
   "version": "3.6.2"
  }
 },
 "nbformat": 4,
 "nbformat_minor": 5
}
