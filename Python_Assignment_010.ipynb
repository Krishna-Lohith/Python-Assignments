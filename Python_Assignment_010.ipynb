{
 "cells": [
  {
   "cell_type": "markdown",
   "id": "b962a12a",
   "metadata": {},
   "source": [
    "# Python_Assignment_010"
   ]
  },
  {
   "cell_type": "markdown",
   "id": "a182ac33",
   "metadata": {},
   "source": [
    "Topics covered:-  \n",
    "shutil  \n",
    "send2trash  \n",
    "zipfile  "
   ]
  },
  {
   "cell_type": "markdown",
   "id": "ff31f97b",
   "metadata": {},
   "source": [
    "=============================================================================================================="
   ]
  },
  {
   "cell_type": "markdown",
   "id": "a2090390",
   "metadata": {},
   "source": [
    "### 1. How do you distinguish between shutil.copy() and shutil.copytree()?\n",
    "\n",
    "shutil.copy() - copies a file from source to destination.    \n",
    "shutil.copytree() - copies a complete folder from source to destination."
   ]
  },
  {
   "cell_type": "markdown",
   "id": "c7ff362d",
   "metadata": {},
   "source": [
    "shutil.copy(src, dst): This method is used to make a shallow copy of a file from the source (src) to the destination (dst). It copies the file at the source path to the destination path and returns the destination path. If the destination is a directory, the file is copied into that directory with the same name. If the destination is a file, a new file with the same name is created at the destination path with the contents of the source file."
   ]
  },
  {
   "cell_type": "code",
   "execution_count": null,
   "id": "afde28b7",
   "metadata": {},
   "outputs": [],
   "source": [
    "import shutil\n",
    "\n",
    "# Copy a file\n",
    "shutil.copy('source_file.txt', 'destination_folder/source_file.txt')"
   ]
  },
  {
   "cell_type": "markdown",
   "id": "74b7ce31",
   "metadata": {},
   "source": [
    "shutil.copytree(src, dst, symlinks=False, ignore=None): This method is used to recursively copy an entire directory tree from the source (src) to the destination (dst). It copies all files and subdirectories from the source directory to the destination directory, creating new directories and copying files with the same directory structure and contents. If the destination directory already exists, shutil.Error is raised."
   ]
  },
  {
   "cell_type": "code",
   "execution_count": null,
   "id": "5654e8e9",
   "metadata": {},
   "outputs": [],
   "source": [
    "import shutil\n",
    "\n",
    "# Copy a directory tree\n",
    "shutil.copytree('source_folder', 'destination_folder')"
   ]
  },
  {
   "cell_type": "markdown",
   "id": "29b28a78",
   "metadata": {},
   "source": [
    "=============================================================================================================="
   ]
  },
  {
   "cell_type": "markdown",
   "id": "888a5476",
   "metadata": {},
   "source": [
    "### 2. What function is used to rename files??\n",
    "\n",
    "The shutil.move() function takes two arguments: src, which is the source file path that needs to be renamed, and dst, which is the destination file path with the new name. When shutil.move() is called with src and dst as arguments, it renames the file located at src to the name specified in dst. If the destination file already exists, shutil.Error is raised."
   ]
  },
  {
   "cell_type": "code",
   "execution_count": null,
   "id": "f8e189ca",
   "metadata": {},
   "outputs": [],
   "source": [
    "import shutil\n",
    "\n",
    "# Rename a file\n",
    "shutil.move('old_name.txt', 'new_name.txt')"
   ]
  },
  {
   "cell_type": "markdown",
   "id": "c1acb680",
   "metadata": {},
   "source": [
    "=============================================================================================================="
   ]
  },
  {
   "cell_type": "markdown",
   "id": "24b311ab",
   "metadata": {},
   "source": [
    "### 3. What is the difference between the delete functions in the send2trash and shutil modules?\n",
    "\n",
    "**send2trash**: The send2trash module provides a platform-independent way to send files and directories to the trash or recycle bin, instead of permanently deleting them. This means that the deleted files and directories can be restored from the trash or recycle bin if needed, similar to how files are moved to the trash or recycle bin when deleted through the operating system's graphical user interface."
   ]
  },
  {
   "cell_type": "code",
   "execution_count": null,
   "id": "4542b33c",
   "metadata": {},
   "outputs": [],
   "source": [
    "from send2trash import send2trash\n",
    "\n",
    "# Delete a file using send2trash\n",
    "send2trash('file_to_delete.txt')"
   ]
  },
  {
   "cell_type": "markdown",
   "id": "10665549",
   "metadata": {},
   "source": [
    "**shutil:** The shutil module provides low-level file operations in Python, including the shutil.rmtree() function, which is commonly used to remove a directory and all its contents, including files and subdirectories. Unlike send2trash, the shutil.rmtree() function permanently deletes the specified directory and its contents without sending them to the trash or recycle bin. This means that the deleted files and directories cannot be easily restored, and caution should be exercised when using shutil.rmtree() to avoid accidental data loss."
   ]
  },
  {
   "cell_type": "code",
   "execution_count": null,
   "id": "aacc433d",
   "metadata": {},
   "outputs": [],
   "source": [
    "import shutil\n",
    "\n",
    "# Delete a directory and its contents using shutil.rmtree()\n",
    "shutil.rmtree('directory_to_delete')"
   ]
  },
  {
   "cell_type": "markdown",
   "id": "f088bd25",
   "metadata": {},
   "source": [
    "=============================================================================================================="
   ]
  },
  {
   "cell_type": "markdown",
   "id": "01948035",
   "metadata": {},
   "source": [
    "### 4.ZipFile objects have a close() method just like File objects’ close() method. What ZipFile method is equivalent to File objects’ open() method?\n",
    "\n",
    "The ZipFile() constructor is used to create a ZipFile object, which represents a ZIP archive file. It takes a file path as an argument, similar to how the open() method takes a file path as an argument to open a file. The ZipFile() constructor returns a ZipFile object, which can be used to perform various operations on the ZIP archive, such as reading, writing, and extracting files."
   ]
  },
  {
   "cell_type": "code",
   "execution_count": null,
   "id": "64ce7c1b",
   "metadata": {},
   "outputs": [],
   "source": [
    "import zipfile\n",
    "\n",
    "# Open a ZIP archive for reading\n",
    "with zipfile.ZipFile('archive.zip', 'r') as zip_file:\n",
    "    # Perform operations on the ZIP archive\n",
    "    # ..."
   ]
  },
  {
   "cell_type": "markdown",
   "id": "1b248099",
   "metadata": {},
   "source": [
    "=============================================================================================================="
   ]
  },
  {
   "cell_type": "markdown",
   "id": "805dbd51",
   "metadata": {},
   "source": [
    "### 5. Create a programme that searches a folder tree for files with a certain file extension (such as .pdf or .jpg). Copy these files from whatever location they are in to a new folder."
   ]
  },
  {
   "cell_type": "code",
   "execution_count": null,
   "id": "8cdeaa81",
   "metadata": {},
   "outputs": [],
   "source": [
    "import os\n",
    "import shutil\n",
    "\n",
    "# Function to search for files with a certain file extension and copy them to a new folder\n",
    "def search_and_copy_files(source_folder, destination_folder, file_extension):\n",
    "    for foldername, subfolders, filenames in os.walk(source_folder):\n",
    "        for filename in filenames:\n",
    "            if filename.endswith(file_extension):\n",
    "                source_path = os.path.join(foldername, filename)\n",
    "                destination_path = os.path.join(destination_folder, filename)\n",
    "                # Copy the file to the destination folder\n",
    "                shutil.copy2(source_path, destination_path)\n",
    "                print(f'Copied {filename} to {destination_folder}')\n",
    "\n",
    "# Example usage\n",
    "source_folder = '/path/to/source/folder' # Replace with the path to the source folder to search\n",
    "destination_folder = '/path/to/destination/folder' # Replace with the path to the destination folder to copy files\n",
    "file_extension = '.pdf' # Specify the file extension to search for\n",
    "\n",
    "# Call the function to search and copy files\n",
    "search_and_copy_files(source_folder, destination_folder, file_extension)"
   ]
  },
  {
   "cell_type": "markdown",
   "id": "25428931",
   "metadata": {},
   "source": [
    "=============================================================================================================="
   ]
  }
 ],
 "metadata": {
  "kernelspec": {
   "display_name": "Python 3",
   "language": "python",
   "name": "python3"
  },
  "language_info": {
   "codemirror_mode": {
    "name": "ipython",
    "version": 3
   },
   "file_extension": ".py",
   "mimetype": "text/x-python",
   "name": "python",
   "nbconvert_exporter": "python",
   "pygments_lexer": "ipython3",
   "version": "3.6.2"
  }
 },
 "nbformat": 4,
 "nbformat_minor": 5
}
