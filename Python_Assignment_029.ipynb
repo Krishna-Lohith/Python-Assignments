{
 "cells": [
  {
   "cell_type": "markdown",
   "id": "ee580559",
   "metadata": {},
   "source": [
    "# Python_Assignment_029"
   ]
  },
  {
   "cell_type": "markdown",
   "id": "c29c30d1",
   "metadata": {},
   "source": [
    "**Topics Covered:-**  \n",
    "iter()  \n",
    "next()  \n",
    "str()  \n",
    "repr()  \n",
    "indexing/slicing    \n",
    "addition(+) - iadd  "
   ]
  },
  {
   "cell_type": "markdown",
   "id": "4e5b53fa",
   "metadata": {},
   "source": [
    "=============================================================================================================="
   ]
  },
  {
   "cell_type": "markdown",
   "id": "8c7c2499",
   "metadata": {},
   "source": [
    "## Q1. Which two operator overloading methods can you use in your classes to support iteration?"
   ]
  },
  {
   "cell_type": "markdown",
   "id": "c21e5112",
   "metadata": {},
   "source": [
    "In Python, you can use the __iter__() and __next__() methods to support iteration in your classes.\n",
    "\n",
    "The __iter__() method should return an iterator object that defines the __next__() method, which returns the next item in the iteration sequence. The __next__() method should raise the StopIteration exception when there are no more items to return."
   ]
  },
  {
   "cell_type": "code",
   "execution_count": 1,
   "id": "9900530e",
   "metadata": {},
   "outputs": [
    {
     "name": "stdout",
     "output_type": "stream",
     "text": [
      "1\n",
      "2\n",
      "3\n"
     ]
    }
   ],
   "source": [
    "class MyIterator:\n",
    "    def __init__(self, data):\n",
    "        self.index = 0\n",
    "        self.data = data\n",
    "\n",
    "    def __iter__(self):\n",
    "        return self\n",
    "\n",
    "    def __next__(self):\n",
    "        if self.index >= len(self.data):\n",
    "            raise StopIteration\n",
    "        value = self.data[self.index]\n",
    "        self.index += 1\n",
    "        return value\n",
    "\n",
    "class MyClass:\n",
    "    def __init__(self, data):\n",
    "        self.data = data\n",
    "\n",
    "    def __iter__(self):\n",
    "        return MyIterator(self.data)\n",
    "\n",
    "my_object = MyClass([1, 2, 3])\n",
    "\n",
    "for item in my_object:\n",
    "    print(item)"
   ]
  },
  {
   "cell_type": "markdown",
   "id": "b6196e98",
   "metadata": {},
   "source": [
    "In this example, the MyIterator class defines an iterator object that takes a sequence of data as input and defines the __iter__() and __next__() methods to support iteration over the data.\n",
    "\n",
    "The MyClass class defines an instance of the MyIterator class as an iterator for the class, by defining an __iter__() method that returns a new instance of the MyIterator class initialized with the instance's data.\n",
    "\n",
    "When the for loop iterates over an instance of the MyClass class, it uses the MyIterator iterator object to iterate over the instance's data and print each item in the sequence. \n",
    "\n",
    "This example demonstrates how the __iter__() and __next__() methods can be used to define custom iteration behavior in your classes."
   ]
  },
  {
   "cell_type": "markdown",
   "id": "df230683",
   "metadata": {},
   "source": [
    "=============================================================================================================="
   ]
  },
  {
   "cell_type": "markdown",
   "id": "8dc30775",
   "metadata": {},
   "source": [
    "## Q2. In what contexts do the two operator overloading methods manage printing?"
   ]
  },
  {
   "cell_type": "markdown",
   "id": "099fea76",
   "metadata": {},
   "source": [
    "In Python, the __str__() and __repr__() methods are used to overload the string representation of objects. These methods can be used to manage printing in different contexts.\n",
    "\n",
    "The __str__() method is called when you use the str() function or the print() function to convert an object to a string. It should return a string representation of the object that is intended for human consumption. This method is used to provide a readable and concise string representation of the object, typically used for debugging or logging purposes.\n",
    "\n",
    "The __repr__() method is called when you use the repr() function or the interactive interpreter to display an object. It should return a string representation of the object that is intended for machine consumption. This method is used to provide a complete and unambiguous string representation of the object, typically used for debugging or serialization purposes."
   ]
  },
  {
   "cell_type": "code",
   "execution_count": 2,
   "id": "0e61fb3a",
   "metadata": {},
   "outputs": [
    {
     "name": "stdout",
     "output_type": "stream",
     "text": [
      "MyClass object with name 'example'\n",
      "MyClass object with name 'example'\n",
      "MyClass('example')\n"
     ]
    }
   ],
   "source": [
    "class MyClass:\n",
    "    def __init__(self, name):\n",
    "        self.name = name\n",
    "\n",
    "    def __str__(self):\n",
    "        return f\"MyClass object with name '{self.name}'\"\n",
    "\n",
    "    def __repr__(self):\n",
    "        return f\"MyClass('{self.name}')\"\n",
    "\n",
    "my_object = MyClass(\"example\")\n",
    "\n",
    "print(my_object)      # uses __str__(), output: MyClass object with name 'example'\n",
    "print(str(my_object)) # uses __str__(), output: MyClass object with name 'example'\n",
    "\n",
    "print(repr(my_object)) # uses __repr__(), output: MyClass('example')\n"
   ]
  },
  {
   "cell_type": "markdown",
   "id": "4511acd8",
   "metadata": {},
   "source": [
    "In this example, the MyClass class defines both the __str__() and __repr__() methods to provide different string representations of the object.\n",
    "\n",
    "When the print() function or the str() function is used to display the object, the __str__() method is called and returns a string representation of the object that is intended for human consumption.\n",
    "\n",
    "When the repr() function or the interactive interpreter is used to display the object, the __repr__() method is called and returns a string representation of the object that is intended for machine consumption.\n",
    "\n",
    "This example demonstrates how the __str__() and __repr__() methods can be used to overload the string representation of objects and manage printing in different contexts."
   ]
  },
  {
   "cell_type": "markdown",
   "id": "cc3eaf62",
   "metadata": {},
   "source": [
    "=============================================================================================================="
   ]
  },
  {
   "cell_type": "markdown",
   "id": "7112a2e3",
   "metadata": {},
   "source": [
    "## Q3. In a class, how do you intercept slice operations?"
   ]
  },
  {
   "cell_type": "markdown",
   "id": "2b4f5fad",
   "metadata": {},
   "source": [
    "In Python, you can intercept slice operations in a class by defining the __getitem__() method with a slice object as its argument. The slice object represents the range of indices that are being accessed with the slice operation.\n",
    "\n",
    "The __getitem__() method should return the portion of the object that corresponds to the slice object. The returned object should be a sequence or an object that implements sequence-like behavior, such as having a defined length and being iterable."
   ]
  },
  {
   "cell_type": "code",
   "execution_count": 3,
   "id": "37233d4e",
   "metadata": {},
   "outputs": [
    {
     "name": "stdout",
     "output_type": "stream",
     "text": [
      "[2, 3, 4]\n"
     ]
    }
   ],
   "source": [
    "class MyList:\n",
    "    def __init__(self, data):\n",
    "        self.data = data\n",
    "\n",
    "    def __getitem__(self, index):\n",
    "        if isinstance(index, slice):\n",
    "            start, stop, step = index.indices(len(self.data))\n",
    "            return [self.data[i] for i in range(start, stop, step)]\n",
    "        else:\n",
    "            return self.data[index]\n",
    "\n",
    "my_list = MyList([1, 2, 3, 4, 5])\n",
    "\n",
    "print(my_list[1:4]) # output: [2, 3, 4]"
   ]
  },
  {
   "cell_type": "markdown",
   "id": "00eaa223",
   "metadata": {},
   "source": [
    "This code defines a class MyList which can be used to create a list object. The __init__ method initializes the object with the data parameter that is passed to it.\n",
    "\n",
    "The __getitem__ method is used to implement the indexing and slicing behavior of the object. When an index or a slice is requested, this method is called with the index/slice as the parameter.\n",
    "\n",
    "In the case of a slice, the method checks if the given index is a slice object using the isinstance function. If it is a slice, it extracts the start, stop, and step values of the slice using the indices method of the slice object. The indices method converts the slice into a tuple of (start, stop, step) values that can be used to loop over the slice. This method also takes into account the length of the list to ensure that the slice doesn't exceed the size of the list.\n",
    "\n",
    "Finally, the __getitem__ method returns a list of the elements in the slice. The list comprehension [self.data[i] for i in range(start, stop, step)] loops over the range of indices from start to stop with a step value of step, and returns the corresponding elements of the list.\n",
    "\n",
    "When my_list[1:4] is called, it creates a slice object that represents the range of indices from 1 to 4. The __getitem__ method is then called with this slice object as the parameter. The indices method converts the slice object to a tuple of (1, 4, 1). The range function loops over the range of indices from 1 to 4 with a step value of 1, and returns a list of the corresponding elements from the list [2, 3, 4].\n",
    "\n",
    "In summary, the indices method is used to convert a slice object into a tuple of start, stop, and step values that can be used to loop over a sequence. The __getitem__ method uses this information to return a slice of elements from the list."
   ]
  },
  {
   "cell_type": "markdown",
   "id": "cf3e0da3",
   "metadata": {},
   "source": [
    "In this example, the MyList class defines the __getitem__() method to intercept slice operations. The method checks if the index argument is a slice object, and if so, extracts the start, stop, and step values from the slice object using the indices() method. It then returns a list of items from the original list that correspond to the slice object.\n",
    "\n",
    "When the print() function is called with the slice operation my_list[1:4], the __getitem__() method is called with a slice object representing the range of indices from 1 to 4. The method intercepts the slice operation and returns a new list containing the elements from index 1 to 3 of the original list.\n",
    "\n",
    "This example demonstrates how the __getitem__() method can be used to intercept slice operations in a class and provide custom behavior for accessing elements in a sequence."
   ]
  },
  {
   "cell_type": "markdown",
   "id": "5ab956d2",
   "metadata": {},
   "source": [
    "=============================================================================================================="
   ]
  },
  {
   "cell_type": "markdown",
   "id": "6d27c7b3",
   "metadata": {},
   "source": [
    "## Q4. In a class, how do you capture in-place addition?"
   ]
  },
  {
   "cell_type": "markdown",
   "id": "ac161b31",
   "metadata": {},
   "source": [
    "In Python, you can capture in-place addition in a class by defining the __iadd__() method. This method is called when the += operator is used on an instance of the class.\n",
    "\n",
    "The __iadd__() method should modify the object in-place and return self. This allows the modified object to be used in subsequent expressions or assignments."
   ]
  },
  {
   "cell_type": "code",
   "execution_count": 13,
   "id": "faa9937b",
   "metadata": {},
   "outputs": [
    {
     "name": "stdout",
     "output_type": "stream",
     "text": [
      "[1, 2, 3, 4, 5, 6, 7, 8]\n"
     ]
    }
   ],
   "source": [
    "class MyList:\n",
    "    def __init__(self, data):\n",
    "        self.data = data\n",
    "\n",
    "    def __iadd__(self, other):\n",
    "        if isinstance(other, MyList):\n",
    "            self.data += other.data\n",
    "        else:\n",
    "            self.data += other\n",
    "        return self\n",
    "\n",
    "my_list = MyList([1, 2, 3, 4, 5])\n",
    "my_list += [6, 7, 8]\n",
    "\n",
    "print(my_list.data) # output: [1, 2, 3, 4, 5, 6, 7, 8]\n"
   ]
  },
  {
   "cell_type": "markdown",
   "id": "94919af1",
   "metadata": {},
   "source": [
    "In this example, the MyList class defines the __iadd__() method to capture in-place addition. The method checks if the other argument is an instance of MyList, and if so, concatenates the data attribute of the other instance with the data attribute of the current instance. Otherwise, it appends the other argument to the data attribute of the current instance.\n",
    "\n",
    "When the += operator is used on the my_list instance with the list [6, 7, 8], the __iadd__() method is called with the list as the other argument. The method intercepts the in-place addition and appends the list elements to the data attribute of the my_list instance.\n",
    "\n",
    "This example demonstrates how the __iadd__() method can be used to capture in-place addition in a class and provide custom behavior for modifying the object in-place."
   ]
  },
  {
   "cell_type": "markdown",
   "id": "e5e4462d",
   "metadata": {},
   "source": [
    "=============================================================================================================="
   ]
  },
  {
   "cell_type": "markdown",
   "id": "c5a18be6",
   "metadata": {},
   "source": [
    "## Q5. When is it appropriate to use operator overloading?"
   ]
  },
  {
   "cell_type": "markdown",
   "id": "30c638ef",
   "metadata": {},
   "source": [
    "Operator overloading should be used when it provides a clear and intuitive representation of the behavior of a class. Overloading operators allows you to define how operators should work on instances of your class, providing more natural and readable code.\n",
    "\n",
    "For example, overloading the + operator to concatenate two objects makes sense for string and list classes, as it provides a more intuitive and natural way to join two objects of the same type.\n",
    "\n",
    "On the other hand, overloading operators should be used judiciously and with care, as it can lead to code that is difficult to read and maintain. Overloading operators that do not have a clear and intuitive meaning for the class can lead to confusion and errors.\n",
    "\n",
    "In general, operator overloading is most appropriate for classes that have a clear mathematical or logical meaning, such as numbers or vectors, and for classes that represent collections or sequences, such as strings or lists. When overloading operators, it is important to follow the conventions and expectations of the language and to ensure that the behavior of the operator is well-defined and unambiguous for the class."
   ]
  },
  {
   "cell_type": "markdown",
   "id": "febbe3ad",
   "metadata": {},
   "source": [
    "=============================================================================================================="
   ]
  }
 ],
 "metadata": {
  "kernelspec": {
   "display_name": "Python 3",
   "language": "python",
   "name": "python3"
  },
  "language_info": {
   "codemirror_mode": {
    "name": "ipython",
    "version": 3
   },
   "file_extension": ".py",
   "mimetype": "text/x-python",
   "name": "python",
   "nbconvert_exporter": "python",
   "pygments_lexer": "ipython3",
   "version": "3.6.2"
  }
 },
 "nbformat": 4,
 "nbformat_minor": 5
}
