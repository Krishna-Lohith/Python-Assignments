{
 "cells": [
  {
   "cell_type": "markdown",
   "id": "e67d370f",
   "metadata": {},
   "source": [
    "# Python_Assignment_039"
   ]
  },
  {
   "cell_type": "markdown",
   "id": "79ec3ed3",
   "metadata": {},
   "source": [
    "**Topics covered:-**     \n",
    "operators    \n",
    "List comprahension    \n",
    "help  \n",
    "wrapper, decorator  \n",
    "generators - yield  "
   ]
  },
  {
   "cell_type": "markdown",
   "id": "51dc12e1",
   "metadata": {},
   "source": [
    "=============================================================================================================="
   ]
  },
  {
   "cell_type": "markdown",
   "id": "a5149701",
   "metadata": {},
   "source": [
    "## Q1. Is an assignment operator like += only for show? Is it possible that it would lead to faster results at the runtime?"
   ]
  },
  {
   "cell_type": "markdown",
   "id": "87860fe2",
   "metadata": {},
   "source": [
    "The assignment operator += is not only for show; it can lead to faster results at runtime in some cases.\n",
    "\n",
    "The += operator is a shorthand way of writing x = x + y, where x is a variable and y is a value or expression. When you use +=, Python will perform the addition and assignment operation in one step, which can be more efficient than performing these operations separately.\n",
    "\n",
    "For example, consider the following code:"
   ]
  },
  {
   "cell_type": "code",
   "execution_count": null,
   "id": "8746250a",
   "metadata": {},
   "outputs": [],
   "source": [
    "my_list = [1, 2, 3, 4, 5]\n",
    "sum = 0\n",
    "for num in my_list:\n",
    "    sum += num\n",
    "print(sum)"
   ]
  },
  {
   "cell_type": "markdown",
   "id": "836c6fb1",
   "metadata": {},
   "source": [
    "This code uses the += operator to add each element of my_list to the sum variable. Using += in this way can be faster than creating a new variable to hold the intermediate result and then assigning it to sum at each iteration of the loop.\n",
    "\n",
    "However, whether += actually leads to faster results depends on the specific use case and the size of the data being processed. In some cases, the performance difference may be negligible, while in others it can be significant.\n",
    "\n",
    "In summary, the += operator is not just for show and can lead to faster results at runtime in some cases. However, its performance benefits depend on the specific use case, and it is always a good idea to test and measure the performance of different approaches to determine the most efficient solution."
   ]
  },
  {
   "cell_type": "markdown",
   "id": "afc013df",
   "metadata": {},
   "source": [
    "=============================================================================================================="
   ]
  },
  {
   "cell_type": "markdown",
   "id": "ef11e25a",
   "metadata": {},
   "source": [
    "## Q2. What is the smallest number of statements you&#39;d have to write in most programming languages to replace the Python expression a, b = a + b, a?"
   ]
  },
  {
   "cell_type": "markdown",
   "id": "b3c32b45",
   "metadata": {},
   "source": [
    "In most programming languages, you would need three statements to replace the Python expression a, b = a + b, a:"
   ]
  },
  {
   "cell_type": "code",
   "execution_count": 9,
   "id": "5b5757df",
   "metadata": {},
   "outputs": [],
   "source": [
    "temp = a\n",
    "a = a + b\n",
    "b = temp"
   ]
  },
  {
   "cell_type": "markdown",
   "id": "77683367",
   "metadata": {},
   "source": [
    "The first statement creates a temporary variable temp to store the value of a. The second statement updates the value of a to be the sum of a and b. The third statement updates the value of b to be the old value of a (which was stored in temp).\n",
    "\n",
    "This is because in most programming languages, you cannot assign multiple variables in a single statement like you can in Python. Therefore, you need to use a temporary variable to store one of the values before it is overwritten."
   ]
  },
  {
   "cell_type": "markdown",
   "id": "8066b047",
   "metadata": {},
   "source": [
    "=============================================================================================================="
   ]
  },
  {
   "cell_type": "markdown",
   "id": "3724db7a",
   "metadata": {},
   "source": [
    "## Q3. In Python, what is the most effective way to set a list of 100 integers to 0?"
   ]
  },
  {
   "cell_type": "markdown",
   "id": "79f955df",
   "metadata": {},
   "source": [
    "The most effective way to set a list of 100 integers to 0 in Python is to use the * operator to create a list with 100 zeros:"
   ]
  },
  {
   "cell_type": "code",
   "execution_count": 31,
   "id": "6315657f",
   "metadata": {},
   "outputs": [],
   "source": [
    "my_list = [0] * 100"
   ]
  },
  {
   "cell_type": "markdown",
   "id": "9024c34f",
   "metadata": {},
   "source": [
    "This creates a new list with 100 zeros and assigns it to the variable my_list.\n",
    "\n",
    "Using the * operator is more efficient than using a loop to set each element to 0, as the loop would require multiple assignments and comparisons. The * operator, on the other hand, creates a single list with the desired length and values.\n",
    "\n",
    "Note that if the list already exists and you want to set all its elements to 0, you can use a loop or a list comprehension:"
   ]
  },
  {
   "cell_type": "code",
   "execution_count": 32,
   "id": "37edf212",
   "metadata": {},
   "outputs": [],
   "source": [
    "# Using a loop\n",
    "my_list = [1, 2, 3, ..., 100]\n",
    "for i in range(len(my_list)):\n",
    "    my_list[i] = 0\n",
    "\n",
    "# Using a list comprehension\n",
    "my_list = [1, 2, 3, ..., 100]\n",
    "my_list = [0 for i in range(len(my_list))]"
   ]
  },
  {
   "cell_type": "markdown",
   "id": "2d6d98d9",
   "metadata": {},
   "source": [
    "However, using the * operator to create a new list is generally more efficient than modifying an existing list in this way."
   ]
  },
  {
   "cell_type": "markdown",
   "id": "0fae4229",
   "metadata": {},
   "source": [
    "=============================================================================================================="
   ]
  },
  {
   "cell_type": "markdown",
   "id": "fed7c18e",
   "metadata": {},
   "source": [
    "## Q4. What is the most effective way to initialise a list of 99 integers that repeats the sequence 1, 2, 3? S If necessary, show step-by-step instructions on how to accomplish this."
   ]
  },
  {
   "cell_type": "markdown",
   "id": "b72ff794",
   "metadata": {},
   "source": [
    "The most effective way to initialize a list of 99 integers that repeats the sequence 1, 2, 3 is to use the modulo operator % and a list comprehension:"
   ]
  },
  {
   "cell_type": "code",
   "execution_count": 24,
   "id": "ef7feb05",
   "metadata": {},
   "outputs": [],
   "source": [
    "my_list = [i % 3 + 1 for i in range(99)]\n",
    "#my_list"
   ]
  },
  {
   "cell_type": "markdown",
   "id": "94279fc8",
   "metadata": {},
   "source": [
    "This creates a new list of length 99, where each element is the remainder of i divided by 3 (which cycles through the values 0, 1, and 2) plus 1 (to shift the values to 1, 2, and 3).\n",
    "\n",
    "Here is a step-by-step breakdown of how this works:\n",
    "\n",
    "range(99) creates an iterable with the numbers 0 to 98.\n",
    "i % 3 calculates the remainder of i divided by 3, which cycles through the values 0, 1, and 2.\n",
    "+ 1 adds 1 to each remainder value to shift the values to 1, 2, and 3.\n",
    "The list comprehension creates a new list with the modified values.\n",
    "This method is more efficient than using a loop to set each element to the desired value, as it avoids the need for multiple assignments and comparisons."
   ]
  },
  {
   "cell_type": "markdown",
   "id": "c00a26f0",
   "metadata": {},
   "source": [
    "=============================================================================================================="
   ]
  },
  {
   "cell_type": "markdown",
   "id": "de402c19",
   "metadata": {},
   "source": [
    "## Q5. If you&#39;re using IDLE to run a Python application, explain how to print a multidimensional list as efficiently?"
   ]
  },
  {
   "cell_type": "markdown",
   "id": "314ec40a",
   "metadata": {},
   "source": [
    "To print a multidimensional list efficiently in IDLE, you can use the pprint module, which provides a way to pretty-print complex data structures, including lists of lists.\n",
    "\n",
    "Here is an example of how to use pprint to print a 2D list:"
   ]
  },
  {
   "cell_type": "code",
   "execution_count": 26,
   "id": "875fc65c",
   "metadata": {},
   "outputs": [
    {
     "name": "stdout",
     "output_type": "stream",
     "text": [
      "[[1, 2, 3], [4, 5, 6], [7, 8, 9]]\n"
     ]
    }
   ],
   "source": [
    "import pprint\n",
    "\n",
    "my_list = [[1, 2, 3], [4, 5, 6], [7, 8, 9]]\n",
    "pp = pprint.PrettyPrinter(indent=4)\n",
    "pp.pprint(my_list)"
   ]
  },
  {
   "cell_type": "markdown",
   "id": "379859ba",
   "metadata": {},
   "source": [
    "This code first imports the pprint module and creates a 2D list my_list. It then creates a PrettyPrinter object pp with an indentation level of 4 spaces. Finally, it prints the list using the pprint method of the pp object.\n",
    "\n",
    "The output of this code will be:"
   ]
  },
  {
   "cell_type": "code",
   "execution_count": null,
   "id": "0532eb81",
   "metadata": {},
   "outputs": [],
   "source": [
    "[   [1, 2, 3],\n",
    "    [4, 5, 6],\n",
    "    [7, 8, 9]]\n"
   ]
  },
  {
   "cell_type": "markdown",
   "id": "35e65109",
   "metadata": {},
   "source": [
    "Note that the output is formatted with each row of the list on a separate line, and each value in the row aligned with the others. This makes it easier to read and understand the structure of the list, especially for larger or more complex lists.\n",
    "\n",
    "If you do not want to use the pprint module, you can also print the list using nested loops:"
   ]
  },
  {
   "cell_type": "code",
   "execution_count": 27,
   "id": "740fdec9",
   "metadata": {},
   "outputs": [
    {
     "name": "stdout",
     "output_type": "stream",
     "text": [
      "1 2 3 \n",
      "4 5 6 \n",
      "7 8 9 \n"
     ]
    }
   ],
   "source": [
    "my_list = [[1, 2, 3], [4, 5, 6], [7, 8, 9]]\n",
    "\n",
    "for row in my_list:\n",
    "    for value in row:\n",
    "        print(value, end=' ')\n",
    "    print()"
   ]
  },
  {
   "cell_type": "markdown",
   "id": "75d67764",
   "metadata": {},
   "source": [
    "This code loops over each row of the list, and then loops over each value in the row, printing it followed by a space. It then prints a newline character to move to the next row. This method works well for small lists, but can become difficult to read for larger or more complex lists."
   ]
  },
  {
   "cell_type": "markdown",
   "id": "7bbb70cb",
   "metadata": {},
   "source": [
    "=============================================================================================================="
   ]
  },
  {
   "cell_type": "markdown",
   "id": "135fb459",
   "metadata": {},
   "source": [
    "## Q6. Is it possible to use list comprehension with a string? If so, how can you go about doing it?"
   ]
  },
  {
   "cell_type": "markdown",
   "id": "f270ba5f",
   "metadata": {},
   "source": [
    "Yes, it is possible to use list comprehension with a string in Python. List comprehension can be used to create a new list by applying a function or expression to each character in the string.\n",
    "\n",
    "Here is an example of how to use list comprehension with a string:"
   ]
  },
  {
   "cell_type": "code",
   "execution_count": 28,
   "id": "a3d58fe7",
   "metadata": {},
   "outputs": [
    {
     "name": "stdout",
     "output_type": "stream",
     "text": [
      "['H', 'E', 'L', 'L', 'O', 'W', 'O', 'R', 'L', 'D']\n"
     ]
    }
   ],
   "source": [
    "my_string = \"hello world\"\n",
    "new_list = [c.upper() for c in my_string if c != ' ']\n",
    "print(new_list)"
   ]
  },
  {
   "cell_type": "markdown",
   "id": "a57e9c27",
   "metadata": {},
   "source": [
    "This code creates a string my_string containing the phrase \"hello world\". It then uses list comprehension to create a new list new_list containing the uppercase version of each non-space character in my_string. The expression c.upper() applies the upper() method to each character in my_string, converting it to uppercase. The if statement filters out any spaces in the string.\n",
    "\n",
    "Note that each non-space character in the string has been converted to uppercase and added to the new list.\n",
    "\n",
    "List comprehension can be a powerful tool for manipulating strings in Python, and can be used to perform a wide range of operations on string data."
   ]
  },
  {
   "cell_type": "markdown",
   "id": "ef9be7de",
   "metadata": {},
   "source": [
    "=============================================================================================================="
   ]
  },
  {
   "cell_type": "markdown",
   "id": "70b99bff",
   "metadata": {},
   "source": [
    "## Q7. From the command line, how do you get support with a user-written Python programme? Is this possible from inside IDLE?"
   ]
  },
  {
   "cell_type": "markdown",
   "id": "9d2a7b12",
   "metadata": {},
   "source": [
    "From the command line, you can get support with a user-written Python program by using the --help option followed by the name of the Python file. This will display the help information for the program, including any command-line arguments that it accepts.\n",
    "\n",
    "For example, if you have a Python program called my_program.py, you can get help by running the following command:"
   ]
  },
  {
   "cell_type": "code",
   "execution_count": 30,
   "id": "4229847c",
   "metadata": {},
   "outputs": [],
   "source": [
    "python my_program.py --help"
   ]
  },
  {
   "cell_type": "markdown",
   "id": "b97331f4",
   "metadata": {},
   "source": [
    "This will display the help information for my_program.py.\n",
    "\n",
    "In IDLE, you can also get help with a user-written Python program by using the help() function. This function provides access to the built-in Python documentation and can be used to get help on any Python module, function, or class.\n",
    "\n",
    "To use help() in IDLE, simply enter the name of the module, function, or class that you want help on, followed by () to invoke the function. For example, to get help on the math module, you can enter the following in the IDLE console:"
   ]
  },
  {
   "cell_type": "code",
   "execution_count": null,
   "id": "255404e8",
   "metadata": {},
   "outputs": [],
   "source": [
    "import math\n",
    "help(math)"
   ]
  },
  {
   "cell_type": "markdown",
   "id": "ecf511d0",
   "metadata": {},
   "source": [
    "This will display the documentation for the math module in the IDLE console.\n",
    "\n",
    "In addition to the help() function, IDLE also provides an interactive help system that can be accessed by pressing the F1 key while the cursor is on a Python keyword, function, or module. This will display the help information for the selected item in a separate window, making it easy to browse and explore the available documentation."
   ]
  },
  {
   "cell_type": "markdown",
   "id": "3c3d9bfc",
   "metadata": {},
   "source": [
    "=============================================================================================================="
   ]
  },
  {
   "cell_type": "markdown",
   "id": "86844c62",
   "metadata": {},
   "source": [
    "## Q8. Functions are said to be “first-class objects” in Python but not in most other languages, such as C++ or Java. What can you do in Python with a function (callable object) that you can&#39;t do in C or C++?"
   ]
  },
  {
   "cell_type": "markdown",
   "id": "f0b82f73",
   "metadata": {},
   "source": [
    "In Python, functions are considered first-class objects, which means that they can be treated like any other object in the language. This provides a number of powerful capabilities that are not available in languages like C or C++.\n",
    "\n",
    "Here are some things that you can do with functions in Python that are not possible in C or C++:\n",
    "\n",
    "**1. Assign a function to a variable:** In Python, you can assign a function to a variable just like you can with any other object. This makes it easy to pass functions as arguments to other functions or to store them in data structures like lists or dictionaries.\n",
    "\n",
    "**2. Define functions inside other functions:** In Python, you can define functions inside other functions. This makes it possible to create closures, which are functions that can access and modify variables in the enclosing scope.\n",
    "\n",
    "**3. Pass functions as arguments:** In Python, you can pass functions as arguments to other functions. This makes it possible to write higher-order functions, which are functions that operate on other functions.\n",
    "\n",
    "**4. Return functions from functions:** In Python, you can return a function from another function. This makes it possible to create factory functions, which are functions that return other functions.\n",
    "\n",
    "**5. Use functions as elements of data structures:** In Python, you can store functions in data structures like lists or dictionaries. This makes it possible to create powerful data-driven applications.\n",
    "\n",
    "**6. Decorate functions with other functions:** In Python, you can decorate a function with another function. This makes it possible to modify the behavior of a function without changing its code.\n",
    "\n",
    "These capabilities make functions in Python very powerful and flexible. They allow developers to write more concise and expressive code, and to build complex systems that are easy to understand and maintain."
   ]
  },
  {
   "cell_type": "markdown",
   "id": "74d43156",
   "metadata": {},
   "source": [
    "=============================================================================================================="
   ]
  },
  {
   "cell_type": "markdown",
   "id": "6c034593",
   "metadata": {},
   "source": [
    "## Q9. How do you distinguish between a wrapper, a wrapped feature, and a decorator?"
   ]
  },
  {
   "cell_type": "markdown",
   "id": "2bf7701d",
   "metadata": {},
   "source": [
    "In Python, a wrapper, a wrapped feature, and a decorator are related concepts, but they have different meanings and uses.\n",
    "\n",
    "A wrapper is a function or a class that takes an existing function or class and modifies or extends its behavior. A wrapper is often used to add functionality to an existing feature or to modify its output. For example, a caching wrapper can be used to cache the output of a function and speed up its execution.\n",
    "\n",
    "A wrapped feature is the original function or class that is being wrapped. The wrapped feature is passed as an argument to the wrapper, which modifies or extends its behavior.\n",
    "\n",
    "A decorator is a special kind of wrapper that is used to modify the behavior of a function or a class. A decorator is a function that takes a function or a class as an argument and returns a modified version of the function or class. Decorators are often used to add functionality to a function or a class without modifying its code. For example, a logging decorator can be used to log the input and output of a function without modifying the function itself.\n",
    "\n",
    "In summary, a wrapper is a function or class that modifies or extends the behavior of a wrapped feature, while a decorator is a special kind of wrapper that modifies the behavior of a function or a class without modifying its code directly."
   ]
  },
  {
   "cell_type": "markdown",
   "id": "3f8b7404",
   "metadata": {},
   "source": [
    "=============================================================================================================="
   ]
  },
  {
   "cell_type": "markdown",
   "id": "49a33cc4",
   "metadata": {},
   "source": [
    "## Q10. If a function is a generator function, what does it return?"
   ]
  },
  {
   "cell_type": "markdown",
   "id": "1d3b2e76",
   "metadata": {},
   "source": [
    "If a function is a generator function in Python, it does not return a value immediately. Instead, it returns a generator object that can be used to iterate over a sequence of values that are generated on-the-fly as the generator function is executed.\n",
    "\n",
    "A generator function is defined using the yield keyword instead of return. When the generator function is called, it does not execute the entire function at once. Instead, it runs until it reaches the first yield statement, which returns a value to the caller and suspends the function's execution state. The next time the function is called, it resumes execution from where it left off, instead of starting from the beginning.\n",
    "\n",
    "Each time the yield statement is executed, the generator function produces a new value. The caller can iterate over the generator object using a for loop or by calling the next() function, which resumes the generator's execution state and returns the next value.\n",
    "\n",
    "In summary, a generator function in Python returns a generator object that can be used to iterate over a sequence of values produced on-the-fly as the generator function is executed."
   ]
  },
  {
   "cell_type": "markdown",
   "id": "31aaf8dd",
   "metadata": {},
   "source": [
    "=============================================================================================================="
   ]
  },
  {
   "cell_type": "markdown",
   "id": "55abb753",
   "metadata": {},
   "source": [
    "## Q11. What is the one improvement that must be made to a function in order for it to become a generator function in the Python language?"
   ]
  },
  {
   "cell_type": "markdown",
   "id": "53951d8e",
   "metadata": {},
   "source": [
    "In order for a function to become a generator function in Python, it must be modified to use the yield keyword instead of the return keyword.\n",
    "\n",
    "A yield statement allows the function to produce a series of values, one at a time, rather than returning a single value and terminating. Each time the yield statement is executed, the function's state is saved, and the value is returned to the caller. The next time the function is called, it resumes execution from where it left off, instead of starting from the beginning. This process can be repeated indefinitely, producing a series of values on-the-fly.\n",
    "\n",
    "Here is an example of a function that calculates the Fibonacci sequence using a yield statement to turn it into a generator function:"
   ]
  },
  {
   "cell_type": "code",
   "execution_count": null,
   "id": "a02dea5f",
   "metadata": {},
   "outputs": [],
   "source": [
    "def fibonacci():\n",
    "    a, b = 0, 1\n",
    "    while True:\n",
    "        yield a\n",
    "        a, b = b, a + b"
   ]
  },
  {
   "cell_type": "markdown",
   "id": "93be04b0",
   "metadata": {},
   "source": [
    "In this example, the function uses an infinite loop to generate the Fibonacci sequence. Each time the yield statement is executed, the current value of a is returned to the caller, and the function's state is saved. The next time the function is called, it resumes execution from where it left off, calculating the next value in the sequence.\n",
    "\n",
    "In summary, the one improvement that must be made to a function in order for it to become a generator function in Python is to modify it to use the yield keyword instead of the return keyword."
   ]
  },
  {
   "cell_type": "markdown",
   "id": "a5b424e4",
   "metadata": {},
   "source": [
    "=============================================================================================================="
   ]
  },
  {
   "cell_type": "markdown",
   "id": "8c08bb9e",
   "metadata": {},
   "source": [
    "## Q12. Identify at least one benefit of generators."
   ]
  },
  {
   "cell_type": "markdown",
   "id": "436ad8fa",
   "metadata": {},
   "source": [
    "Generators offer several benefits over traditional functions, including:\n",
    "\n",
    "Memory efficiency: Generators can produce a potentially infinite sequence of values, but they only generate and hold one value at a time in memory. This makes them very efficient in terms of memory usage compared to storing all values in a list or array.\n",
    "\n",
    "Lazy evaluation: Generators use a technique called lazy evaluation, which means that they only compute values as they are needed. This can be especially useful when working with large datasets or performing expensive computations, as it allows you to defer computation until it is actually needed.\n",
    "\n",
    "Iteration support: Generators can be used with any Python construct that supports iteration, such as loops, comprehensions, and the itertools module. This makes them a very flexible tool for working with sequences of data.\n",
    "\n",
    "Code simplicity: Generators can simplify your code by allowing you to write functions that produce sequences of values without the need for a separate class or other more complex data structures.\n",
    "\n",
    "Overall, generators are a powerful tool in Python that can improve memory efficiency, simplify code, and provide flexible and efficient support for iteration."
   ]
  },
  {
   "cell_type": "markdown",
   "id": "3208c119",
   "metadata": {},
   "source": [
    "=============================================================================================================="
   ]
  }
 ],
 "metadata": {
  "kernelspec": {
   "display_name": "Python 3",
   "language": "python",
   "name": "python3"
  },
  "language_info": {
   "codemirror_mode": {
    "name": "ipython",
    "version": 3
   },
   "file_extension": ".py",
   "mimetype": "text/x-python",
   "name": "python",
   "nbconvert_exporter": "python",
   "pygments_lexer": "ipython3",
   "version": "3.6.2"
  }
 },
 "nbformat": 4,
 "nbformat_minor": 5
}
