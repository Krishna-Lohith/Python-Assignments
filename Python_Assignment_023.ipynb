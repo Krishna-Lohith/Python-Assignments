{
 "cells": [
  {
   "cell_type": "markdown",
   "id": "867c24e5",
   "metadata": {},
   "source": [
    "# Python_Assignment_023"
   ]
  },
  {
   "cell_type": "markdown",
   "id": "22aba0c6",
   "metadata": {},
   "source": [
    "**Concepts used:-**  \n",
    "Functions  \n",
    "arguments updation  \n",
    "\\* args  \n",
    "\\** kwargs  "
   ]
  },
  {
   "cell_type": "markdown",
   "id": "90ec14c8",
   "metadata": {},
   "source": [
    "=============================================================================================================="
   ]
  },
  {
   "cell_type": "markdown",
   "id": "48b62635",
   "metadata": {},
   "source": [
    "## 1. What is the result of the code, and why?  \n",
    "&gt;&gt;&gt; def func(a, b=6, c=8):  \n",
    "print(a, b, c)  \n",
    "&gt;&gt;&gt; func(1, 2)  "
   ]
  },
  {
   "cell_type": "code",
   "execution_count": 1,
   "id": "57665e4f",
   "metadata": {},
   "outputs": [
    {
     "name": "stdout",
     "output_type": "stream",
     "text": [
      "1 2 8\n"
     ]
    }
   ],
   "source": [
    "def func(a,b=6,c=8):\n",
    "    print(a,b,c)\n",
    "func(1,2)"
   ]
  },
  {
   "cell_type": "markdown",
   "id": "37499937",
   "metadata": {},
   "source": [
    "**Explaination:-**  \n",
    "This code defines a function func() that takes three parameters a, b, and c, with default values of 6 and 8, respectively, if they are not passed in during the function call.\n",
    "\n",
    "When the function is called with func(1, 2), the value of a is set to 1, the value of b is set to 2, and the value of c is left as the default value of 8. Therefore, the output of the function call will be 1 2 8.\n",
    "\n",
    "Note that the order of parameters matters when calling the function. In this case, we passed the value of 2 to b and the value of 8 was assigned to the parameter c since it was not passed during the function call."
   ]
  },
  {
   "cell_type": "markdown",
   "id": "2abc6b91",
   "metadata": {},
   "source": [
    "=============================================================================================================="
   ]
  },
  {
   "cell_type": "markdown",
   "id": "1016d782",
   "metadata": {},
   "source": [
    "## 2. What is the result of this code, and why?  \n",
    "&gt;&gt;&gt; def func(a, b, c=5):  \n",
    "print(a, b, c)  \n",
    "&gt;&gt;&gt; func(1, c=3, b=2)  "
   ]
  },
  {
   "cell_type": "code",
   "execution_count": 2,
   "id": "d6c552ce",
   "metadata": {},
   "outputs": [
    {
     "name": "stdout",
     "output_type": "stream",
     "text": [
      "1 2 3\n"
     ]
    }
   ],
   "source": [
    "def func(a,b,c=5):\n",
    "    print(a,b,c)\n",
    "func(1,c=3,b=2)"
   ]
  },
  {
   "cell_type": "markdown",
   "id": "7824845b",
   "metadata": {},
   "source": [
    "**Explaination:-**  \n",
    "This code defines a function func() that takes three parameters a, b, and c, with a default value of 5 for c if it is not passed in during the function call.\n",
    "\n",
    "When the function is called with func(1, c=3, b=2), the value of a is set to 1, the value of b is set to 2, and the value of c is set to 3. Note that even though c was the last parameter in the function definition, we can still pass it as a named argument after b.\n",
    "\n",
    "Therefore, the output of the function call will be 1 2 3. This shows that we can pass arguments to a function using both positional and named arguments, but if we use named arguments, we can pass them in any order as long as we specify their names."
   ]
  },
  {
   "cell_type": "markdown",
   "id": "848ce7dd",
   "metadata": {},
   "source": [
    "=============================================================================================================="
   ]
  },
  {
   "cell_type": "markdown",
   "id": "5a8a49dd",
   "metadata": {},
   "source": [
    "## 3. How about this code: what is its result, and why?  \n",
    "&gt;&gt;&gt; def func(a, *pargs):  \n",
    "print(a, pargs)  \n",
    "&gt;&gt;&gt; func(1, 2, 3)"
   ]
  },
  {
   "cell_type": "code",
   "execution_count": 4,
   "id": "1efdef25",
   "metadata": {},
   "outputs": [
    {
     "name": "stdout",
     "output_type": "stream",
     "text": [
      "1 (2, 3)\n"
     ]
    }
   ],
   "source": [
    "def func(a,*pargs):\n",
    "    print(a,pargs)\n",
    "func(1,2,3)"
   ]
  },
  {
   "cell_type": "markdown",
   "id": "ee8f7941",
   "metadata": {},
   "source": [
    "**Explaination:-**  \n",
    "This code defines a function func() that takes one required parameter a, followed by a variable-length tuple of positional arguments *pargs.\n",
    "\n",
    "When the function is called with func(1,2,3), the value of a is set to 1, and the remaining arguments 2 and 3 are packed into a tuple and assigned to the *pargs parameter. Therefore, the output of the function call will be 1 (2, 3).\n",
    "\n",
    "This allows us to pass any number of additional positional arguments to the function after the required a parameter, and they will be packed into a tuple and passed as the *pargs parameter. This can be useful when we don't know ahead of time how many arguments we will need to pass to the function."
   ]
  },
  {
   "cell_type": "markdown",
   "id": "23dd7634",
   "metadata": {},
   "source": [
    "=============================================================================================================="
   ]
  },
  {
   "cell_type": "markdown",
   "id": "70e9d280",
   "metadata": {},
   "source": [
    "## 4. What does this code print, and why?  \n",
    "&gt;&gt;&gt; def func(a, **kargs):  \n",
    "print(a, kargs)  \n",
    "&gt;&gt;&gt; func(a=1, c=3, b=2)  "
   ]
  },
  {
   "cell_type": "code",
   "execution_count": 5,
   "id": "a3204021",
   "metadata": {},
   "outputs": [
    {
     "name": "stdout",
     "output_type": "stream",
     "text": [
      "1 {'c': 3, 'b': 2}\n"
     ]
    }
   ],
   "source": [
    "def func(a, **kargs):\n",
    "    print(a,kargs)\n",
    "    \n",
    "func(a=1,c=3,b=2)"
   ]
  },
  {
   "cell_type": "markdown",
   "id": "feef0fa0",
   "metadata": {},
   "source": [
    "**Explaination:-**  \n",
    "    \n",
    "This code defines a function func() that takes one required parameter a, followed by a variable-length dictionary of keyword arguments **kargs.\n",
    "\n",
    "When the function is called with func(a=1,c=3,b=2), the value of a is set to 1, and the remaining keyword arguments c=3 and b=2 are packed into a dictionary and assigned to the **kargs parameter. Therefore, the output of the function call will be 1 {'c': 3, 'b': 2}.\n",
    "\n",
    "This allows us to pass any number of additional keyword arguments to the function after the required a parameter, and they will be packed into a dictionary and passed as the **kargs parameter. This can be useful when we need to pass a variable number of named arguments to a function, or when we want to give the caller more flexibility in how they specify the arguments."
   ]
  },
  {
   "cell_type": "markdown",
   "id": "76ae8247",
   "metadata": {},
   "source": [
    "=============================================================================================================="
   ]
  },
  {
   "cell_type": "markdown",
   "id": "fe4eae1b",
   "metadata": {},
   "source": [
    "## 5. What gets printed by this, and explain?   \n",
    "&gt;&gt;&gt; def func(a, b, c=8, d=5): print(a, b, c, d)  \n",
    "&gt;&gt;&gt; func(1, *(5, 6))"
   ]
  },
  {
   "cell_type": "code",
   "execution_count": 10,
   "id": "61b4c045",
   "metadata": {},
   "outputs": [
    {
     "name": "stdout",
     "output_type": "stream",
     "text": [
      "1 5 6 7\n"
     ]
    }
   ],
   "source": [
    "def func(a,b,c=8,d=7):\n",
    "    print(a,b,c,d)\n",
    "func(1, *(5,6))"
   ]
  },
  {
   "cell_type": "markdown",
   "id": "2ec0e75f",
   "metadata": {},
   "source": [
    "**Explaination:-**  \n",
    "This code defines a function func() that takes two required parameters a and b, followed by two optional parameters c and d, with default values of 8 and 7, respectively.\n",
    "\n",
    "When the function is called with func(1, *(5,6)), the *(5,6) syntax unpacks the tuple (5,6) into separate positional arguments and passes them to the function. So effectively, the function call is equivalent to func(1, 5, 6).\n",
    "\n",
    "The value 1 is assigned to a, 5 is assigned to b, and the default values of c=8 and d=7 are used for the remaining two parameters. Therefore, the output of the function call will be 1 5 8 7.\n",
    "\n",
    "This technique of using *args to unpack a tuple or list of arguments can be useful when we need to pass a variable number of positional arguments to a function, or when we want to pass a sequence of values as separate arguments to a function."
   ]
  },
  {
   "cell_type": "markdown",
   "id": "ece011f1",
   "metadata": {},
   "source": [
    "=============================================================================================================="
   ]
  },
  {
   "cell_type": "code",
   "execution_count": null,
   "id": "48fdf918",
   "metadata": {},
   "outputs": [],
   "source": []
  },
  {
   "cell_type": "markdown",
   "id": "4d9aaa60",
   "metadata": {},
   "source": [
    "## 6. what is the result of this, and explain?  \n",
    "&gt;&gt;&gt; def func(a, b, c): a = 2; b[0] = &#39;x&#39;; c[&#39;a&#39;] = &#39;y&#39;  \n",
    "&gt;&gt;&gt; l=1; m=[1]; n={&#39;a&#39;:0}  \n",
    "&gt;&gt;&gt; func(l, m, n)  \n",
    "\n",
    "&gt;&gt;&gt; l, m, n"
   ]
  },
  {
   "cell_type": "code",
   "execution_count": 12,
   "id": "1ff1497f",
   "metadata": {},
   "outputs": [],
   "source": [
    "def func(a, b, c):\n",
    "    a = 2\n",
    "    b[0] = 'x'\n",
    "    c['a'] = 'y'\n"
   ]
  },
  {
   "cell_type": "code",
   "execution_count": 13,
   "id": "ae44993c",
   "metadata": {},
   "outputs": [
    {
     "name": "stdout",
     "output_type": "stream",
     "text": [
      "1 ['x'] {'a': 'y'}\n"
     ]
    }
   ],
   "source": [
    "l = 1\n",
    "m = [1]\n",
    "n = {'a': 0}\n",
    "\n",
    "func(l, m, n)\n",
    "print(l, m, n)"
   ]
  },
  {
   "cell_type": "markdown",
   "id": "4d47d776",
   "metadata": {},
   "source": [
    "**Explaination:-**  \n",
    "We define a function called func that takes three arguments a, b, and c.  \n",
    "Inside the function, we change the value of a to 2 using the assignment a = 2.  \n",
    "We also change the first element of the list b to 'x' using the indexing b[0] = 'x'.  \n",
    "Finally, we add a new key-value pair 'a': 'y' to the dictionary c using the indexing c['a'] = 'y'.  \n",
    "Then, we create three objects: l which is an integer 1, m which is a list with one element [1], and n which is a dictionary with one key-value pair {'a': 0}.  \n",
    "We call the function func with arguments l, m, and n.  \n",
    "Since m is a mutable object (a list), when we modify it inside the function, the changes persist outside the function as well.  That's why when we print m after calling the function, we see the modified list [x].  \n",
    "However, l is an immutable object (an integer), so any changes made inside the function do not affect it. That's why l remains unchanged and we see 1 when we print it after calling the function.  \n",
    "Similarly, n is also a mutable object (a dictionary), so any changes made inside the function persist outside the function as well. That's why when we print n after calling the function, we see the modified dictionary {'a': 'y'}.   "
   ]
  },
  {
   "cell_type": "markdown",
   "id": "cfad1532",
   "metadata": {},
   "source": [
    "=============================================================================================================="
   ]
  }
 ],
 "metadata": {
  "kernelspec": {
   "display_name": "Python 3",
   "language": "python",
   "name": "python3"
  },
  "language_info": {
   "codemirror_mode": {
    "name": "ipython",
    "version": 3
   },
   "file_extension": ".py",
   "mimetype": "text/x-python",
   "name": "python",
   "nbconvert_exporter": "python",
   "pygments_lexer": "ipython3",
   "version": "3.6.2"
  }
 },
 "nbformat": 4,
 "nbformat_minor": 5
}
