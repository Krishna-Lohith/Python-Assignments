{
 "cells": [
  {
   "cell_type": "markdown",
   "id": "ef229bbd",
   "metadata": {},
   "source": [
    "# Python_Assignment_035"
   ]
  },
  {
   "cell_type": "markdown",
   "id": "a58ea703",
   "metadata": {},
   "source": [
    "**Topics covered:-**  \n",
    "getattr and getattribue.    \n",
    "properties and descriptors."
   ]
  },
  {
   "cell_type": "markdown",
   "id": "e10d9d95",
   "metadata": {},
   "source": [
    "=============================================================================================================="
   ]
  },
  {
   "cell_type": "markdown",
   "id": "d2ecbcd3",
   "metadata": {},
   "source": [
    "## Q1. What is the difference between __getattr__ and __getattribute__?"
   ]
  },
  {
   "cell_type": "markdown",
   "id": "8dd683ec",
   "metadata": {},
   "source": [
    "In Python, __getattr__ and __getattribute__ are two special methods that are used to handle attribute access in an object. The main difference between them is in how they are invoked and what they do.\n",
    "__getattr__ is called only when an attribute is not found in the usual places, i.e., when the attribute does not exist as an instance attribute, a class attribute, or in the object's superclass hierarchy. In other words, __getattr__ is only called as a fallback mechanism when attribute lookup has failed by other means. If __getattr__ is defined in a class, it should return the value of the requested attribute or raise an AttributeError if the attribute is not found.\n",
    "\n",
    "getattr function is used to get the value of an attribute of an object by its name. It takes two arguments - the object and the attribute name, and returns the value of the attribute if it exists, or a default value if it does not exist.\n"
   ]
  },
  {
   "cell_type": "code",
   "execution_count": 2,
   "id": "db975988",
   "metadata": {},
   "outputs": [
    {
     "name": "stdout",
     "output_type": "stream",
     "text": [
      "John\n",
      "30\n"
     ]
    }
   ],
   "source": [
    "class Person:\n",
    "    def __init__(self, name):\n",
    "        self.name = name\n",
    "        \n",
    "person = Person(\"John\")\n",
    "name = getattr(person, \"name\", \"Unknown\")\n",
    "age = getattr(person, \"age\", 30)\n",
    "\n",
    "print(name)  # Output: John\n",
    "print(age)   # Output: 30"
   ]
  },
  {
   "cell_type": "markdown",
   "id": "e24dd1ca",
   "metadata": {},
   "source": [
    "In this example, getattr is used to get the value of the name attribute of the person object. It returns the value \"John\" because the attribute exists. The second call to getattr is used to get the value of the age attribute, which does not exist in the Person class. Therefore, the default value of 30 is returned."
   ]
  },
  {
   "cell_type": "markdown",
   "id": "d7ed4ef5",
   "metadata": {},
   "source": [
    "__getattribute__ is called every time an attribute is accessed, regardless of whether the attribute exists or not. This means that if __getattribute__ is defined in a class, it will be called every time an attribute is accessed, even if the attribute is defined as an instance attribute or in the superclass hierarchy. If __getattribute__ is defined in a class, it should return the value of the requested attribute or raise an AttributeError if the attribute is not found.\n",
    "\n",
    "getattribute is another built-in function that is used to get the value of an attribute of an object by its name, but it is different from getattr in that it is called every time an attribute of the object is accessed, regardless of whether the attribute exists or not. It takes only one argument - the attribute name, and returns the value of the attribute if it exists, or raises an AttributeError if it does not exist.\n"
   ]
  },
  {
   "cell_type": "code",
   "execution_count": 3,
   "id": "f584f61b",
   "metadata": {},
   "outputs": [
    {
     "name": "stdout",
     "output_type": "stream",
     "text": [
      "Getting attribute name\n",
      "John\n"
     ]
    }
   ],
   "source": [
    "class Person:\n",
    "    def __init__(self, name):\n",
    "        self.name = name\n",
    "    \n",
    "    def __getattribute__(self, name):\n",
    "        print(\"Getting attribute\", name)\n",
    "        return object.__getattribute__(self, name)\n",
    "        \n",
    "person = Person(\"John\")\n",
    "name = person.name\n",
    "\n",
    "print(name)  # Output: Getting attribute name \\n John\n"
   ]
  },
  {
   "cell_type": "markdown",
   "id": "ebe20310",
   "metadata": {},
   "source": [
    "In this example, getattribute is defined in the Person class to print a message every time an attribute is accessed. When the name attribute is accessed in the name = person.name line, the getattribute method is called and it prints \"Getting attribute name\". Then, it returns the value of the name attribute, which is \"John\".\n",
    "\n",
    "In summary, __getattr__ is a fallback mechanism that is only called when an attribute is not found by other means, while __getattribute__ is called every time an attribute is accessed, regardless of whether the attribute exists or not."
   ]
  },
  {
   "cell_type": "markdown",
   "id": "bc759b9a",
   "metadata": {},
   "source": [
    "=============================================================================================================="
   ]
  },
  {
   "cell_type": "markdown",
   "id": "d9d0b3e6",
   "metadata": {},
   "source": [
    "## Q2. What is the difference between properties and descriptors?"
   ]
  },
  {
   "cell_type": "markdown",
   "id": "c6aae53d",
   "metadata": {},
   "source": [
    "In Python, properties and descriptors are both used to define custom behavior for attribute access in an object. While they are similar in some ways, they have some key differences.\n",
    "\n",
    "A property is a built-in Python feature that allows you to define getter, setter, and deleter methods for an attribute. When you access the attribute, the getter method is called, and when you set the attribute, the setter method is called. If you delete the attribute, the deleter method is called. Properties are defined using the @property, @<attribute>.setter, and @<attribute>.deleter decorators.\n",
    "    \n",
    "Properties are a simpler way to define attributes that have custom behavior. They allow you to define a getter method and/or a setter method for an attribute, which are called automatically whenever the attribute is accessed or assigned a value. Properties are defined using the @property decorator and the setter decorator.\n",
    "\n",
    "Here is an example\n"
   ]
  },
  {
   "cell_type": "code",
   "execution_count": null,
   "id": "0904b926",
   "metadata": {},
   "outputs": [],
   "source": [
    "class Rectangle:\n",
    "    def __init__(self, width, height):\n",
    "        self.width = width\n",
    "        self.height = height\n",
    "    \n",
    "    @property\n",
    "    def area(self):\n",
    "        return self.width * self.height\n",
    "    \n",
    "    @property\n",
    "    def perimeter(self):\n",
    "        return 2 * (self.width + self.height)\n",
    "        \n",
    "    @property\n",
    "    def width(self):\n",
    "        return self._width\n",
    "    \n",
    "    @width.setter\n",
    "    def width(self, value):\n",
    "        if value <= 0:\n",
    "            raise ValueError(\"Width must be positive\")\n",
    "        self._width = value\n",
    "    \n",
    "    @property\n",
    "    def height(self):\n",
    "        return self._height\n",
    "    \n",
    "    @height.setter\n",
    "    def height(self, value):\n",
    "        if value <= 0:\n",
    "            raise ValueError(\"Height must be positive\")\n",
    "        self._height = value\n",
    "        \n",
    "rectangle = Rectangle(5, 10)\n",
    "print(rectangle.area)       # Output: 50\n",
    "print(rectangle.perimeter)  # Output: 30\n",
    "rectangle.width = 3\n",
    "rectangle.height = 6\n",
    "print(rectangle.area)       # Output: 18\n",
    "print(rectangle.perimeter)  # Output: 18"
   ]
  },
  {
   "cell_type": "markdown",
   "id": "4e8422af",
   "metadata": {},
   "source": [
    "In this example, the Rectangle class defines a width and a height attribute, and two read-only attributes area and perimeter. The width and height attributes are defined using the @property decorator and the setter decorator, which allow you to define custom behavior for getting and setting the attributes. The area and perimeter attributes are defined using the @property decorator only, which allows you to define custom behavior for getting the attributes but not setting them."
   ]
  },
  {
   "cell_type": "markdown",
   "id": "1f8e3b97",
   "metadata": {},
   "source": [
    "\n",
    "A descriptor is a more general mechanism for defining custom behavior for attribute access. Descriptors are defined by creating a class with one or more of the __get__, __set__, or __delete__ methods. These methods define the behavior for getting, setting, and deleting the attribute, respectively. Descriptors are then used by defining them as class-level attributes in other classes. When an instance of the class is created, the descriptor is bound to the instance and can be accessed like any other instance attribute.\n",
    "\n",
    "Descriptors, on the other hand, are a more powerful way to define attributes that have custom behavior. They allow you to define a descriptor class that defines custom behavior for getting, setting, and deleting an attribute. Descriptors are defined by implementing one or more of the following methods: __get__(), __set__(), and __delete__(). Descriptors are then added to a class as class-level attributes.\n",
    "\n",
    "Here is an example:"
   ]
  },
  {
   "cell_type": "code",
   "execution_count": null,
   "id": "28148a04",
   "metadata": {},
   "outputs": [],
   "source": [
    "class PositiveNumber:\n",
    "    def __set_name__(self, owner, name):\n",
    "        self.name = name\n",
    "    \n",
    "    def __get__(self, instance, owner):\n",
    "        return instance.__dict__[self.name]\n",
    "    \n",
    "    def __set__(self, instance, value):\n",
    "        if value <= 0:\n",
    "            raise ValueError(\"Value must be positive\")\n",
    "        instance.__dict__[self.name] = value\n",
    "    \n",
    "    def __delete__(self, instance):\n",
    "        del instance.__dict__[self.name]\n",
    "        \n",
    "class Rectangle:\n",
    "    width = PositiveNumber()\n",
    "    height = PositiveNumber()\n",
    "    \n",
    "    def area(self):\n",
    "        return self.width * self.height\n",
    "    \n",
    "    def perimeter(self):\n",
    "        return 2 * (self.width + self.height)\n",
    "        \n",
    "rectangle = Rectangle()\n",
    "rectangle.width = 5\n",
    "rectangle.height = 10\n",
    "print(rectangle.area())       # Output: 50\n",
    "print(rectangle.perimeter())  # Output: 30\n",
    "rectangle.width = -3  # Raises ValueError\n",
    "\n",
    "\n",
    "#In this example, the PositiveNumber class defines a descriptor that ensures that the value of an attribute is positive. The Rectangle class defines the width"
   ]
  },
  {
   "cell_type": "markdown",
   "id": "381622a5",
   "metadata": {},
   "source": [
    "The main difference between properties and descriptors is that properties are defined on a per-attribute basis and are limited to defining getter, setter, and deleter methods for that attribute. Descriptors, on the other hand, are more general and can be used to define custom behavior for any attribute. Additionally, descriptors can be used to implement more complex behavior, such as validation, type checking, or computed values.\n",
    "\n",
    "In summary, properties are a built-in Python feature for defining custom behavior for attribute access on a per-attribute basis, while descriptors are a more general mechanism for defining custom behavior for attribute access that can be used for any attribute.\n"
   ]
  },
  {
   "cell_type": "markdown",
   "id": "026767b0",
   "metadata": {},
   "source": [
    "=============================================================================================================="
   ]
  },
  {
   "cell_type": "markdown",
   "id": "9628c713",
   "metadata": {},
   "source": [
    "## Q3. What are the key differences in functionality between __getattr__ and __getattribute__, as well as properties and descriptors?"
   ]
  },
  {
   "cell_type": "markdown",
   "id": "3de5a2d2",
   "metadata": {},
   "source": [
    "__getattr__ and __getattribute__ are both special methods in Python that can be used to customize attribute access in an object, but they have some key differences in their functionality.\n",
    "\n",
    "__getattr__ is called when an attribute is not found in the usual places, i.e., when the attribute does not exist as an instance attribute, a class attribute, or in the object's superclass hierarchy. It is a fallback mechanism that is only called when attribute lookup has failed by other means. If __getattr__ is defined in a class, it should return the value of the requested attribute or raise an AttributeError if the attribute is not found.\n",
    "__getattribute__ is called every time an attribute is accessed, regardless of whether the attribute exists or not. This means that if __getattribute__ is defined in a class, it will be called every time an attribute is accessed, even if the attribute is defined as an instance attribute or in the superclass hierarchy. If __getattribute__ is defined in a class, it should return the value of the requested attribute or raise an AttributeError if the attribute is not found.\n",
    "Properties and descriptors are both mechanisms for customizing attribute access in an object, but they have some key differences in their functionality.\n",
    "\n",
    "Properties are a built-in Python feature that allows you to define getter, setter, and deleter methods for an attribute. When you access the attribute, the getter method is called, and when you set the attribute, the setter method is called. If you delete the attribute, the deleter method is called. Properties are defined using the @property, @<attribute>.setter, and @<attribute>.deleter decorators.\n",
    "Descriptors are a more general mechanism for defining custom behavior for attribute access. Descriptors are defined by creating a class with one or more of the __get__, __set__, or __delete__ methods. These methods define the behavior for getting, setting, and deleting the attribute, respectively. Descriptors are then used by defining them as class-level attributes in other classes. When an instance of the class is created, the descriptor is bound to the instance and can be accessed like any other instance attribute.\n",
    "In summary, __getattr__ and __getattribute__ are both used to customize attribute access in an object, but they have different behaviors depending on when they are called. Similarly, properties and descriptors are both used to customize attribute access, but they have different levels of generality and can be used for different purposes."
   ]
  },
  {
   "cell_type": "markdown",
   "id": "6a0b1cd4",
   "metadata": {},
   "source": [
    "=============================================================================================================="
   ]
  }
 ],
 "metadata": {
  "kernelspec": {
   "display_name": "Python 3",
   "language": "python",
   "name": "python3"
  },
  "language_info": {
   "codemirror_mode": {
    "name": "ipython",
    "version": 3
   },
   "file_extension": ".py",
   "mimetype": "text/x-python",
   "name": "python",
   "nbconvert_exporter": "python",
   "pygments_lexer": "ipython3",
   "version": "3.6.2"
  }
 },
 "nbformat": 4,
 "nbformat_minor": 5
}
