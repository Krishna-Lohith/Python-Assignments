{
 "cells": [
  {
   "cell_type": "markdown",
   "id": "0a902542",
   "metadata": {},
   "source": [
    "# Python_Assignment_036"
   ]
  },
  {
   "cell_type": "markdown",
   "id": "26287564",
   "metadata": {},
   "source": [
    "**Topics covered:-**  \n",
    "metaclass      \n",
    "class decorators      "
   ]
  },
  {
   "cell_type": "markdown",
   "id": "7a22781e",
   "metadata": {},
   "source": [
    "=============================================================================================================="
   ]
  },
  {
   "cell_type": "markdown",
   "id": "28b576f9",
   "metadata": {},
   "source": [
    "## Q1. What is the concept of a metaclass?"
   ]
  },
  {
   "cell_type": "markdown",
   "id": "097b19ea",
   "metadata": {},
   "source": [
    "In object-oriented programming, a metaclass is a class that defines the behavior of other classes. A metaclass is essentially a class of a class. It is responsible for defining how classes should be created, just as a class is responsible for defining how instances of that class should behave.\n",
    "\n",
    "In Python, the default metaclass is the type metaclass. However, you can create your own metaclasses by subclassing the type metaclass or by using the abc.ABCMeta metaclass provided by the abc module.\n",
    "\n",
    "Using a metaclass allows you to customize the creation and behavior of classes in your program. For example, you can use a metaclass to enforce certain rules for class definitions, automatically register classes with a registry, or modify the behavior of class methods and attributes.\n",
    "\n",
    "Metaclasses are a powerful and advanced concept in Python, and they are not commonly used in everyday programming. However, they can be very useful in certain situations, such as when you need to create a domain-specific language or when you want to add special behavior to classes in a library or framework."
   ]
  },
  {
   "cell_type": "markdown",
   "id": "2d2440ad",
   "metadata": {},
   "source": [
    "In Python, a metaclass is a class that defines the behavior of other classes. It allows you to customize how classes are created, by defining custom behavior for the creation of class objects, their methods, attributes, and inheritance.\n",
    "\n",
    "The type function is the built-in metaclass in Python. It is used to create new class objects by defining a class name, a tuple of base classes, and a dictionary of class attributes. However, you can also create your own metaclasses by subclassing type and overriding some of its methods, such as __new__, __init__, or __call__.\n",
    "\n",
    "Here is an example of a metaclass that defines custom behavior for the creation of classes:"
   ]
  },
  {
   "cell_type": "code",
   "execution_count": 6,
   "id": "324ca38c",
   "metadata": {},
   "outputs": [
    {
     "name": "stdout",
     "output_type": "stream",
     "text": [
      "Creating class MyClass with bases () and attributes {'__module__': '__main__', '__qualname__': 'MyClass', 'my_attr': 42, 'my_method': <function MyClass.my_method at 0x000002CF0CF68488>}\n"
     ]
    }
   ],
   "source": [
    "class MyMeta(type):\n",
    "    def __new__(cls, name, bases, attrs):\n",
    "        print(f\"Creating class {name} with bases {bases} and attributes {attrs}\")\n",
    "        return super().__new__(cls, name, bases, attrs)\n",
    "    \n",
    "class MyClass(metaclass=MyMeta):\n",
    "    my_attr = 42\n",
    "    \n",
    "    def my_method(self):\n",
    "        return \"Hello, World!\"\n"
   ]
  },
  {
   "cell_type": "markdown",
   "id": "9d040e71",
   "metadata": {},
   "source": [
    "In this example, MyMeta is a custom metaclass that overrides the __new__ method. Whenever a new class is created using MyClass, the __new__ method of MyMeta is called with the class name, a tuple of base classes, and a dictionary of class attributes. In this case, MyMeta simply prints a message to the console and then calls the __new__ method of the type class to create the new class object.\n",
    "\n",
    "When you run this code, you will see the message \"Creating class MyClass with bases () and attributes {'module': 'main', 'my_attr': 42, 'my_method': <function MyClass.my_method at 0x7f2f84dc88b0>}\" printed to the console. This demonstrates that the MyMeta metaclass is being used to create the MyClass class object, and that it is customizing the behavior of the type class."
   ]
  },
  {
   "cell_type": "markdown",
   "id": "f26a2034",
   "metadata": {},
   "source": [
    "While both inheritance and metaclasses involve creating new classes based on existing classes, the mechanisms behind them are different. Inheritance is based on the concept of subclassing, where a new class inherits the attributes and methods of a parent class. Metaclasses, on the other hand, involve defining a new class that is used to create other classes."
   ]
  },
  {
   "cell_type": "markdown",
   "id": "c16e7b97",
   "metadata": {},
   "source": [
    "=============================================================================================================="
   ]
  },
  {
   "cell_type": "markdown",
   "id": "7e737ec8",
   "metadata": {},
   "source": [
    "## Q2. What is the best way to declare a class&#39;s metaclass?"
   ]
  },
  {
   "cell_type": "code",
   "execution_count": 3,
   "id": "a09185e4",
   "metadata": {},
   "outputs": [],
   "source": [
    "#The best way to declare a class's metaclass is by setting the metaclass attribute of the class. This can be done in two ways:\n",
    "\n",
    "#1.Inherit from a metaclass: You can define a metaclass and then inherit from it. For example:\n",
    "\n",
    "class MyMeta(type):\n",
    "    pass\n",
    "\n",
    "class MyClass(metaclass=MyMeta):\n",
    "    pass"
   ]
  },
  {
   "cell_type": "code",
   "execution_count": 4,
   "id": "0fc5aede",
   "metadata": {},
   "outputs": [],
   "source": [
    "# 2. Set the metaclass attribute directly: You can set the __metaclass__ attribute of the class to the desired metaclass. For example:\n",
    "\n",
    "class MyClass:\n",
    "    __metaclass__ = MyMeta\n",
    "    pass\n",
    "\n",
    "# Note that the second method only works in Python 2.x. In Python 3.x, you must use the first method."
   ]
  },
  {
   "cell_type": "markdown",
   "id": "fdface6a",
   "metadata": {},
   "source": [
    "=============================================================================================================="
   ]
  },
  {
   "cell_type": "markdown",
   "id": "a528bd8a",
   "metadata": {},
   "source": [
    "## Q3. How do class decorators overlap with metaclasses for handling classes?"
   ]
  },
  {
   "cell_type": "markdown",
   "id": "27faf39a",
   "metadata": {},
   "source": [
    "Class decorators and metaclasses are both ways of modifying the behavior of classes in Python. Class decorators are functions that take a class as an argument and return a modified class. They can be used to add or modify attributes and methods of a class, as well as to create new classes dynamically.\n",
    "\n",
    "Metaclasses, on the other hand, are classes that define the behavior of other classes. They are used to modify the class creation process itself, by intercepting the creation of new classes and modifying their attributes and methods. Metaclasses allow you to control how classes are created, how their attributes are defined, and how their methods are implemented.\n",
    "\n",
    "In some cases, class decorators can be used instead of metaclasses to modify the behavior of classes. For example, you could use a class decorator to add a method to a class, instead of defining a metaclass that adds the method to all classes created using that metaclass.\n",
    "\n",
    "However, in general, metaclasses are a more powerful and flexible tool for modifying class behavior than class decorators. Metaclasses allow you to define more complex behavior, such as automatically generating methods or attributes based on the class definition, or enforcing constraints on the class attributes. Class decorators, on the other hand, are more limited in scope, and can only modify the class attributes and methods that are explicitly passed to them."
   ]
  },
  {
   "cell_type": "markdown",
   "id": "756207f2",
   "metadata": {},
   "source": [
    "=============================================================================================================="
   ]
  },
  {
   "cell_type": "markdown",
   "id": "a91ac676",
   "metadata": {},
   "source": [
    "## Q4. How do class decorators overlap with metaclasses for handling instances?"
   ]
  },
  {
   "cell_type": "markdown",
   "id": "7b67803d",
   "metadata": {},
   "source": [
    "Class decorators and metaclasses can overlap when it comes to handling instances in the following ways:\n",
    "\n",
    "Adding attributes and methods to instances: Both class decorators and metaclasses can be used to add attributes and methods to instances of a class. Class decorators achieve this by modifying the class definition or by providing a new class definition altogether. Metaclasses achieve this by modifying the class definition before it is used to create instances.\n",
    "\n",
    "Modifying instance behavior: Both class decorators and metaclasses can be used to modify the behavior of instances. Class decorators achieve this by wrapping instance methods or by providing new methods that override existing ones. Metaclasses achieve this by modifying the way instances are created or by providing new methods that are automatically added to instances.\n",
    "\n",
    "Validating instances: Both class decorators and metaclasses can be used to validate instances before they are created. Class decorators achieve this by modifying the constructor method or by providing a new constructor method altogether. Metaclasses achieve this by modifying the way instances are created or by providing custom validation methods that are automatically called when instances are created.\n",
    "\n",
    "In general, class decorators are simpler to use and more flexible than metaclasses when it comes to handling instances. However, metaclasses provide more control and are better suited for complex scenarios where fine-grained control over the instance creation process is required."
   ]
  },
  {
   "cell_type": "markdown",
   "id": "e1bd1304",
   "metadata": {},
   "source": [
    "=============================================================================================================="
   ]
  }
 ],
 "metadata": {
  "kernelspec": {
   "display_name": "Python 3",
   "language": "python",
   "name": "python3"
  },
  "language_info": {
   "codemirror_mode": {
    "name": "ipython",
    "version": 3
   },
   "file_extension": ".py",
   "mimetype": "text/x-python",
   "name": "python",
   "nbconvert_exporter": "python",
   "pygments_lexer": "ipython3",
   "version": "3.6.2"
  }
 },
 "nbformat": 4,
 "nbformat_minor": 5
}
