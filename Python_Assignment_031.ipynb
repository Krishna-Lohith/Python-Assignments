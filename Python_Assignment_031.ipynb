{
 "cells": [
  {
   "cell_type": "markdown",
   "id": "50a20b92",
   "metadata": {},
   "source": [
    "# Python_Assignment_031"
   ]
  },
  {
   "cell_type": "markdown",
   "id": "acd3c7df",
   "metadata": {},
   "source": [
    "**Topics covered:-**  \n",
    "Exceptions or Errors.  \n",
    "exceptions processing.  \n",
    "Handling an exception.  \n",
    "Recovering from exceptions.    \n",
    "Methods of triggering an exception.    \n",
    "finally(), atexit()  "
   ]
  },
  {
   "cell_type": "markdown",
   "id": "c4d11ac8",
   "metadata": {},
   "source": [
    "=============================================================================================================="
   ]
  },
  {
   "cell_type": "markdown",
   "id": "a1ec9cd7",
   "metadata": {},
   "source": [
    "## Q1. Describe three applications for exception processing."
   ]
  },
  {
   "cell_type": "markdown",
   "id": "b2435edb",
   "metadata": {},
   "source": [
    "Exception processing is a mechanism in programming languages that allows for handling and responding to unexpected or exceptional conditions that arise during program execution. Here are three common applications for exception processing:\n",
    "\n",
    "1. **Error handling:** When a program encounters an error or exception, it can use exception processing to catch the error and handle it in a graceful way. This might involve displaying an error message to the user, logging the error for later analysis, or taking other corrective action to recover from the error and continue running the program.\n",
    "\n",
    "2. **Input validation:** Exception processing can also be used to validate input from users or external sources. For example, if a program expects a certain type of input (e.g., a string or a number) and receives input that does not match that type, it can raise an exception and handle the error in a way that makes sense for the program and its users.\n",
    "\n",
    "3. **Resource management:** Exception processing can also be used to manage resources like files, database connections, or network sockets. For example, if a program attempts to open a file and the file is not found, it can raise an exception and handle the error by closing any open resources and freeing up memory before terminating the program.\n",
    "\n",
    "These are just a few examples of the many ways that exception processing can be used in programming. In general, exception processing is a powerful tool for handling unexpected or exceptional conditions that might arise during program execution, and it can help to make programs more robust, reliable, and user-friendly."
   ]
  },
  {
   "cell_type": "markdown",
   "id": "2f62a89c",
   "metadata": {},
   "source": [
    "=============================================================================================================="
   ]
  },
  {
   "cell_type": "markdown",
   "id": "c8930054",
   "metadata": {},
   "source": [
    "## Q2. What happens if you don&#39;t do something extra to treat an exception?"
   ]
  },
  {
   "cell_type": "markdown",
   "id": "4e99bdb0",
   "metadata": {},
   "source": [
    "If an exception is not handled in some way (either by catching and handling it or by allowing it to propagate up the call stack), the default behavior is for the program to terminate and display an error message that includes information about the exception that was raised.\n",
    "\n",
    "When an exception is raised and not handled, the Python interpreter prints a traceback, which is a list of the calls that were made leading up to the point where the exception was raised. This traceback can be useful for debugging and identifying the source of the problem, but it is not very user-friendly and can be confusing for non-technical users.\n",
    "\n",
    "In addition to terminating the program and displaying a traceback, unhandled exceptions can also have other negative consequences, such as leaving resources open (e.g., files or network sockets) or corrupting data in memory.\n",
    "\n",
    "For these reasons, it is generally a good idea to handle exceptions in some way, even if it is just to log the error and terminate the program gracefully. Exception handling can help to make programs more robust, reliable, and user-friendly by providing a way to handle unexpected or exceptional conditions that might arise during program execution."
   ]
  },
  {
   "cell_type": "markdown",
   "id": "a48e2cd4",
   "metadata": {},
   "source": [
    "=============================================================================================================="
   ]
  },
  {
   "cell_type": "markdown",
   "id": "7043c4cb",
   "metadata": {},
   "source": [
    "## Q3. What are your options for recovering from an exception in your script?"
   ]
  },
  {
   "cell_type": "markdown",
   "id": "6ce2b8a7",
   "metadata": {},
   "source": [
    "When an exception occurs in a script, there are several options for recovering from it, depending on the situation:\n",
    "\n",
    "1. **Catch and handle the exception:** This involves wrapping the code that might raise an exception in a try-except block and specifying how to handle the exception if it occurs. This way, the program can gracefully recover from the exception and continue running without terminating.\n",
    "\n",
    "2. **Raise a different exception:** In some cases, it might make sense to catch an exception and then raise a different exception that better reflects the nature of the problem. For example, if a function expects an argument of a certain type and receives an argument of a different type, it might raise a TypeError exception. However, it could also catch that exception and raise a ValueError exception instead if that is more appropriate for the situation.\n",
    "\n",
    "3. **Retry the operation:** In some cases, it might make sense to catch an exception and then attempt the operation again, either immediately or after a delay. For example, if a network request fails due to a temporary error, it might make sense to retry the request a few times before giving up.\n",
    "\n",
    "4. **Gracefully terminate the program:** If an exception occurs that cannot be recovered from, it might be appropriate to gracefully terminate the program and display an error message to the user.\n",
    "\n",
    "These are just a few of the options for recovering from exceptions in a script. The best approach will depend on the specific situation and the requirements of the program. In general, it is a good idea to handle exceptions in some way to ensure that the program can recover gracefully from unexpected or exceptional conditions."
   ]
  },
  {
   "cell_type": "markdown",
   "id": "b04aab3d",
   "metadata": {},
   "source": [
    "=============================================================================================================="
   ]
  },
  {
   "cell_type": "markdown",
   "id": "88ce717d",
   "metadata": {},
   "source": [
    "## Q4. Describe two methods for triggering exceptions in your script."
   ]
  },
  {
   "cell_type": "markdown",
   "id": "e504ad18",
   "metadata": {},
   "source": [
    "In Python, there are several ways to trigger exceptions in a script, depending on the situation and the type of exception you want to raise. Here are two methods for triggering exceptions in Python:\n",
    "\n",
    "1. **Raise an exception manually:** You can manually raise an exception using the raise statement, followed by an instance of the exception class you want to raise. For example, to raise a ValueError exception if a function receives an argument that is less than zero, you could write:"
   ]
  },
  {
   "cell_type": "code",
   "execution_count": 4,
   "id": "f9cfa6d1",
   "metadata": {},
   "outputs": [],
   "source": [
    "def my_function(x):\n",
    "    if x < 0:\n",
    "        raise ValueError(\"Argument must be non-negative\")\n",
    "    else:\n",
    "        # do something with x\n",
    "        return x\n",
    "    \n",
    "#This will cause the program to immediately stop and display an error message indicating that a ValueError exception was raised."
   ]
  },
  {
   "cell_type": "markdown",
   "id": "304964c6",
   "metadata": {},
   "source": [
    "2. **Use built-in functions or methods that can raise exceptions:** There are several built-in functions and methods in Python that can raise exceptions under certain conditions. For example, the open() function can raise a FileNotFoundError exception if the specified file does not exist, or a PermissionError exception if the user does not have permission to access the file. Similarly, the int() function can raise a ValueError exception if it is called with an argument that cannot be converted to an integer. In these cases, the exception is raised automatically by the function or method, and you can handle it using a try-except block as described in the previous question."
   ]
  },
  {
   "cell_type": "markdown",
   "id": "0cf71d6c",
   "metadata": {},
   "source": [
    "=============================================================================================================="
   ]
  },
  {
   "cell_type": "markdown",
   "id": "897d17a4",
   "metadata": {},
   "source": [
    "## Q5. Identify two methods for specifying actions to be executed at termination time, regardless of whether or not an exception exists."
   ]
  },
  {
   "cell_type": "markdown",
   "id": "0c90e623",
   "metadata": {},
   "source": [
    "In Python, you can use the finally clause or the atexit module to specify actions to be executed at termination time, regardless of whether or not an exception exists. Here are the details of each method:\n",
    "\n",
    "1. **The finally clause:** The finally clause is a block of code that is executed after the try block, regardless of whether or not an exception was raised. You can use the finally clause to perform cleanup operations that need to be done regardless of the outcome of the program. For example, you might want to close a file, release a network connection, or free up system resources. Here is an example:"
   ]
  },
  {
   "cell_type": "code",
   "execution_count": null,
   "id": "29cd048f",
   "metadata": {},
   "outputs": [],
   "source": [
    "try:\n",
    "    # some code that might raise an exception\n",
    "except SomeException:\n",
    "    # handle the exception\n",
    "finally:\n",
    "    # code to be executed regardless of whether an exception occurred"
   ]
  },
  {
   "cell_type": "markdown",
   "id": "15cd878e",
   "metadata": {},
   "source": [
    "2. **The atexit module:** The atexit module provides a way to register functions that should be executed when the Python interpreter is about to exit. These functions are executed regardless of whether the program completed successfully or was terminated by an unhandled exception. For example, you might want to save data to a file, send a notification to a remote server, or perform some other action before the program exits. "
   ]
  },
  {
   "cell_type": "code",
   "execution_count": null,
   "id": "55c1e4b9",
   "metadata": {},
   "outputs": [],
   "source": [
    "import atexit\n",
    "\n",
    "def cleanup():\n",
    "    # code to be executed at termination time\n",
    "\n",
    "atexit.register(cleanup)"
   ]
  },
  {
   "cell_type": "markdown",
   "id": "abffecdc",
   "metadata": {},
   "source": [
    "In this example, the cleanup() function will be executed when the program exits, regardless of whether it exited normally or due to an unhandled exception."
   ]
  },
  {
   "cell_type": "markdown",
   "id": "be0890ee",
   "metadata": {},
   "source": [
    "=============================================================================================================="
   ]
  }
 ],
 "metadata": {
  "kernelspec": {
   "display_name": "Python 3",
   "language": "python",
   "name": "python3"
  },
  "language_info": {
   "codemirror_mode": {
    "name": "ipython",
    "version": 3
   },
   "file_extension": ".py",
   "mimetype": "text/x-python",
   "name": "python",
   "nbconvert_exporter": "python",
   "pygments_lexer": "ipython3",
   "version": "3.6.2"
  }
 },
 "nbformat": 4,
 "nbformat_minor": 5
}
