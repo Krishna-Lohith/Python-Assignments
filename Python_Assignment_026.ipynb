{
 "cells": [
  {
   "cell_type": "markdown",
   "id": "688eedec",
   "metadata": {},
   "source": [
    "# Python_Assignment_026"
   ]
  },
  {
   "cell_type": "markdown",
   "id": "f4b1eb2a",
   "metadata": {},
   "source": [
    "**Topics covered:-**    \n",
    "Oops  \n",
    "Inheritance search  \n",
    "\\__init__  \n",
    "class  \n",
    "class instances  \n",
    "inheritance  "
   ]
  },
  {
   "cell_type": "code",
   "execution_count": 24,
   "id": "3ac5430b",
   "metadata": {},
   "outputs": [
    {
     "name": "stdout",
     "output_type": "stream",
     "text": [
      "Woof! 20\n"
     ]
    },
    {
     "data": {
      "text/plain": [
       "'mammal'"
      ]
     },
     "execution_count": 24,
     "metadata": {},
     "output_type": "execute_result"
    }
   ],
   "source": [
    "class Dog:   # Dog is a class object\n",
    "    species = 'mammal'  # class attributes\n",
    "    \n",
    "    def __init__(self, name, age):    # __init__ is an constructor method\n",
    "        self.name = name  # instance attributes\n",
    "        self.age = age    # instance attributes\n",
    "        \n",
    "    def bark(self,height):   # instance method\n",
    "        self.height = height\n",
    "        print('Woof!',self.height) \n",
    "        \n",
    "        \n",
    "        \n",
    "Dog # class object\n",
    "\n",
    "Dog.species  # Output: mammal # called as 'class attributes' or 'class-level property'\n",
    "my_species = Dog.species   # variable \n",
    "#whereas my_species is a 'variable' that holds a reference to the same class attributes.\n",
    "# Note:- my_species is not a object or class instance bcoz it holds class attributes.\n",
    "\n",
    "\n",
    "my_dog = Dog('snoffy',5)   #my_dog is an 'class instance' (or) 'instance object' (or) 'instance of the Dog class'\n",
    "\n",
    "#Now, my_dog is an instance of the Dog class. It has its own instance-level attributes, name and age, \n",
    "#which were passed as arguments to the __init__() method. We can also call the bark() method on this instance\n",
    "\n",
    "my_dog.bark(20) #my_dog.bark() is an 'instance method'  that invokes the bark() method on the my_dog instance.\n",
    "my_dog.age    # instance attribute\n",
    "my_dog.species  # 'class attributes'\n"
   ]
  },
  {
   "cell_type": "markdown",
   "id": "54cfcdf7",
   "metadata": {},
   "source": [
    "=============================================================================================================="
   ]
  },
  {
   "cell_type": "markdown",
   "id": "7cbde8eb",
   "metadata": {},
   "source": [
    "## Q1. What is the purpose of Python&#39;s OOP?"
   ]
  },
  {
   "cell_type": "markdown",
   "id": "9fe2fcbb",
   "metadata": {},
   "source": [
    "The purpose of Python's Object-Oriented Programming (OOP) is to provide a way to organize and structure code using objects, which are instances of classes. OOP is a programming paradigm that emphasizes the use of objects that have properties (attributes) and behaviors (methods or functions), and it allows for abstraction, encapsulation, inheritance, and polymorphism.\n",
    "\n",
    "In Python, OOP enables developers to create reusable and modular code that is easier to understand, maintain, and scale. With OOP, code can be organized into logical and independent components that can interact with each other through well-defined interfaces, and changes to one component do not affect others as long as the interfaces are maintained.\n",
    "\n",
    "Some benefits of using OOP in Python include:\n",
    "\n",
    "Reusability: Code can be reused by creating objects of a class in different parts of the program.\n",
    "\n",
    "Encapsulation: Data and methods that belong together can be encapsulated within a class, making the code easier to read and maintain.\n",
    "\n",
    "Inheritance: Classes can inherit attributes and methods from parent classes, reducing the amount of code needed to create new classes.\n",
    "\n",
    "Polymorphism: Different objects can be used interchangeably, even if they have different implementations, as long as they share a common interface.\n",
    "\n",
    "Overall, OOP in Python provides a way to write efficient, modular, and maintainable code that can be easily extended and reused."
   ]
  },
  {
   "cell_type": "markdown",
   "id": "6dda3a21",
   "metadata": {},
   "source": [
    "=============================================================================================================="
   ]
  },
  {
   "cell_type": "markdown",
   "id": "0fb85fd9",
   "metadata": {},
   "source": [
    "## Q2. Where does an inheritance search look for an attribute?"
   ]
  },
  {
   "cell_type": "markdown",
   "id": "4018c509",
   "metadata": {},
   "source": [
    "In Python, when an attribute is accessed on an object, the interpreter first looks for the attribute in the object's instance dictionary. If the attribute is not found in the instance dictionary, the interpreter looks for it in the class dictionary.\n",
    "\n",
    "If the attribute is still not found in the class dictionary, the interpreter looks for it in the parent class (or classes) in a process called inheritance search. This process continues recursively up the class hierarchy until the attribute is found or there are no more parent classes to search.\n",
    "\n",
    "The order in which the interpreter searches for attributes in the inheritance hierarchy is determined by the method resolution order (MRO) of the class. The MRO is computed using the C3 linearization algorithm, which takes into account the order in which the base classes are specified in the class definition.\n",
    "\n",
    "In summary, when an attribute is accessed on an object in Python, the inheritance search looks for the attribute first in the object's instance dictionary, then in the class dictionary, and finally in the parent classes in order according to the MRO of the class."
   ]
  },
  {
   "cell_type": "markdown",
   "id": "05db909d",
   "metadata": {},
   "source": [
    "=============================================================================================================="
   ]
  },
  {
   "cell_type": "markdown",
   "id": "0b6fddb5",
   "metadata": {},
   "source": [
    "## Q3. How do you distinguish between a class object and an instance object?"
   ]
  },
  {
   "cell_type": "markdown",
   "id": "66b87d8f",
   "metadata": {},
   "source": [
    "In Python, a class is a blueprint or template for creating objects, while an instance is a specific object created from a class.\n",
    "\n",
    "Here are some ways to distinguish between a class object and an instance object in Python:\n",
    "\n",
    "Definition: A class object is defined using the \"class\" keyword followed by the name of the class, while an instance object is created using the class name followed by parentheses, like a function call.\n",
    "\n",
    "Attributes: A class object can have class-level attributes that are shared by all instances of the class, while an instance object has its own set of instance-level attributes that are unique to that instance.\n",
    "\n",
    "Methods: A class object can have class-level methods that can be called on the class itself, while an instance object can have instance-level methods that can only be called on that specific instance.\n",
    "\n",
    "Memory allocation: A class object is allocated memory when the class is defined, while an instance object is allocated memory when it is created.\n",
    "\n",
    "Use: A class object is typically used to define the structure and behavior of objects, while an instance object is used to store and manipulate data based on that structure and behavior.\n",
    "\n",
    "To summarize, a class object is a blueprint for creating instances, while an instance object is a specific object created from a class. They differ in their definition, attributes, methods, memory allocation, and use."
   ]
  },
  {
   "cell_type": "code",
   "execution_count": 1,
   "id": "9868f1d9",
   "metadata": {},
   "outputs": [
    {
     "name": "stdout",
     "output_type": "stream",
     "text": [
      "mammal\n",
      "Fido\n",
      "3\n",
      "Woof!\n"
     ]
    }
   ],
   "source": [
    "class Dog:\n",
    "    species = 'mammal'  # class-level property\n",
    "    \n",
    "    def __init__(self, name, age):\n",
    "        self.name = name  # instance-level property\n",
    "        self.age = age    # instance-level property\n",
    "        \n",
    "    def bark(self):\n",
    "        print('Woof!')   # instance-level method\n",
    "        \n",
    "# Creating a class object\n",
    "print(Dog.species)  # Output: mammal\n",
    "\n",
    "# Creating an instance object\n",
    "my_dog = Dog('Fido', 3)\n",
    "print(my_dog.name)  # Output: Fido\n",
    "print(my_dog.age)   # Output: 3\n",
    "my_dog.bark()       # Output: Woof!"
   ]
  },
  {
   "cell_type": "markdown",
   "id": "a282337a",
   "metadata": {},
   "source": [
    "=============================================================================================================="
   ]
  },
  {
   "cell_type": "markdown",
   "id": "dab5a0ed",
   "metadata": {},
   "source": [
    "## Q4. What makes the first argument in a class’s method function special?"
   ]
  },
  {
   "cell_type": "markdown",
   "id": "231c8dcd",
   "metadata": {},
   "source": [
    "In Python, the first argument in a class's method function is conventionally named \"self\" and it refers to the instance of the class that the method is called on. This argument is special because it allows the method to access and manipulate the attributes and methods of the instance.\n",
    "\n",
    "When a method is called on an instance, the instance is automatically passed as the first argument to the method. This allows the method to know which instance it is being called on, and to access and manipulate its attributes and methods."
   ]
  },
  {
   "cell_type": "code",
   "execution_count": 2,
   "id": "1908b79b",
   "metadata": {},
   "outputs": [],
   "source": [
    "class Car:\n",
    "    def __init__(self, make, model, year):\n",
    "        self.make = make\n",
    "        self.model = model\n",
    "        self.year = year\n",
    "\n",
    "    def get_age(self, current_year):\n",
    "        age = current_year - self.year\n",
    "        return age"
   ]
  },
  {
   "cell_type": "markdown",
   "id": "7064efc9",
   "metadata": {},
   "source": [
    "In this class, the __init__ method is called when a new instance of the class is created, and it takes three arguments: make, model, and year. The get_age method takes one additional argument, current_year, and uses it along with the year attribute of the instance to calculate and return the age of the car.\n",
    "\n",
    "The self argument is used in both methods to refer to the instance of the Car class that the method is called on. Without this argument, the methods would not be able to access and manipulate the attributes of the instance.\n",
    "\n",
    "Overall, the self argument is special because it allows methods to operate on the data and behavior of a specific instance of a class."
   ]
  },
  {
   "cell_type": "markdown",
   "id": "83173c09",
   "metadata": {},
   "source": [
    "=============================================================================================================="
   ]
  },
  {
   "cell_type": "markdown",
   "id": "d3c6e11f",
   "metadata": {},
   "source": [
    "## Q5. What is the purpose of the __init__ method?"
   ]
  },
  {
   "cell_type": "markdown",
   "id": "02add23e",
   "metadata": {},
   "source": [
    "In Python, the __init__ method is a special method that is called when a new instance of a class is created. Its purpose is to initialize the attributes of the instance with default or user-specified values.\n",
    "\n",
    "The __init__ method takes one mandatory argument, self, which refers to the instance being created, and any number of additional arguments, which can be used to set the initial values of the instance's attributes."
   ]
  },
  {
   "cell_type": "code",
   "execution_count": 2,
   "id": "6abf1362",
   "metadata": {},
   "outputs": [],
   "source": [
    "class Person:\n",
    "    def __init__(self, name, age):\n",
    "        self.name = name\n",
    "        self.age = age\n"
   ]
  },
  {
   "cell_type": "markdown",
   "id": "bf7887cd",
   "metadata": {},
   "source": [
    "In this example, the Person class has two attributes, name and age. The __init__ method takes two arguments, name and age, which are used to initialize the corresponding attributes of the instance being created.\n",
    "\n",
    "When a new instance of the Person class is created, the __init__ method is automatically called with the instance as the first argument. For example:"
   ]
  },
  {
   "cell_type": "code",
   "execution_count": 5,
   "id": "fd022475",
   "metadata": {},
   "outputs": [
    {
     "data": {
      "text/plain": [
       "'Alice'"
      ]
     },
     "execution_count": 5,
     "metadata": {},
     "output_type": "execute_result"
    }
   ],
   "source": [
    "person1 = Person(\"Alice\", 25)\n",
    "person1.name"
   ]
  },
  {
   "cell_type": "markdown",
   "id": "fd749536",
   "metadata": {},
   "source": [
    "This creates a new instance of the Person class called person1, with name set to \"Alice\" and age set to 25.\n",
    "\n",
    "Overall, the __init__ method is used to initialize the attributes of an instance with default or user-specified values, making it a key method for defining the behavior and structure of a class."
   ]
  },
  {
   "cell_type": "markdown",
   "id": "01fc217a",
   "metadata": {},
   "source": [
    "=============================================================================================================="
   ]
  },
  {
   "cell_type": "markdown",
   "id": "eb9a929e",
   "metadata": {},
   "source": [
    "## Q6. What is the process for creating a class instance?"
   ]
  },
  {
   "cell_type": "markdown",
   "id": "b8f499bf",
   "metadata": {},
   "source": [
    "In Python, a class instance is created by calling the class name as if it were a function, with any required arguments passed in parentheses. Here is the process for creating a class instance:\n",
    "\n",
    "Define the class: First, define the class with the class keyword, and specify any attributes and methods that the class should have.\n",
    "\n",
    "Create the instance: To create an instance of the class, call the class name as if it were a function, with any required arguments passed in parentheses. This will return a new instance of the class.\n",
    "\n",
    "Assign the instance to a variable: To work with the instance, assign it to a variable. This variable will now refer to the instance of the class, and can be used to access its attributes and methods."
   ]
  },
  {
   "cell_type": "code",
   "execution_count": 8,
   "id": "0927b7f1",
   "metadata": {},
   "outputs": [],
   "source": [
    "class Person:\n",
    "    def __init__(self, name, age):\n",
    "        self.name = name\n",
    "        self.age = age\n",
    "\n",
    "person1 = Person(\"Alice\", 25)\n"
   ]
  },
  {
   "cell_type": "markdown",
   "id": "6eaaf012",
   "metadata": {},
   "source": [
    "In this example, we define a Person class with two attributes, name and age. We then create an instance of the class called person1 by calling the class name Person with the arguments \"Alice\" and 25. Finally, we assign this instance to the variable person1.\n",
    "\n",
    "Once we have created an instance of the class, we can access its attributes and methods using the dot notation, like this:"
   ]
  },
  {
   "cell_type": "code",
   "execution_count": 9,
   "id": "8cb8b582",
   "metadata": {},
   "outputs": [
    {
     "name": "stdout",
     "output_type": "stream",
     "text": [
      "Alice\n",
      "25\n"
     ]
    }
   ],
   "source": [
    "print(person1.name) # Output: \"Alice\"\n",
    "print(person1.age) # Output: 25\n"
   ]
  },
  {
   "cell_type": "markdown",
   "id": "a5044901",
   "metadata": {},
   "source": [
    "Overall, the process for creating a class instance in Python involves defining the class, creating the instance by calling the class name with any required arguments, and assigning the instance to a variable for later use."
   ]
  },
  {
   "cell_type": "markdown",
   "id": "20e2b5aa",
   "metadata": {},
   "source": [
    "=============================================================================================================="
   ]
  },
  {
   "cell_type": "markdown",
   "id": "3d54049e",
   "metadata": {},
   "source": [
    "## Q7. What is the process for creating a class?"
   ]
  },
  {
   "cell_type": "markdown",
   "id": "92543432",
   "metadata": {},
   "source": [
    "In Python, a class is created using the class keyword followed by the class name, a colon, and then the body of the class, which can include attributes and methods. Here is the process for creating a class:\n",
    "\n",
    "Choose a name: First, choose a name for your class that describes what it represents.\n",
    "\n",
    "Define the class: Use the class keyword followed by the class name and a colon to define the class. Within the class, you can define any number of attributes and methods to represent the behavior and data of the class.\n",
    "\n",
    "Add attributes: Use the __init__ method to add attributes to the class. The __init__ method is called when an instance of the class is created and can be used to set the initial values of the instance's attributes.\n",
    "\n",
    "Add methods: Define any methods that the class needs to perform its behavior. Methods can access and manipulate the class's attributes to perform their operations."
   ]
  },
  {
   "cell_type": "code",
   "execution_count": 10,
   "id": "3f59de1a",
   "metadata": {},
   "outputs": [],
   "source": [
    "class Person:\n",
    "    def __init__(self, name, age):\n",
    "        self.name = name\n",
    "        self.age = age\n",
    "\n",
    "    def say_hello(self):\n",
    "        print(f\"Hello, my name is {self.name} and I am {self.age} years old.\")\n"
   ]
  },
  {
   "cell_type": "markdown",
   "id": "af47494b",
   "metadata": {},
   "source": [
    "In this example, we create a Person class with two attributes, name and age, which are initialized using the __init__ method. We also define a say_hello method, which uses the name and age attributes to print a greeting.\n",
    "\n",
    "Once the class is defined, we can create instances of the class and use them to access its attributes and methods. For example:"
   ]
  },
  {
   "cell_type": "code",
   "execution_count": 11,
   "id": "d00b83c5",
   "metadata": {},
   "outputs": [
    {
     "name": "stdout",
     "output_type": "stream",
     "text": [
      "Hello, my name is Alice and I am 25 years old.\n"
     ]
    }
   ],
   "source": [
    "person1 = Person(\"Alice\", 25)\n",
    "person1.say_hello() # Output: \"Hello, my name is Alice and I am 25 years old.\"\n"
   ]
  },
  {
   "cell_type": "markdown",
   "id": "1454f9a5",
   "metadata": {},
   "source": [
    "Overall, the process for creating a class in Python involves choosing a name, defining the class using the class keyword, adding attributes and methods to the class, and then creating instances of the class to use its behavior and data."
   ]
  },
  {
   "cell_type": "markdown",
   "id": "7910faea",
   "metadata": {},
   "source": [
    "=============================================================================================================="
   ]
  },
  {
   "cell_type": "markdown",
   "id": "a01674d7",
   "metadata": {},
   "source": [
    "## Q8. How would you define the superclasses of a class?\n",
    "\n",
    "**Inheritance**"
   ]
  },
  {
   "cell_type": "markdown",
   "id": "137c8f95",
   "metadata": {},
   "source": [
    "In object-oriented programming, a class can inherit properties and methods from one or more parent classes, which are called superclasses. To define the superclasses of a class, you use the super() function and pass in the name of the subclass and the self keyword, which refers to the instance of the class being created. Here is an example:"
   ]
  },
  {
   "cell_type": "code",
   "execution_count": 12,
   "id": "20d7b532",
   "metadata": {},
   "outputs": [],
   "source": [
    "class Animal:\n",
    "    def __init__(self, name, species):\n",
    "        self.name = name\n",
    "        self.species = species\n",
    "\n",
    "class Dog(Animal):\n",
    "    def __init__(self, name, breed):\n",
    "        super().__init__(name, species=\"Canine\")\n",
    "        self.breed = breed\n"
   ]
  },
  {
   "cell_type": "markdown",
   "id": "134ef132",
   "metadata": {},
   "source": [
    "In this example, we define an Animal class with two attributes, name and species. We then define a Dog subclass that inherits from Animal. To define the superclasses of Dog, we call the super() function in the __init__ method of the Dog class, passing in the subclass name Dog and the self keyword. This calls the __init__ method of the Animal superclass and initializes the name attribute using the name argument passed to the Dog constructor, and the species attribute using the string \"Canine\". We then initialize the breed attribute using the breed argument passed to the Dog constructor.\n",
    "\n",
    "By calling the super() function in this way, we ensure that the superclass Animal is properly initialized before any additional attributes or methods are added to the Dog subclass.\n",
    "\n",
    "Overall, to define the superclasses of a class, you use the super() function to call the superclass constructor and pass in the subclass name and the self keyword. This ensures that the superclass is properly initialized before any additional attributes or methods are added to the subclass."
   ]
  },
  {
   "cell_type": "markdown",
   "id": "9401feb0",
   "metadata": {},
   "source": [
    "=============================================================================================================="
   ]
  }
 ],
 "metadata": {
  "kernelspec": {
   "display_name": "Python 3",
   "language": "python",
   "name": "python3"
  },
  "language_info": {
   "codemirror_mode": {
    "name": "ipython",
    "version": 3
   },
   "file_extension": ".py",
   "mimetype": "text/x-python",
   "name": "python",
   "nbconvert_exporter": "python",
   "pygments_lexer": "ipython3",
   "version": "3.6.2"
  }
 },
 "nbformat": 4,
 "nbformat_minor": 5
}
