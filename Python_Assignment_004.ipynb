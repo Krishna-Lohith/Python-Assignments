{
 "cells": [
  {
   "cell_type": "markdown",
   "id": "0f5f77ab",
   "metadata": {},
   "source": [
    "# Python_Assignment_004"
   ]
  },
  {
   "cell_type": "markdown",
   "id": "8fe4791c",
   "metadata": {},
   "source": [
    "Concepts used:-    \n",
    "Strings, string functions     \n",
    "Lists   \n",
    "Tuples   \n",
    "copy.copy()   \n",
    "copy.deepcopy()   "
   ]
  },
  {
   "cell_type": "markdown",
   "id": "0e9d1e4b",
   "metadata": {},
   "source": [
    "=============================================================================================================="
   ]
  },
  {
   "cell_type": "markdown",
   "id": "08a48b45",
   "metadata": {},
   "source": [
    "### 1. What exactly is [ ]?\n",
    "\n",
    "It is a symbol for list datatype.  \n",
    "List is a collection of elements which accepts any datatype.  \n",
    "List is a collection which is ordered and changeable. Allows duplicate members.    "
   ]
  },
  {
   "cell_type": "code",
   "execution_count": 62,
   "id": "70e1e39c",
   "metadata": {},
   "outputs": [
    {
     "data": {
      "text/plain": [
       "[1,\n",
       " 'krishna',\n",
       " 7.77,\n",
       " '3+j8',\n",
       " True,\n",
       " [1, 'krishna', 7.77, '3+j8'],\n",
       " (1, 'krishna', 7.77, '3+j8'),\n",
       " {1, '3+j8', 7.77, 'krishna'}]"
      ]
     },
     "execution_count": 62,
     "metadata": {},
     "output_type": "execute_result"
    }
   ],
   "source": [
    "spam = [1,'krishna',7.77,'3+j8', True, [1,'krishna',7.77,'3+j8'], (1,'krishna',7.77,'3+j8'), {1,'krishna',7.77,'3+j8'}]\n",
    "spam"
   ]
  },
  {
   "cell_type": "markdown",
   "id": "a3fb64b2",
   "metadata": {},
   "source": [
    "=============================================================================================================="
   ]
  },
  {
   "cell_type": "markdown",
   "id": "096f3d0d",
   "metadata": {},
   "source": [
    "### 2. In a list of values stored in a variable called spam, how would you assign the value &#39;hello&#39; as the third value? (Assume [2, 4, 6, 8, 10] are in spam.)\n",
    "\n",
    "using indexing method we can assign a value. "
   ]
  },
  {
   "cell_type": "code",
   "execution_count": 14,
   "id": "0c01233a",
   "metadata": {},
   "outputs": [
    {
     "data": {
      "text/plain": [
       "[2, 4, 'hello', 8, 10]"
      ]
     },
     "execution_count": 14,
     "metadata": {},
     "output_type": "execute_result"
    }
   ],
   "source": [
    "spam = [2, 4, 6, 8, 10]\n",
    "spam[2] = 'hello'  #As list starts from 0. I used 2 for updating third value.\n",
    "spam"
   ]
  },
  {
   "cell_type": "markdown",
   "id": "8efc4d86",
   "metadata": {},
   "source": [
    "=============================================================================================================="
   ]
  },
  {
   "cell_type": "markdown",
   "id": "52caf4ea",
   "metadata": {},
   "source": [
    "### 3.What is the value of spam[int(int(&#39;3&#39; * 2) / 11)]?"
   ]
  },
  {
   "cell_type": "code",
   "execution_count": 15,
   "id": "86c6d5bd",
   "metadata": {},
   "outputs": [],
   "source": [
    "spam = ['a','b','c','d']"
   ]
  },
  {
   "cell_type": "code",
   "execution_count": 16,
   "id": "02b37335",
   "metadata": {},
   "outputs": [
    {
     "data": {
      "text/plain": [
       "'d'"
      ]
     },
     "execution_count": 16,
     "metadata": {},
     "output_type": "execute_result"
    }
   ],
   "source": [
    "spam[int(int('3' * 2) / 11)]"
   ]
  },
  {
   "cell_type": "code",
   "execution_count": 55,
   "id": "f50f7260",
   "metadata": {},
   "outputs": [
    {
     "name": "stdout",
     "output_type": "stream",
     "text": [
      "33 <class 'str'>\n",
      "33 <class 'int'>\n",
      "3.0 <class 'float'>\n"
     ]
    },
    {
     "data": {
      "text/plain": [
       "'d'"
      ]
     },
     "execution_count": 55,
     "metadata": {},
     "output_type": "execute_result"
    }
   ],
   "source": [
    "#let's do this step by step\n",
    "s = '3'*2   # as 3 is a string and multiplied by 2 we got 33 as a string datatype\n",
    "print(s,type(s))\n",
    "\n",
    "i = int(s)   #Now convert this string into int\n",
    "print(i,type(i))\n",
    "\n",
    "d = i/11   # divide 33 by 11 which gets 3.\n",
    "print(d, type(d))\n",
    "\n",
    "int(d)  #converting the float value into int.\n",
    "\n",
    "spam[3]   #now spam of 3 is 'd'"
   ]
  },
  {
   "cell_type": "markdown",
   "id": "957baee1",
   "metadata": {},
   "source": [
    "=============================================================================================================="
   ]
  },
  {
   "cell_type": "markdown",
   "id": "33084d56",
   "metadata": {},
   "source": [
    "### 4. What is the value of spam[-1]?\n",
    "\n",
    "Indexing starts from 0 to infinity from left to right.  \n",
    "Indxing starts from -1 to -infinity from right to left.  "
   ]
  },
  {
   "cell_type": "code",
   "execution_count": 57,
   "id": "00a40c0e",
   "metadata": {},
   "outputs": [
    {
     "data": {
      "text/plain": [
       "'d'"
      ]
     },
     "execution_count": 57,
     "metadata": {},
     "output_type": "execute_result"
    }
   ],
   "source": [
    "spam = ['a','b','c','d']\n",
    "spam[-1]"
   ]
  },
  {
   "cell_type": "markdown",
   "id": "50706067",
   "metadata": {},
   "source": [
    "=============================================================================================================="
   ]
  },
  {
   "cell_type": "markdown",
   "id": "47bfa527",
   "metadata": {},
   "source": [
    "### 5. What is the value of spam[:2]?\n",
    "\n",
    ": symbol means starting all or ending all"
   ]
  },
  {
   "cell_type": "code",
   "execution_count": 59,
   "id": "c4e16e1f",
   "metadata": {},
   "outputs": [
    {
     "data": {
      "text/plain": [
       "['a', 'b']"
      ]
     },
     "execution_count": 59,
     "metadata": {},
     "output_type": "execute_result"
    }
   ],
   "source": [
    "spam = ['a','b','c','d']\n",
    "spam[:2]     # starting all till 2"
   ]
  },
  {
   "cell_type": "markdown",
   "id": "7b40e159",
   "metadata": {},
   "source": [
    "=============================================================================================================="
   ]
  },
  {
   "cell_type": "markdown",
   "id": "6a1a9e71",
   "metadata": {},
   "source": [
    "### 6. What is the value of bacon.index(&#39;cat&#39;)?\n",
    "\n",
    "index function finds the first position of a value we entered"
   ]
  },
  {
   "cell_type": "code",
   "execution_count": 75,
   "id": "a28195a6",
   "metadata": {},
   "outputs": [
    {
     "data": {
      "text/plain": [
       "1"
      ]
     },
     "execution_count": 75,
     "metadata": {},
     "output_type": "execute_result"
    }
   ],
   "source": [
    "bacon = [3.14, 'cat', 11, 'cat', True]\n",
    "bacon.index('cat')   "
   ]
  },
  {
   "cell_type": "markdown",
   "id": "f7b3e08c",
   "metadata": {},
   "source": [
    "=============================================================================================================="
   ]
  },
  {
   "cell_type": "markdown",
   "id": "5b5d78d5",
   "metadata": {},
   "source": [
    "### 7. How does bacon.append(99) change the look of the list value in bacon?\n",
    "\n",
    "append function adds the given value into an empty or existing list."
   ]
  },
  {
   "cell_type": "code",
   "execution_count": 74,
   "id": "60d7fd72",
   "metadata": {},
   "outputs": [
    {
     "data": {
      "text/plain": [
       "[3.14, 'cat', 11, 'cat', True, 99]"
      ]
     },
     "execution_count": 74,
     "metadata": {},
     "output_type": "execute_result"
    }
   ],
   "source": [
    "bacon = [3.14, 'cat', 11, 'cat', True]\n",
    "bacon.append(99)\n",
    "bacon"
   ]
  },
  {
   "cell_type": "markdown",
   "id": "1674b8a6",
   "metadata": {},
   "source": [
    "=============================================================================================================="
   ]
  },
  {
   "cell_type": "markdown",
   "id": "045ca8cd",
   "metadata": {},
   "source": [
    "### 8. How does bacon.remove(&#39;cat&#39;) change the look of the list in bacon?\n",
    "\n",
    "Remove functions removes the given value from a list."
   ]
  },
  {
   "cell_type": "code",
   "execution_count": 76,
   "id": "139ecb65",
   "metadata": {},
   "outputs": [
    {
     "data": {
      "text/plain": [
       "[3.14, 11, 'cat', True]"
      ]
     },
     "execution_count": 76,
     "metadata": {},
     "output_type": "execute_result"
    }
   ],
   "source": [
    "bacon = [3.14, 'cat', 11, 'cat', True]\n",
    "bacon.remove('cat')\n",
    "bacon"
   ]
  },
  {
   "cell_type": "markdown",
   "id": "24366765",
   "metadata": {},
   "source": [
    "=============================================================================================================="
   ]
  },
  {
   "cell_type": "markdown",
   "id": "8affa276",
   "metadata": {},
   "source": [
    "### 9. What are the list concatenation and list replication operators?\n",
    "\n",
    "concatination can be done by \" + \" and append function.  \n",
    "Replicating same list ,=multiple times using \" * \""
   ]
  },
  {
   "cell_type": "code",
   "execution_count": 94,
   "id": "dcdb8872",
   "metadata": {},
   "outputs": [],
   "source": [
    "#Let's assume we have 2 different lists.\n",
    "l1 = [3.14, 'cat', 11, 'cat', True] \n",
    "l2 = ['a','b','c','d']"
   ]
  },
  {
   "cell_type": "code",
   "execution_count": 95,
   "id": "6c0d2951",
   "metadata": {},
   "outputs": [
    {
     "data": {
      "text/plain": [
       "[3.14, 'cat', 11, 'cat', True, 'a', 'b', 'c', 'd']"
      ]
     },
     "execution_count": 95,
     "metadata": {},
     "output_type": "execute_result"
    }
   ],
   "source": [
    "#Even if you run again it won't add again.\n",
    "l3  = l1 + l2\n",
    "l3"
   ]
  },
  {
   "cell_type": "code",
   "execution_count": 96,
   "id": "d9b598c0",
   "metadata": {},
   "outputs": [
    {
     "data": {
      "text/plain": [
       "[3.14, 'cat', 11, 'cat', True, ['a', 'b', 'c', 'd']]"
      ]
     },
     "execution_count": 96,
     "metadata": {},
     "output_type": "execute_result"
    }
   ],
   "source": [
    "# if you run again it will add again and again.\n",
    "l1.append(l2)\n",
    "l1"
   ]
  },
  {
   "cell_type": "code",
   "execution_count": 103,
   "id": "65e9e4c5",
   "metadata": {},
   "outputs": [
    {
     "data": {
      "text/plain": [
       "['a', 'b', 'c', 'd', 'a', 'b', 'c', 'd']"
      ]
     },
     "execution_count": 103,
     "metadata": {},
     "output_type": "execute_result"
    }
   ],
   "source": [
    "# Replicating same list ,=multiple times using \" * \"\n",
    "l2 * 2  "
   ]
  },
  {
   "cell_type": "markdown",
   "id": "1d31629a",
   "metadata": {},
   "source": [
    "=============================================================================================================="
   ]
  },
  {
   "cell_type": "markdown",
   "id": "8f7ed19e",
   "metadata": {},
   "source": [
    "### 10. What is difference between the list methods append() and insert()?\n",
    "\n",
    "Appends adds the given value at last position. we can't enter our desired position.  \n",
    "Insert function helps us to fit the value in our desired position."
   ]
  },
  {
   "cell_type": "code",
   "execution_count": 121,
   "id": "74d43201",
   "metadata": {},
   "outputs": [
    {
     "data": {
      "text/plain": [
       "[3.14, 'cat', 11, 'cat', True, 'lohith']"
      ]
     },
     "execution_count": 121,
     "metadata": {},
     "output_type": "execute_result"
    }
   ],
   "source": [
    "# Appending\n",
    "l = [3.14, 'cat', 11, 'cat', True] \n",
    "l.append('lohith')\n",
    "l"
   ]
  },
  {
   "cell_type": "code",
   "execution_count": 122,
   "id": "8287163f",
   "metadata": {},
   "outputs": [
    {
     "data": {
      "text/plain": [
       "[3.14, 'krishna', 'cat', 11, 'cat', True]"
      ]
     },
     "execution_count": 122,
     "metadata": {},
     "output_type": "execute_result"
    }
   ],
   "source": [
    "# Inserting\n",
    "l = [3.14, 'cat', 11, 'cat', True] \n",
    "l.insert(1,'krishna')\n",
    "l "
   ]
  },
  {
   "cell_type": "markdown",
   "id": "612fcccf",
   "metadata": {},
   "source": [
    "=============================================================================================================="
   ]
  },
  {
   "cell_type": "markdown",
   "id": "283fec3f",
   "metadata": {},
   "source": [
    "### 11. What are the two methods for removing items from a list?"
   ]
  },
  {
   "cell_type": "code",
   "execution_count": 134,
   "id": "d1994b5a",
   "metadata": {},
   "outputs": [
    {
     "data": {
      "text/plain": [
       "['cat', 11, 'cat', True]"
      ]
     },
     "execution_count": 134,
     "metadata": {},
     "output_type": "execute_result"
    }
   ],
   "source": [
    "# pop\n",
    "l = [3.14, 'cat', 11, 'cat', True] \n",
    "l.pop(0)    #Pop function removes the value by it's position. so we need to mention the position of the value.\n",
    "l"
   ]
  },
  {
   "cell_type": "code",
   "execution_count": 203,
   "id": "e2ffe247",
   "metadata": {},
   "outputs": [
    {
     "data": {
      "text/plain": [
       "[3.14, 11, 'cat', True]"
      ]
     },
     "execution_count": 203,
     "metadata": {},
     "output_type": "execute_result"
    }
   ],
   "source": [
    "# Remove\n",
    "l = [3.14, 'cat', 11, 'cat', True] \n",
    "l.remove(\"cat\")    #Remove function removes value directly by it's name or number. Removes first value if it has duplicates.\n",
    "l"
   ]
  },
  {
   "cell_type": "markdown",
   "id": "c66bb844",
   "metadata": {},
   "source": [
    "=============================================================================================================="
   ]
  },
  {
   "cell_type": "markdown",
   "id": "f4facacd",
   "metadata": {},
   "source": [
    "### 12. Describe how list values and string values are identical.\n",
    "\n",
    "Lists and strings are identical in some ways like Accessing, concatination, replication etc..  \n",
    "But in some cases they are different. we can't modify a string."
   ]
  },
  {
   "cell_type": "code",
   "execution_count": 163,
   "id": "1c4692de",
   "metadata": {},
   "outputs": [
    {
     "name": "stdout",
     "output_type": "stream",
     "text": [
      "Accessing:-  3\n",
      "Modifying:-  [1, 2, 'shiva', 4, 5]\n",
      "concatination:-  [1, 2, 'shiva', 4, 5, 1, 'apple', 3.14, True]\n",
      "replicating:-  ['apple', 'banana', 'cherry', 'apple', 'banana', 'cherry', 'apple', 'banana', 'cherry']\n",
      "appending:- [1, 2, 'shiva', 4, 5, 6]\n",
      "removing:-  ['apple', 'cherry']\n",
      "sorting:-  [1, 2, 'shiva', 4, 5, 6]\n"
     ]
    }
   ],
   "source": [
    "# List Example\n",
    "list1 = [1, 2, 3, 4, 5]  # List of integers\n",
    "list2 = ['apple', 'banana', 'cherry']  # List of strings\n",
    "list3 = [1, 'apple', 3.14, True]  # List with mixed data types\n",
    "\n",
    "print('Accessing:- ',list1[2])  #Accessing \n",
    "\n",
    "list1[2] = \"shiva\"   #Modifying\n",
    "print('Modifying:- ',list1)\n",
    "\n",
    "list4 = list1 +  list3\n",
    "print('concatination:- ',list4)\n",
    "\n",
    "print('replicating:- ',list2 * 3)\n",
    "\n",
    "list1.append(6)\n",
    "print('appending:-', list1)\n",
    "\n",
    "list2.remove('banana')\n",
    "print('removing:- ',list2)\n",
    "\n",
    "list2.sort()       # all the elements should be in same data type. use key = str to convert.\n",
    "print('sorting:- ',list1)"
   ]
  },
  {
   "cell_type": "code",
   "execution_count": 166,
   "id": "435d10c2",
   "metadata": {},
   "outputs": [
    {
     "name": "stdout",
     "output_type": "stream",
     "text": [
      "Accessing:-  l\n",
      "concatination:-  Hello - Python\n",
      "Replication:-  WorldWorldWorld\n",
      "upper case:-  HELLO\n",
      "Lower case:-  world\n",
      "Finding:-  2\n"
     ]
    }
   ],
   "source": [
    "#String examples\n",
    "str1 = \"Hello\"\n",
    "str2 = \"World\"\n",
    "str3 = \"Python\"\n",
    "\n",
    "print('Accessing:- ',str1[2])   #Accessing\n",
    "\n",
    "#str1[2] = 'j'   #Modifying    #gives error bcoz strings are immutables\n",
    "\n",
    "str4  = str1 + \" - \" + str3\n",
    "print('concatination:- ',str4)\n",
    "\n",
    "print('Replication:- ',str2 * 3)\n",
    "\n",
    "# appending, removing, sorting does not apply to string\n",
    "print('upper case:- ',str1.upper())  # Output: 'HELLO'\n",
    "print('Lower case:- ',str2.lower())  # Output: 'world'\n",
    "print('Finding:- ',str3.find('tho'))  # Output: 2"
   ]
  },
  {
   "cell_type": "markdown",
   "id": "e1a32e77",
   "metadata": {},
   "source": [
    "=============================================================================================================="
   ]
  },
  {
   "cell_type": "markdown",
   "id": "8d209e44",
   "metadata": {},
   "source": [
    "### 13. What's the difference between tuples and lists?"
   ]
  },
  {
   "cell_type": "markdown",
   "id": "9607fc53",
   "metadata": {},
   "source": [
    "List is a collection which is ordered and changeable. Allows duplicate members.  \n",
    "Tuple is a collection which is ordered and unchangeable. Allows duplicate members.\n",
    "\n",
    "List  denotes with [ ]  \n",
    "Tuple denots with ()  "
   ]
  },
  {
   "cell_type": "markdown",
   "id": "4c16b7eb",
   "metadata": {},
   "source": [
    "=============================================================================================================="
   ]
  },
  {
   "cell_type": "markdown",
   "id": "07f7fe39",
   "metadata": {},
   "source": [
    "### 14. How do you type a tuple value that only contains the integer 42?"
   ]
  },
  {
   "cell_type": "code",
   "execution_count": 169,
   "id": "d3b48a71",
   "metadata": {},
   "outputs": [
    {
     "data": {
      "text/plain": [
       "42"
      ]
     },
     "execution_count": 169,
     "metadata": {},
     "output_type": "execute_result"
    }
   ],
   "source": [
    "t = (42)\n",
    "t"
   ]
  },
  {
   "cell_type": "markdown",
   "id": "b3310628",
   "metadata": {},
   "source": [
    "=============================================================================================================="
   ]
  },
  {
   "cell_type": "markdown",
   "id": "20d48b2a",
   "metadata": {},
   "source": [
    "### 15. How do you get a list value&#39;s tuple form? How do you get a tuple value&#39;s list form?"
   ]
  },
  {
   "cell_type": "code",
   "execution_count": 190,
   "id": "377d350e",
   "metadata": {},
   "outputs": [
    {
     "data": {
      "text/plain": [
       "[7, 'lohith', 24, True]"
      ]
     },
     "execution_count": 190,
     "metadata": {},
     "output_type": "execute_result"
    }
   ],
   "source": [
    "# Getting list value's from a tuple\n",
    "t = (7,'lohith',24,True)   #Tuple\n",
    "l = list(t)   #converetd into list\n",
    "l"
   ]
  },
  {
   "cell_type": "code",
   "execution_count": 189,
   "id": "3ddd4075",
   "metadata": {},
   "outputs": [
    {
     "data": {
      "text/plain": [
       "('krishna', 777, '3-j4', False)"
      ]
     },
     "execution_count": 189,
     "metadata": {},
     "output_type": "execute_result"
    }
   ],
   "source": [
    "# Getting tuple values from a list.\n",
    "l = ['krishna',777,'3-j4',False]   #list\n",
    "t = tuple(l)    #Converted into tuple\n",
    "t"
   ]
  },
  {
   "cell_type": "markdown",
   "id": "435cb7e8",
   "metadata": {},
   "source": [
    "=============================================================================================================="
   ]
  },
  {
   "cell_type": "markdown",
   "id": "744f7d09",
   "metadata": {},
   "source": [
    "### 16. Variables that &quot;contain&quot; list values are not necessarily lists themselves. Instead, what do they contain?\n",
    "\n",
    "In programming, variables that \"contain\" list values are typically references or pointers to memory locations where the list data is stored. These variables store the memory addresses or references of the actual list data, rather than storing the list data directly. This means that the variable itself does not hold the list data, but rather points to where the list data is stored in memory."
   ]
  },
  {
   "cell_type": "markdown",
   "id": "7fcf897c",
   "metadata": {},
   "source": [
    "=============================================================================================================="
   ]
  },
  {
   "cell_type": "markdown",
   "id": "d4bd4b6b",
   "metadata": {},
   "source": [
    "### 17. How do you distinguish between copy.copy() and copy.deepcopy()?"
   ]
  },
  {
   "cell_type": "markdown",
   "id": "d886236b",
   "metadata": {},
   "source": [
    "**copy.copy():** This method creates a shallow copy of an object. It creates a new object and copies the references of the original object's elements to the new object. In other words, the elements themselves are not deeply copied, but rather their references are copied. If the original object contains mutable objects, such as lists or other objects with references, the shallow copy will still have references to the same mutable objects as the original object. This means that changes made to the mutable objects in the shallow copy will be reflected in the original object, and vice versa."
   ]
  },
  {
   "cell_type": "code",
   "execution_count": 200,
   "id": "01efb2ae",
   "metadata": {},
   "outputs": [
    {
     "name": "stdout",
     "output_type": "stream",
     "text": [
      "[1, 2, [3, 4]]\n",
      "[1, 2, [3, 4]]\n",
      "[1, 2, [99, 4]]\n",
      "[1, 2, [99, 4]]\n"
     ]
    }
   ],
   "source": [
    "import copy\n",
    "\n",
    "original_list = [1, 2, [3, 4]]\n",
    "shallow_copy_list = copy.copy(original_list)\n",
    "\n",
    "# Both original_list and shallow_copy_list point to the same mutable object ([3, 4])\n",
    "print(original_list)        # [1, 2, [3, 4]]\n",
    "print(shallow_copy_list)    # [1, 2, [3, 4]]\n",
    "\n",
    "shallow_copy_list[2][0] = 99\n",
    "\n",
    "# Since the mutable object is shared, changes made to it are reflected in both lists\n",
    "print(original_list)        # [1, 2, [99, 4]]\n",
    "print(shallow_copy_list)    # [1, 2, [99, 4]]\n"
   ]
  },
  {
   "cell_type": "markdown",
   "id": "31584443",
   "metadata": {},
   "source": [
    "**copy.deepcopy():** This method creates a deep copy of an object. It recursively copies all objects referenced by the original object, creating new objects with new memory addresses for all levels of nesting. In other words, it creates a completely independent copy of the original object, including all mutable objects and their references. Changes made to the mutable objects in the deep copy will not affect the original object or any other objects that were copied."
   ]
  },
  {
   "cell_type": "code",
   "execution_count": 202,
   "id": "ffd8561a",
   "metadata": {},
   "outputs": [
    {
     "name": "stdout",
     "output_type": "stream",
     "text": [
      "[1, 2, [3, 4]]\n",
      "[1, 2, [3, 4]]\n",
      "[1, 2, [3, 4]]\n",
      "[1, 2, [99, 4]]\n"
     ]
    }
   ],
   "source": [
    "import copy\n",
    "\n",
    "original_list = [1, 2, [3, 4]]\n",
    "deep_copy_list = copy.deepcopy(original_list)\n",
    "\n",
    "# original_list and deep_copy_list are completely independent objects\n",
    "print(original_list)    # [1, 2, [3, 4]]\n",
    "print(deep_copy_list)    # [1, 2, [3, 4]]\n",
    "\n",
    "deep_copy_list[2][0] = 99\n",
    "\n",
    "# Changes made to the mutable object in deep_copy_list do not affect original_list\n",
    "print(original_list)    # [1, 2, [3, 4]]\n",
    "print(deep_copy_list)    # [1, 2, [99, 4]]"
   ]
  },
  {
   "cell_type": "markdown",
   "id": "2364832b",
   "metadata": {},
   "source": [
    "=============================================================================================================="
   ]
  }
 ],
 "metadata": {
  "kernelspec": {
   "display_name": "Python 3",
   "language": "python",
   "name": "python3"
  },
  "language_info": {
   "codemirror_mode": {
    "name": "ipython",
    "version": 3
   },
   "file_extension": ".py",
   "mimetype": "text/x-python",
   "name": "python",
   "nbconvert_exporter": "python",
   "pygments_lexer": "ipython3",
   "version": "3.6.2"
  }
 },
 "nbformat": 4,
 "nbformat_minor": 5
}
