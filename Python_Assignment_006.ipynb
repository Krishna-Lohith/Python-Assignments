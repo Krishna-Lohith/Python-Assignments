{
 "cells": [
  {
   "cell_type": "markdown",
   "id": "3be9e60f",
   "metadata": {},
   "source": [
    "# Python_Assignment_006"
   ]
  },
  {
   "cell_type": "markdown",
   "id": "78b01b54",
   "metadata": {},
   "source": [
    "Concepts used:-  \n",
    "Escape characters - \\n, \\t  \n",
    "string functions - strip, just, upper, lower, split"
   ]
  },
  {
   "cell_type": "markdown",
   "id": "5b9d923a",
   "metadata": {},
   "source": [
    "=============================================================================================================="
   ]
  },
  {
   "cell_type": "markdown",
   "id": "ee31a9c1",
   "metadata": {},
   "source": [
    "### 1. What are escape characters, and how do you use them?"
   ]
  },
  {
   "cell_type": "markdown",
   "id": "3b59feb6",
   "metadata": {},
   "source": [
    "Escape characters are special characters that are used in computer programming and other contexts to represent characters that have special meanings or functions. They are typically used to encode characters that cannot be typed directly or have special significance in a programming language or other text-based environments."
   ]
  },
  {
   "cell_type": "code",
   "execution_count": 4,
   "id": "feccc931",
   "metadata": {},
   "outputs": [
    {
     "name": "stdout",
     "output_type": "stream",
     "text": [
      "Hello\tWorld!\n",
      "Hello\n",
      "World!\n",
      "She said, \"Hello!\"\n"
     ]
    }
   ],
   "source": [
    "print(\"Hello\\tWorld!\") # Output: Hello\tWorld!\n",
    "print(\"Hello\\nWorld!\") # Output: Hello\n",
    "print(\"She said, \\\"Hello!\\\"\") # Output: She said, \"Hello!\""
   ]
  },
  {
   "cell_type": "markdown",
   "id": "1a8c544b",
   "metadata": {},
   "source": [
    "=============================================================================================================="
   ]
  },
  {
   "cell_type": "markdown",
   "id": "50c66cb0",
   "metadata": {},
   "source": [
    "### 2. What do the escape characters n and t stand for?\n",
    "\n",
    "\n",
    "\\t stands for tab space  \n",
    "\\n stands for new line"
   ]
  },
  {
   "cell_type": "markdown",
   "id": "76230045",
   "metadata": {},
   "source": [
    "=============================================================================================================="
   ]
  },
  {
   "cell_type": "markdown",
   "id": "b61f4700",
   "metadata": {},
   "source": [
    "### 3. What is the way to include backslash characters in a string?"
   ]
  },
  {
   "cell_type": "code",
   "execution_count": 10,
   "id": "ed5ce679",
   "metadata": {},
   "outputs": [
    {
     "name": "stdout",
     "output_type": "stream",
     "text": [
      "Hello\n",
      "world\n",
      "Hello\\nworld\n"
     ]
    }
   ],
   "source": [
    "print('Hello\\nworld')  # Here single backslash makes the n as a special character.\n",
    "print('Hello\\\\nworld') # We can escape \\n using another backslash.  "
   ]
  },
  {
   "cell_type": "markdown",
   "id": "ef239a68",
   "metadata": {},
   "source": [
    "=============================================================================================================="
   ]
  },
  {
   "cell_type": "markdown",
   "id": "d117de1c",
   "metadata": {},
   "source": [
    "### 4. The string &quot;Howl&#39;s Moving Castle&quot; is a correct value. Why isn&#39;t the single quote character in the word Howl&#39;s not escaped a problem?"
   ]
  },
  {
   "cell_type": "markdown",
   "id": "f598ff68",
   "metadata": {},
   "source": [
    "single quotes (') do not need to be escaped when used within double-quoted (\"\") strings, and double quotes do not need to be escaped when used within single-quoted ('') strings. "
   ]
  },
  {
   "cell_type": "code",
   "execution_count": 28,
   "id": "a63c93c4",
   "metadata": {},
   "outputs": [
    {
     "data": {
      "text/plain": [
       "\"Howl's Moving Castle \""
      ]
     },
     "execution_count": 28,
     "metadata": {},
     "output_type": "execute_result"
    }
   ],
   "source": [
    "\"Howl's Moving Castle \""
   ]
  },
  {
   "cell_type": "code",
   "execution_count": 29,
   "id": "1a2844a1",
   "metadata": {},
   "outputs": [
    {
     "name": "stdout",
     "output_type": "stream",
     "text": [
      "  Howl's \"Moving\" Castle \n"
     ]
    }
   ],
   "source": [
    "print(\"  Howl's \\\"Moving\\\" Castle \")"
   ]
  },
  {
   "cell_type": "markdown",
   "id": "6a59cd75",
   "metadata": {},
   "source": [
    "=============================================================================================================="
   ]
  },
  {
   "cell_type": "markdown",
   "id": "678c89fa",
   "metadata": {},
   "source": [
    "### 5. How do you write a string of newlines if you don&#39;t want to use the n character?"
   ]
  },
  {
   "cell_type": "code",
   "execution_count": 37,
   "id": "c2c5c1a3",
   "metadata": {},
   "outputs": [
    {
     "name": "stdout",
     "output_type": "stream",
     "text": [
      "Line 1. Line 2. Line 3.\n",
      "Line 1.\n",
      "Line 2.\n",
      "Line 3.\n"
     ]
    }
   ],
   "source": [
    "a = \"Line 1.\" \n",
    "b = \"Line 2.\"\n",
    "c = \"Line 3.\"\n",
    "\n",
    "print(a,b,c)\n",
    "print(a)\n",
    "print(b)\n",
    "print(c)"
   ]
  },
  {
   "cell_type": "markdown",
   "id": "d7304114",
   "metadata": {},
   "source": [
    "=============================================================================================================="
   ]
  },
  {
   "cell_type": "markdown",
   "id": "a5e96b3b",
   "metadata": {},
   "source": [
    "### 6. What are the values of the given expressions?\n",
    "\n",
    "&#39;Hello, world!&#39;[1]  \n",
    "&#39;Hello, world!&#39;[0:5]  \n",
    "&#39;Hello, world!&#39;[:5]  \n",
    "&#39;Hello, world!&#39;[3:]  "
   ]
  },
  {
   "cell_type": "code",
   "execution_count": 85,
   "id": "b9d06b79",
   "metadata": {},
   "outputs": [
    {
     "name": "stdout",
     "output_type": "stream",
     "text": [
      "e\n",
      "Hello\n",
      "Hello\n",
      "lo, world!\n"
     ]
    }
   ],
   "source": [
    "# This is string indexing\n",
    "\n",
    "print('Hello, world!'[1])\n",
    "print('Hello, world!'[0:5])\n",
    "print('Hello, world!'[:5])\n",
    "print('Hello, world!'[3:])"
   ]
  },
  {
   "cell_type": "markdown",
   "id": "2ed9af4d",
   "metadata": {},
   "source": [
    "=============================================================================================================="
   ]
  },
  {
   "cell_type": "markdown",
   "id": "c328ef1f",
   "metadata": {},
   "source": [
    "### 7. What are the values of the following expressions?\n",
    "\n",
    "&#39;Hello&#39;.upper()  \n",
    "&#39;Hello&#39;.upper().isupper()  \n",
    "&#39;Hello&#39;.upper().lower()  "
   ]
  },
  {
   "cell_type": "code",
   "execution_count": 86,
   "id": "8a057b99",
   "metadata": {},
   "outputs": [
    {
     "name": "stdout",
     "output_type": "stream",
     "text": [
      "HELLO\n",
      "True\n",
      "hello\n"
     ]
    }
   ],
   "source": [
    "print( 'Hello'.upper() )           # Returns Hello in upper case as HELLO.\n",
    "print( 'Hello'.upper().isupper() ) # Returns True if all the characters are in upper case.\n",
    "print( 'Hello'.upper().lower()   )   #First converts into upper case and then lower case."
   ]
  },
  {
   "cell_type": "markdown",
   "id": "b3c5abfb",
   "metadata": {},
   "source": [
    "=============================================================================================================="
   ]
  },
  {
   "cell_type": "markdown",
   "id": "42487b4e",
   "metadata": {},
   "source": [
    "### 8. What are the values of the following expressions?  \n",
    "&#39;Remember, remember, the fifth of July.&#39;.split()  \n",
    "&#39;-&#39;.join(&#39;There can only one.&#39;.split())  "
   ]
  },
  {
   "cell_type": "code",
   "execution_count": 87,
   "id": "fe829f52",
   "metadata": {},
   "outputs": [
    {
     "data": {
      "text/plain": [
       "['Remember,', 'remember,', 'the', 'fifth', 'of', 'July.']"
      ]
     },
     "execution_count": 87,
     "metadata": {},
     "output_type": "execute_result"
    }
   ],
   "source": [
    "'Remember, remember, the fifth of July.'.split()   #Splits the text."
   ]
  },
  {
   "cell_type": "code",
   "execution_count": 88,
   "id": "3f6fda69",
   "metadata": {},
   "outputs": [
    {
     "data": {
      "text/plain": [
       "'There-can-only-one.'"
      ]
     },
     "execution_count": 88,
     "metadata": {},
     "output_type": "execute_result"
    }
   ],
   "source": [
    "'-'.join('There can only one.'.split())    #First splits the text and then join with '-'"
   ]
  },
  {
   "cell_type": "markdown",
   "id": "ca8af1c4",
   "metadata": {},
   "source": [
    "=============================================================================================================="
   ]
  },
  {
   "cell_type": "markdown",
   "id": "36e932ec",
   "metadata": {},
   "source": [
    "### 9. What are the methods for right-justifying, left-justifying, and centering a string?"
   ]
  },
  {
   "cell_type": "code",
   "execution_count": 89,
   "id": "a960d46f",
   "metadata": {},
   "outputs": [
    {
     "name": "stdout",
     "output_type": "stream",
     "text": [
      "***Krishna\n",
      "Krishna********\n",
      "*Krishna**\n"
     ]
    }
   ],
   "source": [
    "print( \"Krishna\".rjust(10,'*') ) # rjust Right justifying the string. width=10. Krishna=7, remaining spaces justified with *\n",
    "print( \"Krishna\".ljust(15,'*') ) # ljust Left justifying the string. width=15, krishna=7, remaining spaces justified with *\n",
    "print( \"Krishna\".center(10,'*') ) # Center justifys the string in center. width=10, krishna=7, remaining spaces with *"
   ]
  },
  {
   "cell_type": "markdown",
   "id": "ccdb5880",
   "metadata": {},
   "source": [
    "=============================================================================================================="
   ]
  },
  {
   "cell_type": "markdown",
   "id": "3a501f92",
   "metadata": {},
   "source": [
    "### 10. What is the best way to remove whitespace characters from the start or end?"
   ]
  },
  {
   "cell_type": "code",
   "execution_count": 90,
   "id": "0a9bacdb",
   "metadata": {},
   "outputs": [
    {
     "name": "stdout",
     "output_type": "stream",
     "text": [
      "krishna  \n",
      "   krishna\n",
      "krishna     Lohith\n",
      "krishna     Lohith\n"
     ]
    }
   ],
   "source": [
    "print( '   krishna  '.lstrip() )    # Removes white spaces from left side of a string.\n",
    "print( '   krishna   '.rstrip() )   # Removes white spaces from right side of a string.\n",
    "print( '   krishna     Lohith   '.lstrip().rstrip() )   #Removes spaces from both right and left.\n",
    "print( '   krishna     Lohith   '.strip() )    #Removes spaces from both right and left."
   ]
  },
  {
   "cell_type": "markdown",
   "id": "a0a5332d",
   "metadata": {},
   "source": [
    "=============================================================================================================="
   ]
  }
 ],
 "metadata": {
  "kernelspec": {
   "display_name": "Python 3",
   "language": "python",
   "name": "python3"
  },
  "language_info": {
   "codemirror_mode": {
    "name": "ipython",
    "version": 3
   },
   "file_extension": ".py",
   "mimetype": "text/x-python",
   "name": "python",
   "nbconvert_exporter": "python",
   "pygments_lexer": "ipython3",
   "version": "3.6.2"
  }
 },
 "nbformat": 4,
 "nbformat_minor": 5
}
