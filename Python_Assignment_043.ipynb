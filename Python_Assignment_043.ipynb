{
 "cells": [
  {
   "cell_type": "markdown",
   "id": "66ab09c1",
   "metadata": {},
   "source": [
    "# Python_Assignment_043"
   ]
  },
  {
   "cell_type": "markdown",
   "id": "641cb1a5",
   "metadata": {},
   "source": [
    "**Topics covered:-**  \n",
    "text files vs binary files    \n",
    "with    \n",
    "readline()  \n",
    "seek(), tell()  \n",
    "struct package       \n",
    "pickling  \n",
    "shelve  "
   ]
  },
  {
   "cell_type": "markdown",
   "id": "c815ad11",
   "metadata": {},
   "source": [
    "=============================================================================================================="
   ]
  },
  {
   "cell_type": "markdown",
   "id": "95868ad8",
   "metadata": {},
   "source": [
    "## Q1. Describe the differences between text and binary files in a single paragraph."
   ]
  },
  {
   "cell_type": "markdown",
   "id": "1c072757",
   "metadata": {},
   "source": [
    "Text files are files that contain human-readable text, consisting of letters, numbers, symbols, and other characters. They are typically created and edited using text editors like Notepad or Microsoft Word. In contrast, binary files are files that contain machine-readable data, such as compiled code, images, video, and audio files. These files are not human-readable, and can only be interpreted by specific programs or applications. Binary files are typically created using software development tools, such as compilers or image editors. The main difference between text and binary files is that text files store data as plain text, while binary files store data as a series of binary digits or bits. This means that text files can be easily read and edited by humans, while binary files require specialized software to interpret and manipulate the data."
   ]
  },
  {
   "cell_type": "markdown",
   "id": "11502a38",
   "metadata": {},
   "source": [
    "=============================================================================================================="
   ]
  },
  {
   "cell_type": "markdown",
   "id": "5d5aa01f",
   "metadata": {},
   "source": [
    "## Q2. What are some scenarios where using text files will be the better option? When would you like to use binary files instead of text files?"
   ]
  },
  {
   "cell_type": "markdown",
   "id": "a9740522",
   "metadata": {},
   "source": [
    "Text files are usually the better option when dealing with human-readable data, such as configuration files, logs, or textual data. Text files can be easily edited by users and can be processed by programs without the need for any special libraries. Text files are also lightweight, so they take up less disk space than binary files.\n",
    "\n",
    "Binary files, on the other hand, are used to store non-text data, such as images, videos, or executable files. Binary files cannot be easily edited by humans since they contain non-text data that can only be interpreted by programs that understand their format. Binary files can be larger than text files since they store data in a more efficient manner.\n",
    "\n",
    "In general, if the data you need to store is textual in nature and human-readable, then text files are the better option. However, if the data is non-textual or requires complex encoding, such as images or executable files, then binary files are a better option."
   ]
  },
  {
   "cell_type": "markdown",
   "id": "646095e3",
   "metadata": {},
   "source": [
    "=============================================================================================================="
   ]
  },
  {
   "cell_type": "markdown",
   "id": "db91700e",
   "metadata": {},
   "source": [
    "## Q3. What are some of the issues with using binary operations to read and write a Python integer directly to disc?"
   ]
  },
  {
   "cell_type": "markdown",
   "id": "848a55ae",
   "metadata": {},
   "source": [
    "One of the issues with using binary operations to read and write a Python integer directly to disc is that the binary representation of an integer can vary depending on the computer's architecture and the number of bits used to represent the integer. This can cause problems when reading or writing binary data between different machines or systems with different architectures. Another issue is that reading and writing binary data requires more care and precision than working with text data, as a small mistake can corrupt the binary data and make it unreadable. Additionally, binary data can be harder to read and understand compared to text data, which can make debugging and troubleshooting more difficult."
   ]
  },
  {
   "cell_type": "markdown",
   "id": "f2e48120",
   "metadata": {},
   "source": [
    "=============================================================================================================="
   ]
  },
  {
   "cell_type": "markdown",
   "id": "d4176f2c",
   "metadata": {},
   "source": [
    "## Q4. Describe a benefit of using the 'with' keyword instead of explicitly opening a file."
   ]
  },
  {
   "cell_type": "markdown",
   "id": "f59cacdc",
   "metadata": {},
   "source": [
    "The with keyword in Python provides a convenient way to manage resources like files. When using with, there is no need to explicitly open and close the file. The benefit of using with is that it automatically takes care of closing the file after it has been used. This helps prevent errors and ensures that the file is properly closed, even in the event of an exception being raised. Using with also makes the code cleaner and more readable, as it makes the intention of the code more clear.\n",
    "\n",
    "\n",
    "\n",
    "\n"
   ]
  },
  {
   "cell_type": "markdown",
   "id": "5c84e871",
   "metadata": {},
   "source": [
    "=============================================================================================================="
   ]
  },
  {
   "cell_type": "markdown",
   "id": "b06f5fda",
   "metadata": {},
   "source": [
    "## Q5. Does Python have the trailing newline while reading a line of text? Does Python append a newline when you write a line of text?"
   ]
  },
  {
   "cell_type": "markdown",
   "id": "44239f3c",
   "metadata": {},
   "source": [
    "Yes, by default, Python preserves the trailing newline character when reading a line of text using the readline() method of a file object. When you write a line of text to a file using the write() method, Python does not append a newline character automatically.\n",
    "\n",
    "For example, consider the following code to read and write a line of text to a file:"
   ]
  },
  {
   "cell_type": "code",
   "execution_count": null,
   "id": "a4b8cb8c",
   "metadata": {},
   "outputs": [],
   "source": [
    "# Reading a line of text from a file\n",
    "with open('myfile.txt', 'r') as f:\n",
    "    line = f.readline()\n",
    "    print(line)  # Output will include the trailing newline character if present\n",
    "\n",
    "# Writing a line of text to a file\n",
    "with open('myfile.txt', 'w') as f:\n",
    "    f.write('Hello, world!')"
   ]
  },
  {
   "cell_type": "markdown",
   "id": "30ff371e",
   "metadata": {},
   "source": [
    "If the file myfile.txt has a line of text with a trailing newline character, then the readline() method will return the line along with the newline character. If we write a line of text to the file using the write() method, Python will not append a newline character automatically."
   ]
  },
  {
   "cell_type": "markdown",
   "id": "ed4e7588",
   "metadata": {},
   "source": [
    "=============================================================================================================="
   ]
  },
  {
   "cell_type": "markdown",
   "id": "8cb2cc41",
   "metadata": {},
   "source": [
    "## Q6. What file operations enable for random-access operation?"
   ]
  },
  {
   "cell_type": "markdown",
   "id": "cc3255a9",
   "metadata": {},
   "source": [
    "The file operations that enable random-access operation are seek() and tell().\n",
    "\n",
    "seek(offset, from_what): sets the file's current position to the given offset. The from_what argument specifies from where the offset is relative.   \n",
    "tell(): returns the file's current position as an integer number of bytes from the beginning of the file.\n",
    "These operations are typically used with binary files, as they allow you to read and write data at specific positions within the file."
   ]
  },
  {
   "cell_type": "markdown",
   "id": "46cfe4d3",
   "metadata": {},
   "source": [
    "=============================================================================================================="
   ]
  },
  {
   "cell_type": "markdown",
   "id": "89f4b23d",
   "metadata": {},
   "source": [
    "## Q7. When do you think you&#39;ll use the struct package the most?"
   ]
  },
  {
   "cell_type": "markdown",
   "id": "4ed1b66a",
   "metadata": {},
   "source": [
    "The struct package in Python is used to convert native Python data types such as integers and floats into a string of bytes and vice versa. This is useful when working with binary files, network protocols, or other situations where you need to work with raw data at the byte level. Therefore, the struct package is most commonly used in situations where you need to read or write binary data to and from a file or over a network."
   ]
  },
  {
   "cell_type": "markdown",
   "id": "ef3576a4",
   "metadata": {},
   "source": [
    "=============================================================================================================="
   ]
  },
  {
   "cell_type": "markdown",
   "id": "a5399ef1",
   "metadata": {},
   "source": [
    "## Q8. When is pickling the best option?"
   ]
  },
  {
   "cell_type": "markdown",
   "id": "09ef3070",
   "metadata": {},
   "source": [
    "Pickling is a good option when you want to store complex data structures such as lists, dictionaries, or classes in a file or transmit them over a network. Pickling is a way to serialize and deserialize Python objects so that they can be stored as binary data and retrieved later in their original form.\n",
    "\n",
    "For example, let's say you have a Python program that creates a dictionary containing information about users:"
   ]
  },
  {
   "cell_type": "code",
   "execution_count": null,
   "id": "c9731c40",
   "metadata": {},
   "outputs": [],
   "source": [
    "user_data = {'name': 'John Doe', 'age': 32, 'email': 'johndoe@example.com'}"
   ]
  },
  {
   "cell_type": "code",
   "execution_count": null,
   "id": "885f60f8",
   "metadata": {},
   "outputs": [],
   "source": [
    "#If you want to store this dictionary in a file for later use, you can use pickling: \n",
    "\n",
    "import pickle\n",
    "\n",
    "# Open a file for writing in binary mode\n",
    "with open('user_data.pickle', 'wb') as f:\n",
    "    # Pickle the user_data dictionary and write it to the file\n",
    "    pickle.dump(user_data, f)"
   ]
  },
  {
   "cell_type": "markdown",
   "id": "c92bcbcf",
   "metadata": {},
   "source": [
    "This will create a file called user_data.pickle that contains the pickled version of the user_data dictionary. You can later retrieve this dictionary from the file and use it in your program:"
   ]
  },
  {
   "cell_type": "code",
   "execution_count": null,
   "id": "8ce5eee0",
   "metadata": {},
   "outputs": [],
   "source": [
    "import pickle\n",
    "\n",
    "# Open the file for reading in binary mode\n",
    "with open('user_data.pickle', 'rb') as f:\n",
    "    # Load the pickled user_data dictionary from the file\n",
    "    user_data = pickle.load(f)\n",
    "\n",
    "# Use the user_data dictionary in your program\n",
    "print(user_data['name'])  # Output: John Doe"
   ]
  },
  {
   "cell_type": "markdown",
   "id": "63aeefec",
   "metadata": {},
   "source": [
    "=============================================================================================================="
   ]
  },
  {
   "cell_type": "markdown",
   "id": "412d7244",
   "metadata": {},
   "source": [
    "## Q9. When will it be best to use the shelve package?"
   ]
  },
  {
   "cell_type": "markdown",
   "id": "9a931f92",
   "metadata": {},
   "source": [
    "The shelve package in Python provides a high-level interface for persisting Python objects to disk. It is useful when we want to store and retrieve complex Python data structures, such as dictionaries or lists, in a simple way.\n",
    "\n",
    "One scenario where shelve can be useful is in creating a simple key-value store. For example, let's say we have a Python program that reads data from a CSV file, processes it, and we want to store the results in a persistent way for later use. We could use shelve to store the processed data as a dictionary, where the keys are unique identifiers for each record and the values are the processed data for that record. Here's an example:"
   ]
  },
  {
   "cell_type": "code",
   "execution_count": null,
   "id": "25144d94",
   "metadata": {},
   "outputs": [],
   "source": [
    "import csv\n",
    "import shelve\n",
    "\n",
    "def process_data(csv_file):\n",
    "    processed_data = {}\n",
    "    with open(csv_file) as f:\n",
    "        reader = csv.reader(f)\n",
    "        headers = next(reader)\n",
    "        for row in reader:\n",
    "            # Process the data\n",
    "            # ...\n",
    "            # Add the processed data to the dictionary\n",
    "            id = row[0]\n",
    "            processed_data[id] = processed_row_data\n",
    "    \n",
    "    # Store the processed data using shelve\n",
    "    with shelve.open('data.db') as db:\n",
    "        db['processed_data'] = processed_data\n",
    "\n",
    "# Later on, retrieve the processed data from the shelve store\n",
    "with shelve.open('data.db') as db:\n",
    "    processed_data = db['processed_data']"
   ]
  },
  {
   "cell_type": "markdown",
   "id": "ca9608fb",
   "metadata": {},
   "source": [
    "In this example, we use shelve to store the processed data in a key-value store. We open a file called data.db using the shelve module and use it like a dictionary to store the processed data. We can later retrieve the data by opening the same file and accessing the processed_data key."
   ]
  },
  {
   "cell_type": "markdown",
   "id": "0568b224",
   "metadata": {},
   "source": [
    "=============================================================================================================="
   ]
  },
  {
   "cell_type": "markdown",
   "id": "7f0bad7f",
   "metadata": {},
   "source": [
    "## Q10. What is a special restriction when using the shelve package, as opposed to using other data dictionaries?"
   ]
  },
  {
   "cell_type": "markdown",
   "id": "8ab8481b",
   "metadata": {},
   "source": [
    "When using the shelve package, the keys must be strings, whereas when using other data dictionaries, the keys can be any hashable object. This is because the keys in the shelve module are used as filenames to create individual files for each key, and filenames must be strings. Additionally, values in a shelve object must be picklable since they are serialized and stored on disk. This means that any objects that cannot be serialized with the pickle module cannot be stored in a shelve object."
   ]
  },
  {
   "cell_type": "markdown",
   "id": "f356f116",
   "metadata": {},
   "source": [
    "=============================================================================================================="
   ]
  }
 ],
 "metadata": {
  "kernelspec": {
   "display_name": "Python 3",
   "language": "python",
   "name": "python3"
  },
  "language_info": {
   "codemirror_mode": {
    "name": "ipython",
    "version": 3
   },
   "file_extension": ".py",
   "mimetype": "text/x-python",
   "name": "python",
   "nbconvert_exporter": "python",
   "pygments_lexer": "ipython3",
   "version": "3.6.2"
  }
 },
 "nbformat": 4,
 "nbformat_minor": 5
}
