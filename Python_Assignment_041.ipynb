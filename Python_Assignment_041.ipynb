{
 "cells": [
  {
   "cell_type": "markdown",
   "id": "54df39ca",
   "metadata": {},
   "source": [
    "# Python_Assignment_041    "
   ]
  },
  {
   "cell_type": "markdown",
   "id": "e3dbbde7",
   "metadata": {},
   "source": [
    "**Topics covered:-**  \n",
    "Regex  \n",
    "re.match()  \n",
    "re.search()  \n",
    "re.sub() - replacement  \n",
    "raw string  \n",
    "| and []  "
   ]
  },
  {
   "cell_type": "markdown",
   "id": "6ed70923",
   "metadata": {},
   "source": [
    "=============================================================================================================="
   ]
  },
  {
   "cell_type": "markdown",
   "id": "dccc83a7",
   "metadata": {},
   "source": [
    "## Q1. What is the benefit of regular expressions?"
   ]
  },
  {
   "cell_type": "markdown",
   "id": "e86456f6",
   "metadata": {},
   "source": [
    "Regular expressions (regex) are a powerful tool for pattern matching and text processing. Here are some benefits of using regular expressions:\n",
    "\n",
    "**1. Efficient pattern matching:** Regular expressions enable us to search for patterns in text efficiently. They can quickly identify matches for a given pattern, even in large volumes of data.\n",
    "\n",
    "**2. Flexibility:** Regular expressions can match a wide variety of patterns. They can match characters, words, numbers, and even complex patterns.\n",
    "\n",
    "**3. Easy to use:** Once you know the syntax of regular expressions, they are easy to use. There are many libraries and tools available that support regular expressions, which makes them accessible to programmers with different levels of experience.\n",
    "\n",
    "**4. Reduce coding time:** Regular expressions can simplify coding tasks by reducing the amount of code required to perform text processing tasks. They can also help make code more readable and maintainable.\n",
    "\n",
    "**5. Standardization:** Regular expressions are standardized across different programming languages, which means that the same pattern can be used in different languages. This makes it easier to port code from one language to another.\n",
    "\n",
    "Overall, regular expressions are a useful tool for developers, data analysts, and anyone who works with text data."
   ]
  },
  {
   "cell_type": "markdown",
   "id": "023f49d6",
   "metadata": {},
   "source": [
    "=============================================================================================================="
   ]
  },
  {
   "cell_type": "markdown",
   "id": "2310881f",
   "metadata": {},
   "source": [
    "## Q2. Describe the difference between the effects of &quot;(ab)c+&quot; and &quot;a(bc)+.&quot; Which of these, if any, is the unqualified pattern &quot;abc+&quot;?"
   ]
  },
  {
   "cell_type": "markdown",
   "id": "3a2338be",
   "metadata": {},
   "source": [
    "The regular expressions \"(ab)c+\" and \"a(bc)+\" both match patterns in text data, but they have slightly different effects.\n",
    "\n",
    "The regular expression \"(ab)c+\" matches strings that begin with the letters \"ab\", followed by one or more occurrences of the letter \"c\". For example, it would match \"abc\", \"abcc\", \"abccc\", and so on.\n",
    "\n",
    "On the other hand, the regular expression \"a(bc)+\" matches strings that begin with the letter \"a\", followed by one or more occurrences of the sequence \"bc\". For example, it would match \"abc\", \"abcbc\", \"abcbcbc\", and so on.\n",
    "\n",
    "The unqualified pattern \"abc+\" matches strings that begin with the letters \"ab\", followed by one or more occurrences of the letter \"c\". This is the same pattern as \"(ab)c+\", so the two regular expressions are equivalent.\n",
    "\n",
    "It's worth noting that the exact behavior of regular expressions can depend on the specific implementation and configuration of the software or tool you're using. So, it's always a good idea to test your regular expressions thoroughly to make sure they're behaving as expected."
   ]
  },
  {
   "cell_type": "markdown",
   "id": "c6f6a6c4",
   "metadata": {},
   "source": [
    "=============================================================================================================="
   ]
  },
  {
   "cell_type": "markdown",
   "id": "e7a3247d",
   "metadata": {},
   "source": [
    "## Q3. How much do you need to use the following sentence while using regular expressions?  \n",
    "\n",
    "import re"
   ]
  },
  {
   "cell_type": "markdown",
   "id": "23d9e104",
   "metadata": {},
   "source": [
    "The sentence \"import re\" is a common import statement in Python that is used to import the \"re\" module, which provides support for regular expressions.\n",
    "\n",
    "If you plan to use regular expressions in your Python code, you will need to include this import statement at the beginning of your code. The \"re\" module provides a number of functions and methods that you can use to work with regular expressions.\n",
    "\n",
    "Once you have imported the \"re\" module, you can use its functions and methods to create regular expressions, search for patterns in text data, and perform various other text processing tasks.\n",
    "\n",
    "So, in summary, you will need to use the sentence \"import re\" at the beginning of any Python script or module that uses regular expressions.\n",
    "\n",
    "\n",
    "\n",
    "\n"
   ]
  },
  {
   "cell_type": "code",
   "execution_count": null,
   "id": "734b5124",
   "metadata": {},
   "outputs": [],
   "source": []
  },
  {
   "cell_type": "markdown",
   "id": "dae3812b",
   "metadata": {},
   "source": [
    "## Q4. Which characters have special significance in square brackets when expressing a range, and under what circumstances?"
   ]
  },
  {
   "cell_type": "markdown",
   "id": "e49a2110",
   "metadata": {},
   "source": [
    "In regular expressions, square brackets are used to define a character set, which matches any one of the characters inside the brackets. When using square brackets to define a range of characters, certain characters have special significance.\n",
    "\n",
    "Here are some of the characters that have special significance in square brackets when expressing a range:\n",
    "\n",
    "**1. Hyphen (-):** The hyphen is used to specify a range of characters. For example, \"[a-z]\" matches any lowercase letter from a to z, and \"[0-9]\" matches any digit from 0 to 9.\n",
    "\n",
    "**2. Caret (^):** The caret is used to negate a character set. When it appears as the first character inside the square brackets, it matches any character that is not in the set. For example, \"[^a-z]\" matches any character that is not a lowercase letter.\n",
    "\n",
    "**3. Backslash ():** The backslash is used to escape special characters inside the square brackets. For example, if you want to match a literal hyphen, you can use the expression \"[-a-z]\" to include the hyphen in the character set, or you can use the expression \"[-a-z]\" to escape the hyphen and include it as a literal character.\n",
    "\n",
    "In summary, when using square brackets to define a range of characters in regular expressions, the hyphen is used to specify a range, the caret is used to negate a character set, and the backslash is used to escape special characters inside the brackets."
   ]
  },
  {
   "cell_type": "markdown",
   "id": "0e4ab0f8",
   "metadata": {},
   "source": [
    "=============================================================================================================="
   ]
  },
  {
   "cell_type": "markdown",
   "id": "8c44c88f",
   "metadata": {},
   "source": [
    "## Q5. How does compiling a regular-expression object benefit you?"
   ]
  },
  {
   "cell_type": "markdown",
   "id": "d22ee3a1",
   "metadata": {},
   "source": [
    "Compiling a regular expression object can provide several benefits, including:\n",
    "\n",
    "**1. Improved performance:** When you compile a regular expression object, the regular expression is pre-processed and optimized, which can improve the speed of pattern matching operations. This is particularly beneficial if you need to perform pattern matching operations multiple times, such as when processing large volumes of text data.\n",
    "\n",
    "**2. Reduced code complexity:** Compiling a regular expression object can simplify your code by separating the process of creating the regular expression object from the process of using it. This can make your code easier to read, understand, and maintain.\n",
    "\n",
    "**3. Increased flexibility:** Once you have compiled a regular expression object, you can use it with a variety of functions and methods that support regular expressions, without having to re-compile the expression each time. This can make your code more flexible and adaptable to different situations.\n",
    "\n",
    "**4. Error checking:** Compiling a regular expression object can also help you catch errors early, before the regular expression is used to process text data. If there are syntax errors or other issues with the regular expression, the compilation process will fail and raise an error, alerting you to the problem.\n",
    "\n",
    "Overall, compiling a regular expression object can help improve the performance, readability, flexibility, and error checking of your code, particularly when you need to perform pattern matching operations frequently or in different contexts.\n"
   ]
  },
  {
   "cell_type": "markdown",
   "id": "3893c150",
   "metadata": {},
   "source": [
    "=============================================================================================================="
   ]
  },
  {
   "cell_type": "markdown",
   "id": "51c61e88",
   "metadata": {},
   "source": [
    "## Q6. What are some examples of how to use the match object returned by re.match and re.search?"
   ]
  },
  {
   "cell_type": "markdown",
   "id": "b86502c6",
   "metadata": {},
   "source": [
    "When you use the re.match or re.search functions in Python to search for a pattern in text data, they return a match object if a match is found. The match object contains information about the match, such as the matched string, the starting and ending indices of the match, and any captured groups within the match.\n",
    "\n",
    "Here are some examples of how you can use the match object returned by re.match and re.search:\n",
    "\n",
    "Accessing the matched string: You can access the matched string using the group() method of the match object. For example, if you want to extract a phone number from a string, you can use re.search and then access the matched string as follows:"
   ]
  },
  {
   "cell_type": "code",
   "execution_count": 5,
   "id": "c1b8accc",
   "metadata": {},
   "outputs": [
    {
     "name": "stdout",
     "output_type": "stream",
     "text": [
      "123-456-7890\n"
     ]
    }
   ],
   "source": [
    "import re\n",
    "\n",
    "text = \"My phone number is 123-456-7890\"\n",
    "match = re.search(r'\\d{3}-\\d{3}-\\d{4}', text)\n",
    "if match:\n",
    "    phone_number = match.group()\n",
    "    print(phone_number)  # prints \"123-456-7890\"\n"
   ]
  },
  {
   "cell_type": "markdown",
   "id": "ea704b6b",
   "metadata": {},
   "source": [
    "Accessing captured groups: If your regular expression includes capturing groups, you can access the captured groups using the group() method with a group number or group name as an argument. For example, if you want to extract the area code and exchange from a phone number, you can use a regular expression with two capturing groups, like this:"
   ]
  },
  {
   "cell_type": "markdown",
   "id": "32ef2ca8",
   "metadata": {},
   "source": [
    "import re\n",
    "\n",
    "text = \"My phone number is 123-456-7890\"\n",
    "match = re.search(r'(\\d{3})-(\\d{3})-\\d{4}', text)\n",
    "if match:\n",
    "    area_code = match.group(1)\n",
    "    exchange = match.group(2)\n",
    "    print(area_code, exchange)  # prints \"123 456\"\n"
   ]
  },
  {
   "cell_type": "markdown",
   "id": "029e11c2",
   "metadata": {},
   "source": [
    "Checking the match start and end indices: You can use the start() and end() methods of the match object to get the start and end indices of the matched substring in the original text. For example, if you want to highlight the matched substring in the text, you can use the match start and end indices to extract the matched substring and insert HTML tags to highlight it:"
   ]
  },
  {
   "cell_type": "code",
   "execution_count": 4,
   "id": "9299b838",
   "metadata": {},
   "outputs": [
    {
     "name": "stdout",
     "output_type": "stream",
     "text": [
      "My phone number is <strong>123-456-7890</strong>\n"
     ]
    }
   ],
   "source": [
    "import re\n",
    "\n",
    "text = \"My phone number is 123-456-7890\"\n",
    "match = re.search(r'\\d{3}-\\d{3}-\\d{4}', text)\n",
    "if match:\n",
    "    start_index = match.start()\n",
    "    end_index = match.end()\n",
    "    highlighted_text = text[:start_index] + '<strong>' + text[start_index:end_index] + '</strong>' + text[end_index:]\n",
    "    print(highlighted_text)  # prints \"My phone number is <strong>123-456-7890</strong>\"\n"
   ]
  },
  {
   "cell_type": "markdown",
   "id": "5cb4574e",
   "metadata": {},
   "source": [
    "These are just a few examples of how you can use the match object returned by re.match and re.search. Depending on your use case, you may need to access different properties of the match object or use it in different ways."
   ]
  },
  {
   "cell_type": "markdown",
   "id": "cb018916",
   "metadata": {},
   "source": [
    "=============================================================================================================="
   ]
  },
  {
   "cell_type": "markdown",
   "id": "6cd59d93",
   "metadata": {},
   "source": [
    "## Q7. What is the difference between using a vertical bar (|) as an alteration and using square brackets as a character set?"
   ]
  },
  {
   "cell_type": "markdown",
   "id": "6153b2c3",
   "metadata": {},
   "source": [
    "The vertical bar (|) and square brackets ([]) are both used in regular expressions to match one of several alternatives. However, they work in different ways:\n",
    "\n",
    "The vertical bar (|) is used for alternation. It allows you to match one of several alternatives. For example, the regular expression cat|dog matches either the word \"cat\" or the word \"dog\". The | separates the alternatives and matches the first one that is found in the text.\n",
    "\n",
    "Square brackets ([]) are used for character sets. They allow you to match any single character that is included in the set. For example, the regular expression [aeiou] matches any vowel (a, e, i, o, or u). The characters inside the brackets represent the set of characters that can match the pattern.\n",
    "\n",
    "The main difference between the two is that the vertical bar matches entire strings (alternatives), while square brackets match single characters (character sets). Additionally, with alternation, the order of alternatives matters, while with character sets, the order of characters inside the brackets doesn't matter.\n",
    "\n",
    "Here are some examples to illustrate the difference:"
   ]
  },
  {
   "cell_type": "code",
   "execution_count": 6,
   "id": "2c0413bd",
   "metadata": {},
   "outputs": [
    {
     "name": "stdout",
     "output_type": "stream",
     "text": [
      "cat\n",
      "a\n"
     ]
    }
   ],
   "source": [
    "import re\n",
    "\n",
    "# Alternation\n",
    "text = \"I have a cat and a dog\"\n",
    "match = re.search(r'cat|dog', text)\n",
    "if match:\n",
    "    print(match.group())  # prints \"cat\"\n",
    "\n",
    "# Character set\n",
    "text = \"I have a cat and a dog\"\n",
    "match = re.search(r'[aeiou]', text)\n",
    "if match:\n",
    "    print(match.group())  # prints \"I\"\n"
   ]
  },
  {
   "cell_type": "markdown",
   "id": "414188e0",
   "metadata": {},
   "source": [
    "In the first example, the regular expression cat|dog matches the first alternative that appears in the text, which is \"cat\". In the second example, the regular expression [aeiou] matches the first vowel that appears in the text, which is \"I\"."
   ]
  },
  {
   "cell_type": "markdown",
   "id": "d5c41ca8",
   "metadata": {},
   "source": [
    "=============================================================================================================="
   ]
  },
  {
   "cell_type": "markdown",
   "id": "145022bb",
   "metadata": {},
   "source": [
    "## Q8. In regular-expression search patterns, why is it necessary to use the raw-string indicator (r)? In replacement strings?"
   ]
  },
  {
   "cell_type": "markdown",
   "id": "95f201bb",
   "metadata": {},
   "source": [
    "In regular-expression search patterns, it is necessary to use the raw-string indicator (r) to avoid unintentional interpretation of backslashes as escape characters. Backslashes are used in regular expressions to represent special characters and character classes, such as \\d for any digit character or \\s for any whitespace character.\n",
    "\n",
    "If you use a regular string without the raw-string indicator to write a regular expression that contains backslashes, the backslashes will be interpreted as escape characters, which can cause errors or unintended behavior. For example, if you wanted to search for a string that contains a backslash, you might write the regular expression \"\\\\\", but this would be interpreted as a single backslash, which would not match a string that contains a literal backslash.\n",
    "\n",
    "On the other hand, in replacement strings, it is not strictly necessary to use the raw-string indicator, but it can still be a good practice to avoid unintended interpretation of backslashes. Replacement strings often use backslashes to refer to capture groups, such as \\1 for the first capture group. If you use a regular string without the raw-string indicator to write a replacement string that contains backslashes, the backslashes may be interpreted as escape characters, which can lead to unexpected behavior in your output.\n",
    "\n",
    "Here's an example to illustrate the use of the raw-string indicator in regular expressions and replacement strings:"
   ]
  },
  {
   "cell_type": "code",
   "execution_count": null,
   "id": "361188f7",
   "metadata": {},
   "outputs": [],
   "source": [
    "import re\n",
    "\n",
    "# Regular expression with backslashes\n",
    "pattern = r\"\\d+\\.\\d+\"\n",
    "text = \"The price is $9.99.\"\n",
    "match = re.search(pattern, text)\n",
    "if match:\n",
    "    print(match.group())  # prints \"9.99\"\n",
    "\n",
    "# Replacement string with backslashes\n",
    "pattern = r\"(\\w+) (\\w+)\"\n",
    "text = \"John Smith\"\n",
    "replacement = r\"\\2, \\1\"\n",
    "new_text = re.sub(pattern, replacement, text)\n",
    "print(new_text)  # prints \"Smith, John\"\n"
   ]
  },
  {
   "cell_type": "markdown",
   "id": "986362dd",
   "metadata": {},
   "source": [
    "In this example, the regular expression r\"\\d+\\.\\d+\" matches any decimal number in the format of one or more digits, followed by a period, followed by one or more digits. The raw-string indicator (r) before the pattern ensures that the backslashes are not interpreted as escape characters.\n",
    "\n",
    "In the replacement string, r\"\\2, \\1\", the backslashes are used to refer to the second and first capture groups, respectively. Again, the raw-string indicator ensures that the backslashes are not interpreted as escape characters."
   ]
  },
  {
   "cell_type": "markdown",
   "id": "9305e811",
   "metadata": {},
   "source": [
    "=============================================================================================================="
   ]
  }
 ],
 "metadata": {
  "kernelspec": {
   "display_name": "Python 3",
   "language": "python",
   "name": "python3"
  },
  "language_info": {
   "codemirror_mode": {
    "name": "ipython",
    "version": 3
   },
   "file_extension": ".py",
   "mimetype": "text/x-python",
   "name": "python",
   "nbconvert_exporter": "python",
   "pygments_lexer": "ipython3",
   "version": "3.6.2"
  }
 },
 "nbformat": 4,
 "nbformat_minor": 5
}
