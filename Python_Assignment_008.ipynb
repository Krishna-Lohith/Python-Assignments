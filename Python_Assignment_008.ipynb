{
 "cells": [
  {
   "cell_type": "markdown",
   "id": "4859b76a",
   "metadata": {},
   "source": [
    "# Python_Assignment_008"
   ]
  },
  {
   "cell_type": "markdown",
   "id": "088d2178",
   "metadata": {},
   "source": [
    "Concepts used:-   \n",
    "pyinputplus library"
   ]
  },
  {
   "cell_type": "markdown",
   "id": "89766e44",
   "metadata": {},
   "source": [
    "### 1. Is the Python Standard Library included with PyInputPlus?\n",
    "\n",
    "No Python standard library doesn't include pyinputplus. We need to install this libtrary seperatly."
   ]
  },
  {
   "cell_type": "code",
   "execution_count": 9,
   "id": "6d5faa4e",
   "metadata": {},
   "outputs": [],
   "source": [
    "#pip install pyinputplus"
   ]
  },
  {
   "cell_type": "code",
   "execution_count": 7,
   "id": "bdd4f79a",
   "metadata": {},
   "outputs": [],
   "source": [
    "import pyinputplus as pyip"
   ]
  },
  {
   "cell_type": "markdown",
   "id": "c7040088",
   "metadata": {},
   "source": [
    "=============================================================================================================="
   ]
  },
  {
   "cell_type": "markdown",
   "id": "a66c9242",
   "metadata": {},
   "source": [
    "### 2. Why is PyInputPlus commonly imported with import pyinputplus as pypi?\n",
    "\n",
    "In python we can set our own alias name to any library. But some alias names are commonly used conventions in Python by overall world. So it's better to use or follow the same alias names."
   ]
  },
  {
   "cell_type": "markdown",
   "id": "02fc524a",
   "metadata": {},
   "source": [
    "=============================================================================================================="
   ]
  },
  {
   "cell_type": "markdown",
   "id": "e1e4bc9f",
   "metadata": {},
   "source": [
    "### 3. How do you distinguish between inputInt() and inputFloat()?"
   ]
  },
  {
   "cell_type": "code",
   "execution_count": 20,
   "id": "02698f27",
   "metadata": {},
   "outputs": [
    {
     "name": "stdout",
     "output_type": "stream",
     "text": [
      "Please enter integer:- we\n",
      "'we' is not an integer.\n",
      "Please enter integer:- 3\n"
     ]
    },
    {
     "data": {
      "text/plain": [
       "3"
      ]
     },
     "execution_count": 20,
     "metadata": {},
     "output_type": "execute_result"
    }
   ],
   "source": [
    "import pyinputplus as pyip\n",
    "\n",
    "pyip.inputInt('Please enter integer:- ') # Asks again and again untill you enter int value"
   ]
  },
  {
   "cell_type": "code",
   "execution_count": 21,
   "id": "42a25a13",
   "metadata": {},
   "outputs": [
    {
     "name": "stdout",
     "output_type": "stream",
     "text": [
      "Please enter float value:- ca\n",
      "'ca' is not a float.\n",
      "Please enter float value:- 7.89\n"
     ]
    },
    {
     "data": {
      "text/plain": [
       "7.89"
      ]
     },
     "execution_count": 21,
     "metadata": {},
     "output_type": "execute_result"
    }
   ],
   "source": [
    "pyip.inputFloat('Please enter float value:- ')  #Asks again and again untill you enter float value:- "
   ]
  },
  {
   "cell_type": "markdown",
   "id": "ad747640",
   "metadata": {},
   "source": [
    "=============================================================================================================="
   ]
  },
  {
   "cell_type": "markdown",
   "id": "a55e8247",
   "metadata": {},
   "source": [
    "### 4. Using PyInputPlus, how do you ensure that the user enters a whole number between 0 and 99?"
   ]
  },
  {
   "cell_type": "code",
   "execution_count": 25,
   "id": "d838c432",
   "metadata": {},
   "outputs": [
    {
     "name": "stdout",
     "output_type": "stream",
     "text": [
      "Please enter a number between 0 to 99 :- 1313\n",
      "Number must be at maximum 99.\n",
      "Please enter a number between 0 to 99 :- 77\n"
     ]
    },
    {
     "data": {
      "text/plain": [
       "77"
      ]
     },
     "execution_count": 25,
     "metadata": {},
     "output_type": "execute_result"
    }
   ],
   "source": [
    "# Asks again and again untill you enter a number between 0 to 99.\n",
    "pyip.inputInt('Please enter a number between 0 to 99 :- ',min = 0, max = 99)"
   ]
  },
  {
   "cell_type": "markdown",
   "id": "421000e0",
   "metadata": {},
   "source": [
    "=============================================================================================================="
   ]
  },
  {
   "cell_type": "markdown",
   "id": "24b85ae7",
   "metadata": {},
   "source": [
    "### 5. What is transferred to the keyword arguments allowRegexes and blockRegexes?"
   ]
  },
  {
   "cell_type": "code",
   "execution_count": 26,
   "id": "bf92b9da",
   "metadata": {},
   "outputs": [
    {
     "name": "stdout",
     "output_type": "stream",
     "text": [
      "Enter a value: Books\n"
     ]
    }
   ],
   "source": [
    "import pyinputplus as pyip\n",
    "\n",
    "# Allow input values that start with 'A' or 'B'\n",
    "input_val = pyip.inputStr(\"Enter a value: \", allowRegexes=[r'^A', r'^B'])\n"
   ]
  },
  {
   "cell_type": "code",
   "execution_count": 27,
   "id": "42253fb6",
   "metadata": {},
   "outputs": [
    {
     "name": "stdout",
     "output_type": "stream",
     "text": [
      "Enter a value: i am a bad boy\n",
      "This response is invalid.\n",
      "Enter a value: nothing\n"
     ]
    }
   ],
   "source": [
    "import pyinputplus as pyip\n",
    "\n",
    "# Block input values that contain the word 'bad'\n",
    "input_val = pyip.inputStr(\"Enter a value: \", blockRegexes=[r'bad'])\n"
   ]
  },
  {
   "cell_type": "markdown",
   "id": "685a709a",
   "metadata": {},
   "source": [
    "=============================================================================================================="
   ]
  },
  {
   "cell_type": "markdown",
   "id": "b2537ea6",
   "metadata": {},
   "source": [
    "### 6. If a blank input is entered three times, what does inputStr(limit=3) do?"
   ]
  },
  {
   "cell_type": "code",
   "execution_count": 33,
   "id": "091e9d81",
   "metadata": {},
   "outputs": [],
   "source": [
    "pyip.inputStr(limit=3)   #RetryLimitException                       "
   ]
  },
  {
   "cell_type": "markdown",
   "id": "8591d2da",
   "metadata": {},
   "source": [
    "=============================================================================================================="
   ]
  },
  {
   "cell_type": "markdown",
   "id": "73d7584d",
   "metadata": {},
   "source": [
    "### 7. If blank input is entered three times, what does inputStr(limit=3, default=&#39;hello&#39;) do?"
   ]
  },
  {
   "cell_type": "code",
   "execution_count": 37,
   "id": "c77a767f",
   "metadata": {},
   "outputs": [
    {
     "name": "stdout",
     "output_type": "stream",
     "text": [
      "\n",
      "Blank values are not allowed.\n",
      "\n",
      "Blank values are not allowed.\n",
      "\n",
      "Blank values are not allowed.\n"
     ]
    },
    {
     "data": {
      "text/plain": [
       "'hello'"
      ]
     },
     "execution_count": 37,
     "metadata": {},
     "output_type": "execute_result"
    }
   ],
   "source": [
    "# If string is not given in 3 tries then it takes 'hello' by default.\n",
    "pyip.inputStr(limit=3,default='hello')"
   ]
  },
  {
   "cell_type": "markdown",
   "id": "78724f8d",
   "metadata": {},
   "source": [
    "=============================================================================================================="
   ]
  }
 ],
 "metadata": {
  "kernelspec": {
   "display_name": "Python 3",
   "language": "python",
   "name": "python3"
  },
  "language_info": {
   "codemirror_mode": {
    "name": "ipython",
    "version": 3
   },
   "file_extension": ".py",
   "mimetype": "text/x-python",
   "name": "python",
   "nbconvert_exporter": "python",
   "pygments_lexer": "ipython3",
   "version": "3.6.2"
  }
 },
 "nbformat": 4,
 "nbformat_minor": 5
}
