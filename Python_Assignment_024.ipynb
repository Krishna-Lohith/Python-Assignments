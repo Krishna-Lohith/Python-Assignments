{
 "cells": [
  {
   "cell_type": "markdown",
   "id": "2d0249a1",
   "metadata": {},
   "source": [
    "# Python_Assignment_024"
   ]
  },
  {
   "cell_type": "markdown",
   "id": "fff9e01c",
   "metadata": {},
   "source": [
    "**Topics covered:-**  \n",
    "functions  \n",
    "lambda functions  \n",
    "map  \n",
    "filter  \n",
    "reduce  \n",
    "annotations  \n",
    "recursive functions  "
   ]
  },
  {
   "cell_type": "markdown",
   "id": "3f5f3967",
   "metadata": {},
   "source": [
    "=============================================================================================================="
   ]
  },
  {
   "cell_type": "markdown",
   "id": "9f128736",
   "metadata": {},
   "source": [
    "## 1. What is the relationship between def statements and lambda expressions ?"
   ]
  },
  {
   "cell_type": "markdown",
   "id": "13afa551",
   "metadata": {},
   "source": [
    "A def statement is used to create a named function that can be called later with the given name. The syntax of a def statement is as follows:"
   ]
  },
  {
   "cell_type": "code",
   "execution_count": 4,
   "id": "0c5d570f",
   "metadata": {},
   "outputs": [],
   "source": [
    "def function_name(parameter1, parameter2,...):\n",
    "    return parameter1, parameter2, ..."
   ]
  },
  {
   "cell_type": "markdown",
   "id": "a2470270",
   "metadata": {},
   "source": [
    "On the other hand, a lambda expression is used to create an anonymous function that can be passed around as a variable. The syntax of a lambda expression is as follows:"
   ]
  },
  {
   "cell_type": "code",
   "execution_count": 6,
   "id": "fb8d4bfc",
   "metadata": {},
   "outputs": [],
   "source": [
    "lambda parameter1, parameter2, ... : expression"
   ]
  },
  {
   "cell_type": "markdown",
   "id": "3e883892",
   "metadata": {},
   "source": [
    "=============================================================================================================="
   ]
  },
  {
   "cell_type": "markdown",
   "id": "2de008a4",
   "metadata": {},
   "source": [
    "## 2. What is the benefit of lambda?"
   ]
  },
  {
   "cell_type": "markdown",
   "id": "a8057349",
   "metadata": {},
   "source": [
    "The primary benefit of using lambda expressions is that they allow us to create small, anonymous functions on the fly without the need for defining a separate function using the def keyword.\n",
    "\n",
    "Lambda functions are particularly useful for tasks that require simple one-liner functions that don't need to be called more than once. They also help in reducing the length of the code, making it more readable and concise.\n",
    "\n",
    "Furthermore, lambda expressions are often used as arguments for higher-order functions that take functions as input, such as map(), filter(), reduce(), etc."
   ]
  },
  {
   "cell_type": "markdown",
   "id": "72fe036e",
   "metadata": {},
   "source": [
    "=============================================================================================================="
   ]
  },
  {
   "cell_type": "markdown",
   "id": "e1d589b0",
   "metadata": {},
   "source": [
    "## 3. Compare and contrast map, filter, and reduce."
   ]
  },
  {
   "cell_type": "markdown",
   "id": "ff04a57f",
   "metadata": {},
   "source": [
    "map, filter, and reduce are built-in functions in Python that operate on iterables such as lists, tuples, or sets.\n",
    "\n",
    "map applies a function to each element of an iterable and returns a new iterable containing the result. The syntax for map is map(function, iterable). For example, list(map(lambda x: x**2, [1, 2, 3])) will return [1, 4, 9].\n",
    "\n",
    "filter returns a new iterable containing the elements of an iterable for which a given function returns True. The syntax for filter is filter(function, iterable). For example, list(filter(lambda x: x % 2 == 0, [1, 2, 3, 4, 5])) will return [2, 4].\n",
    "\n",
    "reduce applies a function to the first two elements of an iterable, then applies the same function to the result and the next element, and so on, until all elements have been processed, resulting in a single value. The syntax for reduce is reduce(function, iterable). For example, reduce(lambda x, y: x + y, [1, 2, 3, 4, 5]) will return 15.\n",
    "\n",
    "The main difference between map and filter is that map applies a function to each element and returns the result, while filter applies a function to each element and returns only the elements for which the function returns True. reduce, on the other hand, applies a function to all elements of an iterable and returns a single value.\n",
    "\n",
    "In summary, map and filter are used to transform and filter iterables, respectively, while reduce is used to reduce an iterable to a single value."
   ]
  },
  {
   "cell_type": "code",
   "execution_count": 8,
   "id": "1816a270",
   "metadata": {},
   "outputs": [
    {
     "name": "stdout",
     "output_type": "stream",
     "text": [
      "[2, 4, 6, 8]\n"
     ]
    }
   ],
   "source": [
    "# map\n",
    "# Double each number in a list\n",
    "numbers = [1, 2, 3, 4]\n",
    "doubles = map(lambda x: x * 2, numbers)\n",
    "print(list(doubles))  # Output: [2, 4, 6, 8]\n"
   ]
  },
  {
   "cell_type": "code",
   "execution_count": 9,
   "id": "a7b137bb",
   "metadata": {},
   "outputs": [
    {
     "name": "stdout",
     "output_type": "stream",
     "text": [
      "[1, 3]\n"
     ]
    }
   ],
   "source": [
    "# Filter\n",
    "\n",
    "# Filter out even numbers from a list\n",
    "numbers = [1, 2, 3, 4]\n",
    "odds = filter(lambda x: x % 2 != 0, numbers)\n",
    "print(list(odds))  # Output: [1, 3]\n"
   ]
  },
  {
   "cell_type": "code",
   "execution_count": 10,
   "id": "9e6e4c49",
   "metadata": {},
   "outputs": [
    {
     "name": "stdout",
     "output_type": "stream",
     "text": [
      "24\n"
     ]
    }
   ],
   "source": [
    "# Reduce\n",
    "# Calculate the product of a list of numbers\n",
    "import functools\n",
    "numbers = [1, 2, 3, 4]\n",
    "product = functools.reduce(lambda x, y: x * y, numbers)\n",
    "print(product)  # Output: 24\n"
   ]
  },
  {
   "cell_type": "markdown",
   "id": "559e3214",
   "metadata": {},
   "source": [
    "=============================================================================================================="
   ]
  },
  {
   "cell_type": "markdown",
   "id": "8634d5df",
   "metadata": {},
   "source": [
    "## 4. What are function annotations, and how are they used?"
   ]
  },
  {
   "cell_type": "markdown",
   "id": "cd6dbe4a",
   "metadata": {},
   "source": [
    "Function annotations are a feature in Python that allows you to attach metadata to the parameters and return values of a function. The syntax for function annotations involves adding a colon after the parameter name, followed by the type of the parameter or return value. For example:"
   ]
  },
  {
   "cell_type": "code",
   "execution_count": 11,
   "id": "8f5ad513",
   "metadata": {},
   "outputs": [],
   "source": [
    "def my_function(x: int, y: str) -> float:\n",
    "    return 3.14\n",
    "\n",
    "my_function()  # Press shift + tab inside ()"
   ]
  },
  {
   "cell_type": "markdown",
   "id": "66aaad00",
   "metadata": {},
   "source": [
    "In this example, x is annotated as an int, y is annotated as a str, and the return value is annotated as a float.\n",
    "\n",
    "Function annotations can be used for documentation purposes, to make it clear what types of values a function expects and returns. They can also be used by external tools or libraries for type checking or code analysis.\n",
    "\n",
    "It's important to note that function annotations are not enforced by the Python interpreter, and they do not change the behavior of the function in any way. They are simply a way to provide additional information about the function's interface.\n",
    "\n",
    "\n",
    "\n",
    "\n"
   ]
  },
  {
   "cell_type": "markdown",
   "id": "b339b526",
   "metadata": {},
   "source": [
    "=============================================================================================================="
   ]
  },
  {
   "cell_type": "markdown",
   "id": "f873f670",
   "metadata": {},
   "source": [
    "## 5. What are recursive functions, and how are they used?"
   ]
  },
  {
   "cell_type": "markdown",
   "id": "76d934b5",
   "metadata": {},
   "source": [
    "Recursive functions are functions that call themselves within their own definition. In other words, a recursive function is a function that solves a problem by reducing it to one or more smaller instances of the same problem.\n",
    "\n",
    "Recursive functions are often used in programming to solve problems that have a recursive structure, such as searching through a hierarchical data structure like a tree or graph. They can also be used for solving problems that can be easily broken down into smaller subproblems, such as sorting algorithms or mathematical functions like the Fibonacci sequence.\n",
    "\n",
    "Recursive functions are particularly useful when the problem being solved has a well-defined base case that can be solved without recursion, and when the recursive calls eventually converge towards the base case.\n",
    "\n",
    "For example, consider the problem of computing the factorial of a positive integer n. The factorial of n, denoted as n!, is defined as the product of all positive integers up to and including n. We can define the factorial function recursively as follows:"
   ]
  },
  {
   "cell_type": "code",
   "execution_count": 12,
   "id": "58c7fb31",
   "metadata": {},
   "outputs": [],
   "source": [
    "def factorial(n):\n",
    "    if n == 0:\n",
    "        return 1\n",
    "    else:\n",
    "        return n * factorial(n-1)\n"
   ]
  },
  {
   "cell_type": "markdown",
   "id": "a672c2f6",
   "metadata": {},
   "source": [
    "In this definition, we first check if the input value n is equal to 0. If it is, we return 1, which is the base case of the recursion. Otherwise, we compute the product of n and the factorial of n-1, which is a smaller instance of the same problem. This recursive call will eventually converge towards the base case of n=0, at which point the function will start returning values back up the call stack until it returns the final result.\n",
    "\n",
    "Recursive functions can be a powerful tool for solving complex problems in a concise and elegant way, but they can also be prone to performance issues if not implemented carefully. As each recursive call creates a new stack frame on the call stack, deeply nested recursive calls can quickly consume a large amount of memory, leading to stack overflow errors. To avoid this, it is important to design recursive functions in a way that minimizes the number of recursive calls needed and ensures that each recursive call eventually reaches the base case."
   ]
  },
  {
   "cell_type": "markdown",
   "id": "03efe754",
   "metadata": {},
   "source": [
    "=============================================================================================================="
   ]
  },
  {
   "cell_type": "markdown",
   "id": "1b86f63a",
   "metadata": {},
   "source": [
    "## 6. What are some general design guidelines for coding functions?"
   ]
  },
  {
   "cell_type": "markdown",
   "id": "a7639da3",
   "metadata": {},
   "source": [
    "Coding functions is a fundamental part of programming, and it's important to follow certain design guidelines to ensure that your functions are well-structured, maintainable, and reusable. Here are some general design guidelines to consider when coding functions:\n",
    "\n",
    "Follow the Single Responsibility Principle (SRP): A function should have a clear and singular purpose. It should do one thing, and do it well. If a function is responsible for too many things, it can become difficult to understand and maintain.\n",
    "\n",
    "Keep functions small: Small functions are easier to read, understand, and test. They also tend to be more reusable, as they can be composed together to solve larger problems. Aim for functions that are no more than 20-30 lines long, although this can vary depending on the complexity of the function.\n",
    "\n",
    "Use meaningful and descriptive names: Functions should have names that clearly communicate their purpose and functionality. Avoid using names that are too generic or too specific. A good function name should describe what the function does, not how it does it.\n",
    "\n",
    "Use comments and docstrings: Comments and docstrings can help explain the purpose, inputs, and outputs of a function. They can also help other developers understand how to use and interact with your code.\n",
    "\n",
    "Use input validation: Validate the input parameters to your function to ensure they are of the correct type and within acceptable ranges. This can help prevent unexpected errors and improve the robustness of your code.\n",
    "\n",
    "Minimize side effects: A function should ideally have no side effects, which means that it does not modify any external state or variables. This can help prevent unintended consequences and make your code easier to reason about.\n",
    "\n",
    "Don't repeat yourself (DRY): Avoid duplicating code within and across functions. Instead, use abstraction and modularization to reuse code and reduce redundancy.\n",
    "\n",
    "Test thoroughly: Test your functions thoroughly to ensure they work as expected in all possible scenarios. This can help prevent bugs and ensure the reliability of your code.\n",
    "\n",
    "By following these general design guidelines, you can create functions that are clear, reusable, and maintainable, making your code more robust and easier to work with over time."
   ]
  },
  {
   "cell_type": "markdown",
   "id": "0a595829",
   "metadata": {},
   "source": [
    "=============================================================================================================="
   ]
  },
  {
   "cell_type": "markdown",
   "id": "894d1c91",
   "metadata": {},
   "source": [
    "## 7. Name three or more ways that functions can communicate results to a caller."
   ]
  },
  {
   "cell_type": "markdown",
   "id": "b275e8cb",
   "metadata": {},
   "source": [
    "Functions can communicate results to a caller in various ways. Some of the most common ways are:\n",
    "\n",
    "Return value: A function can return a value to the caller using the return statement. The returned value can be a primitive data type (such as a number or a string), a compound data type (such as a list or a dictionary), or even another function.\n",
    "\n",
    "Output parameter: A function can modify the value of an output parameter passed by reference. This is often used when a function needs to return multiple values or when the return value alone is not sufficient to communicate the result to the caller.\n",
    "\n",
    "Side effect: A function can modify the state of a global variable or object that is visible to the caller. However, this approach should be used with caution, as it can make the code harder to reason about and may cause unintended consequences.\n",
    "\n",
    "Exception: A function can raise an exception to indicate an error or exceptional condition. The caller can then catch the exception and take appropriate action.\n",
    "\n",
    "Callback: A function can take another function (known as a callback) as an argument and call it to communicate a result. This approach is often used in event-driven programming, where the callback function is called when a certain event occurs.\n",
    "\n",
    "By using one or more of these techniques, functions can communicate results to their callers in a variety of ways, allowing for greater flexibility and control over how data is passed between functions."
   ]
  },
  {
   "cell_type": "markdown",
   "id": "e5549e72",
   "metadata": {},
   "source": [
    "=============================================================================================================="
   ]
  }
 ],
 "metadata": {
  "kernelspec": {
   "display_name": "Python 3",
   "language": "python",
   "name": "python3"
  },
  "language_info": {
   "codemirror_mode": {
    "name": "ipython",
    "version": 3
   },
   "file_extension": ".py",
   "mimetype": "text/x-python",
   "name": "python",
   "nbconvert_exporter": "python",
   "pygments_lexer": "ipython3",
   "version": "3.6.2"
  }
 },
 "nbformat": 4,
 "nbformat_minor": 5
}
