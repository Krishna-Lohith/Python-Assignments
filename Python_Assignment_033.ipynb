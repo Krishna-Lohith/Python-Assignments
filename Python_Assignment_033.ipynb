{
 "cells": [
  {
   "cell_type": "markdown",
   "id": "a5e03715",
   "metadata": {},
   "source": [
    "# Python_Assignment_033"
   ]
  },
  {
   "cell_type": "markdown",
   "id": "e7c736b9",
   "metadata": {},
   "source": [
    "**Topics covered:-**  \n",
    "user-defined exceptions  \n",
    "class based exceptions    \n",
    "traceback  "
   ]
  },
  {
   "cell_type": "markdown",
   "id": "2978ddf1",
   "metadata": {},
   "source": [
    "=============================================================================================================="
   ]
  },
  {
   "cell_type": "markdown",
   "id": "d90344cc",
   "metadata": {},
   "source": [
    "## Q1. What are the two latest user-defined exception constraints in Python 3.X?"
   ]
  },
  {
   "cell_type": "markdown",
   "id": "94f3a3fa",
   "metadata": {},
   "source": [
    "In Python 3.x, the two latest user-defined exception constraints are:\n",
    "\n",
    "1. **Exception Chaining:** This allows exceptions to propagate through multiple layers of a program without losing information about their origins. When one exception is caught and another is raised in response, the new exception can now store the original exception as its __cause__ attribute. This makes it easier to debug and diagnose issues that occur during program execution.\n",
    "\n",
    "2. **Exception Context:** This allows additional information to be included in an exception to provide more context about what went wrong. When raising an exception, it's now possible to include an optional context parameter that provides additional information about the cause of the exception. This context information can be accessed from the exception object's __context__ attribute. This feature makes it easier to diagnose issues by providing more detailed information about what caused the exception to occur."
   ]
  },
  {
   "cell_type": "markdown",
   "id": "0af2f6a3",
   "metadata": {},
   "source": [
    "=============================================================================================================="
   ]
  },
  {
   "cell_type": "markdown",
   "id": "34bd78ee",
   "metadata": {},
   "source": [
    "## Q2. How are class-based exceptions that have been raised matched to handlers?"
   ]
  },
  {
   "cell_type": "markdown",
   "id": "abc5c73b",
   "metadata": {},
   "source": [
    "In Python, when an exception is raised, the interpreter looks for a suitable exception handler to handle the exception. The search for a suitable exception handler is based on the exception class hierarchy.\n",
    "\n",
    "When a class-based exception is raised, the interpreter first looks for an exception handler that directly matches the exception class. If a handler is found, it is used to handle the exception.\n",
    "\n",
    "If no handler directly matches the exception class, the interpreter looks for a handler that matches a superclass of the exception class. This process continues up the exception class hierarchy until a matching handler is found, or until the root exception class BaseException is reached.\n",
    "\n",
    "If no handler is found for the exception, the interpreter terminates the program and prints a stack trace of the exception.\n",
    "\n",
    "It's important to note that exception handlers are not limited to the except statement; they can also be defined in a finally block, which is executed regardless of whether an exception was raised or not. Additionally, exception handlers can be defined as methods of a class, allowing for more complex exception handling logic."
   ]
  },
  {
   "cell_type": "markdown",
   "id": "e5b9b392",
   "metadata": {},
   "source": [
    "=============================================================================================================="
   ]
  },
  {
   "cell_type": "markdown",
   "id": "417497d9",
   "metadata": {},
   "source": [
    "## Q3. Describe two methods for attaching context information to exception artefacts."
   ]
  },
  {
   "cell_type": "markdown",
   "id": "6d778604",
   "metadata": {},
   "source": [
    "In Python, it is possible to attach context information to exception artifacts, such as exceptions or traceback objects. This context information can be helpful in understanding the circumstances that led to the exception being raised. Here are two methods for attaching context information to exception artifacts:\n",
    "\n",
    "**Using the with_traceback() method:** This method is available on exceptions and allows you to attach a traceback object to the exception. The traceback object can contain additional context information, such as the file name and line number where the exception was raised, or any additional data that may be helpful in diagnosing the problem.\n",
    "Here's an example of using the with_traceback() method to attach a traceback object to an exception:"
   ]
  },
  {
   "cell_type": "code",
   "execution_count": null,
   "id": "98a407bd",
   "metadata": {},
   "outputs": [],
   "source": [
    "import traceback\n",
    "\n",
    "try:\n",
    "    # Some code that may raise an exception\n",
    "except Exception as e:\n",
    "    # Attach additional context information to the exception\n",
    "    tb = traceback.format_exc()\n",
    "    raise Exception('An error occurred') from e.with_traceback(tb)"
   ]
  },
  {
   "cell_type": "markdown",
   "id": "208d9fdd",
   "metadata": {},
   "source": [
    "In this example, the traceback.format_exc() function is used to create a traceback object, which is then attached to the original exception using the with_traceback() method. The from keyword is used to indicate that the new exception is being raised as a consequence of the original exception.\n",
    "\n",
    "Using custom exception classes: Another way to attach context information to exceptions is to define custom exception classes that contain the additional information. For example, you could define an HTTPError exception that contains the status code and response text from an HTTP request.\n",
    "Here's an example of using a custom exception class to attach context information to an exception:"
   ]
  },
  {
   "cell_type": "code",
   "execution_count": null,
   "id": "eb15ec71",
   "metadata": {},
   "outputs": [],
   "source": [
    "class HTTPError(Exception):\n",
    "    def __init__(self, status_code, response_text):\n",
    "        self.status_code = status_code\n",
    "        self.response_text = response_text\n",
    "        super().__init__(f'HTTP Error: {status_code} {response_text}')\n",
    "\n",
    "try:\n",
    "    # Some code that may raise an HTTPError exception\n",
    "except HTTPError as e:\n",
    "    # Access additional context information from the exception\n",
    "    print(f'Status code: {e.status_code}')\n",
    "    print(f'Response text: {e.response_text}')\n"
   ]
  },
  {
   "cell_type": "markdown",
   "id": "6483e19b",
   "metadata": {},
   "source": [
    "In this example, the HTTPError exception class contains two instance variables (status_code and response_text) that store the additional context information. When an HTTPError exception is raised, the instance variables can be accessed to provide more information about the error."
   ]
  },
  {
   "cell_type": "markdown",
   "id": "09b47785",
   "metadata": {},
   "source": [
    "=============================================================================================================="
   ]
  },
  {
   "cell_type": "markdown",
   "id": "a223b315",
   "metadata": {},
   "source": [
    "## Q4. Describe two methods for specifying the text of an exception object&#39;s error message."
   ]
  },
  {
   "cell_type": "markdown",
   "id": "3f29ac15",
   "metadata": {},
   "source": [
    "In Python, there are a few ways to specify the text of an exception object's error message:\n",
    "\n",
    "1. **Passing a string argument to the exception constructor:** When you raise an exception, you can pass a string argument to the exception constructor to specify the error message.  \n",
    "For example:"
   ]
  },
  {
   "cell_type": "code",
   "execution_count": null,
   "id": "6498cb6f",
   "metadata": {},
   "outputs": [],
   "source": [
    "raise ValueError(\"Invalid argument\")"
   ]
  },
  {
   "cell_type": "markdown",
   "id": "fc28729a",
   "metadata": {},
   "source": [
    "2. **Using string formatting:** You can use string formatting to construct the error message dynamically. For example:"
   ]
  },
  {
   "cell_type": "code",
   "execution_count": null,
   "id": "4d94bd13",
   "metadata": {},
   "outputs": [],
   "source": [
    "x = 42\n",
    "y = 0\n",
    "raise ZeroDivisionError(\"Cannot divide {} by {}\".format(x, y))"
   ]
  },
  {
   "cell_type": "markdown",
   "id": "30d5ed79",
   "metadata": {},
   "source": [
    "Both of these methods allow you to customize the error message to provide more information about what went wrong."
   ]
  },
  {
   "cell_type": "markdown",
   "id": "08e17d34",
   "metadata": {},
   "source": [
    "=============================================================================================================="
   ]
  },
  {
   "cell_type": "markdown",
   "id": "ec844798",
   "metadata": {},
   "source": [
    "## Q5. Why do you no longer use string-based exceptions?"
   ]
  },
  {
   "cell_type": "markdown",
   "id": "2ec5b67d",
   "metadata": {},
   "source": [
    "In earlier versions of Python (2.x), it was possible to raise exceptions using strings as the exception type, like this:"
   ]
  },
  {
   "cell_type": "code",
   "execution_count": null,
   "id": "0aa2f7d2",
   "metadata": {},
   "outputs": [],
   "source": [
    "raise \"MyException\", \"Something went wrong\""
   ]
  },
  {
   "cell_type": "markdown",
   "id": "90dcb212",
   "metadata": {},
   "source": [
    "This approach was deprecated in Python 2.6 and removed in Python 3, in favor of using classes to define exceptions.\n",
    "\n",
    "The main reason for this change is that using classes for exceptions provides a more structured and flexible way of handling errors. With class-based exceptions, you can define hierarchies of exceptions and catch exceptions at different levels of the hierarchy, depending on the context of the error. This allows you to write more expressive and maintainable code that can handle a wider range of error conditions.\n",
    "\n",
    "Additionally, using classes for exceptions provides a more consistent and intuitive API for working with exceptions in Python, which makes it easier for developers to understand and work with exception objects."
   ]
  },
  {
   "cell_type": "markdown",
   "id": "a47551f6",
   "metadata": {},
   "source": [
    "=============================================================================================================="
   ]
  }
 ],
 "metadata": {
  "kernelspec": {
   "display_name": "Python 3",
   "language": "python",
   "name": "python3"
  },
  "language_info": {
   "codemirror_mode": {
    "name": "ipython",
    "version": 3
   },
   "file_extension": ".py",
   "mimetype": "text/x-python",
   "name": "python",
   "nbconvert_exporter": "python",
   "pygments_lexer": "ipython3",
   "version": "3.6.2"
  }
 },
 "nbformat": 4,
 "nbformat_minor": 5
}
