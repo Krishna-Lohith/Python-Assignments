{
 "cells": [
  {
   "cell_type": "markdown",
   "id": "143fee22",
   "metadata": {},
   "source": [
    "# Python Assignment_001"
   ]
  },
  {
   "cell_type": "markdown",
   "id": "b436b845",
   "metadata": {},
   "source": [
    "Concepts used:-    \n",
    "strings  \n",
    "variables  "
   ]
  },
  {
   "cell_type": "markdown",
   "id": "a45c6550",
   "metadata": {},
   "source": [
    "=============================================================================================================="
   ]
  },
  {
   "cell_type": "markdown",
   "id": "d61bf75e",
   "metadata": {},
   "source": [
    "### 1. In the below elements which of them are values or an expression? eg:- values can be integer or string and expressions will be mathematical operators."
   ]
  },
  {
   "cell_type": "markdown",
   "id": "62cbbe4d",
   "metadata": {},
   "source": [
    "*   - Expression  \n",
    "'hello' - Value  \n",
    "-87.8 - Value  \n",
    "-  - Expression  \n",
    "/ - Expression  \n",
    "+ - Expression  \n",
    "6 - Value  "
   ]
  },
  {
   "cell_type": "markdown",
   "id": "190b3179",
   "metadata": {},
   "source": [
    "=============================================================================================================="
   ]
  },
  {
   "cell_type": "markdown",
   "id": "54a02592",
   "metadata": {},
   "source": [
    "### 2. What is the difference between string and variable?\n",
    "\n",
    "**String** :- String is a word or collection of words or sentence which denoted by \"\" (OR) '' in python. Eg:- Krishna  \n",
    "When we define an integer or float with \"\" or '' then the value becomes a string eg:- \"777\"\n",
    "\n",
    "**Variable** :- Variable is nothing but an object which stores a value or string which we defined. So that we can call the object anytime we need. "
   ]
  },
  {
   "cell_type": "code",
   "execution_count": 7,
   "id": "6df8a52d",
   "metadata": {},
   "outputs": [
    {
     "data": {
      "text/plain": [
       "'krishna lohith'"
      ]
     },
     "execution_count": 7,
     "metadata": {},
     "output_type": "execute_result"
    }
   ],
   "source": [
    "s = 'krishna lohith'\n",
    "s\n",
    "\n",
    "# Here 'Krishna lohith' is a string.\n",
    "# s is an object."
   ]
  },
  {
   "cell_type": "markdown",
   "id": "80afbdf3",
   "metadata": {},
   "source": [
    "=============================================================================================================="
   ]
  },
  {
   "cell_type": "markdown",
   "id": "13f4a6ad",
   "metadata": {},
   "source": [
    "### 3.Describe three different data types.\n",
    "\n",
    "Integer - numbers like 1,2,3,4.....  \n",
    "Float - Decimal values like 2.3445,0.133 etc...   \n",
    "String - Characters like name, is,that....    "
   ]
  },
  {
   "cell_type": "code",
   "execution_count": 4,
   "id": "ab95ad6d",
   "metadata": {},
   "outputs": [
    {
     "data": {
      "text/plain": [
       "''"
      ]
     },
     "execution_count": 4,
     "metadata": {},
     "output_type": "execute_result"
    }
   ],
   "source": [
    "int()\n",
    "float()\n",
    "str()"
   ]
  },
  {
   "cell_type": "markdown",
   "id": "cd1cd0f4",
   "metadata": {},
   "source": [
    "=============================================================================================================="
   ]
  },
  {
   "cell_type": "markdown",
   "id": "24a3a760",
   "metadata": {},
   "source": [
    "### 4. What is an expression made up of? What do all expressions do?\n",
    "\n",
    "An Expression is a mathemetical operator which deals with integers, floats to give an output   \n",
    "All expressions can perform according to the mathematical equation like +,-,*,% etc....."
   ]
  },
  {
   "cell_type": "markdown",
   "id": "db501794",
   "metadata": {},
   "source": [
    "=============================================================================================================="
   ]
  },
  {
   "cell_type": "markdown",
   "id": "e18fd1ba",
   "metadata": {},
   "source": [
    "### 5. This assignment statements, like spam = 10. What is the difference between a expression and a statement?\n",
    "\n",
    "spam = 10      # variable = value    \n",
    "Here we are saying that 10 has to be stored in a variable which is spam so this is a statement.  \n",
    "Expression does a mathematical operation Eg:- Spam = 10 + 5"
   ]
  },
  {
   "cell_type": "markdown",
   "id": "9f714d6e",
   "metadata": {},
   "source": [
    "=============================================================================================================="
   ]
  },
  {
   "cell_type": "markdown",
   "id": "01abc252",
   "metadata": {},
   "source": [
    "### 6. After running the following code, what does the variable bacon contain?  "
   ]
  },
  {
   "cell_type": "code",
   "execution_count": 9,
   "id": "02962fab",
   "metadata": {},
   "outputs": [
    {
     "data": {
      "text/plain": [
       "23"
      ]
     },
     "execution_count": 9,
     "metadata": {},
     "output_type": "execute_result"
    }
   ],
   "source": [
    "bacon = 22  \n",
    "bacon + 1  "
   ]
  },
  {
   "cell_type": "markdown",
   "id": "a30f4dc4",
   "metadata": {},
   "source": [
    "=============================================================================================================="
   ]
  },
  {
   "cell_type": "markdown",
   "id": "48211e3c",
   "metadata": {},
   "source": [
    "### 7. What should the values of the following two terms be?    "
   ]
  },
  {
   "cell_type": "code",
   "execution_count": 12,
   "id": "26add8ca",
   "metadata": {},
   "outputs": [
    {
     "name": "stdout",
     "output_type": "stream",
     "text": [
      "spamspamspam\n",
      "spamspamspam\n"
     ]
    }
   ],
   "source": [
    "a = 'spam' + 'spamspam'  \n",
    "print(a)\n",
    "b = 'spam' * 3\n",
    "print(b)\n",
    "\n",
    "#both gives same result"
   ]
  },
  {
   "cell_type": "markdown",
   "id": "081a2869",
   "metadata": {},
   "source": [
    "=============================================================================================================="
   ]
  },
  {
   "cell_type": "markdown",
   "id": "2dc7e1fe",
   "metadata": {},
   "source": [
    "### 8. Why is eggs a valid variable name while 100 is invalid?  \n",
    "Variable names cannot start with a number but it can have a number in between or end."
   ]
  },
  {
   "cell_type": "code",
   "execution_count": 17,
   "id": "b8dbec04",
   "metadata": {},
   "outputs": [],
   "source": [
    "#100name = 77  # error\n",
    "name100 = 77\n",
    "name100name = 77"
   ]
  },
  {
   "cell_type": "markdown",
   "id": "2263fd00",
   "metadata": {},
   "source": [
    "=============================================================================================================="
   ]
  },
  {
   "cell_type": "markdown",
   "id": "428b48bb",
   "metadata": {},
   "source": [
    "### 9. What three functions can be used to get the integer, floating-point number, or string version of a value?  "
   ]
  },
  {
   "cell_type": "code",
   "execution_count": 18,
   "id": "bc717422",
   "metadata": {},
   "outputs": [
    {
     "data": {
      "text/plain": [
       "''"
      ]
     },
     "execution_count": 18,
     "metadata": {},
     "output_type": "execute_result"
    }
   ],
   "source": [
    "int()\n",
    "float()\n",
    "str()"
   ]
  },
  {
   "cell_type": "markdown",
   "id": "60af1537",
   "metadata": {},
   "source": [
    "=============================================================================================================="
   ]
  },
  {
   "cell_type": "markdown",
   "id": "62196b19",
   "metadata": {},
   "source": [
    "### 10. Why does this expression cause an error? How can you fix it?  \n",
    "'I have eaten ' + 99 + ' burritos.'  \n",
    "Ans:- Beacuse 99 was an integer we have to make the 99 as a string by giving \"\" or '' . strings doesn't add with integers or floats."
   ]
  },
  {
   "cell_type": "code",
   "execution_count": 3,
   "id": "820813a5",
   "metadata": {},
   "outputs": [
    {
     "data": {
      "text/plain": [
       "'I have eaten 99 burritos.'"
      ]
     },
     "execution_count": 3,
     "metadata": {},
     "output_type": "execute_result"
    }
   ],
   "source": [
    "'I have eaten ' + '99' + ' burritos.' "
   ]
  },
  {
   "cell_type": "markdown",
   "id": "ba9b36c9",
   "metadata": {},
   "source": [
    "=============================================================================================================="
   ]
  }
 ],
 "metadata": {
  "kernelspec": {
   "display_name": "Python 3",
   "language": "python",
   "name": "python3"
  },
  "language_info": {
   "codemirror_mode": {
    "name": "ipython",
    "version": 3
   },
   "file_extension": ".py",
   "mimetype": "text/x-python",
   "name": "python",
   "nbconvert_exporter": "python",
   "pygments_lexer": "ipython3",
   "version": "3.6.2"
  }
 },
 "nbformat": 4,
 "nbformat_minor": 5
}
