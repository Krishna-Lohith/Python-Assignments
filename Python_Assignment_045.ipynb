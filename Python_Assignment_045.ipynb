{
 "cells": [
  {
   "cell_type": "markdown",
   "id": "932caa77",
   "metadata": {},
   "source": [
    "### Python_Assignment_045  "
   ]
  },
  {
   "cell_type": "markdown",
   "id": "b6b2d3df",
   "metadata": {},
   "source": [
    "**Topics covered:-**  \n",
    "Decimal    \n",
    "Fractions  "
   ]
  },
  {
   "cell_type": "markdown",
   "id": "f1b59dbf",
   "metadata": {},
   "source": [
    "=============================================================================================================="
   ]
  },
  {
   "cell_type": "markdown",
   "id": "4043cab7",
   "metadata": {},
   "source": [
    "## 1. Compare and contrast the float and Decimal classes&#39; benefits and drawbacks."
   ]
  },
  {
   "cell_type": "markdown",
   "id": "0c0ba92b",
   "metadata": {},
   "source": [
    "Both the float and Decimal classes in Python are used for representing and manipulating floating-point numbers, but they have some differences in terms of their benefits and drawbacks.\n",
    "\n",
    "The float class is a built-in data type in Python that is used to represent floating-point numbers with single precision. It is faster and consumes less memory than the Decimal class. However, it has limited precision and can cause rounding errors when working with large or small numbers. The float class also has a binary representation, which can cause some confusion when working with decimal values.\n",
    "\n",
    "On the other hand, the Decimal class is a part of the decimal module in Python and is used to represent floating-point numbers with arbitrary precision. It is slower and consumes more memory than the float class, but it provides greater precision and avoids rounding errors. The Decimal class also has a decimal representation, which makes it more suitable for financial calculations or other applications where accuracy is crucial.\n",
    "\n",
    "In summary, the float class is suitable for general-purpose computations where high precision is not required and speed is important, while the Decimal class is suitable for applications that require exact decimal representation and accurate calculations."
   ]
  },
  {
   "cell_type": "markdown",
   "id": "389e48ca",
   "metadata": {},
   "source": [
    "=============================================================================================================="
   ]
  },
  {
   "cell_type": "markdown",
   "id": "28a15d5e",
   "metadata": {},
   "source": [
    "### 2. Decimal(&#39;1.200&#39;) and Decimal(&#39;1.2&#39;) are two objects to consider. In what sense are these the same object? Are these just two ways of representing the exact same value, or do they correspond to different internal states?"
   ]
  },
  {
   "cell_type": "markdown",
   "id": "b8785ee7",
   "metadata": {},
   "source": [
    "In Python's Decimal class, Decimal('1.200') and Decimal('1.2') are not the same object, but they represent the same value. This is because Decimal objects compare their values, not their string representations. When constructing Decimal objects from strings, trailing zeros in the fractional part of the number are preserved, so Decimal('1.200') and Decimal('1.2') are two different string representations that both represent the same value.\n",
    "\n",
    "To demonstrate this, we can compare the equality of Decimal('1.200') and Decimal('1.2') using the == operator:"
   ]
  },
  {
   "cell_type": "code",
   "execution_count": 9,
   "id": "3af58fbf",
   "metadata": {},
   "outputs": [
    {
     "data": {
      "text/plain": [
       "True"
      ]
     },
     "execution_count": 9,
     "metadata": {},
     "output_type": "execute_result"
    }
   ],
   "source": [
    "from decimal import Decimal\n",
    "Decimal('1.200') == Decimal('1.2')\n",
    "\n",
    "# The expression Decimal('1.200') == Decimal('1.2') returns True.\n",
    "#indicating that the two Decimal objects represent the same value."
   ]
  },
  {
   "cell_type": "markdown",
   "id": "377362ee",
   "metadata": {},
   "source": [
    "=============================================================================================================="
   ]
  },
  {
   "cell_type": "markdown",
   "id": "81bcb3d5",
   "metadata": {},
   "source": [
    "## 3. What happens if the equality of Decimal(&#39;1.200&#39;) and Decimal(&#39;1.2&#39;) is checked?"
   ]
  },
  {
   "cell_type": "markdown",
   "id": "623d64c7",
   "metadata": {},
   "source": [
    "If the equality of Decimal('1.200') and Decimal('1.2') is checked using the == operator, the result will be False. This is because the two decimal objects have different string representations, even though they represent the same mathematical value.\n",
    "\n",
    "To compare the mathematical equality of decimal objects, the compare() method should be used instead of the == operator. For example, Decimal('1.200').compare(Decimal('1.2')) would return 0, indicating that the two objects are mathematically equal."
   ]
  },
  {
   "cell_type": "code",
   "execution_count": 10,
   "id": "2db9598f",
   "metadata": {},
   "outputs": [
    {
     "data": {
      "text/plain": [
       "Decimal('0')"
      ]
     },
     "execution_count": 10,
     "metadata": {},
     "output_type": "execute_result"
    }
   ],
   "source": [
    "Decimal('1.200').compare(Decimal('1.2'))"
   ]
  },
  {
   "cell_type": "markdown",
   "id": "a3bc8a3f",
   "metadata": {},
   "source": [
    "=============================================================================================================="
   ]
  },
  {
   "cell_type": "markdown",
   "id": "1b948aef",
   "metadata": {},
   "source": [
    "## 4. Why is it preferable to start a Decimal object with a string rather than a floating-point value?"
   ]
  },
  {
   "cell_type": "markdown",
   "id": "6b42186b",
   "metadata": {},
   "source": [
    "It is preferable to start a Decimal object with a string rather than a floating-point value because floating-point values can sometimes be imprecise due to the way they are stored in binary format. For example, 0.1 cannot be represented exactly in binary and therefore may be rounded when converted to a floating-point value. This can lead to unexpected results in calculations involving floating-point values. In contrast, starting with a string allows the Decimal object to represent the exact value without any loss of precision."
   ]
  },
  {
   "cell_type": "markdown",
   "id": "8c427a56",
   "metadata": {},
   "source": [
    "=============================================================================================================="
   ]
  },
  {
   "cell_type": "markdown",
   "id": "3c992d2e",
   "metadata": {},
   "source": [
    "## 5. In an arithmetic phrase, how simple is it to combine Decimal objects with integers?"
   ]
  },
  {
   "cell_type": "markdown",
   "id": "b53e8463",
   "metadata": {},
   "source": [
    "It is very simple to combine Decimal objects with integers in an arithmetic phrase. Decimal objects can be added, subtracted, multiplied, and divided with integers using the standard arithmetic operators (+, -, *, /). When an integer is combined with a Decimal object, the integer is automatically converted to a Decimal object with the same precision as the other operand. For example:"
   ]
  },
  {
   "cell_type": "code",
   "execution_count": 11,
   "id": "52b34c8c",
   "metadata": {},
   "outputs": [
    {
     "name": "stdout",
     "output_type": "stream",
     "text": [
      "15.5\n",
      "52.5\n"
     ]
    }
   ],
   "source": [
    "from decimal import Decimal\n",
    "\n",
    "x = Decimal('10.5')\n",
    "y = 5\n",
    "\n",
    "# combining Decimal and integer using addition\n",
    "result = x + y\n",
    "print(result)  # Output: 15.5\n",
    "\n",
    "# combining Decimal and integer using multiplication\n",
    "result = x * y\n",
    "print(result)  # Output: 52.5"
   ]
  },
  {
   "cell_type": "markdown",
   "id": "f0369efc",
   "metadata": {},
   "source": [
    "In the above example, we can see that the integer 5 is combined with a Decimal object x using the addition and multiplication operators. The result is automatically converted to a Decimal object with the same precision as the other operand."
   ]
  },
  {
   "cell_type": "markdown",
   "id": "601b763c",
   "metadata": {},
   "source": [
    "=============================================================================================================="
   ]
  },
  {
   "cell_type": "markdown",
   "id": "5024eae7",
   "metadata": {},
   "source": [
    "## 6. Can Decimal objects and floating-point values be combined easily?"
   ]
  },
  {
   "cell_type": "markdown",
   "id": "3e58c7fa",
   "metadata": {},
   "source": [
    "Decimal objects and floating-point values can be combined easily, but it is important to note that precision can be lost when mixing these types. When a Decimal object is combined with a floating-point value, the floating-point value will be converted to a Decimal object with the same precision as the Decimal object. However, due to the way floating-point values are stored and calculated, this conversion may result in a loss of precision. Therefore, it is generally recommended to use Decimal objects consistently throughout your code to avoid unexpected precision errors."
   ]
  },
  {
   "cell_type": "markdown",
   "id": "8dca862e",
   "metadata": {},
   "source": [
    "=============================================================================================================="
   ]
  },
  {
   "cell_type": "markdown",
   "id": "720c1104",
   "metadata": {},
   "source": [
    "## 7. Using the Fraction class but not the Decimal class, give an example of a quantity that can be expressed with absolute precision."
   ]
  },
  {
   "cell_type": "markdown",
   "id": "74a8924a",
   "metadata": {},
   "source": [
    "The Fraction class in Python provides exact precision for rational numbers. Here is an example of a quantity that can be expressed with absolute precision using the Fraction class:"
   ]
  },
  {
   "cell_type": "code",
   "execution_count": 12,
   "id": "f347ed04",
   "metadata": {},
   "outputs": [
    {
     "name": "stdout",
     "output_type": "stream",
     "text": [
      "4/21\n"
     ]
    }
   ],
   "source": [
    "from fractions import Fraction\n",
    "\n",
    "x = Fraction(1, 3)  # represents the fraction 1/3\n",
    "y = Fraction(4, 7)  # represents the fraction 4/7\n",
    "\n",
    "result = x * y  # multiplication of two fractions\n",
    "print(result)   # output: 4/21\n"
   ]
  },
  {
   "cell_type": "markdown",
   "id": "0c9a1a47",
   "metadata": {},
   "source": [
    "In the above example, Fraction(1, 3) and Fraction(4, 7) are rational numbers that can be represented exactly with the Fraction class, and their product x * y is also a rational number that can be expressed exactly as 4/21."
   ]
  },
  {
   "cell_type": "markdown",
   "id": "4cc81d57",
   "metadata": {},
   "source": [
    "=============================================================================================================="
   ]
  },
  {
   "cell_type": "markdown",
   "id": "ee5cd0e0",
   "metadata": {},
   "source": [
    "## 8. Describe a quantity that can be accurately expressed by the Decimal or Fraction classes but not by a floating-point value."
   ]
  },
  {
   "cell_type": "markdown",
   "id": "c99cdba3",
   "metadata": {},
   "source": [
    "A quantity that can be accurately expressed by the Decimal or Fraction classes but not by a floating-point value is a repeating decimal. For example, the number 1/3 (0.3333...) can be accurately represented using the Fraction class as Fraction(1, 3) or using the Decimal class as Decimal('0.3333333333'). However, when represented as a floating-point value, it would be an approximation and may not be completely accurate."
   ]
  },
  {
   "cell_type": "markdown",
   "id": "342f0dcd",
   "metadata": {},
   "source": [
    "=============================================================================================================="
   ]
  },
  {
   "cell_type": "markdown",
   "id": "8b8bb9a7",
   "metadata": {},
   "source": [
    "## Q9.Consider the following two fraction objects: Fraction(1, 2) and Fraction(1, 2). (5, 10). Is the internal state of these two objects the same? Why do you think that is?"
   ]
  },
  {
   "cell_type": "markdown",
   "id": "efb9ca23",
   "metadata": {},
   "source": [
    "No, the internal state of the two objects is not the same. The first fraction object Fraction(1, 2) is already in its simplest form, where the numerator and denominator have no common factors other than 1. On the other hand, the second fraction object Fraction(1, 2). (5, 10) can be simplified further, as the numerator and denominator have a common factor of 5. It can be simplified to Fraction(1, 2) by dividing both the numerator and denominator by 5.\n",
    "\n",
    "When a Fraction object is created, it is automatically reduced to its simplest form, so if two fraction objects have different internal states, it means they were created differently, or one of them was modified after creation."
   ]
  },
  {
   "cell_type": "markdown",
   "id": "63153e4b",
   "metadata": {},
   "source": [
    "=============================================================================================================="
   ]
  },
  {
   "cell_type": "markdown",
   "id": "6016f7a5",
   "metadata": {},
   "source": [
    "## Q10. How do the Fraction class and the integer type (int) relate to each other? Containment or inheritance?"
   ]
  },
  {
   "cell_type": "markdown",
   "id": "6985cfd9",
   "metadata": {},
   "source": [
    "The Fraction class and the integer type (int) are not related by inheritance or containment. They are separate classes/types in Python. However, the Fraction class can take an integer value as an argument and create a fraction object from it. Additionally, fractions can be converted to integers by calling the numerator or denominator attributes, which will return an integer value."
   ]
  },
  {
   "cell_type": "markdown",
   "id": "0bc321d6",
   "metadata": {},
   "source": [
    "=============================================================================================================="
   ]
  }
 ],
 "metadata": {
  "kernelspec": {
   "display_name": "Python 3",
   "language": "python",
   "name": "python3"
  },
  "language_info": {
   "codemirror_mode": {
    "name": "ipython",
    "version": 3
   },
   "file_extension": ".py",
   "mimetype": "text/x-python",
   "name": "python",
   "nbconvert_exporter": "python",
   "pygments_lexer": "ipython3",
   "version": "3.6.2"
  }
 },
 "nbformat": 4,
 "nbformat_minor": 5
}
