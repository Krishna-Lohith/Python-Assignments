{
 "cells": [
  {
   "cell_type": "markdown",
   "id": "a294941d",
   "metadata": {},
   "source": [
    "# Python_Assignment_040    "
   ]
  },
  {
   "cell_type": "markdown",
   "id": "94b6eb7c",
   "metadata": {},
   "source": [
    "**Topics covered:-**  \n",
    "Updates in python 3.8    \n",
    "Monkey patching    \n",
    "Shallow copy and deep copy    \n",
    "Generator comprahension  "
   ]
  },
  {
   "cell_type": "markdown",
   "id": "a18762d5",
   "metadata": {},
   "source": [
    "=============================================================================================================="
   ]
  },
  {
   "cell_type": "markdown",
   "id": "e6216992",
   "metadata": {},
   "source": [
    "## 1. What are the new features added in Python 3.8 version?"
   ]
  },
  {
   "cell_type": "markdown",
   "id": "f8b7507c",
   "metadata": {},
   "source": [
    "Python 3.8 introduced several new features and improvements. Here are some of the major additions:\n",
    "\n",
    "Assignment Expressions (or the Walrus Operator): Allows you to assign a value to a variable as part of an expression. For example, instead of doing if len(my_list) > 0: x = my_list[0], you can now write if (x := len(my_list)) > 0: print(x).\n",
    "\n",
    "Positional-Only Parameters: Allows you to specify that certain function parameters can only be passed positionally (not by keyword). This can help to make your code clearer and more intuitive.\n",
    "\n",
    "f-strings now support = for debugging: This allows you to include the expression that you are evaluating in an f-string, along with its result.\n",
    "\n",
    "The new \"math.isqrt\" function: This function returns the integer square root of a given number, using a fast algorithm.\n",
    "\n",
    "The new \"typeddict\" class: This allows you to define dictionaries with required and optional keys, as well as their types.\n",
    "\n",
    "Improvements to the \"asyncio\" library: Including support for context variables, and better performance for running coroutines.\n",
    "\n",
    "New syntax for \"try\" blocks: Allows you to specify the exception variable inline, rather than having to use a separate \"except\" block.\n",
    "\n",
    "Performance improvements: Python 3.8 includes several performance improvements, including faster startup time and improved handling of memory allocation.\n",
    "\n",
    "These are just a few of the new features and improvements in Python 3.8."
   ]
  },
  {
   "cell_type": "markdown",
   "id": "8634be45",
   "metadata": {},
   "source": [
    "=============================================================================================================="
   ]
  },
  {
   "cell_type": "markdown",
   "id": "a1892139",
   "metadata": {},
   "source": [
    "## 2. What is monkey patching in Python?"
   ]
  },
  {
   "cell_type": "markdown",
   "id": "c84fefc1",
   "metadata": {},
   "source": [
    "In Python, monkey patching refers to the technique of modifying or extending code at runtime by replacing or adding new functions or attributes to an existing module or class. Monkey patching is typically used to add new features to an existing module or to modify the behavior of an existing function.\n",
    "\n",
    "For example, consider a scenario where you have an existing Python module that contains a function that you would like to modify. You can monkey patch the module by importing it and then redefining the function with a new implementation. Any code that uses the module will then use the new implementation of the function.\n",
    "\n",
    "Here's an example:"
   ]
  },
  {
   "cell_type": "code",
   "execution_count": null,
   "id": "f29927d1",
   "metadata": {},
   "outputs": [],
   "source": [
    "# original module\n",
    "def foo():\n",
    "    print(\"Original foo\")\n",
    "\n",
    "# monkey patching\n",
    "def new_foo():\n",
    "    print(\"New foo\")\n",
    "\n",
    "import mymodule\n",
    "mymodule.foo = new_foo\n",
    "\n",
    "# now calling foo from mymodule will use the new implementation\n",
    "mymodule.foo()  # prints \"New foo\""
   ]
  },
  {
   "cell_type": "markdown",
   "id": "2d8a3d92",
   "metadata": {},
   "source": [
    "It's worth noting that while monkey patching can be a powerful technique, it can also be risky and should be used with caution. Modifying code at runtime can make it harder to reason about the behavior of your program, and can make debugging more difficult. Additionally, monkey patching can cause conflicts with other parts of your code or with third-party libraries. As such, it's generally a good practice to avoid monkey patching whenever possible, and to use it only when there's no better alternative."
   ]
  },
  {
   "cell_type": "markdown",
   "id": "8d086262",
   "metadata": {},
   "source": [
    "=============================================================================================================="
   ]
  },
  {
   "cell_type": "markdown",
   "id": "f867b39e",
   "metadata": {},
   "source": [
    "## 3. What is the difference between a shallow copy and deep copy?"
   ]
  },
  {
   "cell_type": "markdown",
   "id": "ee2e569b",
   "metadata": {},
   "source": [
    "In Python, the difference between a shallow copy and a deep copy lies in how the copy operation handles mutable objects (e.g., lists, dictionaries, etc.) that are nested within the object being copied.\n",
    "\n",
    "A shallow copy creates a new object, but the contents of the object are still references to the original object's contents. In other words, the copy is a new object, but the objects within the copy still point to the same objects as the original.\n",
    "\n",
    "A deep copy, on the other hand, creates a new object and recursively copies all nested objects within the original object, creating new objects for each of them. This means that any changes made to the contents of the copy will not affect the original object or its contents.\n",
    "\n",
    "Here's an example to illustrate the difference:"
   ]
  },
  {
   "cell_type": "code",
   "execution_count": null,
   "id": "162ea42b",
   "metadata": {},
   "outputs": [],
   "source": [
    "import copy\n",
    "\n",
    "# original list with nested mutable objects\n",
    "original_list = [[1, 2, 3], [4, 5, 6], [7, 8, 9]]\n",
    "\n",
    "# shallow copy\n",
    "shallow_copy = copy.copy(original_list)\n",
    "shallow_copy[0][0] = 100\n",
    "\n",
    "print(original_list)  # [[100, 2, 3], [4, 5, 6], [7, 8, 9]]\n",
    "print(shallow_copy)   # [[100, 2, 3], [4, 5, 6], [7, 8, 9]]\n",
    "\n",
    "# deep copy\n",
    "deep_copy = copy.deepcopy(original_list)\n",
    "deep_copy[0][0] = 200\n",
    "\n",
    "print(original_list)  # [[100, 2, 3], [4, 5, 6], [7, 8, 9]]\n",
    "print(deep_copy)      # [[200, 2, 3], [4, 5, 6], [7, 8, 9]]\n"
   ]
  },
  {
   "cell_type": "markdown",
   "id": "d37ede88",
   "metadata": {},
   "source": [
    "In this example, we have an original list with nested mutable objects. When we create a shallow copy of this list and modify the first element of the first nested list, both the original and the copy are affected. However, when we create a deep copy and modify the same element, only the copy is affected and the original remains unchanged."
   ]
  },
  {
   "cell_type": "markdown",
   "id": "6e88ee11",
   "metadata": {},
   "source": [
    "=============================================================================================================="
   ]
  },
  {
   "cell_type": "markdown",
   "id": "d771afa2",
   "metadata": {},
   "source": [
    "## 4. What is the maximum possible length of an identifier?"
   ]
  },
  {
   "cell_type": "markdown",
   "id": "417631ca",
   "metadata": {},
   "source": [
    "In Python, the maximum possible length of an identifier (i.e., a variable, function, or class name) is not explicitly defined. However, the Python documentation recommends that identifiers be kept reasonably short, typically no longer than 79 characters. This is based on the recommended maximum line length for Python code, which is 79 characters.\n",
    "\n",
    "While there is no hard limit on the length of identifiers in Python, it's generally a good practice to keep them as concise and descriptive as possible. Longer identifiers can be harder to read and understand, especially when used repeatedly throughout your code. Additionally, some editors and IDEs may have practical limitations on the length of identifiers that they can display or handle."
   ]
  },
  {
   "cell_type": "markdown",
   "id": "73aaabbb",
   "metadata": {},
   "source": [
    "=============================================================================================================="
   ]
  },
  {
   "cell_type": "markdown",
   "id": "00fd15a4",
   "metadata": {},
   "source": [
    "## 5. What is generator comprehension?"
   ]
  },
  {
   "cell_type": "markdown",
   "id": "0cffcad8",
   "metadata": {},
   "source": [
    "Generator comprehension, also known as generator expression, is a concise and memory-efficient way to create a generator object in Python. It allows you to generate values on-the-fly using a compact expression that defines the rules for generating each value.\n",
    "\n",
    "The syntax for generator comprehension is similar to list comprehension, but instead of generating a list, it generates a generator object. The syntax is as follows:"
   ]
  },
  {
   "cell_type": "code",
   "execution_count": null,
   "id": "481f645f",
   "metadata": {},
   "outputs": [],
   "source": [
    "(generator_expression)"
   ]
  },
  {
   "cell_type": "code",
   "execution_count": null,
   "id": "0b0dfaca",
   "metadata": {},
   "outputs": [],
   "source": [
    "# list comprehension\n",
    "squares = [x**2 for x in range(10)]\n",
    "\n",
    "# generator comprehension\n",
    "square_generator = (x**2 for x in range(10))\n",
    "\n",
    "# iterating over the generator object\n",
    "for square in square_generator:\n",
    "    print(square)"
   ]
  },
  {
   "cell_type": "markdown",
   "id": "3b54f47b",
   "metadata": {},
   "source": [
    "In this example, we create a list of squares using list comprehension, and then create a generator object that generates the same sequence of squares using generator comprehension. We then iterate over the generator object using a for loop to print each square.\n",
    "\n",
    "The advantage of using generator comprehension over list comprehension is that it can save memory by generating values on-the-fly as they are needed, rather than creating a full list of values all at once. This can be especially useful when dealing with large datasets or when memory is limited."
   ]
  },
  {
   "cell_type": "markdown",
   "id": "851666e2",
   "metadata": {},
   "source": [
    "=============================================================================================================="
   ]
  }
 ],
 "metadata": {
  "kernelspec": {
   "display_name": "Python 3",
   "language": "python",
   "name": "python3"
  },
  "language_info": {
   "codemirror_mode": {
    "name": "ipython",
    "version": 3
   },
   "file_extension": ".py",
   "mimetype": "text/x-python",
   "name": "python",
   "nbconvert_exporter": "python",
   "pygments_lexer": "ipython3",
   "version": "3.6.2"
  }
 },
 "nbformat": 4,
 "nbformat_minor": 5
}
