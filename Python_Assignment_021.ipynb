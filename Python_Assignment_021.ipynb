{
 "cells": [
  {
   "cell_type": "markdown",
   "id": "ed73a8a9",
   "metadata": {},
   "source": [
    "# Python_Assignment_021"
   ]
  },
  {
   "cell_type": "markdown",
   "id": "11b3d576",
   "metadata": {},
   "source": [
    "**Concepts used:-**   \n",
    "File handling  \n",
    "Datetime:- date, timedelta  \n",
    "os    \n",
    "multiprocessing    "
   ]
  },
  {
   "cell_type": "markdown",
   "id": "26cbcba3",
   "metadata": {},
   "source": [
    "=============================================================================================================="
   ]
  },
  {
   "cell_type": "markdown",
   "id": "8f68c471",
   "metadata": {},
   "source": [
    "## 1. Add the current date to the text file today.txt as a string."
   ]
  },
  {
   "cell_type": "code",
   "execution_count": 9,
   "id": "bd0adb08",
   "metadata": {},
   "outputs": [],
   "source": [
    "import datetime\n",
    "today = datetime.date.today()\n",
    "today\n",
    "\n",
    "with open('today.txt','w') as file:\n",
    "    file.write(str(today))"
   ]
  },
  {
   "cell_type": "markdown",
   "id": "60d09724",
   "metadata": {},
   "source": [
    "=============================================================================================================="
   ]
  },
  {
   "cell_type": "markdown",
   "id": "43562007",
   "metadata": {},
   "source": [
    "## 2. Read the text file today.txt into the string today_string"
   ]
  },
  {
   "cell_type": "code",
   "execution_count": 12,
   "id": "5a7c21c8",
   "metadata": {},
   "outputs": [
    {
     "name": "stdout",
     "output_type": "stream",
     "text": [
      "2023-04-24\n"
     ]
    }
   ],
   "source": [
    "with open('today.txt','r') as file:\n",
    "    today_string = file.read()\n",
    "    print(today_string)"
   ]
  },
  {
   "cell_type": "markdown",
   "id": "23ca80e6",
   "metadata": {},
   "source": [
    "=============================================================================================================="
   ]
  },
  {
   "cell_type": "markdown",
   "id": "461db4ad",
   "metadata": {},
   "source": [
    "## 3. Parse the date from today_string."
   ]
  },
  {
   "cell_type": "code",
   "execution_count": 17,
   "id": "824f8f30",
   "metadata": {},
   "outputs": [
    {
     "data": {
      "text/plain": [
       "datetime.date(2023, 4, 24)"
      ]
     },
     "execution_count": 17,
     "metadata": {},
     "output_type": "execute_result"
    }
   ],
   "source": [
    "import datetime\n",
    "\n",
    "with open('today.txt','r') as file:\n",
    "    today_string = file.read()\n",
    "    \n",
    "datetime.datetime.strptime(today_string.strip(),'%Y-%m-%d').date()"
   ]
  },
  {
   "cell_type": "markdown",
   "id": "9359f0df",
   "metadata": {},
   "source": [
    "=============================================================================================================="
   ]
  },
  {
   "cell_type": "markdown",
   "id": "867be986",
   "metadata": {},
   "source": [
    "## 4. List the files in your current directory"
   ]
  },
  {
   "cell_type": "code",
   "execution_count": 21,
   "id": "e0261317",
   "metadata": {},
   "outputs": [],
   "source": [
    "#ls"
   ]
  },
  {
   "cell_type": "code",
   "execution_count": 25,
   "id": "bad994d4",
   "metadata": {},
   "outputs": [
    {
     "name": "stdout",
     "output_type": "stream",
     "text": [
      "<class 'list'>\n"
     ]
    },
    {
     "data": {
      "text/plain": [
       "['.ipynb_checkpoints',\n",
       " 'Aadhar.pdf',\n",
       " 'books.csv',\n",
       " 'books.db',\n",
       " 'books1.db',\n",
       " 'concepts used in assignment.txt',\n",
       " 'concepts used.txt',\n",
       " 'cropped_image.png',\n",
       " 'glass.txt',\n",
       " 'modified_example.jpg',\n",
       " 'modified_image.jpg',\n",
       " 'modified_image_nature.jpg',\n",
       " 'nature.jpg',\n",
       " 'new_document.docx',\n",
       " 'output.csv',\n",
       " 'pandas kaggle.docx',\n",
       " 'pic for resume.jpeg',\n",
       " 'ProgramLog.txt',\n",
       " 'Python Assignment_001.ipynb',\n",
       " 'Python Assignment_002.ipynb',\n",
       " 'Python Assignment_003.ipynb',\n",
       " 'Python_Assignment_004.ipynb',\n",
       " 'Python_Assignment_005.ipynb',\n",
       " 'Python_Assignment_006.ipynb',\n",
       " 'Python_Assignment_007.ipynb',\n",
       " 'Python_Assignment_008.ipynb',\n",
       " 'Python_Assignment_009.ipynb',\n",
       " 'Python_Assignment_010.ipynb',\n",
       " 'Python_Assignment_011.ipynb',\n",
       " 'Python_Assignment_012.ipynb',\n",
       " 'Python_Assignment_013.ipynb',\n",
       " 'Python_Assignment_014.ipynb',\n",
       " 'Python_Assignment_015.ipynb',\n",
       " 'Python_Assignment_016.ipynb',\n",
       " 'Python_Assignment_017.ipynb',\n",
       " 'Python_Assignment_018.ipynb',\n",
       " 'Python_Assignment_019.ipynb',\n",
       " 'Python_Assignment_020',\n",
       " 'Python_Assignment_020.ipynb',\n",
       " 'resized_image.png',\n",
       " 'RGBA.jpg',\n",
       " 'rotated statistics.pdf',\n",
       " 'statistics Encrypted(pass-statistics).pdf',\n",
       " 'statistics.pdf',\n",
       " 'text.txt',\n",
       " 'today.txt',\n",
       " 'Untitled.ipynb',\n",
       " 'zoo.py',\n",
       " '__pycache__']"
      ]
     },
     "execution_count": 25,
     "metadata": {},
     "output_type": "execute_result"
    }
   ],
   "source": [
    "import os\n",
    "\n",
    "l = os.listdir()\n",
    "print(type(l))\n",
    "l"
   ]
  },
  {
   "cell_type": "markdown",
   "id": "63c8ed12",
   "metadata": {},
   "source": [
    "=============================================================================================================="
   ]
  },
  {
   "cell_type": "markdown",
   "id": "776a683a",
   "metadata": {},
   "source": [
    "## 5. Create a list of all of the files in your parent directory (minimum five files should be available)."
   ]
  },
  {
   "cell_type": "code",
   "execution_count": 36,
   "id": "c24828e2",
   "metadata": {},
   "outputs": [
    {
     "data": {
      "text/plain": [
       "['.ipynb_checkpoints',\n",
       " '67439583_431111364159107_3868945810002857815_n.mp4',\n",
       " 'Assignments',\n",
       " 'Assignment_1.docx',\n",
       " 'Assignment_2.docx',\n",
       " 'FSDS_bootcamp_assignment_002_Oct_01.ipynb',\n",
       " 'glass.txt',\n",
       " 'hakuna_matata.mp4',\n",
       " 'log12.log',\n",
       " 'Merged_File.pdf',\n",
       " 'mj.json',\n",
       " 'mj.txt',\n",
       " 'Monika.mp4',\n",
       " 'oops_task',\n",
       " 'oops_task.log',\n",
       " 'pic for resume.jpeg',\n",
       " 'python classes',\n",
       " 'Python Programming Assignments - original',\n",
       " 'Python Tasks',\n",
       " 'result.pdf',\n",
       " 'result1.pdf',\n",
       " 'test.txt',\n",
       " 'test10.txt',\n",
       " 'test11.txt',\n",
       " 'test12.txt',\n",
       " 'test13.txt',\n",
       " 'test7.txt',\n",
       " 'test8.txt',\n",
       " 'test9.txt',\n",
       " 'VID_57341107_230008_736.mp4']"
      ]
     },
     "execution_count": 36,
     "metadata": {},
     "output_type": "execute_result"
    }
   ],
   "source": [
    "parent = os.path.abspath(r\"C:\\Users\\User\\Desktop\\Learning\\FSDS\\Python\")\n",
    "file_list = os.listdir(parent)\n",
    "file_list"
   ]
  },
  {
   "cell_type": "markdown",
   "id": "50092d59",
   "metadata": {},
   "source": [
    "=============================================================================================================="
   ]
  },
  {
   "cell_type": "markdown",
   "id": "259fd98d",
   "metadata": {},
   "source": [
    "## 6. Use multiprocessing to create three separate processes. Make each one wait a random number of seconds between one and five, print the current time, and then exit."
   ]
  },
  {
   "cell_type": "markdown",
   "id": "eca36a5b",
   "metadata": {},
   "source": [
    "## This code works in VScode. Copy the below code and execute in VScode."
   ]
  },
  {
   "cell_type": "code",
   "execution_count": 37,
   "id": "9272e721",
   "metadata": {},
   "outputs": [],
   "source": [
    "import multiprocessing\n",
    "import time\n",
    "import datetime\n",
    "import random\n",
    "\n",
    "def wait_and_print():\n",
    "    # Wait for a random number of seconds between 1 and 5\n",
    "    wait_time = random.randint(1, 5)\n",
    "    time.sleep(wait_time)\n",
    "\n",
    "    # Print the current time\n",
    "    current_time = datetime.datetime.now().strftime(\"%Y-%m-%d %H:%M:%S\")\n",
    "    print(f\"{multiprocessing.current_process().name} waited {wait_time} seconds and printed at {current_time}\")\n",
    "\n",
    "if __name__ == \"__main__\":\n",
    "    # Create three separate processes\n",
    "    process1 = multiprocessing.Process(target=wait_and_print, name=\"Process 1\")\n",
    "    process2 = multiprocessing.Process(target=wait_and_print, name=\"Process 2\")\n",
    "    process3 = multiprocessing.Process(target=wait_and_print, name=\"Process 3\")\n",
    "\n",
    "    # Start the processes\n",
    "    process1.start()\n",
    "    process2.start()\n",
    "    process3.start()\n",
    "\n",
    "    # Wait for the processes to finish\n",
    "    process1.join()\n",
    "    process2.join()\n",
    "    process3.join()\n"
   ]
  },
  {
   "cell_type": "markdown",
   "id": "ca183950",
   "metadata": {},
   "source": [
    "=============================================================================================================="
   ]
  },
  {
   "cell_type": "markdown",
   "id": "a3c5ef04",
   "metadata": {},
   "source": [
    "## 7. Create a date object of your day of birth."
   ]
  },
  {
   "cell_type": "code",
   "execution_count": 59,
   "id": "3e70f150",
   "metadata": {},
   "outputs": [
    {
     "data": {
      "text/plain": [
       "datetime.date(1999, 2, 22)"
      ]
     },
     "execution_count": 59,
     "metadata": {},
     "output_type": "execute_result"
    }
   ],
   "source": [
    "from datetime import date\n",
    "\n",
    "my_birthdate = date(1999, 2, 22)\n",
    "my_birthdate"
   ]
  },
  {
   "cell_type": "markdown",
   "id": "f6a3587f",
   "metadata": {},
   "source": [
    "=============================================================================================================="
   ]
  },
  {
   "cell_type": "markdown",
   "id": "67995a5a",
   "metadata": {},
   "source": [
    "## 8. What day of the week was your day of birth?"
   ]
  },
  {
   "cell_type": "code",
   "execution_count": 60,
   "id": "78a3ecd0",
   "metadata": {},
   "outputs": [
    {
     "name": "stdout",
     "output_type": "stream",
     "text": [
      "My day of birth was on a Monday\n"
     ]
    }
   ],
   "source": [
    "from datetime import date\n",
    "\n",
    "my_birthdate = date(1999, 2, 22)\n",
    "my_birthdate\n",
    "day_of_week = my_birthdate.weekday()\n",
    "\n",
    "print(\"My day of birth was on a\", my_birthdate.strftime(\"%A\"))"
   ]
  },
  {
   "cell_type": "markdown",
   "id": "b2df0fc0",
   "metadata": {},
   "source": [
    "=============================================================================================================="
   ]
  },
  {
   "cell_type": "markdown",
   "id": "3b636f3f",
   "metadata": {},
   "source": [
    "## 9. When will you be (or when were you) 10,000 days old?"
   ]
  },
  {
   "cell_type": "code",
   "execution_count": 65,
   "id": "0a6acdc7",
   "metadata": {},
   "outputs": [
    {
     "data": {
      "text/plain": [
       "datetime.date(2026, 7, 10)"
      ]
     },
     "execution_count": 65,
     "metadata": {},
     "output_type": "execute_result"
    }
   ],
   "source": [
    "from datetime import date, timedelta\n",
    "\n",
    "my_birthdate = date(1999, 2, 22)\n",
    "\n",
    "days_to_add = 10000\n",
    "\n",
    "my_birthdate + timedelta(days = days_to_add)"
   ]
  },
  {
   "cell_type": "markdown",
   "id": "c3a5b651",
   "metadata": {},
   "source": [
    "=============================================================================================================="
   ]
  }
 ],
 "metadata": {
  "kernelspec": {
   "display_name": "Python 3",
   "language": "python",
   "name": "python3"
  },
  "language_info": {
   "codemirror_mode": {
    "name": "ipython",
    "version": 3
   },
   "file_extension": ".py",
   "mimetype": "text/x-python",
   "name": "python",
   "nbconvert_exporter": "python",
   "pygments_lexer": "ipython3",
   "version": "3.6.2"
  }
 },
 "nbformat": 4,
 "nbformat_minor": 5
}
