{
 "cells": [
  {
   "cell_type": "markdown",
   "id": "fd5723a1",
   "metadata": {},
   "source": [
    "# Python_Assignment_009"
   ]
  },
  {
   "cell_type": "markdown",
   "id": "b990b9a1",
   "metadata": {},
   "source": [
    "Concepts used:- \n",
    "os  \n",
    "directories  \n",
    "file handlings  \n",
    "shelve library  "
   ]
  },
  {
   "cell_type": "markdown",
   "id": "46a06145",
   "metadata": {},
   "source": [
    "=============================================================================================================="
   ]
  },
  {
   "cell_type": "markdown",
   "id": "f67da360",
   "metadata": {},
   "source": [
    "### 1. To what does a relative path refer?\n",
    "\n",
    "A relative path in computer programming refers to the path of a file or directory that is specified relative to the current working directory (CWD) or another known directory, rather than being specified as an absolute path that starts from the root directory."
   ]
  },
  {
   "cell_type": "markdown",
   "id": "76085c3c",
   "metadata": {},
   "source": [
    "=============================================================================================================="
   ]
  },
  {
   "cell_type": "markdown",
   "id": "73d02c75",
   "metadata": {},
   "source": [
    "### 2. What does an absolute path start with your operating system?\n",
    "\n",
    "An absolute path in computer programming refers to the complete and exact path of a file or directory, starting from the root directory of the operating system. The specific notation for an absolute path may vary depending on the operating system being used."
   ]
  },
  {
   "cell_type": "markdown",
   "id": "145fc47b",
   "metadata": {},
   "source": [
    "=============================================================================================================="
   ]
  },
  {
   "cell_type": "markdown",
   "id": "ba3df4bd",
   "metadata": {},
   "source": [
    "### 3. What do the functions os.getcwd() and os.chdir() do?"
   ]
  },
  {
   "cell_type": "code",
   "execution_count": 4,
   "id": "94c59e92",
   "metadata": {},
   "outputs": [
    {
     "data": {
      "text/plain": [
       "'C:\\\\Users\\\\User\\\\Desktop\\\\Learning\\\\FSDS\\\\Python\\\\Assignments'"
      ]
     },
     "execution_count": 4,
     "metadata": {},
     "output_type": "execute_result"
    }
   ],
   "source": [
    "import os\n",
    "os.getcwd()   # Gets current working directory"
   ]
  },
  {
   "cell_type": "code",
   "execution_count": 6,
   "id": "32988478",
   "metadata": {},
   "outputs": [],
   "source": [
    "os.chdir(path)   # Changes current working directory to the specified path"
   ]
  },
  {
   "cell_type": "markdown",
   "id": "23a36d18",
   "metadata": {},
   "source": [
    "=============================================================================================================="
   ]
  },
  {
   "cell_type": "markdown",
   "id": "deee55f2",
   "metadata": {},
   "source": [
    "### 4. What are the . and .. folders?\n",
    "\n",
    ". (dot) folder:\n",
    "The . (dot) folder, also known as the \"current directory,\" represents the directory where the user is currently located or the directory that is currently being referenced in the context of a file system operation. For example, if a user is currently located in the directory /home/user/documents and performs a file system operation that references the . folder, it would refer to the /home/user/documents directory itself.\n",
    "\n",
    ".. (dot dot) folder:\n",
    "The .. (dot dot) folder, also known as the \"parent directory,\" represents the directory that is one level up in the directory hierarchy from the current directory. In other words, it refers to the immediate containing directory of the current directory. For example, if a user is currently located in the directory /home/user/documents and performs a file system operation that references the .. folder, it would refer to the /home/user directory."
   ]
  },
  {
   "cell_type": "markdown",
   "id": "98843d14",
   "metadata": {},
   "source": [
    "=============================================================================================================="
   ]
  },
  {
   "cell_type": "markdown",
   "id": "a5fa8638",
   "metadata": {},
   "source": [
    "### 5. In C:\\bacon\\eggs\\spam.txt, which part is the dir name, and which part is the base name?\n",
    "\n",
    "In the file path C:\\bacon\\eggs\\spam.txt, the directory name (dir name) is C:\\bacon\\eggs, and the base name is spam.txt."
   ]
  },
  {
   "cell_type": "markdown",
   "id": "3589ddc8",
   "metadata": {},
   "source": [
    "=============================================================================================================="
   ]
  },
  {
   "cell_type": "markdown",
   "id": "e660c9d0",
   "metadata": {},
   "source": [
    "### 6. What are the three “mode” arguments that can be passed to the open() function?"
   ]
  },
  {
   "cell_type": "markdown",
   "id": "b714a4c1",
   "metadata": {},
   "source": [
    "\"r\" - Read mode:\n",
    "This mode is used to open a file for reading. The file must already exist, otherwise, a FileNotFoundError will be raised. When a file is opened in read mode, the file pointer is positioned at the beginning of the file, and you can only read the contents of the file, not modify or write to it.\n",
    "\n",
    "\"w\" - Write mode:\n",
    "This mode is used to open a file for writing. If the file does not exist, it will be created. If the file already exists, its contents will be truncated (i.e., deleted) before writing new data to it. When a file is opened in write mode, the file pointer is positioned at the beginning of the file, and you can only write data to the file, not read its contents.\n",
    "\n",
    "\"a\" - Append mode:\n",
    "This mode is used to open a file for appending. If the file does not exist, it will be created. If the file already exists, the file pointer will be positioned at the end of the file, allowing you to append new data to the existing contents. In append mode, you can only write data to the file, not read its contents."
   ]
  },
  {
   "cell_type": "markdown",
   "id": "451038ca",
   "metadata": {},
   "source": [
    "=============================================================================================================="
   ]
  },
  {
   "cell_type": "markdown",
   "id": "a24f820b",
   "metadata": {},
   "source": [
    "### 7. What happens if an existing file is opened in write mode?\n",
    "\n",
    "The contents of the file will be truncated, meaning that all existing data in the file will be deleted, and the file will be empty. Then, the file will be ready to accept new data that can be written using the file object returned by the open() function."
   ]
  },
  {
   "cell_type": "markdown",
   "id": "bd7df864",
   "metadata": {},
   "source": [
    "=============================================================================================================="
   ]
  },
  {
   "cell_type": "markdown",
   "id": "1fcaa07c",
   "metadata": {},
   "source": [
    "### 8. How do you tell the difference between read() and readlines()?\n",
    "\n",
    "read(): This method reads the entire content of the file as a single string, including all newline characters (\\n). The file pointer is positioned at the end of the file after the read() method is called, so any subsequent read operations will return an empty string.\n",
    "\n",
    "readlines(): This method reads the entire content of the file and returns a list of strings, where each string represents a line in the file. The newline characters (\\n) are included in each line string, and the list represents the lines in the order they appear in the file. The file pointer is positioned at the end of the file after the readlines() method is called, so any subsequent read operations will return an empty list."
   ]
  },
  {
   "cell_type": "markdown",
   "id": "fdf44b58",
   "metadata": {},
   "source": [
    "=============================================================================================================="
   ]
  },
  {
   "cell_type": "markdown",
   "id": "d9f8d75d",
   "metadata": {},
   "source": [
    "### 9. What data structure does a shelf value resemble?\n",
    "\n",
    "In Python, a shelf value, which is obtained from the shelve module, resembles a dictionary-like data structure. The shelve module provides a way to store and retrieve data in a persistent dictionary-like object, where keys and values are stored as key-value pairs, similar to a dictionary.\n",
    "\n",
    "A shelf value behaves like a dictionary in that it allows for key-based access to values, and it supports common dictionary operations such as adding, modifying, and deleting key-value pairs. The shelve module provides methods such as __getitem__() and __setitem__() to get and set values using keys, respectively, which are similar to the dictionary indexing syntax."
   ]
  },
  {
   "cell_type": "code",
   "execution_count": null,
   "id": "4882e958",
   "metadata": {},
   "outputs": [],
   "source": [
    "import shelve\n",
    "\n",
    "# Create and open a shelf file\n",
    "my_shelf = shelve.open('mydata')\n",
    "\n",
    "# Add data to the shelf\n",
    "my_shelf['name'] = 'John'\n",
    "my_shelf['age'] = 30\n",
    "my_shelf['city'] = 'New York'\n",
    "\n",
    "# Retrieve data from the shelf\n",
    "print(my_shelf['name'])  # Output: 'John'\n",
    "print(my_shelf['age'])   # Output: 30\n",
    "print(my_shelf['city'])  # Output: 'New York'\n",
    "\n",
    "# Close the shelf file\n",
    "my_shelf.close()"
   ]
  },
  {
   "cell_type": "markdown",
   "id": "fb5e4dd3",
   "metadata": {},
   "source": [
    "=============================================================================================================="
   ]
  }
 ],
 "metadata": {
  "kernelspec": {
   "display_name": "Python 3",
   "language": "python",
   "name": "python3"
  },
  "language_info": {
   "codemirror_mode": {
    "name": "ipython",
    "version": 3
   },
   "file_extension": ".py",
   "mimetype": "text/x-python",
   "name": "python",
   "nbconvert_exporter": "python",
   "pygments_lexer": "ipython3",
   "version": "3.6.2"
  }
 },
 "nbformat": 4,
 "nbformat_minor": 5
}
