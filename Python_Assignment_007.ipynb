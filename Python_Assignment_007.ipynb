{
 "cells": [
  {
   "cell_type": "markdown",
   "id": "7f621a2b",
   "metadata": {},
   "source": [
    "# Python_Assignment_007"
   ]
  },
  {
   "cell_type": "markdown",
   "id": "c724042b",
   "metadata": {},
   "source": [
    "Concepts used:-  \n",
    "Regex  \n",
    "Escape characters  "
   ]
  },
  {
   "cell_type": "markdown",
   "id": "961e8ea7",
   "metadata": {},
   "source": [
    "=============================================================================================================="
   ]
  },
  {
   "cell_type": "markdown",
   "id": "51e88258",
   "metadata": {},
   "source": [
    "### 1. What is the name of the feature responsible for generating Regex objects?  \n",
    "\n",
    "The feature in Python's re module responsible for generating regular expression objects is called \"regex compilation\"."
   ]
  },
  {
   "cell_type": "markdown",
   "id": "e65ae0a9",
   "metadata": {},
   "source": [
    "=============================================================================================================="
   ]
  },
  {
   "cell_type": "markdown",
   "id": "a55f9f7b",
   "metadata": {},
   "source": [
    "### 2. Why do raw strings often appear in Regex objects?\n",
    "\n",
    "Raw strings, denoted by the r prefix, are often used in regular expression objects in Python to avoid unwanted escape sequences."
   ]
  },
  {
   "cell_type": "code",
   "execution_count": 4,
   "id": "e69309b3",
   "metadata": {},
   "outputs": [
    {
     "name": "stdout",
     "output_type": "stream",
     "text": [
      "hello\n",
      "world\n",
      "hello\\nworld\n"
     ]
    }
   ],
   "source": [
    "print('hello\\nworld')\n",
    "print(r'hello\\nworld')"
   ]
  },
  {
   "cell_type": "markdown",
   "id": "bea6c589",
   "metadata": {},
   "source": [
    "=============================================================================================================="
   ]
  },
  {
   "cell_type": "markdown",
   "id": "1fb36428",
   "metadata": {},
   "source": [
    "### 3. What is the return value of the search() method?\n",
    "\n",
    "The search() method in Python's re module returns a match object if a match is found, and None if no match is found."
   ]
  },
  {
   "cell_type": "code",
   "execution_count": 10,
   "id": "c1e1760d",
   "metadata": {},
   "outputs": [
    {
     "name": "stdout",
     "output_type": "stream",
     "text": [
      "found:- regex\n"
     ]
    }
   ],
   "source": [
    "import re\n",
    "text =  'Getting headache with this regex concept.'\n",
    "pattern = 'regex'\n",
    "match = re.search(pattern,text)\n",
    "if match:\n",
    "    print('found:-', match.group())\n",
    "else:\n",
    "    print('not found')"
   ]
  },
  {
   "cell_type": "markdown",
   "id": "a10529cc",
   "metadata": {},
   "source": [
    "=============================================================================================================="
   ]
  },
  {
   "cell_type": "markdown",
   "id": "71aec779",
   "metadata": {},
   "source": [
    "### 4. From a Match item, how do you get the actual strings that match the pattern?\n",
    "\n",
    "In Python's re module, you can retrieve the actual strings that match the pattern from a Match object using the group() method. The group() method without any arguments returns the entire substring that matches the pattern."
   ]
  },
  {
   "cell_type": "code",
   "execution_count": 12,
   "id": "d88718eb",
   "metadata": {},
   "outputs": [
    {
     "name": "stdout",
     "output_type": "stream",
     "text": [
      "found:- regex\n"
     ]
    }
   ],
   "source": [
    "import re\n",
    "text =  'Getting headache with this regex concept.'\n",
    "pattern = 'regex'\n",
    "match = re.search(pattern,text)\n",
    "if match:\n",
    "    print('found:-', match.group())\n",
    "else:\n",
    "    print('not found')"
   ]
  },
  {
   "cell_type": "markdown",
   "id": "2b6c2943",
   "metadata": {},
   "source": [
    "=============================================================================================================="
   ]
  },
  {
   "cell_type": "markdown",
   "id": "e67b25c3",
   "metadata": {},
   "source": [
    "### 5. In the regex which created from the r'(\\d\\d\\d)-(\\d\\d\\d-\\d\\d\\d\\d)', what does group zero cover?Group 2? Group 1?\n",
    "\n",
    "\n",
    "In the regular expression r'(\\d\\d\\d)-(\\d\\d\\d-\\d\\d\\d\\d)', the groups are defined by the parentheses ( ) in the pattern.\n",
    "Group 0 (or group(0)) covers the entire match of the regular expression, including all captured groups. In this case, it would cover the entire string that matches the pattern, which would be in the format xxx-xxx-xxxx where each \"x\" represents a digit.\n",
    "\n",
    "Group 1 (or group(1)) covers the first captured group, which is represented by (\\d\\d\\d) in the pattern. It captures three consecutive digits.\n",
    "\n",
    "Group 2 (or group(2)) covers the second captured group, which is represented by (\\d\\d\\d-\\d\\d\\d\\d) in the pattern. It captures a group of three digits followed by a hyphen, and then followed by four digits separated by a hyphen.\n",
    "    "
   ]
  },
  {
   "cell_type": "code",
   "execution_count": 16,
   "id": "a3dabd36",
   "metadata": {},
   "outputs": [
    {
     "name": "stdout",
     "output_type": "stream",
     "text": [
      "Group 0: 123-456-7890\n",
      "Group 1: 123\n",
      "Group 2: 456\n"
     ]
    }
   ],
   "source": [
    "import re\n",
    "\n",
    "text = \"123-456-7890\"\n",
    "pattern = r'(\\d\\d\\d)-(\\d\\d\\d)-(\\d\\d\\d\\d)'\n",
    "match = re.search(pattern, text)\n",
    "\n",
    "if match:\n",
    "    group_0 = match.group(0)\n",
    "    group_1 = match.group(1)\n",
    "    group_2 = match.group(2)\n",
    "    print(\"Group 0:\", group_0)\n",
    "    print(\"Group 1:\", group_1)\n",
    "    print(\"Group 2:\", group_2)\n",
    "else:\n",
    "    print(\"Match not found.\")"
   ]
  },
  {
   "cell_type": "markdown",
   "id": "254a9ec9",
   "metadata": {},
   "source": [
    "=============================================================================================================="
   ]
  },
  {
   "cell_type": "markdown",
   "id": "8fa036ef",
   "metadata": {},
   "source": [
    "### 6. In standard expression syntax, parentheses and intervals have distinct meanings. How can you tell a regex that you want it to fit real parentheses and periods?\n",
    "\n",
    "In regular expressions, parentheses and periods have special meanings and are used for grouping and character matching, respectively. To specify that you want to match literal parentheses and periods in your regex pattern, you can use a backslash (\\) before them. This is called \"escaping\" the special characters."
   ]
  },
  {
   "cell_type": "code",
   "execution_count": 17,
   "id": "2fd7b67c",
   "metadata": {},
   "outputs": [
    {
     "name": "stdout",
     "output_type": "stream",
     "text": [
      "Match found: (abc).def\n"
     ]
    }
   ],
   "source": [
    "import re\n",
    "\n",
    "text = \"(abc).def\"\n",
    "pattern = r'\\(\\w+\\)\\.\\w+'\n",
    "match = re.search(pattern, text)\n",
    "\n",
    "if match:\n",
    "    print(\"Match found:\", match.group())\n",
    "else:\n",
    "    print(\"Match not found.\")\n"
   ]
  },
  {
   "cell_type": "markdown",
   "id": "e0152466",
   "metadata": {},
   "source": [
    "=============================================================================================================="
   ]
  },
  {
   "cell_type": "markdown",
   "id": "d041e149",
   "metadata": {},
   "source": [
    "### 7. The findall() method returns a string list or a list of string tuples. What causes it to return one of the two options?"
   ]
  },
  {
   "cell_type": "code",
   "execution_count": 23,
   "id": "0ec0f736",
   "metadata": {},
   "outputs": [
    {
     "name": "stdout",
     "output_type": "stream",
     "text": [
      "Matches: ['over', 'lazy']\n"
     ]
    }
   ],
   "source": [
    "import re\n",
    "\n",
    "text = \"The quick brown fox jumps over the lazy dog.\"\n",
    "pattern = r\"\\b\\w{4}\\b\"  # Matches four-letter words\n",
    "matches = re.findall(pattern, text)\n",
    "\n",
    "print(\"Matches:\", matches)\n"
   ]
  },
  {
   "cell_type": "markdown",
   "id": "6a21dfcd",
   "metadata": {},
   "source": [
    "=============================================================================================================="
   ]
  },
  {
   "cell_type": "markdown",
   "id": "43bd002d",
   "metadata": {},
   "source": [
    "### 8. In standard expressions, what does the | character mean?\n",
    "\n",
    "In standard regular expressions, the | (pipe) character is used to denote an alternation, which allows for matching one of multiple expressions. It acts as a logical OR, allowing the regex pattern to match either the expression on the left or the expression on the right of the | character."
   ]
  },
  {
   "cell_type": "code",
   "execution_count": 35,
   "id": "53eae632",
   "metadata": {},
   "outputs": [
    {
     "name": "stdout",
     "output_type": "stream",
     "text": [
      "Matches using alternation:\n",
      "['cat']\n"
     ]
    }
   ],
   "source": [
    "import re\n",
    "\n",
    "text = \"I have a cat \"\n",
    "\n",
    "# Using alternation in regex pattern\n",
    "pattern = r\"cat|dog\"\n",
    "matches = re.findall(pattern, text)\n",
    "\n",
    "print(\"Matches using alternation:\")\n",
    "print(matches)\n"
   ]
  },
  {
   "cell_type": "markdown",
   "id": "261cb49e",
   "metadata": {},
   "source": [
    "=============================================================================================================="
   ]
  },
  {
   "cell_type": "markdown",
   "id": "64ac17c9",
   "metadata": {},
   "source": [
    "### 9. In regular expressions, what does the character stand for?\n",
    "\n",
    " characters can have various meanings and interpretations depending on their context and usage."
   ]
  },
  {
   "cell_type": "markdown",
   "id": "7fcd3b3f",
   "metadata": {},
   "source": [
    "=============================================================================================================="
   ]
  },
  {
   "cell_type": "markdown",
   "id": "68db2256",
   "metadata": {},
   "source": [
    "### 10.In regular expressions, what is the difference between the + and * characters?"
   ]
  },
  {
   "cell_type": "markdown",
   "id": "b34c43f2",
   "metadata": {},
   "source": [
    "In regular expressions, the + and * characters are quantifiers that specify the number of occurrences of the preceding character or group.\n",
    "\n",
    "The main difference between + and * is as follows:\n",
    "\n",
    "+ (plus): Matches one or more occurrences of the preceding character or group. It requires at least one occurrence of the preceding character or group for a match to occur. If there are multiple occurrences, all of them will be included in the match.\n",
    "* (asterisk): Matches zero or more occurrences of the preceding character or group. It allows for zero occurrences of the preceding character or group, and if there are multiple occurrences, all of them will be included in the match."
   ]
  },
  {
   "cell_type": "code",
   "execution_count": 37,
   "id": "f1772b56",
   "metadata": {},
   "outputs": [
    {
     "name": "stdout",
     "output_type": "stream",
     "text": [
      "Matches with +: ['abc', 'abcc', 'abccc', 'abcccc']\n",
      "Matches with *: ['abc', 'abcc', 'abccc', 'abcccc']\n"
     ]
    }
   ],
   "source": [
    "import re\n",
    "\n",
    "# Input text\n",
    "text = \"abc abcc abccc abcccc\"\n",
    "\n",
    "# Pattern with +\n",
    "pattern_plus = r\"abc+\"\n",
    "\n",
    "# Pattern with *\n",
    "pattern_asterisk = r\"abc*\"\n",
    "\n",
    "# Using re.findall with +\n",
    "matches_plus = re.findall(pattern_plus, text)\n",
    "print(\"Matches with +:\", matches_plus)\n",
    "\n",
    "# Using re.findall with *\n",
    "matches_asterisk = re.findall(pattern_asterisk, text)\n",
    "print(\"Matches with *:\", matches_asterisk)\n"
   ]
  },
  {
   "cell_type": "markdown",
   "id": "be79f63e",
   "metadata": {},
   "source": [
    "=============================================================================================================="
   ]
  },
  {
   "cell_type": "markdown",
   "id": "61e2d65f",
   "metadata": {},
   "source": [
    "### 11. What is the difference between {4} and {4,5} in regular expression?"
   ]
  },
  {
   "cell_type": "code",
   "execution_count": 38,
   "id": "d200a154",
   "metadata": {},
   "outputs": [
    {
     "name": "stdout",
     "output_type": "stream",
     "text": [
      "Matches with {4}: ['aaaa', 'aaaa']\n",
      "Matches with {4,5}: ['aaaa', 'aaaaa']\n"
     ]
    }
   ],
   "source": [
    "import re\n",
    "\n",
    "text = \"aaa aa aaa aaaa aaaaa\"\n",
    "\n",
    "# Pattern with {4}\n",
    "pattern_exact = r\"a{4}\"\n",
    "\n",
    "# Pattern with {4,5}\n",
    "pattern_range = r\"a{4,5}\"\n",
    "\n",
    "# Using re.findall with {4}\n",
    "matches_exact = re.findall(pattern_exact, text)\n",
    "print(\"Matches with {4}:\", matches_exact)\n",
    "\n",
    "# Using re.findall with {4,5}\n",
    "matches_range = re.findall(pattern_range, text)\n",
    "print(\"Matches with {4,5}:\", matches_range)\n"
   ]
  },
  {
   "cell_type": "markdown",
   "id": "7ae54015",
   "metadata": {},
   "source": [
    "=============================================================================================================="
   ]
  },
  {
   "cell_type": "markdown",
   "id": "e861689f",
   "metadata": {},
   "source": [
    "### 12. What do you mean by the \\d, \\w, and \\s shorthand character classes signify in regular expressions?"
   ]
  },
  {
   "cell_type": "markdown",
   "id": "149f9d7b",
   "metadata": {},
   "source": [
    "\\d: Represents any digit character (0-9). It is equivalent to the character class [0-9]. For example, the pattern \\d{3} will match any three consecutive digits.\n",
    "\n",
    "\\w: Represents any word character, which includes alphanumeric characters (letters and digits) as well as underscore (_). It is equivalent to the character class [a-zA-Z0-9_]. For example, the pattern \\w+ will match one or more consecutive word characters.\n",
    "\n",
    "\\s: Represents any whitespace character, including spaces, tabs, and newlines. It is equivalent to the character class [\\t\\n\\f\\r\\p{Z}]. For example, the pattern \\s+ will match one or more consecutive whitespace characters."
   ]
  },
  {
   "cell_type": "code",
   "execution_count": 39,
   "id": "3eb4775d",
   "metadata": {},
   "outputs": [
    {
     "name": "stdout",
     "output_type": "stream",
     "text": [
      "Matches with \\d: ['123']\n",
      "Matches with \\w: ['Hello', '123', 'World']\n",
      "Matches with \\s: [' ', ' ']\n"
     ]
    }
   ],
   "source": [
    "import re\n",
    "\n",
    "text = \"Hello 123 World!\"\n",
    "\n",
    "# Pattern with \\d\n",
    "pattern_digits = r\"\\d+\"\n",
    "\n",
    "# Pattern with \\w\n",
    "pattern_word = r\"\\w+\"\n",
    "\n",
    "# Pattern with \\s\n",
    "pattern_space = r\"\\s+\"\n",
    "\n",
    "# Using re.findall with \\d\n",
    "matches_digits = re.findall(pattern_digits, text)\n",
    "print(\"Matches with \\\\d:\", matches_digits)\n",
    "\n",
    "# Using re.findall with \\w\n",
    "matches_word = re.findall(pattern_word, text)\n",
    "print(\"Matches with \\\\w:\", matches_word)\n",
    "\n",
    "# Using re.findall with \\s\n",
    "matches_space = re.findall(pattern_space, text)\n",
    "print(\"Matches with \\\\s:\", matches_space)\n"
   ]
  },
  {
   "cell_type": "markdown",
   "id": "49cf352b",
   "metadata": {},
   "source": [
    "=============================================================================================================="
   ]
  },
  {
   "cell_type": "markdown",
   "id": "cdbfeacd",
   "metadata": {},
   "source": [
    "### 13. What do means by \\D, \\W, and \\S shorthand character classes signify in regular expressions?"
   ]
  },
  {
   "cell_type": "markdown",
   "id": "4528e694",
   "metadata": {},
   "source": [
    "n regular expressions, \\D, \\W, and \\S are shorthand character classes that represent negations of their counterparts:\n",
    "\n",
    "\\D: Represents any character that is not a digit (0-9). It is equivalent to the character class [^0-9]. For example, the pattern \\D+ will match one or more consecutive characters that are not digits.\n",
    "\n",
    "\\W: Represents any character that is not a word character (alphanumeric character or underscore). It is equivalent to the character class [^a-zA-Z0-9_]. For example, the pattern \\W+ will match one or more consecutive characters that are not word characters.\n",
    "\n",
    "\\S: Represents any character that is not a whitespace character (space, tab, newline). It is equivalent to the character class [^\\t\\n\\f\\r\\p{Z}]. For example, the pattern \\S+ will match one or more consecutive characters that are not whitespace characters."
   ]
  },
  {
   "cell_type": "code",
   "execution_count": 43,
   "id": "cb5fae17",
   "metadata": {},
   "outputs": [
    {
     "name": "stdout",
     "output_type": "stream",
     "text": [
      "Matches with \\D: ['Hello ', ' World!']\n",
      "Matches with \\W: [' ', ' ', '!']\n",
      "Matches with \\S: ['Hello', '123', 'World!']\n"
     ]
    }
   ],
   "source": [
    "import re\n",
    "\n",
    "text = \"Hello 123 World!\"\n",
    "\n",
    "# Pattern with \\D\n",
    "pattern_non_digits = r\"\\D+\"\n",
    "\n",
    "# Pattern with \\W\n",
    "pattern_non_word = r\"\\W+\"\n",
    "\n",
    "# Pattern with \\S\n",
    "pattern_non_space = r\"\\S+\"\n",
    "\n",
    "# Using re.findall with \\D\n",
    "matches_non_digits = re.findall(pattern_non_digits, text)\n",
    "print(\"Matches with \\\\D:\", matches_non_digits)\n",
    "\n",
    "# Using re.findall with \\W\n",
    "matches_non_word = re.findall(pattern_non_word, text)\n",
    "print(\"Matches with \\\\W:\", matches_non_word)\n",
    "\n",
    "# Using re.findall with \\S\n",
    "matches_non_space = re.findall(pattern_non_space, text)\n",
    "print(\"Matches with \\\\S:\", matches_non_space)\n"
   ]
  },
  {
   "cell_type": "markdown",
   "id": "de008108",
   "metadata": {},
   "source": [
    "=============================================================================================================="
   ]
  },
  {
   "cell_type": "markdown",
   "id": "ca7b8933",
   "metadata": {},
   "source": [
    "### 14. What is the difference between . * ? and . * \n"
   ]
  },
  {
   "cell_type": "markdown",
   "id": "f34d5a22",
   "metadata": {},
   "source": [
    "In regular expressions, .*? and .* are both quantifiers that represent zero or more occurrences of any character (except newline), but they behave differently:\n",
    "\n",
    ".*?: This is a non-greedy or lazy quantifier. It matches the shortest possible sequence of characters that satisfies the pattern. It tries to match as few characters as possible while still allowing the overall pattern to match. It is often used when you want to match the smallest possible substring.\n",
    "\n",
    ".*: This is a greedy quantifier. It matches the longest possible sequence of characters that satisfies the pattern. It tries to match as many characters as possible. It is the default behavior of quantifiers in regular expressions."
   ]
  },
  {
   "cell_type": "code",
   "execution_count": 45,
   "id": "ebe55800",
   "metadata": {},
   "outputs": [
    {
     "name": "stdout",
     "output_type": "stream",
     "text": [
      "Matches with non-greedy quantifier (.*?): ['<foo>', '</foo>', '<bar>', '</bar>']\n",
      "Matches with greedy quantifier (.*): ['<foo>hello</foo><bar>world</bar>']\n"
     ]
    }
   ],
   "source": [
    "import re\n",
    "\n",
    "text = \"<foo>hello</foo><bar>world</bar>\"\n",
    "\n",
    "# Pattern with non-greedy quantifier (.*?)\n",
    "pattern_non_greedy = r\"<.*?>\"\n",
    "\n",
    "# Pattern with greedy quantifier (.*)\n",
    "pattern_greedy = r\"<.*>\"\n",
    "\n",
    "# Using re.findall with non-greedy quantifier (.*?)\n",
    "matches_non_greedy = re.findall(pattern_non_greedy, text)\n",
    "print(\"Matches with non-greedy quantifier (.*?):\", matches_non_greedy)\n",
    "\n",
    "# Using re.findall with greedy quantifier (.*)\n",
    "matches_greedy = re.findall(pattern_greedy, text)\n",
    "print(\"Matches with greedy quantifier (.*):\", matches_greedy)\n"
   ]
  },
  {
   "cell_type": "markdown",
   "id": "770c6721",
   "metadata": {},
   "source": [
    "=============================================================================================================="
   ]
  },
  {
   "cell_type": "markdown",
   "id": "b51d601d",
   "metadata": {},
   "source": [
    "### 15. What is the syntax for matching both numbers and lowercase letters with a character class?"
   ]
  },
  {
   "cell_type": "code",
   "execution_count": 60,
   "id": "0e8aac65",
   "metadata": {},
   "outputs": [
    {
     "name": "stdout",
     "output_type": "stream",
     "text": [
      "[]\n"
     ]
    }
   ],
   "source": [
    "import re\n",
    "\n",
    "text = \"a1b2c3d4e5\"\n",
    "\n",
    "pattern = r\"[\\d[a-z]]\"\n",
    "\n",
    "matches = re.findall(pattern, text)\n",
    "\n",
    "print(matches)\n"
   ]
  },
  {
   "cell_type": "markdown",
   "id": "809222cd",
   "metadata": {},
   "source": [
    "=============================================================================================================="
   ]
  },
  {
   "cell_type": "markdown",
   "id": "7369bc9a",
   "metadata": {},
   "source": [
    "### 16. What is the procedure for making a normal expression in regax case insensitive?"
   ]
  },
  {
   "cell_type": "code",
   "execution_count": 47,
   "id": "f895d213",
   "metadata": {},
   "outputs": [
    {
     "name": "stdout",
     "output_type": "stream",
     "text": [
      "Match found: Hello\n"
     ]
    }
   ],
   "source": [
    "import re\n",
    "\n",
    "text = \"Hello World\"\n",
    "pattern = r\"hello\"\n",
    "\n",
    "# Compile the pattern with re.IGNORECASE flag\n",
    "regex = re.compile(pattern, re.IGNORECASE)\n",
    "\n",
    "# Search for the pattern in the text\n",
    "match = regex.search(text)\n",
    "\n",
    "if match:\n",
    "    print(\"Match found:\", match.group())\n",
    "else:\n",
    "    print(\"Match not found.\")\n"
   ]
  },
  {
   "cell_type": "code",
   "execution_count": 48,
   "id": "19b9df25",
   "metadata": {},
   "outputs": [
    {
     "name": "stdout",
     "output_type": "stream",
     "text": [
      "Match found: Hello\n"
     ]
    }
   ],
   "source": [
    "import re\n",
    "\n",
    "text = \"Hello World\"\n",
    "pattern = r\"(?i)hello\"\n",
    "\n",
    "# Search for the pattern in the text\n",
    "match = re.search(pattern, text)\n",
    "\n",
    "if match:\n",
    "    print(\"Match found:\", match.group())\n",
    "else:\n",
    "    print(\"Match not found.\")\n"
   ]
  },
  {
   "cell_type": "markdown",
   "id": "2c1be779",
   "metadata": {},
   "source": [
    "=============================================================================================================="
   ]
  },
  {
   "cell_type": "markdown",
   "id": "09d9979b",
   "metadata": {},
   "source": [
    "### 17. What does the . character normally match? What does it match if re.DOTALL is passed as 2nd argument in re.compile()?"
   ]
  },
  {
   "cell_type": "code",
   "execution_count": 49,
   "id": "5ddf4283",
   "metadata": {},
   "outputs": [
    {
     "name": "stdout",
     "output_type": "stream",
     "text": [
      "Match not found.\n"
     ]
    }
   ],
   "source": [
    "import re\n",
    "\n",
    "text = \"Hello\\nWorld\"\n",
    "\n",
    "# Compile the pattern without DOTALL flag\n",
    "regex = re.compile(r\"Hello.World\")\n",
    "\n",
    "# Search for the pattern in the text\n",
    "match = regex.search(text)\n",
    "\n",
    "if match:\n",
    "    print(\"Match found:\", match.group())\n",
    "else:\n",
    "    print(\"Match not found.\")\n"
   ]
  },
  {
   "cell_type": "markdown",
   "id": "de54415c",
   "metadata": {},
   "source": [
    "In the above example, the . character does not match the newline character (\\n) in the text because the re.DOTALL flag was not used in the pattern."
   ]
  },
  {
   "cell_type": "code",
   "execution_count": 50,
   "id": "f2362c0a",
   "metadata": {},
   "outputs": [
    {
     "name": "stdout",
     "output_type": "stream",
     "text": [
      "Match found: Hello\n",
      "World\n"
     ]
    }
   ],
   "source": [
    "import re\n",
    "\n",
    "text = \"Hello\\nWorld\"\n",
    "\n",
    "# Compile the pattern with DOTALL flag\n",
    "regex = re.compile(r\"Hello.World\", re.DOTALL)\n",
    "\n",
    "# Search for the pattern in the text\n",
    "match = regex.search(text)\n",
    "\n",
    "if match:\n",
    "    print(\"Match found:\", match.group())\n",
    "else:\n",
    "    print(\"Match not found.\")\n"
   ]
  },
  {
   "cell_type": "markdown",
   "id": "ee6231b4",
   "metadata": {},
   "source": [
    "=============================================================================================================="
   ]
  },
  {
   "cell_type": "markdown",
   "id": "25219d69",
   "metadata": {},
   "source": [
    "### 18. If numReg = re.compile(r&#39;\\d+&#39;), what will numRegex.sub(&#39;X&#39;, &#39;11 drummers, 10 pipers, five rings, 4 hen&#39;) return?"
   ]
  },
  {
   "cell_type": "code",
   "execution_count": 51,
   "id": "58edeacc",
   "metadata": {},
   "outputs": [
    {
     "name": "stdout",
     "output_type": "stream",
     "text": [
      "X drummers, X pipers, five rings, X hens\n"
     ]
    }
   ],
   "source": [
    "import re\n",
    "\n",
    "# Define the regular expression pattern\n",
    "numRegex = re.compile(r'\\d+')\n",
    "\n",
    "# Input string\n",
    "input_str = '11 drummers, 10 pipers, five rings, 4 hens'\n",
    "\n",
    "# Perform substitution\n",
    "output_str = numRegex.sub('X', input_str)\n",
    "\n",
    "# Print the result\n",
    "print(output_str)\n"
   ]
  },
  {
   "cell_type": "markdown",
   "id": "58ce92e7",
   "metadata": {},
   "source": [
    "=============================================================================================================="
   ]
  },
  {
   "cell_type": "markdown",
   "id": "423aab12",
   "metadata": {},
   "source": [
    "### 19. What does passing re.VERBOSE as the 2nd argument to re.compile() allow to do?"
   ]
  },
  {
   "cell_type": "markdown",
   "id": "5f1586f4",
   "metadata": {},
   "source": [
    "the regular expression pattern r'\\d+\\s+[a-z]+' using re.VERBOSE will actually match all occurrences of one or more digits followed by one or more whitespace characters, followed by one or more lowercase letters in the input string."
   ]
  },
  {
   "cell_type": "code",
   "execution_count": 52,
   "id": "01f79a78",
   "metadata": {},
   "outputs": [
    {
     "name": "stdout",
     "output_type": "stream",
     "text": [
      "Match found: 42 apples\n"
     ]
    }
   ],
   "source": [
    "import re\n",
    "\n",
    "# Define a regular expression pattern using re.VERBOSE\n",
    "pattern = re.compile(r'''\n",
    "    \\d+          # Match one or more digits\n",
    "    \\s+          # Match one or more whitespace characters\n",
    "    [a-z]+       # Match one or more lowercase letters\n",
    "''', re.VERBOSE)\n",
    "\n",
    "# Input string\n",
    "input_str = '42 apples   oranges  bananas'\n",
    "\n",
    "# Perform pattern matching\n",
    "match = pattern.search(input_str)\n",
    "\n",
    "# Check if match found\n",
    "if match:\n",
    "    print('Match found:', match.group())\n",
    "else:\n",
    "    print('Match not found.')\n"
   ]
  },
  {
   "cell_type": "markdown",
   "id": "e4bab479",
   "metadata": {},
   "source": [
    "=============================================================================================================="
   ]
  },
  {
   "cell_type": "markdown",
   "id": "f3e6ba14",
   "metadata": {},
   "source": [
    "### 20. How would you write a regex that match a number with comma for every three digits? It must match the given following:\n",
    "&#39;42&#39;  \n",
    "&#39;1,234&#39;  \n",
    "&#39;6,368,745&#39;  \n",
    "  \n",
    "but not the following:  \n",
    "&#39;12,34,567&#39; (which has only two digits between the commas)  \n",
    "&#39;1234&#39; (which lacks commas)"
   ]
  },
  {
   "cell_type": "code",
   "execution_count": 53,
   "id": "0a4ed01d",
   "metadata": {},
   "outputs": [
    {
     "name": "stdout",
     "output_type": "stream",
     "text": [
      "'42' matches the pattern.\n",
      "'1,234' matches the pattern.\n",
      "'6,368,745' matches the pattern.\n",
      "'12,34,567' does not match the pattern.\n",
      "'1234' does not match the pattern.\n"
     ]
    }
   ],
   "source": [
    "import re\n",
    "\n",
    "# Define the regular expression pattern\n",
    "pattern = r'^\\d{1,3}(,\\d{3})*$'\n",
    "\n",
    "# Test strings\n",
    "strings = [\"42\", \"1,234\", \"6,368,745\", \"12,34,567\", \"1234\"]\n",
    "\n",
    "# Loop through the strings and check for matches\n",
    "for string in strings:\n",
    "    match = re.match(pattern, string)\n",
    "    if match:\n",
    "        print(f\"'{string}' matches the pattern.\")\n",
    "    else:\n",
    "        print(f\"'{string}' does not match the pattern.\")\n"
   ]
  },
  {
   "cell_type": "markdown",
   "id": "e42d9a3b",
   "metadata": {},
   "source": [
    "=============================================================================================================="
   ]
  },
  {
   "cell_type": "markdown",
   "id": "688c11c7",
   "metadata": {},
   "source": [
    "### 21. How would you write a regex that matches the full name of someone whose last name is Watanabe? You can assume that the first name that comes before it will always be one word that begins with a capital letter. The regex must match the following:\n",
    "&#39;Haruto Watanabe&#39;  \n",
    "&#39;Alice Watanabe&#39;  \n",
    "&#39;RoboCop Watanabe&#39;  \n",
    "but not the following:  \n",
    "&#39;haruto Watanabe&#39; (where the first name is not capitalized)  \n",
    "&#39;Mr. Watanabe&#39; (where the preceding word has a nonletter character)  \n",
    "&#39;Watanabe&#39; (which has no first name)  \n",
    "&#39;Haruto watanabe&#39; (where Watanabe is not capitalized)  "
   ]
  },
  {
   "cell_type": "code",
   "execution_count": 56,
   "id": "ce5df12b",
   "metadata": {},
   "outputs": [
    {
     "name": "stdout",
     "output_type": "stream",
     "text": [
      "'Haruto Watanabe' matches the pattern.\n",
      "'Alice Watanabe' matches the pattern.\n",
      "'RoboCop Watanabe' does not match the pattern.\n",
      "'haruto Watanabe' does not match the pattern.\n",
      "'Mr. Watanabe' does not match the pattern.\n",
      "'Watanabe' does not match the pattern.\n",
      "'Haruto watanabe' does not match the pattern.\n"
     ]
    }
   ],
   "source": [
    "import re\n",
    "\n",
    "# Define the regular expression pattern\n",
    "pattern = r'^[A-Z][a-z]*\\sWatanabe$'\n",
    "\n",
    "# Test strings\n",
    "strings = [\"Haruto Watanabe\", \"Alice Watanabe\", \"RoboCop Watanabe\", \"haruto Watanabe\", \"Mr. Watanabe\", \"Watanabe\", \"Haruto watanabe\"]\n",
    "\n",
    "# Loop through the strings and check for matches\n",
    "for string in strings:\n",
    "    match = re.match(pattern, string)\n",
    "    if match:\n",
    "        print(f\"'{string}' matches the pattern.\")\n",
    "    else:\n",
    "        print(f\"'{string}' does not match the pattern.\")\n"
   ]
  },
  {
   "cell_type": "markdown",
   "id": "b2310da5",
   "metadata": {},
   "source": [
    "=============================================================================================================="
   ]
  },
  {
   "cell_type": "markdown",
   "id": "b6368c84",
   "metadata": {},
   "source": [
    "### 22. How would you write a regex that matches a sentence where the first word is either Alice, Bob, or Carol; the second word is either eats, pets, or throws; the third word is apples, cats, or baseballs; and the sentence ends with a period? This regex should be case-insensitive. It must match the following:\n",
    "&#39;Alice eats apples.&#39;  \n",
    "&#39;Bob pets cats.&#39;  \n",
    "&#39;Carol throws baseballs.&#39;  \n",
    "&#39;Alice throws Apples.&#39;  \n",
    "&#39;BOB EATS CATS.&#39;  \n",
    "but not the following:  \n",
    "&#39;RoboCop eats apples.&#39;  \n",
    "&#39;ALICE THROWS FOOTBALLS.&#39;  \n",
    "&#39;Carol eats 7 cats.&#39;    "
   ]
  },
  {
   "cell_type": "code",
   "execution_count": 59,
   "id": "a675335c",
   "metadata": {},
   "outputs": [
    {
     "name": "stdout",
     "output_type": "stream",
     "text": [
      "'Alice eats apples.' matches the pattern.\n",
      "'Bob pets cats.' matches the pattern.\n",
      "'Carol throws baseballs.' matches the pattern.\n",
      "'Alice throws Apples.' matches the pattern.\n",
      "'BOB EATS CATS.' matches the pattern.\n",
      "'RoboCop eats apples.' does not match the pattern.\n",
      "'ALICE THROWS FOOTBALLS.' does not match the pattern.\n",
      "'Carol eats 7 cats.' does not match the pattern.\n"
     ]
    },
    {
     "name": "stderr",
     "output_type": "stream",
     "text": [
      "c:\\users\\user\\appdata\\local\\programs\\python\\python36\\lib\\site-packages\\ipykernel_launcher.py:11: DeprecationWarning: Flags not at the start of the expression '^(?i)(Alice|Bob|Caro' (truncated)\n",
      "  # This is added back by InteractiveShellApp.init_path()\n"
     ]
    }
   ],
   "source": [
    "import re\n",
    "\n",
    "# Define the regular expression pattern\n",
    "pattern = r'^(?i)(Alice|Bob|Carol)\\s+(eats|pets|throws)\\s+(apples|cats|baseballs)\\.$'\n",
    "\n",
    "# Test strings\n",
    "strings = [\"Alice eats apples.\", \"Bob pets cats.\", \"Carol throws baseballs.\", \"Alice throws Apples.\", \"BOB EATS CATS.\", \"RoboCop eats apples.\", \"ALICE THROWS FOOTBALLS.\", \"Carol eats 7 cats.\"]\n",
    "\n",
    "# Loop through the strings and check for matches\n",
    "for string in strings:\n",
    "    match = re.match(pattern, string)\n",
    "    if match:\n",
    "        print(f\"'{string}' matches the pattern.\")\n",
    "    else:\n",
    "        print(f\"'{string}' does not match the pattern.\")\n"
   ]
  },
  {
   "cell_type": "markdown",
   "id": "5e3c3191",
   "metadata": {},
   "source": [
    "=============================================================================================================="
   ]
  }
 ],
 "metadata": {
  "kernelspec": {
   "display_name": "Python 3",
   "language": "python",
   "name": "python3"
  },
  "language_info": {
   "codemirror_mode": {
    "name": "ipython",
    "version": 3
   },
   "file_extension": ".py",
   "mimetype": "text/x-python",
   "name": "python",
   "nbconvert_exporter": "python",
   "pygments_lexer": "ipython3",
   "version": "3.6.2"
  }
 },
 "nbformat": 4,
 "nbformat_minor": 5
}
