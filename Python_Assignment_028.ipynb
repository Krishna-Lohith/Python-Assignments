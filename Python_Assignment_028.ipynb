{
 "cells": [
  {
   "cell_type": "markdown",
   "id": "407411d2",
   "metadata": {},
   "source": [
    "# Python_Assignment_028"
   ]
  },
  {
   "cell_type": "markdown",
   "id": "9f79fe57",
   "metadata": {},
   "source": [
    "**Topics covered:-**  \n",
    "Abstract Superclass  \n",
    "class object  \n",
    "Constructor method  \n",
    "super() function  \n",
    "Local scope  "
   ]
  },
  {
   "cell_type": "markdown",
   "id": "0ce6402d",
   "metadata": {},
   "source": [
    "=============================================================================================================="
   ]
  },
  {
   "cell_type": "markdown",
   "id": "75bd9b0d",
   "metadata": {},
   "source": [
    "## 1. What is the concept of an abstract superclass?"
   ]
  },
  {
   "cell_type": "markdown",
   "id": "81aa68ec",
   "metadata": {},
   "source": [
    "In object-oriented programming, an abstract superclass is a class that is designed to be extended by other classes, but is not meant to be instantiated on its own. An abstract superclass typically contains abstract methods that do not have an implementation, but instead define a contract or a set of requirements that its subclasses must fulfill.\n",
    "\n",
    "The purpose of an abstract superclass is to provide a common interface and behavior that can be shared by multiple subclasses. By defining a contract in the abstract superclass, the subclasses are required to provide their own implementation of the methods defined in the contract, which ensures that they all have a consistent behavior.\n",
    "\n",
    "An abstract superclass can also contain concrete methods that provide a default implementation for some of the methods in the contract. These methods can be overridden by the subclasses if needed.\n",
    "\n",
    "The use of an abstract superclass allows for greater code reuse and maintainability, as well as improved flexibility and extensibility of the codebase.\n",
    "\n",
    "Note that in some programming languages, such as Java and C++, an abstract superclass is defined using the abstract keyword. In other languages, such as Python, the concept of an abstract superclass is achieved through the use of abstract base classes."
   ]
  },
  {
   "cell_type": "markdown",
   "id": "5d6bc2e6",
   "metadata": {},
   "source": [
    "=============================================================================================================="
   ]
  },
  {
   "cell_type": "markdown",
   "id": "4534f127",
   "metadata": {},
   "source": [
    "## 2. What happens when a class statement&#39;s top level contains a basic assignment statement?"
   ]
  },
  {
   "cell_type": "markdown",
   "id": "d5af6822",
   "metadata": {},
   "source": [
    "When a class statement's top level contains a basic assignment statement, a class variable is created with the given name and value.\n",
    "\n",
    "In Python, class variables are variables that are shared by all instances of a class. They are defined within the class definition but outside of any methods. Class variables are accessed using the class name, rather than an instance of the class."
   ]
  },
  {
   "cell_type": "code",
   "execution_count": 1,
   "id": "f45e7733",
   "metadata": {},
   "outputs": [
    {
     "name": "stdout",
     "output_type": "stream",
     "text": [
      "class_var =  42\n",
      "instance_var =  10\n"
     ]
    }
   ],
   "source": [
    "class MyClass:\n",
    "    class_var = 42\n",
    "    \n",
    "    def __init__(self, instance_var):\n",
    "        self.instance_var = instance_var\n",
    "        \n",
    "    def print_vars(self):\n",
    "        print(\"class_var = \", MyClass.class_var)\n",
    "        print(\"instance_var = \", self.instance_var)\n",
    "        \n",
    "my_instance = MyClass(10)\n",
    "my_instance.print_vars()\n"
   ]
  },
  {
   "cell_type": "markdown",
   "id": "c964fb45",
   "metadata": {},
   "source": [
    "In this example, class_var is a class variable that is defined at the top level of the MyClass definition, with a value of 42. When an instance of MyClass is created, it is passed an instance_var value of 10. The print_vars() method of MyClass is called on the instance, which prints out the value of both class_var and instance_var."
   ]
  },
  {
   "cell_type": "code",
   "execution_count": 2,
   "id": "03149a94",
   "metadata": {},
   "outputs": [],
   "source": [
    "class_var = 42\n",
    "instance_var = 10"
   ]
  },
  {
   "cell_type": "markdown",
   "id": "efc4e362",
   "metadata": {},
   "source": [
    "So, even though class_var is not an instance variable, it is still accessible from an instance of MyClass."
   ]
  },
  {
   "cell_type": "markdown",
   "id": "68c60187",
   "metadata": {},
   "source": [
    "=============================================================================================================="
   ]
  },
  {
   "cell_type": "markdown",
   "id": "c9f21217",
   "metadata": {},
   "source": [
    "## 3. Why does a class need to manually call a superclass&#39;s __init__ method?"
   ]
  },
  {
   "cell_type": "markdown",
   "id": "4f06b8d7",
   "metadata": {},
   "source": [
    "In object-oriented programming, a class may need to manually call a superclass's __init__() method to ensure that the superclass's initialization logic is executed before the subclass's initialization logic.\n",
    "\n",
    "When a subclass is created, it inherits all of the methods and attributes of its superclass. However, if the superclass defines an __init__() method, it is not automatically called by the subclass's __init__() method. Instead, the subclass must explicitly call the superclass's __init__() method using the super() function.\n",
    "\n",
    "This is necessary because the superclass's __init__() method may contain important initialization logic that sets up the object's state or performs other necessary actions. If the subclass were to simply override the superclass's __init__() method without calling it, the superclass's initialization logic would be skipped, potentially resulting in unexpected behavior or errors."
   ]
  },
  {
   "cell_type": "code",
   "execution_count": 3,
   "id": "e807a1f9",
   "metadata": {},
   "outputs": [
    {
     "name": "stdout",
     "output_type": "stream",
     "text": [
      "Fido is an animal.\n",
      "Fido is a Labrador Retriever.\n"
     ]
    }
   ],
   "source": [
    "class Animal:\n",
    "    def __init__(self, name):\n",
    "        self.name = name\n",
    "        print(f\"{self.name} is an animal.\")\n",
    "\n",
    "class Dog(Animal):\n",
    "    def __init__(self, name, breed):\n",
    "        self.breed = breed\n",
    "        # Call the superclass's __init__ method to initialize the name attribute\n",
    "        super().__init__(name)\n",
    "        print(f\"{self.name} is a {self.breed}.\")\n",
    "\n",
    "my_dog = Dog(\"Fido\", \"Labrador Retriever\")\n"
   ]
  },
  {
   "cell_type": "markdown",
   "id": "d4b9c5c4",
   "metadata": {},
   "source": [
    "In this example, Animal is a superclass and Dog is a subclass. Both classes have an __init__() method that initializes the name attribute. However, the Dog class has an additional breed attribute that needs to be initialized.\n",
    "\n",
    "To do this, the Dog class calls the __init__() method of the Animal class using the super() function. This ensures that the name attribute is initialized before the breed attribute is set. If the Dog class did not call the superclass's __init__() method, the name attribute would not be initialized, resulting in unexpected behavior or errors."
   ]
  },
  {
   "cell_type": "markdown",
   "id": "03ae45e9",
   "metadata": {},
   "source": [
    "=============================================================================================================="
   ]
  },
  {
   "cell_type": "markdown",
   "id": "c2f07388",
   "metadata": {},
   "source": [
    "## 4. How can you augment, instead of completely replacing, an inherited method?"
   ]
  },
  {
   "cell_type": "markdown",
   "id": "e4e8c45d",
   "metadata": {},
   "source": [
    "In Python, you can augment an inherited method in a subclass by calling the parent class's method using the super() function, and then modifying the result as needed. This technique is known as method overriding."
   ]
  },
  {
   "cell_type": "code",
   "execution_count": 4,
   "id": "6272687b",
   "metadata": {},
   "outputs": [
    {
     "name": "stdout",
     "output_type": "stream",
     "text": [
      "Starting engine...\n",
      "...Engine started.\n"
     ]
    }
   ],
   "source": [
    "class Vehicle:\n",
    "    def start_engine(self):\n",
    "        print(\"Starting engine...\")\n",
    "\n",
    "class Car(Vehicle):\n",
    "    def start_engine(self):\n",
    "        super().start_engine()  # Call parent class's start_engine() method\n",
    "        print(\"...Engine started.\")\n",
    "\n",
    "my_car = Car()\n",
    "my_car.start_engine()\n",
    "\n",
    "# Starting engine...\n",
    "# ...Engine started."
   ]
  },
  {
   "cell_type": "markdown",
   "id": "d95661ac",
   "metadata": {},
   "source": [
    "In this example, the Vehicle class has a start_engine() method that prints a message indicating that the engine is starting. The Car class inherits this method, but overrides it with its own implementation that adds an additional message indicating that the engine has started.\n",
    "\n",
    "To accomplish this, the Car class first calls the parent class's start_engine() method using the super() function, which prints the initial message. Then, the Car class adds its own message indicating that the engine has started.\n",
    "\n",
    "When the start_engine() method is called on an instance of the Car class, both messages are printed, resulting in the output:"
   ]
  },
  {
   "cell_type": "markdown",
   "id": "020767fe",
   "metadata": {},
   "source": [
    "By using super() to call the parent class's method first, you can ensure that any necessary initialization or other logic from the parent class is still executed, while still adding your own modifications to the method in the subclass."
   ]
  },
  {
   "cell_type": "markdown",
   "id": "9ce2acf9",
   "metadata": {},
   "source": [
    "=============================================================================================================="
   ]
  },
  {
   "cell_type": "markdown",
   "id": "d1e4e5cc",
   "metadata": {},
   "source": [
    "## 5. How is the local scope of a class different from that of a function?"
   ]
  },
  {
   "cell_type": "markdown",
   "id": "7040ed0a",
   "metadata": {},
   "source": [
    "In Python, the local scope of a class and that of a function are different in several ways:\n",
    "\n",
    "Location: The local scope of a class is defined within the class definition, while the local scope of a function is defined within the function definition.\n",
    "\n",
    "Variables: The local scope of a class can contain instance variables, which are variables that are specific to each instance of the class. The local scope of a function can contain local variables, which are variables that are specific to the function and are not accessible outside of it.\n",
    "\n",
    "Access: The local scope of a class can access variables and methods defined within the class, as well as variables and methods defined in any superclass. The local scope of a function can only access variables and methods defined within the function, as well as any variables defined in the global scope.\n",
    "\n",
    "Lifetime: The local scope of a class exists for as long as the class exists, which is typically for the lifetime of the program. The local scope of a function exists only for the duration of the function call, and is destroyed when the function returns."
   ]
  },
  {
   "cell_type": "code",
   "execution_count": 5,
   "id": "0888302e",
   "metadata": {},
   "outputs": [
    {
     "name": "stdout",
     "output_type": "stream",
     "text": [
      "This is a local variable.\n",
      "This is an instance variable.\n",
      "This is a class variable.\n"
     ]
    }
   ],
   "source": [
    "class MyClass:\n",
    "    class_variable = \"This is a class variable.\"  # A variable defined in the local scope of the class\n",
    "    \n",
    "    def __init__(self, instance_variable):\n",
    "        self.instance_variable = instance_variable  # A variable defined in the local scope of the instance\n",
    "        \n",
    "    def my_method(self):\n",
    "        local_variable = \"This is a local variable.\"  # A variable defined in the local scope of the method\n",
    "        print(local_variable)\n",
    "        print(self.instance_variable)\n",
    "        print(self.class_variable)\n",
    "\n",
    "my_object = MyClass(\"This is an instance variable.\")\n",
    "\n",
    "my_object.my_method()"
   ]
  },
  {
   "cell_type": "markdown",
   "id": "91eeb687",
   "metadata": {},
   "source": [
    "In this example, the MyClass class defines a class variable (class_variable) and an instance variable (instance_variable). It also defines a method (my_method()) that defines a local variable (local_variable) and prints the values of the instance variable, class variable, and local variable.\n",
    "\n",
    "When the my_method() method is called on an instance of the MyClass class, it prints the value of the local variable (This is a local variable.), as well as the values of the instance variable and class variable (This is an instance variable. and This is a class variable., respectively).\n",
    "\n",
    "Note that the local scope of the class (i.e., the variables defined within the class definition) can be accessed from any method or instance of the class, while the local scope of a function (i.e., the variables defined within the function definition) can only be accessed within the function itself."
   ]
  },
  {
   "cell_type": "markdown",
   "id": "db95b1a6",
   "metadata": {},
   "source": [
    "=============================================================================================================="
   ]
  }
 ],
 "metadata": {
  "kernelspec": {
   "display_name": "Python 3",
   "language": "python",
   "name": "python3"
  },
  "language_info": {
   "codemirror_mode": {
    "name": "ipython",
    "version": 3
   },
   "file_extension": ".py",
   "mimetype": "text/x-python",
   "name": "python",
   "nbconvert_exporter": "python",
   "pygments_lexer": "ipython3",
   "version": "3.6.2"
  }
 },
 "nbformat": 4,
 "nbformat_minor": 5
}
