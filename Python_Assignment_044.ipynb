{
 "cells": [
  {
   "cell_type": "markdown",
   "id": "6c5bba78",
   "metadata": {},
   "source": [
    "# Python_Assignment_044 "
   ]
  },
  {
   "cell_type": "markdown",
   "id": "e6de2f94",
   "metadata": {},
   "source": [
    "**Topics covered:-**  \n",
    "classes and instance    \n",
    "method  \n",
    "Inheritance  \n",
    "Encapsulation   \n",
    "class variable and an instance variable   \n",
    "self  \n",
    "\\__add__ and \\__radd__    \n",
    "reflection method    \n",
    "\\__iadd__  \n",
    "\\__init__  "
   ]
  },
  {
   "cell_type": "markdown",
   "id": "da350fd0",
   "metadata": {},
   "source": [
    "=============================================================================================================="
   ]
  },
  {
   "cell_type": "markdown",
   "id": "c6f1f390",
   "metadata": {},
   "source": [
    "## Q1. Define the relationship between a class and its instances. Is it a one-to-one or a one-to-many partnership, for example?"
   ]
  },
  {
   "cell_type": "markdown",
   "id": "d32f8ff6",
   "metadata": {},
   "source": [
    "In object-oriented programming, a class defines a blueprint for creating objects, while an instance is an object created from that blueprint. It is a one-to-many partnership, where a single class can have multiple instances.\n",
    "\n",
    "For example, let's define a class called Person:"
   ]
  },
  {
   "cell_type": "code",
   "execution_count": 1,
   "id": "002f9d94",
   "metadata": {},
   "outputs": [],
   "source": [
    "class Person:\n",
    "    def __init__(self, name, age):\n",
    "        self.name = name\n",
    "        self.age = age\n",
    "\n",
    "    def greet(self):\n",
    "        print(f\"Hello, my name is {self.name} and I am {self.age} years old.\")"
   ]
  },
  {
   "cell_type": "code",
   "execution_count": 2,
   "id": "10f7b3b6",
   "metadata": {},
   "outputs": [],
   "source": [
    "# We can now create multiple instances of this class, each with its own set of properties:\n",
    "\n",
    "person1 = Person(\"Alice\", 25)\n",
    "person2 = Person(\"Bob\", 30)\n",
    "person3 = Person(\"Charlie\", 35)\n"
   ]
  },
  {
   "cell_type": "markdown",
   "id": "1f5df878",
   "metadata": {},
   "source": [
    "In this example, the class Person defines the blueprint for creating objects that represent people, and each instance (person1, person2, person3) is an object created from that blueprint with its own set of properties (name and age)."
   ]
  },
  {
   "cell_type": "markdown",
   "id": "b05161dc",
   "metadata": {},
   "source": [
    "=============================================================================================================="
   ]
  },
  {
   "cell_type": "markdown",
   "id": "fb949aa6",
   "metadata": {},
   "source": [
    "## Q2. What kind of data is held only in an instance?"
   ]
  },
  {
   "cell_type": "markdown",
   "id": "29f29986",
   "metadata": {},
   "source": [
    "In object-oriented programming, instance variables are data that is unique to each instance of a class. This means that they are not shared across different instances of the same class, but are specific to each object. Instance variables are typically defined in the constructor of a class and can hold any kind of data, including numbers, strings, lists, dictionaries, and other objects.\n",
    "\n",
    "For example, let's say we have a Person class with the instance variables name, age, and gender. Each instance of the Person class will have its own values for these variables, so we can create multiple Person objects with different values for these attributes:"
   ]
  },
  {
   "cell_type": "code",
   "execution_count": 3,
   "id": "1533557c",
   "metadata": {},
   "outputs": [
    {
     "name": "stdout",
     "output_type": "stream",
     "text": [
      "Alice 25 female\n",
      "Bob 30 male\n"
     ]
    }
   ],
   "source": [
    "class Person:\n",
    "    def __init__(self, name, age, gender):\n",
    "        self.name = name\n",
    "        self.age = age\n",
    "        self.gender = gender\n",
    "\n",
    "person1 = Person(\"Alice\", 25, \"female\")\n",
    "person2 = Person(\"Bob\", 30, \"male\")\n",
    "\n",
    "print(person1.name, person1.age, person1.gender) # Alice 25 female\n",
    "print(person2.name, person2.age, person2.gender) # Bob 30 male\n",
    "    \n",
    "#In this example, name, age, and gender are all instance variables that are unique to each Person object."
   ]
  },
  {
   "cell_type": "markdown",
   "id": "3e183033",
   "metadata": {},
   "source": [
    "## Q3. What kind of knowledge is stored in a class?"
   ]
  },
  {
   "cell_type": "markdown",
   "id": "0deebac6",
   "metadata": {},
   "source": [
    "In object-oriented programming, a class is a blueprint for creating objects. It defines a set of attributes and methods that the objects of that class will possess. The attributes represent the state of the object, while the methods represent the behavior of the object.\n",
    "\n",
    "In simpler terms, a class stores the knowledge about how to create objects of that class and what those objects can do. It defines the common characteristics and behavior of the objects."
   ]
  },
  {
   "cell_type": "markdown",
   "id": "4730a116",
   "metadata": {},
   "source": [
    "=============================================================================================================="
   ]
  },
  {
   "cell_type": "markdown",
   "id": "30ac5312",
   "metadata": {},
   "source": [
    "## Q4. What exactly is a method, and how is it different from a regular function?"
   ]
  },
  {
   "cell_type": "markdown",
   "id": "ab4ca1dd",
   "metadata": {},
   "source": [
    "In object-oriented programming, a method is a function that is associated with a class or an instance of a class. The key difference between a method and a regular function is that a method is called on an object, whereas a function is not. In other words, a method is a function that operates on the data contained within an object of a class, whereas a function operates independently of any objects. A method typically has access to the internal state of the object it belongs to, and can modify that state if necessary.\n",
    "\n",
    "For example, consider a class called Car that has a method called start_engine(). This method operates on an instance of the Car class and starts its engine. To call the method, you would first create an instance of the Car class, and then call the method on that instance:"
   ]
  },
  {
   "cell_type": "code",
   "execution_count": 5,
   "id": "e18905af",
   "metadata": {},
   "outputs": [
    {
     "name": "stdout",
     "output_type": "stream",
     "text": [
      "Engine started\n"
     ]
    }
   ],
   "source": [
    "class Car:\n",
    "    def __init__(self, make, model, year):\n",
    "        self.make = make\n",
    "        self.model = model\n",
    "        self.year = year\n",
    "        self.engine_running = False\n",
    "\n",
    "    def start_engine(self):\n",
    "        self.engine_running = True\n",
    "        print(\"Engine started\")\n",
    "\n",
    "my_car = Car(\"Toyota\", \"Corolla\", 2022)\n",
    "my_car.start_engine()  # prints \"Engine started\""
   ]
  },
  {
   "cell_type": "markdown",
   "id": "99f76fb0",
   "metadata": {},
   "source": [
    "In this example, the start_engine() method is called on the my_car instance of the Car class, and modifies the internal state of the my_car instance by setting the engine_running attribute to True."
   ]
  },
  {
   "cell_type": "markdown",
   "id": "b5ef0fe5",
   "metadata": {},
   "source": [
    "=============================================================================================================="
   ]
  },
  {
   "cell_type": "markdown",
   "id": "d39b2433",
   "metadata": {},
   "source": [
    "## Q5. Is inheritance supported in Python, and if so, what is the syntax?"
   ]
  },
  {
   "cell_type": "code",
   "execution_count": 11,
   "id": "919946e2",
   "metadata": {},
   "outputs": [],
   "source": [
    "#Yes, inheritance is supported in Python. The syntax for inheritance in Python is as follows:\n",
    "class ParentClass:\n",
    "    pass\n",
    "\n",
    "class ChildClass(ParentClass):\n",
    "    # Child class definition\n",
    "    pass"
   ]
  },
  {
   "cell_type": "markdown",
   "id": "3f3730dd",
   "metadata": {},
   "source": [
    "Here, ChildClass is the child or derived class that inherits from the ParentClass or base class. The child class can then access the attributes and methods of the parent class.\n",
    "\n",
    "For example, consider the following code:"
   ]
  },
  {
   "cell_type": "code",
   "execution_count": 12,
   "id": "0571e42c",
   "metadata": {},
   "outputs": [
    {
     "name": "stdout",
     "output_type": "stream",
     "text": [
      "Buddy is a Golden Retriever and is 5 years old.\n"
     ]
    }
   ],
   "source": [
    "class Animal:\n",
    "    def __init__(self, name, age):\n",
    "        self.name = name\n",
    "        self.age = age\n",
    "\n",
    "    def get_info(self):\n",
    "        return f\"{self.name} is {self.age} years old.\"\n",
    "\n",
    "class Dog(Animal):\n",
    "    def __init__(self, name, age, breed):\n",
    "        super().__init__(name, age)\n",
    "        self.breed = breed\n",
    "\n",
    "    def get_info(self):\n",
    "        return f\"{self.name} is a {self.breed} and is {self.age} years old.\"\n",
    "\n",
    "my_dog = Dog(\"Buddy\", 5, \"Golden Retriever\")\n",
    "print(my_dog.get_info())\n"
   ]
  },
  {
   "cell_type": "markdown",
   "id": "cba1d946",
   "metadata": {},
   "source": [
    "In this example, Dog is a derived class of the Animal class. It inherits the __init__ method of the Animal class, but overrides the get_info method to include information specific to a dog's breed. When we create an instance of Dog and call the get_info method, it uses the overridden method of the child class, but still has access to the properties of the parent class."
   ]
  },
  {
   "cell_type": "markdown",
   "id": "50e04aa5",
   "metadata": {},
   "source": [
    "=============================================================================================================="
   ]
  },
  {
   "cell_type": "markdown",
   "id": "64cdc82f",
   "metadata": {},
   "source": [
    "## Q6. How much encapsulation (making instance or class variables private) does Python support?"
   ]
  },
  {
   "cell_type": "markdown",
   "id": "bb48e048",
   "metadata": {},
   "source": [
    "Python does not have true encapsulation and does not support private variables, but it does support a convention to indicate that a variable or method should not be accessed outside of the class or instance: a single leading underscore. A variable or method with a single leading underscore should be considered \"protected\" and accessed only by subclasses and internal methods of the class. A variable or method with two leading underscores is \"name-mangled\" and not easily accessible outside the class. It can be accessed with a mangled name that includes the class name, but this is discouraged in most cases.\n",
    "\n",
    "For example, consider the following code:"
   ]
  },
  {
   "cell_type": "code",
   "execution_count": 13,
   "id": "d0dd7d03",
   "metadata": {},
   "outputs": [
    {
     "name": "stdout",
     "output_type": "stream",
     "text": [
      "My name is Alice and I am 30 years old.\n",
      "My name is Bob and I am 20 years old.\n",
      "Bob is studying at XYZ University.\n"
     ]
    }
   ],
   "source": [
    "class Person:\n",
    "    def __init__(self, name, age):\n",
    "        self._name = name  # protected variable\n",
    "        self.__age = age   # private variable (name-mangled)\n",
    "\n",
    "    def _get_age(self):\n",
    "        return self.__age\n",
    "\n",
    "    def speak(self):\n",
    "        print(f\"My name is {self._name} and I am {self._get_age()} years old.\")\n",
    "\n",
    "class Student(Person):\n",
    "    def __init__(self, name, age, school):\n",
    "        super().__init__(name, age)\n",
    "        self.school = school\n",
    "\n",
    "    def study(self):\n",
    "        print(f\"{self._name} is studying at {self.school}.\")\n",
    "\n",
    "p = Person(\"Alice\", 30)\n",
    "p.speak()  # \"My name is Alice and I am 30 years old.\"\n",
    "\n",
    "s = Student(\"Bob\", 20, \"XYZ University\")\n",
    "s.speak()  # \"My name is Bob and I am 20 years old.\"\n",
    "s.study()  # \"Bob is studying at XYZ University.\"\n"
   ]
  },
  {
   "cell_type": "markdown",
   "id": "122b7861",
   "metadata": {},
   "source": [
    "In this example, _name is a protected variable that should not be accessed outside of the class or its subclasses. __age is a private variable that is name-mangled to _Person__age, making it difficult to access from outside the class. The _get_age method is a protected method that returns the private __age variable. The speak method uses the protected _name and _get_age methods to print out information about the person. The Student class inherits from Person and adds a new instance variable school and a new method study. The study method uses the protected _name variable to print out information about the student."
   ]
  },
  {
   "cell_type": "markdown",
   "id": "b4cf3010",
   "metadata": {},
   "source": [
    "=============================================================================================================="
   ]
  },
  {
   "cell_type": "markdown",
   "id": "59946f22",
   "metadata": {},
   "source": [
    "## Q7. How do you distinguish between a class variable and an instance variable?"
   ]
  },
  {
   "cell_type": "markdown",
   "id": "955e2604",
   "metadata": {},
   "source": [
    "In Python, a class variable is a variable that is shared among all instances of a class, while an instance variable is unique to each instance of the class.\n",
    "\n",
    "A class variable is defined within the class but outside of any methods, and it is accessed using the class name rather than the instance name. Any changes made to the class variable using one instance will be reflected in all instances of the class.\n",
    "\n",
    "On the other hand, an instance variable is defined within the constructor method of the class, and it is accessed using the instance name. Each instance of the class will have its own copy of the instance variable, and changes made to the variable using one instance will not affect any other instances of the class."
   ]
  },
  {
   "cell_type": "markdown",
   "id": "ddc79b75",
   "metadata": {},
   "source": [
    "=============================================================================================================="
   ]
  },
  {
   "cell_type": "markdown",
   "id": "5e56033e",
   "metadata": {},
   "source": [
    "## Q8. When, if ever, can self be included in a class&#39;s method definitions?"
   ]
  },
  {
   "cell_type": "markdown",
   "id": "329693f3",
   "metadata": {},
   "source": [
    "In Python, self is a special keyword that refers to the instance of the class that the method is being called on. It is typically the first parameter of a class method, and it is used to access the attributes and methods of the instance.\n",
    "\n",
    "self is included in a class's method definitions when the method needs to access or modify the attributes of the instance. It is a common convention to name the first parameter self, but you can technically name it anything you like (although this is not recommended for readability purposes).\n",
    "\n",
    "For example, consider the following class definition:"
   ]
  },
  {
   "cell_type": "code",
   "execution_count": 14,
   "id": "08170447",
   "metadata": {},
   "outputs": [],
   "source": [
    "class Car:\n",
    "    def __init__(my_car, make, model):\n",
    "        my_car.make = make\n",
    "        my_car.model = model\n",
    "        \n",
    "    def get_make(self):\n",
    "        return self.make\n",
    "    \n",
    "    def set_make(self, make):\n",
    "        self.make = make\n"
   ]
  },
  {
   "cell_type": "markdown",
   "id": "75bdc0f2",
   "metadata": {},
   "source": [
    "In this example, the __init__ method takes a my_car parameter instead of self, but it still refers to the instance of the class in the same way. The get_make and set_make methods use the self parameter to access and modify the make attribute of the instance."
   ]
  },
  {
   "cell_type": "markdown",
   "id": "5ca9f315",
   "metadata": {},
   "source": [
    "=============================================================================================================="
   ]
  },
  {
   "cell_type": "markdown",
   "id": "ddb1354e",
   "metadata": {},
   "source": [
    "## Q9. What is the difference between the _ _add_ _ and the _ _radd_ _ methods?"
   ]
  },
  {
   "cell_type": "markdown",
   "id": "388e37fd",
   "metadata": {},
   "source": [
    "The __add__ and __radd__ methods are both special methods in Python classes that allow objects to perform addition with the + operator.\n",
    "\n",
    "The __add__ method is called when the object appears on the left-hand side of the + operator, while __radd__ is called when the object appears on the right-hand side.\n",
    "\n",
    "For example, if you have a class MyNumber that represents a number, and you add two MyNumber objects a and b with the expression a + b, Python will call a.__add__(b) to perform the addition. If b is not a MyNumber object, Python will try to call b.__radd__(a) instead.\n",
    "\n",
    "Here's an example implementation of these methods:"
   ]
  },
  {
   "cell_type": "code",
   "execution_count": 15,
   "id": "33189da0",
   "metadata": {},
   "outputs": [],
   "source": [
    "class MyNumber:\n",
    "    def __init__(self, value):\n",
    "        self.value = value\n",
    "        \n",
    "    def __add__(self, other):\n",
    "        if isinstance(other, MyNumber):\n",
    "            return MyNumber(self.value + other.value)\n",
    "        else:\n",
    "            raise TypeError(\"Unsupported operand type for +\")\n",
    "    \n",
    "    def __radd__(self, other):\n",
    "        return self.__add__(other)\n"
   ]
  },
  {
   "cell_type": "markdown",
   "id": "1e8ab6b2",
   "metadata": {},
   "source": [
    "In this example, the __add__ method checks if the other object is a MyNumber object, and if so, returns a new MyNumber object with the sum of the two values. If the other object is not a MyNumber object, a TypeError is raised. The __radd__ method simply calls __add__, but with the arguments reversed, to handle the case where the object appears on the right-hand side of the + operator."
   ]
  },
  {
   "cell_type": "markdown",
   "id": "b1b8e013",
   "metadata": {},
   "source": [
    "=============================================================================================================="
   ]
  },
  {
   "cell_type": "markdown",
   "id": "fbdd4b6e",
   "metadata": {},
   "source": [
    "## Q10. When is it necessary to use a reflection method? When do you not need it, even though you support the operation in question?"
   ]
  },
  {
   "cell_type": "markdown",
   "id": "2fc4dc82",
   "metadata": {},
   "source": [
    "Reflection, also known as introspection, is the ability of an object to examine its own properties and attributes at runtime. Reflection methods in Python begin with \"dunder\" (double underscore) or \"magic\" methods. One common use case of reflection is when a class needs to modify its behavior based on the attributes of an instance, such as when implementing serialization or printing.\n",
    "\n",
    "Reflection methods are necessary when the class or instance needs to perform some action based on the attributes of the instance, but the attributes are not explicitly known ahead of time. For example, a class that supports arithmetic operations may need to use reflection to determine how to add two instances together if the attribute that represents the value to be added is not known in advance.\n",
    "\n",
    "On the other hand, reflection is not always necessary, even if the operation in question is supported by the class. If the attributes or properties that are needed to perform the operation are known ahead of time, they can be accessed directly without the use of reflection."
   ]
  },
  {
   "cell_type": "markdown",
   "id": "b58f21f3",
   "metadata": {},
   "source": [
    "=============================================================================================================="
   ]
  },
  {
   "cell_type": "markdown",
   "id": "a16b55b7",
   "metadata": {},
   "source": [
    "## Q11. What is the _ _iadd_ _ method called?"
   ]
  },
  {
   "cell_type": "markdown",
   "id": "d8f6fe84",
   "metadata": {},
   "source": [
    "The __iadd__ method is called the \"in-place addition\" method. It is used when we want to modify the value of an instance in-place, rather than creating a new object with the updated value. It is implemented by many built-in types in Python, such as lists, sets, and dictionaries.\n",
    "\n",
    "Here's an example of how to use the __iadd__ method with a list:"
   ]
  },
  {
   "cell_type": "code",
   "execution_count": 17,
   "id": "9d6a5f6f",
   "metadata": {},
   "outputs": [
    {
     "name": "stdout",
     "output_type": "stream",
     "text": [
      "[1, 2, 3, 4, 5, 6]\n"
     ]
    }
   ],
   "source": [
    "my_list = [1, 2, 3]\n",
    "my_list += [4, 5, 6]  # This is equivalent to my_list.__iadd__([4, 5, 6])\n",
    "print(my_list)  # Output: [1, 2, 3, 4, 5, 6]"
   ]
  },
  {
   "cell_type": "markdown",
   "id": "23421203",
   "metadata": {},
   "source": [
    "In this example, we use the += operator to add a list of values to my_list. This is equivalent to calling the __iadd__ method on my_list with the same list of values. The __iadd__ method modifies my_list in-place, so the output is the same as if we had used the append() method to add each value individually."
   ]
  },
  {
   "cell_type": "markdown",
   "id": "6413f5d2",
   "metadata": {},
   "source": [
    "=============================================================================================================="
   ]
  },
  {
   "cell_type": "markdown",
   "id": "ab207026",
   "metadata": {},
   "source": [
    "## Q12. Is the _ _init_ _ method inherited by subclasses? What do you do if you need to customize its behavior within a subclass?"
   ]
  },
  {
   "cell_type": "markdown",
   "id": "6d23a9ce",
   "metadata": {},
   "source": [
    "The _ init _ method is not inherited by subclasses, but it can be overridden in the subclass to customize its behavior. If the _ init _ method needs to be customized in the subclass, it can be defined with the same name in the subclass, and the new implementation will override the implementation in the superclass. The subclass can then call the superclass's implementation of _ init _ if needed, using the super() function.\n",
    "\n",
    "Here's an example:"
   ]
  },
  {
   "cell_type": "code",
   "execution_count": 18,
   "id": "bbea59d3",
   "metadata": {},
   "outputs": [
    {
     "name": "stdout",
     "output_type": "stream",
     "text": [
      "An animal named Fido has been created.\n",
      "A Labrador dog named Fido has been created.\n"
     ]
    }
   ],
   "source": [
    "class Animal:\n",
    "    def __init__(self, name):\n",
    "        self.name = name\n",
    "        print(\"An animal named\", name, \"has been created.\")\n",
    "\n",
    "class Dog(Animal):\n",
    "    def __init__(self, name, breed):\n",
    "        super().__init__(name)\n",
    "        self.breed = breed\n",
    "        print(\"A\", breed, \"dog named\", name, \"has been created.\")\n",
    "\n",
    "my_dog = Dog(\"Fido\", \"Labrador\")\n"
   ]
  },
  {
   "cell_type": "markdown",
   "id": "be520e21",
   "metadata": {},
   "source": [
    "In this example, the Animal class has an _ init _ method that takes a name parameter and prints a message. The Dog class inherits from Animal and overrides its _ init _ method to also take a breed parameter and print a different message. The Dog class calls the Animal class's _ init _ method using super() to initialize the name attribute, and then initializes the breed attribute and prints a message. Finally, an instance of the Dog class is created, resulting in the output:\n"
   ]
  },
  {
   "cell_type": "markdown",
   "id": "b6cbfd16",
   "metadata": {},
   "source": [
    "=============================================================================================================="
   ]
  }
 ],
 "metadata": {
  "kernelspec": {
   "display_name": "Python 3",
   "language": "python",
   "name": "python3"
  },
  "language_info": {
   "codemirror_mode": {
    "name": "ipython",
    "version": 3
   },
   "file_extension": ".py",
   "mimetype": "text/x-python",
   "name": "python",
   "nbconvert_exporter": "python",
   "pygments_lexer": "ipython3",
   "version": "3.6.2"
  }
 },
 "nbformat": 4,
 "nbformat_minor": 5
}
