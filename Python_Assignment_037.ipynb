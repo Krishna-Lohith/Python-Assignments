{
 "cells": [
  {
   "cell_type": "markdown",
   "id": "b9ef5ba6",
   "metadata": {},
   "source": [
    "# Python_Assignment_037         "
   ]
  },
  {
   "cell_type": "markdown",
   "id": "409a4648",
   "metadata": {},
   "source": [
    "**Topics covered:-**  \n",
    "strings\n",
    "strings immutability    \n",
    "indexing and slicing    \n",
    "in, not in   \n",
    "boolean    "
   ]
  },
  {
   "cell_type": "markdown",
   "id": "ed9aa645",
   "metadata": {},
   "source": [
    "=============================================================================================================="
   ]
  },
  {
   "cell_type": "markdown",
   "id": "9734453e",
   "metadata": {},
   "source": [
    "## Q1. Does assigning a value to a string&#39;s indexed character violate Python&#39;s string immutability?"
   ]
  },
  {
   "cell_type": "markdown",
   "id": "a1128c5b",
   "metadata": {},
   "source": [
    "Yes, assigning a value to a string's indexed character violates Python's string immutability because strings in Python are immutable, which means that once a string is created, its contents cannot be changed.\n",
    "\n",
    "When you try to assign a value to an indexed character of a string, you will get a TypeError indicating that 'str' object does not support item assignment. For example:"
   ]
  },
  {
   "cell_type": "code",
   "execution_count": null,
   "id": "bef939f6",
   "metadata": {},
   "outputs": [],
   "source": [
    "s = \"hello\"\n",
    "s[0] = \"H\"  # Raises TypeError: 'str' object does not support item assignment\n",
    "\n",
    "# If you want to modify a string in Python, you can create a new string with the desired modifications."
   ]
  },
  {
   "cell_type": "code",
   "execution_count": 49,
   "id": "c86b7d84",
   "metadata": {},
   "outputs": [
    {
     "data": {
      "text/plain": [
       "'Hello'"
      ]
     },
     "execution_count": 49,
     "metadata": {},
     "output_type": "execute_result"
    }
   ],
   "source": [
    "s = \"hello\"\n",
    "s = \"H\" + s[1:]  # Creates a new string \"Hello\" with the first character capitalized\n",
    "s"
   ]
  },
  {
   "cell_type": "markdown",
   "id": "7f161da6",
   "metadata": {},
   "source": [
    "In this code, we create a new string by concatenating the capital letter \"H\" with the rest of the original string (which we obtain using slicing), resulting in a new string \"Hello\"."
   ]
  },
  {
   "cell_type": "markdown",
   "id": "d1d90e75",
   "metadata": {},
   "source": [
    "=============================================================================================================="
   ]
  },
  {
   "cell_type": "markdown",
   "id": "2a588d27",
   "metadata": {},
   "source": [
    "## Q2. Does using the += operator to concatenate strings violate Python&#39;s string immutability? Why or why not?"
   ]
  },
  {
   "cell_type": "markdown",
   "id": "2c33aff6",
   "metadata": {},
   "source": [
    "Using the += operator to concatenate strings in Python does not violate Python's string immutability.\n",
    "\n",
    "When you use the += operator to concatenate two strings, Python creates a new string object that contains the concatenated result and assigns it to the variable on the left-hand side. However, the original strings that were concatenated remain unchanged.\n",
    "\n",
    "For example, consider the following code:"
   ]
  },
  {
   "cell_type": "code",
   "execution_count": 33,
   "id": "3f603691",
   "metadata": {},
   "outputs": [
    {
     "name": "stdout",
     "output_type": "stream",
     "text": [
      "hello world\n"
     ]
    }
   ],
   "source": [
    "s1 = \"hello\"\n",
    "s2 = \" world\"\n",
    "s1 += s2\n",
    "print(s1)"
   ]
  },
  {
   "cell_type": "markdown",
   "id": "663b75f4",
   "metadata": {},
   "source": [
    "In this code, we first create two string objects s1 and s2. Then, we use the += operator to concatenate the two strings and assign the result to s1. The output of the print statement is \"hello world\", which is the concatenated result.\n",
    "\n",
    "However, even though we used the += operator to modify the value of s1, the original string \"hello\" was not modified. Instead, Python created a new string object that contained the concatenated result and assigned it to s1. This behavior is consistent with the immutability of strings in Python.\n",
    "\n",
    "Therefore, using the += operator to concatenate strings in Python does not violate Python's string immutability."
   ]
  },
  {
   "cell_type": "markdown",
   "id": "70ed05d7",
   "metadata": {},
   "source": [
    "=============================================================================================================="
   ]
  },
  {
   "cell_type": "markdown",
   "id": "6cdb9305",
   "metadata": {},
   "source": [
    "## Q3. In Python, how many different ways are there to index a character?"
   ]
  },
  {
   "cell_type": "markdown",
   "id": "b5710e13",
   "metadata": {},
   "source": [
    "In Python, there is only one way to index a character in a string, which is by using the square bracket notation [] with the index of the character inside the brackets.\n",
    "\n",
    "The index of a character in a string is an integer that represents the position of the character within the string. The index of the first character in a string is 0, the index of the second character is 1, and so on. Negative indices are also allowed, with -1 representing the last character in the string, -2 representing the second-to-last character, and so on.\n",
    "\n",
    "For example, consider the string \"hello\". To access the first character \"h\", we would use the index 0 like this:"
   ]
  },
  {
   "cell_type": "code",
   "execution_count": 35,
   "id": "b6e5f017",
   "metadata": {},
   "outputs": [
    {
     "name": "stdout",
     "output_type": "stream",
     "text": [
      "h\n"
     ]
    }
   ],
   "source": [
    "s = \"hello\"\n",
    "first_char = s[0]\n",
    "print(first_char)  # Output: \"h\""
   ]
  },
  {
   "cell_type": "code",
   "execution_count": 36,
   "id": "5c51bf1d",
   "metadata": {},
   "outputs": [
    {
     "name": "stdout",
     "output_type": "stream",
     "text": [
      "o\n"
     ]
    }
   ],
   "source": [
    "# Similarly, to access the last character \"o\", we would use the index -1 like this:\n",
    "\n",
    "s = \"hello\"\n",
    "last_char = s[-1]\n",
    "print(last_char)  # Output: \"o\""
   ]
  },
  {
   "cell_type": "markdown",
   "id": "578a58d9",
   "metadata": {},
   "source": [
    "Overall, there is only one way to index a character in a string in Python, which is using the square bracket notation with the index of the character."
   ]
  },
  {
   "cell_type": "markdown",
   "id": "e0b40e82",
   "metadata": {},
   "source": [
    "=============================================================================================================="
   ]
  },
  {
   "cell_type": "markdown",
   "id": "adf273ef",
   "metadata": {},
   "source": [
    "## Q4. What is the relationship between indexing and slicing?"
   ]
  },
  {
   "cell_type": "markdown",
   "id": "1272036d",
   "metadata": {},
   "source": [
    "In Python, indexing and slicing are two related operations that can be used to access and manipulate parts of a sequence object, such as a string or a list.\n",
    "\n",
    "Indexing refers to the operation of accessing a single element of a sequence object by its index. The index is an integer that represents the position of the element within the sequence object. In Python, indexing is performed using the square bracket notation [] with the index of the element inside the brackets.\n",
    "\n",
    "Slicing, on the other hand, refers to the operation of accessing a subsequence of elements from a sequence object. A slice is defined by a start index, a stop index, and an optional step size. In Python, slicing is performed using the square bracket notation [] with the start index, stop index, and step size separated by colons inside the brackets.\n",
    "\n",
    "The relationship between indexing and slicing is that slicing is a more general operation that can be used to extract one or more elements from a sequence object using a range of indices. Indexing can be seen as a special case of slicing, where the slice consists of a single index.\n",
    "\n",
    "For example, consider the string \"hello\". To access the first character \"h\" using indexing, we would use the index 0 like this:"
   ]
  },
  {
   "cell_type": "code",
   "execution_count": 37,
   "id": "f4379498",
   "metadata": {},
   "outputs": [
    {
     "name": "stdout",
     "output_type": "stream",
     "text": [
      "h\n"
     ]
    }
   ],
   "source": [
    "s = \"hello\"\n",
    "first_char = s[0]\n",
    "print(first_char)  # Output: \"h\""
   ]
  },
  {
   "cell_type": "code",
   "execution_count": 38,
   "id": "47b4dc9f",
   "metadata": {},
   "outputs": [
    {
     "name": "stdout",
     "output_type": "stream",
     "text": [
      "hel\n"
     ]
    }
   ],
   "source": [
    "# To access the first three characters \"hel\" using slicing, we would use the slice notation [:3] like this:\n",
    "s = \"hello\"\n",
    "first_three_chars = s[:3]\n",
    "print(first_three_chars)  # Output: \"hel\""
   ]
  },
  {
   "cell_type": "markdown",
   "id": "7f9d16f6",
   "metadata": {},
   "source": [
    "In this example, slicing is used to extract a subsequence of elements from the string \"hello\" consisting of the characters at indices 0, 1, and 2.\n",
    "\n",
    "Overall, indexing and slicing are two related operations that can be used to access and manipulate parts of a sequence object, with slicing being a more general operation that can extract one or more elements from a sequence using a range of indices."
   ]
  },
  {
   "cell_type": "markdown",
   "id": "141353c5",
   "metadata": {},
   "source": [
    "=============================================================================================================="
   ]
  },
  {
   "cell_type": "markdown",
   "id": "4bff39e4",
   "metadata": {},
   "source": [
    "## Q5. What is an indexed character&#39;s exact data type? What is the data form of a slicing-generated substring?"
   ]
  },
  {
   "cell_type": "markdown",
   "id": "8579c99c",
   "metadata": {},
   "source": [
    "In Python, a string is a sequence of Unicode characters, where each character is represented by a code point. When we index a character in a string using the square bracket notation [], the exact data type of the indexed character is a string of length 1. In other words, the indexed character is itself a string.\n",
    "\n",
    "For example, consider the string \"hello\". To access the first character \"h\" using indexing, we would use the index 0 like this:"
   ]
  },
  {
   "cell_type": "code",
   "execution_count": 50,
   "id": "8a6f8e02",
   "metadata": {},
   "outputs": [
    {
     "name": "stdout",
     "output_type": "stream",
     "text": [
      "h <class 'str'>\n"
     ]
    }
   ],
   "source": [
    "s = \"hello\"\n",
    "first_char = s[0]\n",
    "print(first_char, type(first_char))"
   ]
  },
  {
   "cell_type": "markdown",
   "id": "e285130d",
   "metadata": {},
   "source": [
    "In this example, the variable first_char is a string of length 1 containing the character \"h\".\n",
    "\n",
    "When we slice a substring from a string using the slice notation [:], the resulting data type is also a string. The data form of a slicing-generated substring is a new string that contains a sequence of characters from the original string.\n",
    "\n",
    "For example, consider the string \"hello\". To extract the substring \"ell\" using slicing, we would use the slice notation [1:4] like this:"
   ]
  },
  {
   "cell_type": "code",
   "execution_count": 52,
   "id": "4138515f",
   "metadata": {},
   "outputs": [
    {
     "name": "stdout",
     "output_type": "stream",
     "text": [
      "ell <class 'str'>\n"
     ]
    }
   ],
   "source": [
    "s = \"hello\"\n",
    "substring = s[1:4]\n",
    "print(substring, type(substring))"
   ]
  },
  {
   "cell_type": "markdown",
   "id": "ee956758",
   "metadata": {},
   "source": [
    "In this example, the variable substring is a new string that contains the characters from the original string \"hello\" at indices 1, 2, and 3. Therefore, the data form of the slicing-generated substring is a new string that contains a sequence of characters from the original string."
   ]
  },
  {
   "cell_type": "markdown",
   "id": "23257a7f",
   "metadata": {},
   "source": [
    "=============================================================================================================="
   ]
  },
  {
   "cell_type": "markdown",
   "id": "cdcb8bef",
   "metadata": {},
   "source": [
    "## Q6. What is the relationship between string and character &quot;types&quot; in Python?"
   ]
  },
  {
   "cell_type": "markdown",
   "id": "06abcdf4",
   "metadata": {},
   "source": [
    "In Python, a string is a sequence of characters, where each character is represented by a Unicode code point. The term \"string type\" is used to refer to the Python data type str, which is used to represent strings.\n",
    "\n",
    "The relationship between strings and character \"types\" in Python is that characters are not a separate data type, but are instead represented as strings of length 1. In other words, in Python, there is no separate \"character type\". Instead, a single-character string is used to represent a character.\n",
    "\n",
    "For example, consider the string \"hello\". To access the first character \"h\" using indexing, we would use the index 0 like this:"
   ]
  },
  {
   "cell_type": "code",
   "execution_count": 41,
   "id": "adafd0eb",
   "metadata": {},
   "outputs": [
    {
     "name": "stdout",
     "output_type": "stream",
     "text": [
      "h\n"
     ]
    }
   ],
   "source": [
    "s = \"hello\"\n",
    "first_char = s[0]\n",
    "print(first_char)  # Output: \"h\""
   ]
  },
  {
   "cell_type": "markdown",
   "id": "5b323005",
   "metadata": {},
   "source": [
    "In this example, the variable first_char is a string of length 1 containing the character \"h\". Note that we are using a string to represent a single character, rather than a separate \"character type\".\n",
    "\n",
    "This approach has the advantage of allowing strings to be used to represent sequences of characters of any length, including strings that consist of a single character. It also simplifies the design and implementation of the Python language, as there is no need to define a separate data type for characters.\n",
    "\n",
    "Overall, in Python, strings are used to represent both individual characters and sequences of characters, with no separate \"character type\" existing in the language."
   ]
  },
  {
   "cell_type": "markdown",
   "id": "a510b24f",
   "metadata": {},
   "source": [
    "=============================================================================================================="
   ]
  },
  {
   "cell_type": "markdown",
   "id": "da3cc649",
   "metadata": {},
   "source": [
    "## Q7. Identify at least two operators and one method that allow you to combine one or more smaller strings to create a larger string."
   ]
  },
  {
   "cell_type": "markdown",
   "id": "f6d6f41f",
   "metadata": {},
   "source": [
    "In Python, there are several operators and methods that allow you to combine one or more smaller strings to create a larger string. Here are two operators and one method that you can use:\n",
    "\n",
    "The + operator: This operator can be used to concatenate two or more strings together to form a larger string. For example:"
   ]
  },
  {
   "cell_type": "code",
   "execution_count": 42,
   "id": "be19d69a",
   "metadata": {},
   "outputs": [
    {
     "name": "stdout",
     "output_type": "stream",
     "text": [
      "hello world\n"
     ]
    }
   ],
   "source": [
    "s1 = \"hello\"\n",
    "s2 = \"world\"\n",
    "s3 = s1 + \" \" + s2\n",
    "print(s3)  # Output: \"hello world\""
   ]
  },
  {
   "cell_type": "markdown",
   "id": "2684ed17",
   "metadata": {},
   "source": [
    "In this example, the + operator is used to concatenate the strings s1, \" \", and s2 together to form the string \"hello world\".\n",
    "\n",
    "The += operator: This operator can be used to append one or more strings to an existing string. For example:"
   ]
  },
  {
   "cell_type": "code",
   "execution_count": 43,
   "id": "b3af6158",
   "metadata": {},
   "outputs": [
    {
     "name": "stdout",
     "output_type": "stream",
     "text": [
      "hello world\n"
     ]
    }
   ],
   "source": [
    "s1 = \"hello\"\n",
    "s1 += \" world\"\n",
    "print(s1)  # Output: \"hello world\""
   ]
  },
  {
   "cell_type": "markdown",
   "id": "0a36dc90",
   "metadata": {},
   "source": [
    "In this example, the += operator is used to append the string \" world\" to the end of the string s1, resulting in the string \"hello world\".\n",
    "\n",
    "The join() method: This method can be used to concatenate a list of strings together into a larger string, with a separator string between each element. For example:"
   ]
  },
  {
   "cell_type": "code",
   "execution_count": 44,
   "id": "82a21987",
   "metadata": {},
   "outputs": [
    {
     "name": "stdout",
     "output_type": "stream",
     "text": [
      "hello world\n"
     ]
    }
   ],
   "source": [
    "words = [\"hello\", \"world\"]\n",
    "s = \" \".join(words)\n",
    "print(s)  # Output: \"hello world\""
   ]
  },
  {
   "cell_type": "markdown",
   "id": "cc6124fa",
   "metadata": {},
   "source": [
    "In this example, the join() method is used to concatenate the strings \"hello\" and \"world\" together with a space separator between them, resulting in the string \"hello world\". Note that the join() method is called on the separator string, and the list of strings to be concatenated is passed as an argument to the method."
   ]
  },
  {
   "cell_type": "markdown",
   "id": "7ef7d260",
   "metadata": {},
   "source": [
    "=============================================================================================================="
   ]
  },
  {
   "cell_type": "markdown",
   "id": "13343b93",
   "metadata": {},
   "source": [
    "## Q8. What is the benefit of first checking the target string with in or not in before using the index method to find a substring?"
   ]
  },
  {
   "cell_type": "markdown",
   "id": "d8fa63b2",
   "metadata": {},
   "source": [
    "The in and not in operators in Python can be used to check whether a substring is present or absent in a target string. The index() method, on the other hand, returns the index of the first occurrence of a substring within a target string.\n",
    "\n",
    "Before using the index() method to find a substring, it is beneficial to first check whether the substring is present in the target string using the in or not in operators. This is because if the substring is not present in the target string, calling the index() method will raise a ValueError exception.\n",
    "\n",
    "By using the in or not in operators first, you can avoid this exception and handle the absence of the substring in a way that is appropriate for your program. For example, you may want to print an error message or take a different course of action if the substring is not found.\n",
    "\n",
    "Here is an example of how to use the in operator to check if a substring is present in a target string before using the index() method:"
   ]
  },
  {
   "cell_type": "code",
   "execution_count": 45,
   "id": "3619f839",
   "metadata": {},
   "outputs": [
    {
     "name": "stdout",
     "output_type": "stream",
     "text": [
      "The substring world was found at index 6\n"
     ]
    }
   ],
   "source": [
    "s = \"hello world\"\n",
    "sub = \"world\"\n",
    "if sub in s:\n",
    "    index = s.index(sub)\n",
    "    print(\"The substring\", sub, \"was found at index\", index)\n",
    "else:\n",
    "    print(\"The substring\", sub, \"was not found in\", s)"
   ]
  },
  {
   "cell_type": "markdown",
   "id": "236435a8",
   "metadata": {},
   "source": [
    "In this example, the in operator is used to check whether the substring \"world\" is present in the string s. If it is, the index() method is called to find the index of the substring. If it is not, an appropriate message is printed.\n",
    "\n",
    "By checking for the presence of the substring before calling the index() method, you can ensure that your program will not raise a ValueError exception if the substring is not found."
   ]
  },
  {
   "cell_type": "markdown",
   "id": "96839724",
   "metadata": {},
   "source": [
    "=============================================================================================================="
   ]
  },
  {
   "cell_type": "markdown",
   "id": "b65ab62b",
   "metadata": {},
   "source": [
    "## Q9. Which operators and built-in string methods produce simple Boolean (true/false) results?"
   ]
  },
  {
   "cell_type": "markdown",
   "id": "e27f6878",
   "metadata": {},
   "source": [
    "In Python, there are several operators and built-in string methods that produce simple Boolean (true/false) results. Here are a few examples:\n",
    "\n",
    "== and != operators: These operators are used to compare two strings for equality. They return True if the strings are equal, and False otherwise. For example:"
   ]
  },
  {
   "cell_type": "code",
   "execution_count": 46,
   "id": "d70daf7c",
   "metadata": {},
   "outputs": [
    {
     "name": "stdout",
     "output_type": "stream",
     "text": [
      "False\n",
      "True\n",
      "True\n"
     ]
    }
   ],
   "source": [
    "s1 = \"hello\"\n",
    "s2 = \"world\"\n",
    "s3 = \"hello\"\n",
    "print(s1 == s2)  # Output: False\n",
    "print(s1 != s2)  # Output: True\n",
    "print(s1 == s3)  # Output: True"
   ]
  },
  {
   "cell_type": "markdown",
   "id": "a8f48434",
   "metadata": {},
   "source": [
    "In this example, the == operator is used to compare the strings s1 and s2 for equality, which returns False because they are not equal. The != operator is used to test whether s1 and s2 are not equal, which returns True. Finally, s1 and s3 are compared using ==, which returns True because they are equal.\n",
    "\n",
    "in and not in operators: These operators are used to check whether a substring is present or absent in a target string. They return True if the substring is present/absent, and False otherwise. For example:"
   ]
  },
  {
   "cell_type": "code",
   "execution_count": 47,
   "id": "d862f142",
   "metadata": {},
   "outputs": [
    {
     "name": "stdout",
     "output_type": "stream",
     "text": [
      "True\n",
      "True\n"
     ]
    }
   ],
   "source": [
    "s = \"hello world\"\n",
    "sub1 = \"world\"\n",
    "sub2 = \"python\"\n",
    "print(sub1 in s)  # Output: True\n",
    "print(sub2 not in s)  # Output: True\n"
   ]
  },
  {
   "cell_type": "markdown",
   "id": "c775d8f3",
   "metadata": {},
   "source": [
    "In this example, the in operator is used to check whether the substring \"world\" is present in the string s, which returns True. The not in operator is used to check whether the substring \"python\" is absent from s, which also returns True.\n",
    "\n",
    "startswith() and endswith() methods: These methods are used to check whether a string starts or ends with a specific substring. They return True if the string starts or ends with the substring, and False otherwise. For example:"
   ]
  },
  {
   "cell_type": "code",
   "execution_count": 48,
   "id": "48ea54ad",
   "metadata": {},
   "outputs": [
    {
     "name": "stdout",
     "output_type": "stream",
     "text": [
      "True\n",
      "True\n"
     ]
    }
   ],
   "source": [
    "s = \"hello world\"\n",
    "prefix = \"hello\"\n",
    "suffix = \"world\"\n",
    "print(s.startswith(prefix))  # Output: True\n",
    "print(s.endswith(suffix))  # Output: True\n"
   ]
  },
  {
   "cell_type": "markdown",
   "id": "df0788f7",
   "metadata": {},
   "source": [
    "In this example, the startswith() method is used to check whether the string s starts with the substring \"hello\", which returns True. The endswith() method is used to check whether s ends with the substring \"world\", which also returns True."
   ]
  },
  {
   "cell_type": "markdown",
   "id": "e09f5d6b",
   "metadata": {},
   "source": [
    "=============================================================================================================="
   ]
  }
 ],
 "metadata": {
  "kernelspec": {
   "display_name": "Python 3",
   "language": "python",
   "name": "python3"
  },
  "language_info": {
   "codemirror_mode": {
    "name": "ipython",
    "version": 3
   },
   "file_extension": ".py",
   "mimetype": "text/x-python",
   "name": "python",
   "nbconvert_exporter": "python",
   "pygments_lexer": "ipython3",
   "version": "3.6.2"
  }
 },
 "nbformat": 4,
 "nbformat_minor": 5
}
