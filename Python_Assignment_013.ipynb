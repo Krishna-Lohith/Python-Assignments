{
 "cells": [
  {
   "cell_type": "markdown",
   "id": "61f7ba13",
   "metadata": {},
   "source": [
    "# Python_Assignment_013"
   ]
  },
  {
   "cell_type": "markdown",
   "id": "2d1aaf71",
   "metadata": {},
   "source": [
    "**Concepts used:-**  \n",
    "csv.reader  \n",
    "csv.writer  \n",
    "writerow  \n",
    "delimiter(,)  \n",
    "lineterminator  \n",
    "json.loads(data) - converts json data into python dictionaries.  \n",
    "json.dumps(data) - converts dictionary data into json data.  "
   ]
  },
  {
   "cell_type": "markdown",
   "id": "94d78f8a",
   "metadata": {},
   "source": [
    "=============================================================================================================="
   ]
  },
  {
   "cell_type": "markdown",
   "id": "542b0731",
   "metadata": {},
   "source": [
    "## 1. What advantages do Excel spreadsheets have over CSV spreadsheets?"
   ]
  },
  {
   "cell_type": "markdown",
   "id": "35fa7064",
   "metadata": {},
   "source": [
    "Formatting options like font, color, alignments etc..  \n",
    "Calculation and analysis features like sorting, filtering  \n",
    "Multiple sheets in a single file  \n",
    "User-friendly interface  \n",
    "Data validation  "
   ]
  },
  {
   "cell_type": "markdown",
   "id": "feab1ef8",
   "metadata": {},
   "source": [
    "=============================================================================================================="
   ]
  },
  {
   "cell_type": "markdown",
   "id": "7eee2ff2",
   "metadata": {},
   "source": [
    "## 2.What do you pass to csv.reader() and csv.writer() to create reader and writer objects?"
   ]
  },
  {
   "cell_type": "code",
   "execution_count": null,
   "id": "351f543c",
   "metadata": {},
   "outputs": [],
   "source": [
    "#Reading and writing data in CSV files.\n",
    "import csv\n",
    "# Create a reader object\n",
    "with open('data.csv', 'r') as file:\n",
    "    reader = csv.reader(file)\n",
    "\n",
    "# Create a writer object\n",
    "with open('output.csv', 'w', newline='') as file:\n",
    "    writer = csv.writer(file)"
   ]
  },
  {
   "cell_type": "markdown",
   "id": "77b6e340",
   "metadata": {},
   "source": [
    "=============================================================================================================="
   ]
  },
  {
   "cell_type": "markdown",
   "id": "febfce87",
   "metadata": {},
   "source": [
    "## 3. What modes do File objects for reader and writer objects need to be opened in?\n",
    "\n",
    "'r' - read mode  \n",
    "'w' - write mode  \n",
    "\n",
    "It's also important to note that when writing to a CSV file, you should open the file with the newline='' parameter. This is because the csv.writer() function automatically adds a newline character at the end of each row, and opening the file with the newline='' parameter prevents the writer object from adding an extra newline character."
   ]
  },
  {
   "cell_type": "markdown",
   "id": "dc48373f",
   "metadata": {},
   "source": [
    "=============================================================================================================="
   ]
  },
  {
   "cell_type": "markdown",
   "id": "ca1d213f",
   "metadata": {},
   "source": [
    "## 4. What method takes a list argument and writes it to a CSV file?"
   ]
  },
  {
   "cell_type": "code",
   "execution_count": 2,
   "id": "b14a48f9",
   "metadata": {},
   "outputs": [],
   "source": [
    "import csv\n",
    "\n",
    "# Open a file for writing\n",
    "with open('output.csv', 'w', newline='') as file:\n",
    "    writer = csv.writer(file)\n",
    "\n",
    "    # Write rows to the CSV file\n",
    "    writer.writerow(['Name', 'Age', 'City'])\n",
    "    writer.writerow(['John', '30', 'New York'])\n",
    "    writer.writerow(['Mary', '25', 'Los Angeles'])"
   ]
  },
  {
   "cell_type": "markdown",
   "id": "c37cb38b",
   "metadata": {},
   "source": [
    "=============================================================================================================="
   ]
  },
  {
   "cell_type": "markdown",
   "id": "5ff7d4d7",
   "metadata": {},
   "source": [
    "## 5. What do the keyword arguments delimiter and line terminator do?\n",
    "\n",
    "The delimiter argument specifies the character used to separate fields in a CSV file. By default, the delimiter is a comma ,. However, if your CSV file uses a different delimiter (such as a tab or semicolon), you can specify it using the delimiter argument.\n",
    "\n",
    "The lineterminator argument specifies the character(s) used to terminate a row in a CSV file. By default, the line terminator is '\\r\\n' on Windows and '\\n' on Unix-based systems. However, you can specify a different line terminator using the lineterminator argument."
   ]
  },
  {
   "cell_type": "code",
   "execution_count": null,
   "id": "088a2e67",
   "metadata": {},
   "outputs": [],
   "source": [
    "import csv\n",
    "\n",
    "# Open a file for writing\n",
    "with open('output.csv', 'w', newline='') as file:\n",
    "    writer = csv.writer(file, delimiter=';', lineterminator='\\r\\n')\n",
    "\n",
    "    # Write rows to the CSV file\n",
    "    writer.writerow(['Name', 'Age', 'City'])\n",
    "    writer.writerow(['John', '30', 'New York'])\n",
    "    writer.writerow(['Mary', '25', 'Los Angeles'])"
   ]
  },
  {
   "cell_type": "markdown",
   "id": "fa9c3a2a",
   "metadata": {},
   "source": [
    "=============================================================================================================="
   ]
  },
  {
   "cell_type": "markdown",
   "id": "02d70f2b",
   "metadata": {},
   "source": [
    "## 6. What function takes a string of JSON data and returns a Python data structure?"
   ]
  },
  {
   "cell_type": "code",
   "execution_count": 5,
   "id": "d0eb4837",
   "metadata": {},
   "outputs": [
    {
     "name": "stdout",
     "output_type": "stream",
     "text": [
      "{'name': 'John', 'age': 30, 'city': 'New York'}\n"
     ]
    },
    {
     "data": {
      "text/plain": [
       "dict"
      ]
     },
     "execution_count": 5,
     "metadata": {},
     "output_type": "execute_result"
    }
   ],
   "source": [
    "import json\n",
    "\n",
    "# JSON string to be converted into a Python data structure\n",
    "json_str = '{\"name\": \"John\", \"age\": 30, \"city\": \"New York\"}'\n",
    "\n",
    "# Convert JSON string to Python data structure\n",
    "data = json.loads(json_str)\n",
    "\n",
    "# Print the resulting Python data structure\n",
    "print(data)\n",
    "type(data)\n"
   ]
  },
  {
   "cell_type": "markdown",
   "id": "4228af09",
   "metadata": {},
   "source": [
    "=============================================================================================================="
   ]
  },
  {
   "cell_type": "markdown",
   "id": "282f8999",
   "metadata": {},
   "source": [
    "## 7. What function takes a Python data structure and returns a string of JSON data?"
   ]
  },
  {
   "cell_type": "code",
   "execution_count": 7,
   "id": "7e5eef5e",
   "metadata": {},
   "outputs": [
    {
     "name": "stdout",
     "output_type": "stream",
     "text": [
      "{\"name\": \"John\", \"age\": 30, \"city\": \"New York\"}\n"
     ]
    },
    {
     "data": {
      "text/plain": [
       "str"
      ]
     },
     "execution_count": 7,
     "metadata": {},
     "output_type": "execute_result"
    }
   ],
   "source": [
    "import json\n",
    "\n",
    "# Python dictionary to be converted into a JSON string\n",
    "data = {\n",
    "    \"name\": \"John\",\n",
    "    \"age\": 30,\n",
    "    \"city\": \"New York\"\n",
    "}\n",
    "\n",
    "# Convert Python dictionary to JSON string\n",
    "json_str = json.dumps(data)\n",
    "\n",
    "# Print the resulting JSON string\n",
    "print(json_str)\n",
    "type(json_str)"
   ]
  },
  {
   "cell_type": "markdown",
   "id": "cc5b0f85",
   "metadata": {},
   "source": [
    "=============================================================================================================="
   ]
  }
 ],
 "metadata": {
  "kernelspec": {
   "display_name": "Python 3",
   "language": "python",
   "name": "python3"
  },
  "language_info": {
   "codemirror_mode": {
    "name": "ipython",
    "version": 3
   },
   "file_extension": ".py",
   "mimetype": "text/x-python",
   "name": "python",
   "nbconvert_exporter": "python",
   "pygments_lexer": "ipython3",
   "version": "3.6.2"
  }
 },
 "nbformat": 4,
 "nbformat_minor": 5
}
