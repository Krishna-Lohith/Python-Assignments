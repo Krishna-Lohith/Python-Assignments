{
 "cells": [
  {
   "cell_type": "markdown",
   "id": "f7e42bdf",
   "metadata": {},
   "source": [
    "# Python_Assignment_005"
   ]
  },
  {
   "cell_type": "markdown",
   "id": "b4a28376",
   "metadata": {},
   "source": [
    "Concepts used:-  \n",
    "Dictionary  "
   ]
  },
  {
   "cell_type": "markdown",
   "id": "4eaac115",
   "metadata": {},
   "source": [
    "=============================================================================================================="
   ]
  },
  {
   "cell_type": "markdown",
   "id": "ba8d9c1e",
   "metadata": {},
   "source": [
    "### 1. What does an empty dictionary's code look like?"
   ]
  },
  {
   "cell_type": "code",
   "execution_count": 3,
   "id": "1cbb1602",
   "metadata": {},
   "outputs": [
    {
     "data": {
      "text/plain": [
       "{}"
      ]
     },
     "execution_count": 3,
     "metadata": {},
     "output_type": "execute_result"
    }
   ],
   "source": [
    "d = {}\n",
    "d"
   ]
  },
  {
   "cell_type": "markdown",
   "id": "aaa22bb6",
   "metadata": {},
   "source": [
    "=============================================================================================================="
   ]
  },
  {
   "cell_type": "markdown",
   "id": "00ab083c",
   "metadata": {},
   "source": [
    "### 2. What is the value of a dictionary value with the key &#39;foo&#39; and the value 42?"
   ]
  },
  {
   "cell_type": "code",
   "execution_count": 9,
   "id": "45759e03",
   "metadata": {},
   "outputs": [
    {
     "name": "stdout",
     "output_type": "stream",
     "text": [
      "key:-    dict_keys(['foo'])\n",
      "value:-  dict_values([42])\n"
     ]
    }
   ],
   "source": [
    "d = {'foo':42} \n",
    "print('key:-   ', d.keys() )      # foo is key\n",
    "print('value:- ',d.values() )    # 42 is value"
   ]
  },
  {
   "cell_type": "markdown",
   "id": "8632023d",
   "metadata": {},
   "source": [
    "=============================================================================================================="
   ]
  },
  {
   "cell_type": "markdown",
   "id": "d5606307",
   "metadata": {},
   "source": [
    "### 3. What is the most significant distinction between a dictionary and a list?"
   ]
  },
  {
   "cell_type": "markdown",
   "id": "d90b0bf3",
   "metadata": {},
   "source": [
    "List is a collection which is ordered and changeable. Allows duplicate members. \n",
    "List has all the elements without any pair.\n",
    "\n",
    "Dictionary is a collection which is ordered** and changeable. No duplicate members. \n",
    "Dictionary has key and value pair\n",
    "\n",
    "The main difference is dictionary has key and value pairs and dict doesn't allows duplicate keys and values."
   ]
  },
  {
   "cell_type": "code",
   "execution_count": 12,
   "id": "06873ca8",
   "metadata": {},
   "outputs": [
    {
     "data": {
      "text/plain": [
       "{'a': 2}"
      ]
     },
     "execution_count": 12,
     "metadata": {},
     "output_type": "execute_result"
    }
   ],
   "source": [
    "d = {'a':2,'a':2}\n",
    "d"
   ]
  },
  {
   "cell_type": "markdown",
   "id": "832375c1",
   "metadata": {},
   "source": [
    "=============================================================================================================="
   ]
  },
  {
   "cell_type": "markdown",
   "id": "3625108a",
   "metadata": {},
   "source": [
    "### 4. What happens if you try to access spam['foo'] if spam is {'bar': 100}?"
   ]
  },
  {
   "cell_type": "code",
   "execution_count": 16,
   "id": "62489c29",
   "metadata": {},
   "outputs": [],
   "source": [
    "spam = {'bar':100}\n",
    "spam['foo']  #Raises an KeyError."
   ]
  },
  {
   "cell_type": "markdown",
   "id": "91f0cebf",
   "metadata": {},
   "source": [
    "=============================================================================================================="
   ]
  },
  {
   "cell_type": "markdown",
   "id": "704e268f",
   "metadata": {},
   "source": [
    "### 5. If a dictionary is stored in spam, what is the difference between the expressions 'cat' in spam and 'cat' in spam.keys()?"
   ]
  },
  {
   "cell_type": "code",
   "execution_count": 21,
   "id": "7f954853",
   "metadata": {},
   "outputs": [
    {
     "data": {
      "text/plain": [
       "{'cat': 7}"
      ]
     },
     "execution_count": 21,
     "metadata": {},
     "output_type": "execute_result"
    }
   ],
   "source": [
    "# Here the spam has both key and value\n",
    "spam = {'cat':7}\n",
    "spam     "
   ]
  },
  {
   "cell_type": "code",
   "execution_count": 22,
   "id": "e96e7b65",
   "metadata": {},
   "outputs": [
    {
     "data": {
      "text/plain": [
       "dict_keys(['cat'])"
      ]
     },
     "execution_count": 22,
     "metadata": {},
     "output_type": "execute_result"
    }
   ],
   "source": [
    "# Here the spam has only keys no values are present.\n",
    "spam.keys()"
   ]
  },
  {
   "cell_type": "markdown",
   "id": "c280868e",
   "metadata": {},
   "source": [
    "=============================================================================================================="
   ]
  },
  {
   "cell_type": "markdown",
   "id": "8317fd27",
   "metadata": {},
   "source": [
    "### 6. If a dictionary is stored in spam, what is the difference between the expressions 'cat' in spam and 'cat' in spam.values()? "
   ]
  },
  {
   "cell_type": "code",
   "execution_count": 25,
   "id": "64fae6e9",
   "metadata": {},
   "outputs": [
    {
     "data": {
      "text/plain": [
       "{'cat': 'cat'}"
      ]
     },
     "execution_count": 25,
     "metadata": {},
     "output_type": "execute_result"
    }
   ],
   "source": [
    "# Here the spam has both key and value with same name\n",
    "spam = {'cat':'cat'}\n",
    "spam     "
   ]
  },
  {
   "cell_type": "code",
   "execution_count": 28,
   "id": "0c6b1ec0",
   "metadata": {},
   "outputs": [
    {
     "data": {
      "text/plain": [
       "'cat'"
      ]
     },
     "execution_count": 28,
     "metadata": {},
     "output_type": "execute_result"
    }
   ],
   "source": [
    "spam['cat']   #here 'cat' is key. By insexing it will take key.\n",
    "# If we need 'cat' value then use spam.values()."
   ]
  },
  {
   "cell_type": "code",
   "execution_count": 29,
   "id": "a6b49b35",
   "metadata": {},
   "outputs": [
    {
     "data": {
      "text/plain": [
       "dict_keys(['cat'])"
      ]
     },
     "execution_count": 29,
     "metadata": {},
     "output_type": "execute_result"
    }
   ],
   "source": [
    "# Here the spam has only keys no values are present.\n",
    "spam.keys()"
   ]
  },
  {
   "cell_type": "code",
   "execution_count": 27,
   "id": "55282e57",
   "metadata": {},
   "outputs": [
    {
     "data": {
      "text/plain": [
       "dict_values(['cat'])"
      ]
     },
     "execution_count": 27,
     "metadata": {},
     "output_type": "execute_result"
    }
   ],
   "source": [
    "#Here values takes only values from a dictionary.\n",
    "spam.values()"
   ]
  },
  {
   "cell_type": "markdown",
   "id": "2f9cea59",
   "metadata": {},
   "source": [
    "=============================================================================================================="
   ]
  },
  {
   "cell_type": "markdown",
   "id": "2203e47f",
   "metadata": {},
   "source": [
    "### 7. What is a shortcut for the following code?"
   ]
  },
  {
   "cell_type": "raw",
   "id": "0c9c98ff",
   "metadata": {},
   "source": [
    "if 'color' not in spam:\n",
    "spam['color'] = 'black'"
   ]
  },
  {
   "cell_type": "code",
   "execution_count": 35,
   "id": "e1121a3e",
   "metadata": {},
   "outputs": [
    {
     "name": "stdout",
     "output_type": "stream",
     "text": [
      "{'laptop': 'lenovo', 'color': 'black'}\n"
     ]
    }
   ],
   "source": [
    "spam = {'laptop':'lenovo'}\n",
    "if 'color' != spam.keys():\n",
    "    spam['color'] = 'black'\n",
    "    print(spam)"
   ]
  },
  {
   "cell_type": "markdown",
   "id": "ba4f6a27",
   "metadata": {},
   "source": [
    "=============================================================================================================="
   ]
  },
  {
   "cell_type": "markdown",
   "id": "4296c59c",
   "metadata": {},
   "source": [
    "### 8. How do you &quot;pretty print&quot; dictionary values using which module and function?\n",
    "\n",
    "from pprint import pprint"
   ]
  },
  {
   "cell_type": "code",
   "execution_count": 41,
   "id": "644a0d14",
   "metadata": {},
   "outputs": [
    {
     "name": "stdout",
     "output_type": "stream",
     "text": [
      "{'body': 'Muscular body',\n",
      " 'chanting': 'ram',\n",
      " 'color': 'orange',\n",
      " 'fan of': 'ram',\n",
      " 'name': 'hanuman'}\n"
     ]
    }
   ],
   "source": [
    "d = {'name':'hanuman','color':'orange','chanting':'ram','body':'Muscular body','fan of':'ram'}\n",
    "from pprint import pprint\n",
    "pprint(d)"
   ]
  },
  {
   "cell_type": "markdown",
   "id": "df5072d7",
   "metadata": {},
   "source": [
    "=============================================================================================================="
   ]
  }
 ],
 "metadata": {
  "kernelspec": {
   "display_name": "Python 3",
   "language": "python",
   "name": "python3"
  },
  "language_info": {
   "codemirror_mode": {
    "name": "ipython",
    "version": 3
   },
   "file_extension": ".py",
   "mimetype": "text/x-python",
   "name": "python",
   "nbconvert_exporter": "python",
   "pygments_lexer": "ipython3",
   "version": "3.6.2"
  }
 },
 "nbformat": 4,
 "nbformat_minor": 5
}
