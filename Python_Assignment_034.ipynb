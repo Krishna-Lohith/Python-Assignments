{
 "cells": [
  {
   "cell_type": "markdown",
   "id": "548a8809",
   "metadata": {},
   "source": [
    "# Python_Assignment_034"
   ]
  },
  {
   "cell_type": "markdown",
   "id": "c801d185",
   "metadata": {},
   "source": [
    "**Topics covered:-**  \n",
    "strings and bytes(encode, decode)  \n",
    "Unicode  \n",
    "text mode and binary mode  \n",
    "encoding  "
   ]
  },
  {
   "cell_type": "markdown",
   "id": "d0dfbfa1",
   "metadata": {},
   "source": [
    "=============================================================================================================="
   ]
  },
  {
   "cell_type": "markdown",
   "id": "5442bfd7",
   "metadata": {},
   "source": [
    "## Q1. In Python 3.X, what are the names and functions of string object types?"
   ]
  },
  {
   "cell_type": "markdown",
   "id": "906d1a8e",
   "metadata": {},
   "source": [
    "In Python 3.x, there are two string object types:\n",
    "\n",
    "1. **str:** This represents a Unicode string, which is a sequence of Unicode characters. The str type is used for representing textual data in Python.\n",
    "\n",
    "2. **bytes:** This represents a sequence of bytes, which can be used to represent binary data. The bytes type is used for representing non-textual data in Python.\n",
    "\n",
    "Both str and bytes are immutable types, which means that once a string or bytes object is created, it cannot be modified. However, it is possible to create new strings or bytes objects by combining or slicing existing ones.\n",
    "\n",
    "In addition to the built-in string methods like upper(), lower(), and replace(), Python also provides a rich set of string manipulation functions in the string module."
   ]
  },
  {
   "cell_type": "markdown",
   "id": "0c03672d",
   "metadata": {},
   "source": [
    "In Python, str and bytes are two different data types used to represent text and binary data, respectively.\n",
    "\n",
    "A str object represents a sequence of Unicode characters, and is used to handle text and strings in Python. str objects are immutable, which means that their contents cannot be changed once they are created.\n",
    "\n",
    "For example, the following code creates a str object containing the text \"Hello, World!\":\n",
    "\n",
    "s = \"Hello, World!\"\n",
    "\n",
    "A bytes object, on the other hand, represents a sequence of raw bytes, and is used to handle binary data in Python. bytes objects are also immutable.\n",
    "\n",
    "For example, the following code creates a bytes object containing the binary data b'\\x48\\x65\\x6c\\x6c\\x6f\\x2c\\x20\\x57\\x6f\\x72\\x6c\\x64\\x21' (which is the same as the ASCII-encoded string \"Hello, World!\"):\n",
    "\n",
    "b = b'\\x48\\x65\\x6c\\x6c\\x6f\\x2c\\x20\\x57\\x6f\\x72\\x6c\\x64\\x21'\n",
    "\n",
    "The main difference between str and bytes is that str objects are used to handle text data, while bytes objects are used to handle binary data. str objects can be encoded into bytes objects using a specific encoding, such as UTF-8 or ASCII. Similarly, bytes objects can be decoded into str objects using a specific encoding.\n",
    "\n",
    "For example, the following code encodes the str object \"Hello, World!\" into a bytes object using the UTF-8 encoding:\n",
    "\n",
    "b = \"Hello, World!\".encode('utf-8')\n",
    "\n",
    "And the following code decodes the bytes object b back into a str object using the UTF-8 encoding:\n",
    "\n",
    "s = b.decode('utf-8')"
   ]
  },
  {
   "cell_type": "markdown",
   "id": "1ede2e46",
   "metadata": {},
   "source": [
    "=============================================================================================================="
   ]
  },
  {
   "cell_type": "markdown",
   "id": "244fd0b5",
   "metadata": {},
   "source": [
    "## Q2. How do the string forms in Python 3.X vary in terms of operations?"
   ]
  },
  {
   "cell_type": "markdown",
   "id": "6248af66",
   "metadata": {},
   "source": [
    "In Python 3.x, there are two main string types: str and bytes. These string types vary in terms of operations as follows:  \n",
    "a)\n",
    "1. **str type:** The str type is used to represent Unicode strings in Python. Unicode strings are sequences of Unicode characters and are typically used to represent text. Some common operations that can be performed on str objects include:\n",
    "\n",
    "2. **Concatenation:** Strings can be concatenated using the + operator.\n",
    "\n",
    "3. **Slicing:** Parts of a string can be extracted using the slicing operator [].\n",
    "\n",
    "4. **Formatting:** Strings can be formatted using the format() method or using f-strings (formatted string literals).\n",
    "\n",
    "5. **Searching and replacing:** The find(), replace(), startswith(), and endswith() methods can be used to search for and replace substrings in a string.\n",
    "\n",
    "6. **Case manipulation:** The upper(), lower(), and title() methods can be used to convert a string to upper case, lower case, or title case, respectively.  \n",
    "\n",
    "b)  \n",
    "1. **bytes type:** The bytes type is used to represent a sequence of bytes in Python. Bytes objects are typically used to represent binary data, such as images or network packets. Some common operations that can be performed on bytes objects include:\n",
    "\n",
    "2. **Concatenation:** Bytes objects can be concatenated using the + operator.\n",
    "\n",
    "3. **Slicing:** Parts of a bytes object can be extracted using the slicing operator [].\n",
    "\n",
    "4. **Conversion to str:** A bytes object can be converted to a string using the decode() method.\n",
    "\n",
    "5. **Searching and replacing:** The find(), replace(), startswith(), and endswith() methods can be used to search for and replace byte sequences in a bytes object."
   ]
  },
  {
   "cell_type": "markdown",
   "id": "dd05ea88",
   "metadata": {},
   "source": [
    "=============================================================================================================="
   ]
  },
  {
   "cell_type": "markdown",
   "id": "675ec594",
   "metadata": {},
   "source": [
    "## Q3. In 3.X, how do you put non-ASCII Unicode characters in a string?"
   ]
  },
  {
   "cell_type": "markdown",
   "id": "62cddb3e",
   "metadata": {},
   "source": [
    "In Python 3.x, non-ASCII Unicode characters can be included in a string by simply typing them directly into the string. Since str objects in Python 3.x are Unicode strings, they can represent any Unicode character, including non-ASCII characters."
   ]
  },
  {
   "cell_type": "code",
   "execution_count": 4,
   "id": "90fa0dce",
   "metadata": {},
   "outputs": [
    {
     "name": "stdout",
     "output_type": "stream",
     "text": [
      "γειά σου\n",
      "こんにちは\n"
     ]
    }
   ],
   "source": [
    "# For example, the following code creates a str object containing the Greek word for \"hello\" (γειά σου):\n",
    "greeting = \"γειά σου\"\n",
    "print(greeting)\n",
    "# Similarly, the following code creates a str object containing the Japanese word for \"hello\" (こんにちは):\n",
    "greeting = \"こんにちは\"\n",
    "print(greeting)"
   ]
  },
  {
   "cell_type": "markdown",
   "id": "58b43cc2",
   "metadata": {},
   "source": [
    "Note that if you want to include non-printable Unicode characters in a string, you can use escape sequences. For example, the escape sequence \\uXXXX can be used to represent a Unicode character with the hexadecimal code point XXXX. For example, the following code creates a str object containing the smiley face character (😊):"
   ]
  },
  {
   "cell_type": "code",
   "execution_count": 3,
   "id": "29d1283c",
   "metadata": {},
   "outputs": [
    {
     "data": {
      "text/plain": [
       "'😊'"
      ]
     },
     "execution_count": 3,
     "metadata": {},
     "output_type": "execute_result"
    }
   ],
   "source": [
    "smiley = \"\\U0001F60A\"\n",
    "smiley\n",
    "# In this case, the \\U escape sequence is used to specify the Unicode code point, followed by the hexadecimal representation of the code point (1F60A)."
   ]
  },
  {
   "cell_type": "markdown",
   "id": "35181d59",
   "metadata": {},
   "source": [
    "=============================================================================================================="
   ]
  },
  {
   "cell_type": "markdown",
   "id": "c620db84",
   "metadata": {},
   "source": [
    "## Q4. In Python 3.X, what are the key differences between text-mode and binary-mode files?"
   ]
  },
  {
   "cell_type": "markdown",
   "id": "c77c946a",
   "metadata": {},
   "source": [
    "In Python 3.x, there are two main modes in which files can be opened: text mode and binary mode. The key differences between these two modes are as follows:\n",
    "\n",
    "1. **Text mode:** When a file is opened in text mode (which is the default mode), Python assumes that the file contains textual data encoded in a specific character set (usually UTF-8). Text mode provides several features specific to text processing, such as newline translation (converting \\n characters to the appropriate newline sequence for the platform) and automatic encoding and decoding of Unicode data.\n",
    "\n",
    "In text mode, the data read from or written to the file is treated as a sequence of Unicode characters (i.e., str objects). The read() and write() methods of a text-mode file object return or accept str objects, respectively.\n",
    "\n",
    "2. **Binary mode:** When a file is opened in binary mode, Python assumes that the file contains binary data (i.e., non-textual data). In binary mode, data is read and written as-is, without any processing or translation. Binary mode is used for working with files that contain non-textual data, such as images, audio files, or binary data formats.\n",
    "\n",
    "In binary mode, the data read from or written to the file is treated as a sequence of bytes (i.e., bytes objects). The read() and write() methods of a binary-mode file object return or accept bytes objects, respectively.\n",
    "\n",
    "It's important to note that the way data is handled by text-mode and binary-mode file objects is different, and that attempting to read or write binary data using a text-mode file object (or vice versa) can result in unexpected behavior. Therefore, it's important to choose the appropriate mode when working with files, based on the type of data contained in the file."
   ]
  },
  {
   "cell_type": "markdown",
   "id": "066eebb6",
   "metadata": {},
   "source": [
    "=============================================================================================================="
   ]
  },
  {
   "cell_type": "markdown",
   "id": "01759266",
   "metadata": {},
   "source": [
    "## Q5. How can you interpret a Unicode text file containing text encoded in a different encoding than your platform&#39;s default?"
   ]
  },
  {
   "cell_type": "markdown",
   "id": "482aa3ef",
   "metadata": {},
   "source": [
    "In Python 3.x, you can interpret a Unicode text file containing text encoded in a different encoding than your platform's default by specifying the encoding explicitly when opening the file. This can be done using the encoding parameter of the open() function.\n",
    "\n",
    "For example, suppose you have a Unicode text file encoded in ISO-8859-1 (also known as Latin-1) and you want to read its contents into a str object. You can do this as follows:"
   ]
  },
  {
   "cell_type": "code",
   "execution_count": null,
   "id": "8de7c2f5",
   "metadata": {},
   "outputs": [],
   "source": [
    "with open('filename.txt', 'r', encoding='iso-8859-1') as f:\n",
    "    contents = f.read()"
   ]
  },
  {
   "cell_type": "markdown",
   "id": "9f07e9e2",
   "metadata": {},
   "source": [
    "In this example, the open() function is called with the r mode (for reading) and the encoding parameter set to 'iso-8859-1'. This tells Python to interpret the contents of the file as ISO-8859-1 encoded text.\n",
    "\n",
    "Once the file is opened, its contents are read using the read() method of the file object, which returns a str object containing the text decoded from the specified encoding.\n",
    "\n",
    "Similarly, if you need to write text to a file using an encoding different from the default, you can specify the encoding explicitly when opening the file in write mode ('w'). For example:"
   ]
  },
  {
   "cell_type": "code",
   "execution_count": null,
   "id": "fd59ad21",
   "metadata": {},
   "outputs": [],
   "source": [
    "with open('filename.txt', 'w', encoding='iso-8859-1') as f:\n",
    "    f.write(\"Hello, world!\")"
   ]
  },
  {
   "cell_type": "markdown",
   "id": "b9a91ea9",
   "metadata": {},
   "source": [
    "In this example, the open() function is called with the w mode (for writing) and the encoding parameter set to 'iso-8859-1'. This tells Python to write the text to the file encoded as ISO-8859-1."
   ]
  },
  {
   "cell_type": "markdown",
   "id": "5b463e1c",
   "metadata": {},
   "source": [
    "=============================================================================================================="
   ]
  },
  {
   "cell_type": "markdown",
   "id": "ba32d9dd",
   "metadata": {},
   "source": [
    "## Q6. What is the best way to make a Unicode text file in a particular encoding format?"
   ]
  },
  {
   "cell_type": "markdown",
   "id": "4750edb8",
   "metadata": {},
   "source": [
    "To create a Unicode text file in a particular encoding format, you can use any text editor that supports Unicode. Here are the steps to create a Unicode text file in a specific encoding format:\n",
    "\n",
    "1. Open your text editor of choice and create a new file.  \n",
    "2. Choose the encoding format you want to use from the menu or settings of your text editor. For example, you can choose UTF-8, UTF-16, or UTF-32 encoding.  \n",
    "3. Start typing or copy-pasting the text you want to save in the text file.  \n",
    "4. Once you have entered all the text, save the file with a descriptive name and the appropriate file extension, such as .txt or .html. It's important to select the encoding format you want to use when saving the file.  \n",
    "5. Depending on your text editor, the steps to choose the encoding format and save the file may vary slightly. However, the general principle is the same: select the encoding format you want to use and save the file with that encoding format."
   ]
  },
  {
   "cell_type": "markdown",
   "id": "4349ba31",
   "metadata": {},
   "source": [
    "=============================================================================================================="
   ]
  },
  {
   "cell_type": "markdown",
   "id": "8523ba57",
   "metadata": {},
   "source": [
    "## Q7. What qualifies ASCII text as a form of Unicode text?"
   ]
  },
  {
   "cell_type": "markdown",
   "id": "9d617276",
   "metadata": {},
   "source": [
    "ASCII (American Standard Code for Information Interchange) is a character encoding scheme that uses a 7-bit code to represent characters. It includes 128 characters, including letters, digits, punctuation marks, and control characters.\n",
    "\n",
    "Unicode is a character encoding standard that provides a unique number, called a code point, for every character in every script used in modern and ancient texts. Unicode includes not only ASCII characters but also characters from many other scripts, such as Cyrillic, Chinese, Arabic, and many more.\n",
    "\n",
    "ASCII text can be considered a form of Unicode text because Unicode includes the ASCII character set as its first 128 code points (0-127). The Unicode standard assigns the same code point values to the ASCII characters as their corresponding ASCII code values.\n",
    "\n",
    "In other words, the ASCII characters are a subset of the Unicode character set, and any text file that contains only ASCII characters is also a valid Unicode text file. Unicode, however, goes beyond ASCII and allows for the representation of characters from all the world's writing systems."
   ]
  },
  {
   "cell_type": "markdown",
   "id": "57e3747e",
   "metadata": {},
   "source": [
    "=============================================================================================================="
   ]
  },
  {
   "cell_type": "markdown",
   "id": "d79f9d8d",
   "metadata": {},
   "source": [
    "## Q8. How much of an effect does the change in string types in Python 3.X have on your code?"
   ]
  },
  {
   "cell_type": "markdown",
   "id": "89100532",
   "metadata": {},
   "source": [
    "The change in string types from Python 2.x to 3.x can have a significant impact on your code if you're migrating your code from Python 2.x to 3.x. Here are some of the key differences that can affect your code:\n",
    "\n",
    "1. **String type:** In Python 2.x, there are two string types: str and unicode. In Python 3.x, str is the only string type, and it represents Unicode strings. This means that any strings you use in your code must be Unicode strings.\n",
    "\n",
    "2. **Print function:** In Python 2.x, you use the print statement to output text to the console. In Python 3.x, print is a function. This means that you need to use parentheses when calling the print function, and you must pass a string as an argument.\n",
    "\n",
    "3. **Byte strings:** In Python 2.x, you can use byte strings (strings of bytes) to represent binary data. In Python 3.x, you must use the bytes type to represent binary data.\n",
    "\n",
    "4. **Encoding and decoding:** In Python 2.x, you can use the encode() and decode() methods to convert between Unicode strings and byte strings. In Python 3.x, you must explicitly call the methods with the appropriate encoding and decoding parameters.\n",
    "\n",
    "5. **Division operator:** In Python 2.x, the division operator (/) performs integer division when both operands are integers. In Python 3.x, the division operator always performs true division and returns a float.\n",
    "\n",
    "These are just a few examples of the differences between Python 2.x and 3.x that can affect your code. Depending on the complexity of your code, you may need to make significant changes to ensure that your code works correctly in Python 3.x."
   ]
  },
  {
   "cell_type": "markdown",
   "id": "5dd9e41d",
   "metadata": {},
   "source": [
    "=============================================================================================================="
   ]
  }
 ],
 "metadata": {
  "kernelspec": {
   "display_name": "Python 3",
   "language": "python",
   "name": "python3"
  },
  "language_info": {
   "codemirror_mode": {
    "name": "ipython",
    "version": 3
   },
   "file_extension": ".py",
   "mimetype": "text/x-python",
   "name": "python",
   "nbconvert_exporter": "python",
   "pygments_lexer": "ipython3",
   "version": "3.6.2"
  }
 },
 "nbformat": 4,
 "nbformat_minor": 5
}
