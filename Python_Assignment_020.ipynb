{
 "cells": [
  {
   "cell_type": "markdown",
   "id": "fcf1ffbb",
   "metadata": {},
   "source": [
    "# Python_Assignment_020"
   ]
  },
  {
   "cell_type": "markdown",
   "id": "e2c6d6aa",
   "metadata": {},
   "source": [
    "**Concepts used:-**  \n",
    "File handlings  \n",
    "CSV  \n",
    "sqlite3  "
   ]
  },
  {
   "cell_type": "markdown",
   "id": "13884d0a",
   "metadata": {},
   "source": [
    "## Check for Python_Assignments_020 folder where you can find .py files in \n",
    "https://github.com/Krishna-Lohith/Python-Assignments/tree/main/Python_Assignment_020"
   ]
  },
  {
   "cell_type": "markdown",
   "id": "5e79cb21",
   "metadata": {},
   "source": [
    "=============================================================================================================="
   ]
  },
  {
   "cell_type": "markdown",
   "id": "59c49a40",
   "metadata": {},
   "source": [
    "## 1. Set the variable test1 to the string &#39;This is a test of the emergency text system,&#39; and save test1 to a file named test.txt."
   ]
  },
  {
   "cell_type": "code",
   "execution_count": 8,
   "id": "35e61cec",
   "metadata": {},
   "outputs": [],
   "source": [
    "test1 = 'This is a test of the emergency text system'\n",
    "\n",
    "with open('text.txt','w') as file:\n",
    "    file.write(test1)"
   ]
  },
  {
   "cell_type": "markdown",
   "id": "5c2137aa",
   "metadata": {},
   "source": [
    "=============================================================================================================="
   ]
  },
  {
   "cell_type": "markdown",
   "id": "f577af8f",
   "metadata": {},
   "source": [
    "## 2. Read the contents of the file test.txt into the variable test2. Is there a difference between test 1 and test 2?"
   ]
  },
  {
   "cell_type": "code",
   "execution_count": 14,
   "id": "6fa48bc9",
   "metadata": {},
   "outputs": [
    {
     "name": "stdout",
     "output_type": "stream",
     "text": [
      "This is a test of the emergency text system\n"
     ]
    }
   ],
   "source": [
    "test1 = 'This is a test of the emergency text system'\n",
    "with open('text.txt','r') as file:\n",
    "    test2 = file.read()\n",
    "    print(test2)\n",
    "\n",
    "# No, There is not differnece between test1 and test2"
   ]
  },
  {
   "cell_type": "markdown",
   "id": "22ecf914",
   "metadata": {},
   "source": [
    "=============================================================================================================="
   ]
  },
  {
   "cell_type": "markdown",
   "id": "43abb1de",
   "metadata": {},
   "source": [
    "## 3. Create a CSV file called books.csv by using these lines:  \n",
    "title,author,year  \n",
    "The Weirdstone of Brisingamen,Alan Garner,1960  \n",
    "Perdido Street Station,China Miéville,2000  \n",
    "Thud!,Terry Pratchett,2005  \n",
    "The Spellman Files,Lisa Lutz,2007   \n",
    "Small Gods,Terry Pratchett,1992  "
   ]
  },
  {
   "cell_type": "code",
   "execution_count": 18,
   "id": "4cc43bae",
   "metadata": {},
   "outputs": [],
   "source": [
    "import csv\n",
    "\n",
    "data = data = [\n",
    "    ['title', 'author', 'year'],['The Weirdstone of Brisingamen', 'Alan Garner', '1960'],['Perdido Street Station', 'China Miéville', '2000'],['Thud!', 'Terry Pratchett', '2005'],\n",
    "    ['The Spellman Files', 'Lisa Lutz', '2007'],\n",
    "    ['Small Gods', 'Terry Pratchett', '1992']\n",
    "]\n",
    "\n",
    "#Writing data.\n",
    "with open('books.csv','w') as filecsv:\n",
    "    writer = csv.writer(filecsv)\n",
    "    writer.writerows(data)"
   ]
  },
  {
   "cell_type": "code",
   "execution_count": 19,
   "id": "5c735544",
   "metadata": {},
   "outputs": [
    {
     "name": "stdout",
     "output_type": "stream",
     "text": [
      "['title', 'author', 'year']\n",
      "['The Weirdstone of Brisingamen', 'Alan Garner', '1960']\n",
      "['Perdido Street Station', 'China Miéville', '2000']\n",
      "['Thud!', 'Terry Pratchett', '2005']\n",
      "['The Spellman Files', 'Lisa Lutz', '2007']\n",
      "['Small Gods', 'Terry Pratchett', '1992']\n"
     ]
    }
   ],
   "source": [
    "# Reading data\n",
    "with open('books.csv','r') as filecsv:\n",
    "    reader = csv.reader(filecsv)\n",
    "    for i in reader:\n",
    "        if i:\n",
    "            print(i)"
   ]
  },
  {
   "cell_type": "markdown",
   "id": "6792e530",
   "metadata": {},
   "source": [
    "=============================================================================================================="
   ]
  },
  {
   "cell_type": "markdown",
   "id": "8eb29848",
   "metadata": {},
   "source": [
    "# This code works in VS code. Install SQLite and SQLite3 Editor extensions on your vs code and then execute this codes."
   ]
  },
  {
   "cell_type": "markdown",
   "id": "163a273c",
   "metadata": {},
   "source": [
    "### 4. Use the sqlite3 module to create a SQLite database called books.db, and a table called books with these fields: title (text), author (text), and year (integer)."
   ]
  },
  {
   "cell_type": "code",
   "execution_count": 13,
   "id": "3fb9e7ac",
   "metadata": {},
   "outputs": [],
   "source": [
    "# This file can't be open in our local systems.\n",
    "import sqlite3\n",
    "\n",
    "# Connecting\n",
    "my_conn = sqlite3.connect('books1.db') \n",
    "\n",
    "# creating a cursor\n",
    "my_cur = my_conn.cursor()\n",
    "\n",
    "my_cur.execute('''CREATE TABLE books1\n",
    "                  (title text, author text, year integer)''')\n",
    "\n",
    "my_conn.commit()\n",
    "my_conn.close()"
   ]
  },
  {
   "cell_type": "markdown",
   "id": "f6fabd86",
   "metadata": {},
   "source": [
    "=============================================================================================================="
   ]
  },
  {
   "cell_type": "markdown",
   "id": "6431d7c8",
   "metadata": {},
   "source": [
    "## 5. Read books.csv and insert its data into the book table.\n",
    "\n"
   ]
  },
  {
   "cell_type": "code",
   "execution_count": null,
   "id": "82a65c19",
   "metadata": {},
   "outputs": [],
   "source": [
    "# This code works in VS code. Install SQLite and SQLite3 Editor extensions to your vs code\n",
    "\n",
    "import csv\n",
    "import sqlite3\n",
    "\n",
    "# Open the CSV file and read the data\n",
    "with open('books.csv', 'r') as csvfile:\n",
    "    csvreader = csv.reader(csvfile)\n",
    "    next(csvreader)  # Skip the header row\n",
    "    rows = []\n",
    "    for row in csvreader:\n",
    "        if row:\n",
    "            if len(row) == 3:\n",
    "                rows.append((row[0], row[1], row[2]))\n",
    "            else:\n",
    "                print(f\"Skipping row: {row}\")\n",
    "\n",
    "# Connect to the SQLite database\n",
    "conn = sqlite3.connect('mydatabase.db')\n",
    "cursor = conn.cursor()\n",
    "\n",
    "# Create a new table to store the data\n",
    "cursor.execute('CREATE TABLE IF NOT EXISTS books (title TEXT, author TEXT, year INTEGER)')\n",
    "\n",
    "# Insert the data into the table\n",
    "cursor.executemany('INSERT INTO books (title, author, year) VALUES (?, ?, ?)', rows)\n",
    "\n",
    "# Commit the changes and close the connection\n",
    "conn.commit()\n",
    "conn.close()"
   ]
  },
  {
   "cell_type": "markdown",
   "id": "1d0c4b53",
   "metadata": {},
   "source": [
    "=============================================================================================================="
   ]
  },
  {
   "cell_type": "markdown",
   "id": "9bd49671",
   "metadata": {},
   "source": [
    "## 6. Select and print the title column from the book table in alphabetical order."
   ]
  },
  {
   "cell_type": "code",
   "execution_count": null,
   "id": "3641e11c",
   "metadata": {},
   "outputs": [],
   "source": [
    "# This file can't be open in our local systems.\n",
    "import sqlite3\n",
    "\n",
    "# Connecting\n",
    "my_conn = sqlite3.connect('books.db') \n",
    "\n",
    "# creating a cursor\n",
    "my_cur = my_conn.cursor()\n",
    "\n",
    "my_cur.execute('PRAGMA table_info(books)')\n",
    "x = my_cur.fetchall()\n",
    "header = [i[1] for i in x]\n",
    "header_sorted = sorted(header)\n",
    "\n",
    "for j in header_sorted:\n",
    "    print(j)\n",
    "\n",
    "my_conn.commit()\n",
    "my_conn.close()\n",
    "\n",
    "# I need the header in alphabetical order"
   ]
  },
  {
   "cell_type": "markdown",
   "id": "5a72b5da",
   "metadata": {},
   "source": [
    "=============================================================================================================="
   ]
  },
  {
   "cell_type": "markdown",
   "id": "3d424782",
   "metadata": {},
   "source": [
    "## 7. From the book table, select and print all columns in the order of publication."
   ]
  },
  {
   "cell_type": "code",
   "execution_count": null,
   "id": "1ba1427c",
   "metadata": {},
   "outputs": [],
   "source": [
    "# This file can't be open in our local systems.\n",
    "import sqlite3\n",
    "\n",
    "# Connecting\n",
    "my_conn = sqlite3.connect('books.db') \n",
    "\n",
    "# creating a cursor\n",
    "my_cur = my_conn.cursor()\n",
    "\n",
    "my_cur.execute('select * from books order by year')\n",
    "x = my_cur.fetchall()\n",
    "for i in x:\n",
    "    print(i)\n",
    "\n",
    "my_conn.commit()\n",
    "my_conn.close()"
   ]
  },
  {
   "cell_type": "markdown",
   "id": "917be974",
   "metadata": {},
   "source": [
    "=============================================================================================================="
   ]
  }
 ],
 "metadata": {
  "kernelspec": {
   "display_name": "Python 3",
   "language": "python",
   "name": "python3"
  },
  "language_info": {
   "codemirror_mode": {
    "name": "ipython",
    "version": 3
   },
   "file_extension": ".py",
   "mimetype": "text/x-python",
   "name": "python",
   "nbconvert_exporter": "python",
   "pygments_lexer": "ipython3",
   "version": "3.6.2"
  }
 },
 "nbformat": 4,
 "nbformat_minor": 5
}
