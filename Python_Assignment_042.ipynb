{
 "cells": [
  {
   "cell_type": "markdown",
   "id": "02b0955f",
   "metadata": {},
   "source": [
    "# Python_Assignment_042    "
   ]
  },
  {
   "cell_type": "markdown",
   "id": "30d8f415",
   "metadata": {},
   "source": [
    "**Topics covered:-**    \n",
    "Regex    \n",
    "greedy and non-greedy    "
   ]
  },
  {
   "cell_type": "markdown",
   "id": "ec6fef15",
   "metadata": {},
   "source": [
    "=============================================================================================================="
   ]
  },
  {
   "cell_type": "markdown",
   "id": "ceb21c5d",
   "metadata": {},
   "source": [
    "### Q1. Explain the difference between greedy and non-greedy syntax with visual terms in as few words as possible. What is the bare minimum effort required to transform a greedy pattern into a non-greedy one? What characters or characters can you introduce or change?"
   ]
  },
  {
   "cell_type": "markdown",
   "id": "649d13d8",
   "metadata": {},
   "source": [
    "In regular expressions, greedy syntax matches the longest possible string that satisfies the pattern, while non-greedy syntax matches the shortest possible string that satisfies the pattern.\n",
    "\n",
    "Visually, consider the string \"abc123def456\". If we use the regular expression .*\\d, the greedy syntax will match the entire string, \"abc123def456\", because .* matches as much as possible before the \\d. However, if we use the non-greedy syntax .*?\\d, it will match the shortest possible string, \"abc123\". The .*? matches as little as possible before the \\d.\n",
    "\n",
    "To transform a greedy pattern into a non-greedy one, you can introduce the question mark ? after the quantifier, such as *?, +?, or ??. This tells the regular expression engine to use non-greedy syntax for the preceding quantifier.\n",
    "\n",
    "For example, to transform the greedy pattern .*\\d into the non-greedy pattern .*?\\d, we simply introduce the question mark after the *.\n",
    "\n",
    "So the bare minimum effort required to transform a greedy pattern into a non-greedy one is to add a question mark after the quantifier."
   ]
  },
  {
   "cell_type": "markdown",
   "id": "1efd7d30",
   "metadata": {},
   "source": [
    "=============================================================================================================="
   ]
  },
  {
   "cell_type": "markdown",
   "id": "f7168d99",
   "metadata": {},
   "source": [
    "## Q2. When exactly does greedy versus non-greedy make a difference?  What if you&#39;re looking for a non-greedy match but the only one available is greedy?"
   ]
  },
  {
   "cell_type": "markdown",
   "id": "ca728a8e",
   "metadata": {},
   "source": [
    "Greedy versus non-greedy syntax makes a difference when there are multiple matches available that satisfy the pattern, and the matches have different lengths. In such cases, the greedy syntax will match the longest possible string that satisfies the pattern, while the non-greedy syntax will match the shortest possible string that satisfies the pattern.\n",
    "\n",
    "For example, consider the string \"ababa\". If we use the regular expression a.*a with the greedy syntax, it will match the entire string \"ababa\", because .* matches as much as possible before the final a. However, if we use the non-greedy syntax a.*?a, it will match the shortest possible string that satisfies the pattern, which is \"aba\".\n",
    "\n",
    "If you're looking for a non-greedy match but the only one available is greedy, you can use backreferences to capture the shortest match. A backreference allows you to refer to a previously captured group within the pattern. By using a capturing group and a backreference, you can ensure that the match is non-greedy.\n",
    "\n",
    "For example, consider the string \"ababa\". If we use the regular expression (a.*?)a, it will match the shortest possible string that satisfies the pattern, which is \"aba\". The (a.*?) is a capturing group that matches as little as possible before the final a, and the backreference \\1 refers to the captured group.\n",
    "\n",
    "So, if a non-greedy match is not available, you can use a capturing group and a backreference to achieve a similar result."
   ]
  },
  {
   "cell_type": "markdown",
   "id": "c469b48f",
   "metadata": {},
   "source": [
    "=============================================================================================================="
   ]
  },
  {
   "cell_type": "markdown",
   "id": "3a99e88f",
   "metadata": {},
   "source": [
    "## Q3. In a simple match of a string, which looks only for one match and does not do any replacement, is the use of a nontagged group likely to make any practical difference?"
   ]
  },
  {
   "cell_type": "markdown",
   "id": "998705a8",
   "metadata": {},
   "source": [
    "In a simple match of a string that looks for only one match and does not do any replacement, the use of a nontagged group is unlikely to make any practical difference.\n",
    "\n",
    "A nontagged group is a capturing group that does not capture the matched substring. It is specified by using the syntax (?:...), where the ?: indicates that the group should not be captured.\n",
    "\n",
    "In a simple match where only one match is needed, the capturing group itself is not necessary, since the entire matched substring is already captured by the regular expression. Therefore, the use of a nontagged group would not have any practical impact on the match result.\n",
    "\n",
    "However, there may be some cases where using a nontagged group can improve the performance of the regular expression, especially if the regular expression is complex and is used to search large amounts of data. By using a nontagged group instead of a capturing group, the regular expression engine can avoid the overhead of capturing and storing the matched substring, which can result in faster matching."
   ]
  },
  {
   "cell_type": "markdown",
   "id": "1e264bba",
   "metadata": {},
   "source": [
    "=============================================================================================================="
   ]
  },
  {
   "cell_type": "markdown",
   "id": "45a8a332",
   "metadata": {},
   "source": [
    "## Q4. Describe a scenario in which using a nontagged category would have a significant impact on the program&#39;s outcomes."
   ]
  },
  {
   "cell_type": "markdown",
   "id": "89007220",
   "metadata": {},
   "source": [
    "A scenario in which using a nontagged category could have a significant impact on the program's outcomes is when the regular expression is used to search and extract information from a large dataset. In this case, the use of a nontagged category can help improve the performance of the regular expression by reducing the overhead of capturing and storing the matched substrings.\n",
    "\n",
    "For example, suppose you have a dataset containing thousands of web pages, and you need to extract all the URLs from these pages. You can use a regular expression to search for URLs, but the regular expression can be quite complex and may involve multiple capturing groups. In this scenario, using nontagged categories for non-capturing groups can improve the performance of the regular expression, as it can avoid the overhead of capturing and storing the matched substrings in memory.\n",
    "\n",
    "Furthermore, if the regular expression is used in a high-traffic application, such as a web server or a search engine, the performance improvement gained from using nontagged categories can have a significant impact on the overall response time and user experience."
   ]
  },
  {
   "cell_type": "markdown",
   "id": "88c72e35",
   "metadata": {},
   "source": [
    "=============================================================================================================="
   ]
  },
  {
   "cell_type": "markdown",
   "id": "21a0bf83",
   "metadata": {},
   "source": [
    "## Q5. Unlike a normal regex pattern, a look-ahead condition does not consume the characters it examines. Describe a situation in which this could make a difference in the results of your programme."
   ]
  },
  {
   "cell_type": "markdown",
   "id": "93018be9",
   "metadata": {},
   "source": [
    "A look-ahead condition in a regex pattern allows you to specify a condition that must be satisfied for a match to occur, without consuming the characters that are matched by the look-ahead itself. This can make a difference in the results of your program in a scenario where you want to match a pattern that is followed by a specific sequence of characters, but you don't want to include those characters in the match.\n",
    "\n",
    "For example, suppose you have a dataset containing a list of email addresses, and you want to extract all email addresses that are followed by the word \"gmail\" or \"yahoo\", but you don't want to include the word \"gmail\" or \"yahoo\" in the match. Using a look-ahead condition, you can specify the condition that the email address must be followed by the word \"gmail\" or \"yahoo\", without actually consuming the word \"gmail\" or \"yahoo\" itself. This can be useful in cases where you want to extract information from a text string, but you want to exclude certain parts of the match from the result.\n",
    "\n",
    "Without a look-ahead condition, you would have to include the word \"gmail\" or \"yahoo\" in the pattern itself, which would result in a match that includes the word \"gmail\" or \"yahoo\" along with the email address. This may not be desirable if you want to process the email address separately from the word \"gmail\" or \"yahoo\"."
   ]
  },
  {
   "cell_type": "markdown",
   "id": "15898926",
   "metadata": {},
   "source": [
    "=============================================================================================================="
   ]
  },
  {
   "cell_type": "markdown",
   "id": "ad537b1e",
   "metadata": {},
   "source": [
    "## Q6. In standard expressions, what is the difference between positive look-ahead and negative look- ahead?"
   ]
  },
  {
   "cell_type": "markdown",
   "id": "22a11067",
   "metadata": {},
   "source": [
    "In regular expressions, a lookahead is a zero-width assertion that allows you to check if a pattern exists ahead of the current position, without actually including it in the match. A positive lookahead checks if the pattern exists, while a negative lookahead checks if the pattern does not exist.\n",
    "\n",
    "A positive lookahead is denoted by \"(?=pattern)\", where \"pattern\" is the pattern that you want to match. It asserts that the text ahead of the current position matches the specified pattern. However, the matched text is not included in the final match. For example, the regex pattern \"foo(?=bar)\" would match \"foo\" only if it is followed by \"bar\", but \"bar\" would not be included in the final match.\n",
    "\n",
    "A negative lookahead, on the other hand, is denoted by \"(?!pattern)\". It asserts that the text ahead of the current position does not match the specified pattern. For example, the regex pattern \"foo(?!bar)\" would match \"foo\" only if it is not followed by \"bar\".\n",
    "\n",
    "In summary, positive lookahead checks if a pattern exists ahead of the current position, while negative lookahead checks if a pattern does not exist. Both of these lookaheads are useful in different scenarios where you need to match or exclude specific patterns that appear ahead of the current position."
   ]
  },
  {
   "cell_type": "markdown",
   "id": "307c0885",
   "metadata": {},
   "source": [
    "=============================================================================================================="
   ]
  },
  {
   "cell_type": "markdown",
   "id": "764f93b1",
   "metadata": {},
   "source": [
    "## Q7. What is the benefit of referring to groups by name rather than by number in a standard expression?"
   ]
  },
  {
   "cell_type": "markdown",
   "id": "50dcf72e",
   "metadata": {},
   "source": [
    "Referring to groups by name rather than by number in a regular expression has several benefits:\n",
    "\n",
    "**1. Clarity:** Group names provide a more descriptive and meaningful way to refer to groups in a regular expression, making the code more readable and easier to understand. This is especially true when the regular expression contains multiple groups, and it is not clear which group number corresponds to which part of the pattern.\n",
    "\n",
    "**2. Maintenance:** If the regular expression is modified to add or remove groups, using named groups ensures that the group references are not affected. When groups are referred to by number, the group numbers can change if a group is added or removed, resulting in errors in the code.\n",
    "\n",
    "**3. Reusability:** Named groups can be reused within the same regular expression or across different regular expressions, making it easier to write and maintain complex patterns.\n",
    "\n",
    "**4. Flexibility:** Named groups can be used to group different parts of the pattern, such as optional or alternative subpatterns. Using named groups allows you to refer to these subpatterns by name and simplify the code.\n",
    "\n",
    "In summary, using named groups in regular expressions provides more clarity, easier maintenance, reusability, and flexibility, making it a better practice than referring to groups by number."
   ]
  },
  {
   "cell_type": "markdown",
   "id": "67e3e1ac",
   "metadata": {},
   "source": [
    "=============================================================================================================="
   ]
  },
  {
   "cell_type": "markdown",
   "id": "b3d10e15",
   "metadata": {},
   "source": [
    "## Q8. Can you identify repeated items within a target string using named groups, as in &quot;The cow jumped over the moon&quot;?"
   ]
  },
  {
   "cell_type": "markdown",
   "id": "2f8e6b29",
   "metadata": {},
   "source": [
    "Yes, you can identify repeated items within a target string using named groups in regular expressions. A named group is denoted by \"(?P<group_name>pattern)\", where \"group_name\" is the name of the group, and \"pattern\" is the pattern that you want to match.\n",
    "\n",
    "For example, in the string \"The cow jumped over the moon\", you can use a named group to match any repeated words. The regex pattern to match repeated words can be written as:"
   ]
  },
  {
   "cell_type": "code",
   "execution_count": null,
   "id": "fbd5c7bd",
   "metadata": {},
   "outputs": [],
   "source": [
    "\\b(?P<word>\\w+)\\b.*\\b(?P=word)\\b"
   ]
  },
  {
   "cell_type": "markdown",
   "id": "fc53f1d7",
   "metadata": {},
   "source": [
    "This pattern uses a named group \"word\" to match any word character (denoted by \"\\w+\"), which is followed by any characters (denoted by \".*\"), and then followed by the same word matched earlier (denoted by \"(?P=word)\"). The \"\\b\" characters are word boundaries that ensure that the pattern only matches complete words and not just parts of words.\n",
    "\n",
    "When you apply this pattern to the string \"The cow jumped over the moon\", it will match the repeated word \"the\". The named group \"word\" captures the matched word, which you can then use in further processing or replacement."
   ]
  },
  {
   "cell_type": "markdown",
   "id": "fb4f2f32",
   "metadata": {},
   "source": [
    "=============================================================================================================="
   ]
  },
  {
   "cell_type": "markdown",
   "id": "0e94a3f4",
   "metadata": {},
   "source": [
    "## Q9. When parsing a string, what is at least one thing that the Scanner interface does for you that the re.findall feature does not?"
   ]
  },
  {
   "cell_type": "markdown",
   "id": "61b679d0",
   "metadata": {},
   "source": [
    "The Scanner interface in Java provides a way to tokenize input into primitive data types and strings, whereas the re.findall function in Python returns all non-overlapping matches of a pattern in a string.\n",
    "\n",
    "One thing that the Scanner interface does for you that re.findall does not is to provide a way to control the delimiters used to tokenize the input. With Scanner, you can set custom delimiters or use pre-defined delimiters such as whitespace or line breaks. This level of control over delimiters is not possible with re.findall, which matches a pattern against a string without regard for delimiters."
   ]
  },
  {
   "cell_type": "markdown",
   "id": "cb8f3051",
   "metadata": {},
   "source": [
    "=============================================================================================================="
   ]
  },
  {
   "cell_type": "markdown",
   "id": "72d8c623",
   "metadata": {},
   "source": [
    "## Q10. Does a scanner object have to be named scanner?"
   ]
  },
  {
   "cell_type": "markdown",
   "id": "d2040cb8",
   "metadata": {},
   "source": [
    "No, a Scanner object does not have to be named \"scanner\". You can choose any valid identifier as the object name as long as it follows the naming rules in Python. For example, you could name a Scanner object \"inputScanner\", \"myScanner\", or any other valid identifier name. The important thing is to use the same object name throughout your code when referring to the same Scanner object."
   ]
  },
  {
   "cell_type": "markdown",
   "id": "3c523bbe",
   "metadata": {},
   "source": [
    "=============================================================================================================="
   ]
  }
 ],
 "metadata": {
  "kernelspec": {
   "display_name": "Python 3",
   "language": "python",
   "name": "python3"
  },
  "language_info": {
   "codemirror_mode": {
    "name": "ipython",
    "version": 3
   },
   "file_extension": ".py",
   "mimetype": "text/x-python",
   "name": "python",
   "nbconvert_exporter": "python",
   "pygments_lexer": "ipython3",
   "version": "3.6.2"
  }
 },
 "nbformat": 4,
 "nbformat_minor": 5
}
