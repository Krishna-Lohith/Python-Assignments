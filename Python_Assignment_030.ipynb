{
 "cells": [
  {
   "cell_type": "markdown",
   "id": "2afc13be",
   "metadata": {},
   "source": [
    "# Python_Assignment_030"
   ]
  },
  {
   "cell_type": "markdown",
   "id": "82ae412d",
   "metadata": {},
   "source": [
    "**Topics covered:-**  \n",
    "Multiple Inheritance  \n",
    "delegation  \n",
    "composition \n",
    "Bound Methods  \n",
    "Private  "
   ]
  },
  {
   "cell_type": "markdown",
   "id": "230fc657",
   "metadata": {},
   "source": [
    "=============================================================================================================="
   ]
  },
  {
   "cell_type": "markdown",
   "id": "a33d6bae",
   "metadata": {},
   "source": [
    "## Q1. What is the meaning of multiple inheritance?"
   ]
  },
  {
   "cell_type": "markdown",
   "id": "054d42fe",
   "metadata": {},
   "source": [
    "Multiple inheritance is a feature of object-oriented programming languages that allows a class to inherit from more than one parent class. In other words, a class can have multiple direct base classes from which it inherits attributes and methods.\n",
    "\n",
    "With multiple inheritance, a subclass can combine the features of multiple parent classes, and thus have a more complex and rich set of behaviors. This can be particularly useful when creating classes that model complex real-world concepts, which may require a combination of different behaviors and features.\n",
    "\n",
    "However, multiple inheritance can also lead to complexity and ambiguity, particularly if the parent classes define conflicting behaviors or attributes. This can result in issues such as the \"diamond problem\", where two or more parent classes share a common base class, leading to ambiguity in attribute and method resolution.\n",
    "\n",
    "Overall, multiple inheritance is a powerful feature of object-oriented programming, but it should be used judiciously and with care to avoid issues with ambiguity and complexity."
   ]
  },
  {
   "cell_type": "code",
   "execution_count": 11,
   "id": "9b8ff968",
   "metadata": {},
   "outputs": [],
   "source": [
    "class BaseClass1:\n",
    "    # Properties and methods of BaseClass1\n",
    "    pass\n",
    "class BaseClass2:\n",
    "    # Properties and methods of BaseClass2\n",
    "    pass\n",
    "    \n",
    "class DerivedClass(BaseClass1, BaseClass2):\n",
    "    # Properties and methods of DerivedClass\n",
    "    pass"
   ]
  },
  {
   "cell_type": "markdown",
   "id": "52e7d7d4",
   "metadata": {},
   "source": [
    "In the above code, we define two base classes, BaseClass1 and BaseClass2, each with its own set of properties and methods. We then define a derived class, DerivedClass, which inherits from both BaseClass1 and BaseClass2 by listing them as comma-separated arguments in the class definition.\n",
    "\n",
    "The derived class DerivedClass now has access to all the properties and methods of both BaseClass1 and BaseClass2. It can also override any properties or methods that it inherits from the base classes.\n",
    "\n",
    "It's worth noting that when a derived class inherits from multiple base classes, the order in which the base classes are listed can affect how the methods and properties are resolved in the derived class. This is known as the Method Resolution Order (MRO) in Python."
   ]
  },
  {
   "cell_type": "markdown",
   "id": "d6ede485",
   "metadata": {},
   "source": [
    "=============================================================================================================="
   ]
  },
  {
   "cell_type": "markdown",
   "id": "3053f70f",
   "metadata": {},
   "source": [
    "## Q2. What is the concept of delegation?"
   ]
  },
  {
   "cell_type": "markdown",
   "id": "20704a10",
   "metadata": {},
   "source": [
    "Delegation is a design pattern in object-oriented programming where an object forwards a request to another object to perform a task, rather than doing it itself. In other words, an object delegates a specific responsibility to another object, which has the expertise or specialization to handle it more efficiently or effectively. Delegation is a powerful way to achieve code reuse and separation of concerns.\n",
    "\n",
    "Here's an example to illustrate the concept of delegation:"
   ]
  },
  {
   "cell_type": "code",
   "execution_count": 13,
   "id": "f8eb61e3",
   "metadata": {},
   "outputs": [],
   "source": [
    "class Logger:\n",
    "    def log(self, message):\n",
    "        pass\n",
    "\n",
    "class FileLogger(Logger):\n",
    "    def log(self, message):\n",
    "        # Code to log message to a file\n",
    "        pass\n",
    "\n",
    "class ConsoleLogger(Logger):\n",
    "    def log(self, message):\n",
    "        # Code to log message to the console\n",
    "        pass\n",
    "\n",
    "class MyApplication:\n",
    "    def __init__(self):\n",
    "        self.logger = FileLogger()\n",
    "\n",
    "    def do_something(self):\n",
    "        # Code to do something\n",
    "        self.logger.log(\"Did something\")"
   ]
  },
  {
   "cell_type": "markdown",
   "id": "5d762da3",
   "metadata": {},
   "source": [
    "In the above code, we have three classes, Logger, FileLogger, and ConsoleLogger. FileLogger and ConsoleLogger inherit from Logger and implement the log method. Each of these classes specializes in logging messages to a file or to the console, respectively.\n",
    "\n",
    "The MyApplication class is the main class that uses the logger. It initializes an instance of FileLogger in its constructor and stores it in a member variable logger. The MyApplication class also has a method do_something that does some work and then logs a message using the log method of the logger object.\n",
    "\n",
    "By delegating the responsibility of logging to the logger object, the MyApplication class can focus on its primary task of doing something and not worry about how the logging is done. If, in the future, we decide to change the logging mechanism from a file to a database, we can simply replace the FileLogger object with a DatabaseLogger object, without changing the code in the MyApplication class.\n",
    "\n",
    "In summary, delegation is a design pattern that allows objects to delegate responsibilities to other objects, which specialize in performing those tasks more efficiently or effectively. It helps in achieving code reuse, separation of concerns, and promotes loose coupling between objects."
   ]
  },
  {
   "cell_type": "markdown",
   "id": "cf54e497",
   "metadata": {},
   "source": [
    "=============================================================================================================="
   ]
  },
  {
   "cell_type": "markdown",
   "id": "d8f7bd4d",
   "metadata": {},
   "source": [
    "## Q3. What is the concept of composition?"
   ]
  },
  {
   "cell_type": "markdown",
   "id": "11ef7c3e",
   "metadata": {},
   "source": [
    "Composition is a design pattern in object-oriented programming that allows objects to be composed of other objects as parts or components. The idea behind composition is to create complex objects by combining smaller, simpler objects, rather than creating them directly as monolithic entities.\n",
    "\n",
    "Here's an example to illustrate the concept of composition:"
   ]
  },
  {
   "cell_type": "code",
   "execution_count": 15,
   "id": "30db5c00",
   "metadata": {},
   "outputs": [],
   "source": [
    "class Engine:\n",
    "    def start(self):\n",
    "        print(\"Engine started\")\n",
    "\n",
    "    def stop(self):\n",
    "        print(\"Engine stopped\")\n",
    "\n",
    "class Car:\n",
    "    def __init__(self):\n",
    "        self.engine = Engine()\n",
    "\n",
    "    def start(self):\n",
    "        print(\"Starting car...\")\n",
    "        self.engine.start()\n",
    "\n",
    "    def stop(self):\n",
    "        print(\"Stopping car...\")\n",
    "        self.engine.stop()"
   ]
  },
  {
   "cell_type": "markdown",
   "id": "a4e05641",
   "metadata": {},
   "source": [
    "In the above code, we have two classes, Engine and Car. Engine is a class that represents an engine and has methods to start and stop the engine. Car is a class that represents a car and has an instance variable engine of type Engine.\n",
    "\n",
    "In the constructor of the Car class, we create an instance of Engine and assign it to the engine variable. This is an example of composition, where the Car object is composed of an Engine object as a part or component.\n",
    "\n",
    "The Car class also has methods start and stop that start and stop the car by calling the start and stop methods of the engine object.\n",
    "\n",
    "By using composition, we can reuse the Engine class in other objects, such as trucks or buses, without duplicating the code for starting and stopping the engine. We can also easily replace the Engine object with a different implementation, such as an electric motor, without changing the Car class.\n",
    "\n",
    "In summary, composition is a design pattern that allows objects to be composed of other objects as parts or components. It helps in achieving code reuse, separation of concerns, and promotes loose coupling between objects."
   ]
  },
  {
   "cell_type": "markdown",
   "id": "be45a7c1",
   "metadata": {},
   "source": [
    "=============================================================================================================="
   ]
  },
  {
   "cell_type": "markdown",
   "id": "105396f3",
   "metadata": {},
   "source": [
    "## Q4. What are bound methods and how do we use them?"
   ]
  },
  {
   "cell_type": "markdown",
   "id": "b648608f",
   "metadata": {},
   "source": [
    "In Python, a bound method is a method that is bound to an instance of a class. When a method is called on an instance of a class, the instance is automatically passed as the first argument (typically named \"self\") to the method, which is then bound to the instance and can operate on its attributes and methods.\n",
    "\n",
    "To use a bound method, you first need to create an instance of the class that defines the method. You can then call the method on the instance, passing any additional arguments required by the method."
   ]
  },
  {
   "cell_type": "code",
   "execution_count": 3,
   "id": "5b2366e4",
   "metadata": {},
   "outputs": [],
   "source": [
    "class MyClass:\n",
    "    def __init__(self, value):\n",
    "        self.value = value\n",
    "        \n",
    "    def get_value(self):\n",
    "        return self.value"
   ]
  },
  {
   "cell_type": "markdown",
   "id": "f3f5a614",
   "metadata": {},
   "source": [
    "Here, MyClass defines a constructor that takes an argument value, and a method get_value that returns the value stored in the instance. To use this class, you first need to create an instance:"
   ]
  },
  {
   "cell_type": "code",
   "execution_count": 5,
   "id": "99907042",
   "metadata": {},
   "outputs": [],
   "source": [
    "my_instance = MyClass(42)"
   ]
  },
  {
   "cell_type": "markdown",
   "id": "bd44df3d",
   "metadata": {},
   "source": [
    "This creates an instance of MyClass with a value of 42. You can then call the get_value method on this instance:"
   ]
  },
  {
   "cell_type": "code",
   "execution_count": 6,
   "id": "70f708a0",
   "metadata": {},
   "outputs": [
    {
     "name": "stdout",
     "output_type": "stream",
     "text": [
      "42\n"
     ]
    }
   ],
   "source": [
    "result = my_instance.get_value()\n",
    "print(result)"
   ]
  },
  {
   "cell_type": "markdown",
   "id": "bcbc6628",
   "metadata": {},
   "source": [
    "Here, get_value is a bound method, because it is bound to the my_instance object. When the method is called, the self parameter is automatically set to my_instance, which allows the method to access the value stored in the instance.\n",
    "\n",
    "Bound methods are a fundamental concept in object-oriented programming, and are used extensively in Python to define and manipulate objects. They allow you to encapsulate behavior within objects and make your code more modular and reusable."
   ]
  },
  {
   "cell_type": "markdown",
   "id": "7c8cae80",
   "metadata": {},
   "source": [
    "=============================================================================================================="
   ]
  },
  {
   "cell_type": "markdown",
   "id": "a85a0ed7",
   "metadata": {},
   "source": [
    "## Q5. What is the purpose of pseudoprivate attributes?"
   ]
  },
  {
   "cell_type": "markdown",
   "id": "3b6d5da1",
   "metadata": {},
   "source": [
    "In Python, pseudoprivate attributes are used to provide a way to \"hide\" instance variables within a class. Pseudoprivate attributes are not truly private, but they have a naming convention that makes them more difficult to access from outside the class.\n",
    "\n",
    "Pseudoprivate attributes are defined by using a double underscore prefix before the attribute name, like this:"
   ]
  },
  {
   "cell_type": "code",
   "execution_count": 7,
   "id": "2c15340c",
   "metadata": {},
   "outputs": [],
   "source": [
    "class MyClass:\n",
    "    def __init__(self):\n",
    "        self.__my_private_variable = 42\n"
   ]
  },
  {
   "cell_type": "markdown",
   "id": "008057e6",
   "metadata": {},
   "source": [
    "Here, __my_private_variable is a pseudoprivate attribute of the MyClass class. This attribute is not truly private, but it is prefixed with a double underscore to make it more difficult to access from outside the class.\n",
    "\n",
    "To access a pseudoprivate attribute from outside the class, you can use the name mangling syntax, which replaces the double underscore prefix with _classname, where classname is the name of the class:"
   ]
  },
  {
   "cell_type": "code",
   "execution_count": 8,
   "id": "de2ffd0f",
   "metadata": {},
   "outputs": [
    {
     "name": "stdout",
     "output_type": "stream",
     "text": [
      "42\n"
     ]
    }
   ],
   "source": [
    "my_instance = MyClass()\n",
    "value = my_instance._MyClass__my_private_variable\n",
    "print(value)\n"
   ]
  },
  {
   "cell_type": "markdown",
   "id": "e0aaceee",
   "metadata": {},
   "source": [
    "Here, the name mangling syntax is used to access the __my_private_variable attribute from outside the class.\n",
    "\n",
    "The purpose of pseudoprivate attributes is to provide a way to encapsulate data within a class and prevent accidental modification or access from outside the class. Pseudoprivate attributes are not foolproof, as they can still be accessed using the name mangling syntax, but they do provide an additional level of protection and make it clear that the attribute is intended to be used only within the class."
   ]
  },
  {
   "cell_type": "markdown",
   "id": "2df759c8",
   "metadata": {},
   "source": [
    "=============================================================================================================="
   ]
  }
 ],
 "metadata": {
  "kernelspec": {
   "display_name": "Python 3",
   "language": "python",
   "name": "python3"
  },
  "language_info": {
   "codemirror_mode": {
    "name": "ipython",
    "version": 3
   },
   "file_extension": ".py",
   "mimetype": "text/x-python",
   "name": "python",
   "nbconvert_exporter": "python",
   "pygments_lexer": "ipython3",
   "version": "3.6.2"
  }
 },
 "nbformat": 4,
 "nbformat_minor": 5
}
