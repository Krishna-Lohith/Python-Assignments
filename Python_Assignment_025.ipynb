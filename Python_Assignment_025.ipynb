{
 "cells": [
  {
   "cell_type": "code",
   "execution_count": null,
   "id": "f72596c4",
   "metadata": {},
   "outputs": [],
   "source": [
    "# Python_Assignment_025"
   ]
  },
  {
   "cell_type": "code",
   "execution_count": null,
   "id": "998000dd",
   "metadata": {},
   "outputs": [],
   "source": [
    "**Topics covered:-**  \n",
    "List comprahension - [], ()  \n",
    "generators  \n",
    "iterators  \n"
   ]
  },
  {
   "cell_type": "markdown",
   "id": "d1c09a69",
   "metadata": {},
   "source": [
    "=============================================================================================================="
   ]
  },
  {
   "cell_type": "markdown",
   "id": "06417177",
   "metadata": {},
   "source": [
    "## 1) . What is the difference between enclosing a list comprehension in square brackets and parentheses?"
   ]
  },
  {
   "cell_type": "markdown",
   "id": "095ffcb1",
   "metadata": {},
   "source": [
    "In Python, enclosing a list comprehension in square brackets ([]) creates a list, while enclosing it in parentheses (()) creates a generator object.\n",
    "\n",
    "A list comprehension is a concise way to create a new list by iterating over an existing iterable (such as a list, tuple, or string) and applying a condition or transformation to each element. Here is an example of a list comprehension that creates a new list of the squares of the numbers from 1 to 10:"
   ]
  },
  {
   "cell_type": "code",
   "execution_count": 4,
   "id": "2a9778e7",
   "metadata": {},
   "outputs": [
    {
     "data": {
      "text/plain": [
       "[1, 4, 9, 16, 25, 36, 49, 64, 81, 100]"
      ]
     },
     "execution_count": 4,
     "metadata": {},
     "output_type": "execute_result"
    }
   ],
   "source": [
    "squares = [x**2 for x in range(1, 11)]\n",
    "squares"
   ]
  },
  {
   "cell_type": "markdown",
   "id": "d2d02b59",
   "metadata": {},
   "source": [
    "On the other hand, enclosing the same list comprehension in parentheses creates a generator object, which is a special type of iterator that produces the values on the fly as they are needed, rather than creating a new list object in memory. Here is an example:"
   ]
  },
  {
   "cell_type": "code",
   "execution_count": 14,
   "id": "456878f3",
   "metadata": {},
   "outputs": [
    {
     "name": "stdout",
     "output_type": "stream",
     "text": [
      "1,4,9,16,25,36,49,64,81,100,"
     ]
    }
   ],
   "source": [
    "squares_generator = (x**2 for x in range(1, 11))\n",
    "squares_generator\n",
    "\n",
    "for i in squares_generator:\n",
    "    print(i, end=',')"
   ]
  },
  {
   "cell_type": "markdown",
   "id": "8f4befe0",
   "metadata": {},
   "source": [
    "In this case, the list comprehension is enclosed in parentheses, which means that it creates a generator object squares_generator that can be iterated over to produce the same values as the list [1, 4, 9, 16, 25, 36, 49, 64, 81, 100]. However, the values are not generated all at once, but rather one at a time, as the generator is iterated over. This can be more memory-efficient than creating a new list object, especially for large data sets, as only one value is generated at a time.\n",
    "\n",
    "In summary, the difference between enclosing a list comprehension in square brackets and parentheses is that the former creates a new list object, while the latter creates a generator object."
   ]
  },
  {
   "cell_type": "markdown",
   "id": "55485132",
   "metadata": {},
   "source": [
    "=============================================================================================================="
   ]
  },
  {
   "cell_type": "markdown",
   "id": "a22d825a",
   "metadata": {},
   "source": [
    "## 2) What is the relationship between generators and iterators?"
   ]
  },
  {
   "cell_type": "markdown",
   "id": "5aacd68a",
   "metadata": {},
   "source": [
    "In Python, generators and iterators are closely related concepts, as generators are a type of iterator.\n",
    "\n",
    "An iterator is an object that can be iterated (looped) over, and which provides a sequence of values one at a time. In Python, any object that implements the __iter__() and __next__() methods is an iterator. The __iter__() method returns the iterator object itself, and the __next__() method returns the next value in the sequence, or raises the StopIteration exception if there are no more values.\n",
    "\n",
    "A generator is a special type of iterator that is created using a generator function, which is a function that contains one or more yield statements. When a generator function is called, it returns a generator object, which can be iterated over using the same syntax as for other iterators. However, each time the yield statement is encountered, the generator function produces a value and suspends its execution, preserving its state so that it can be resumed later. When the generator is iterated over again, execution resumes from where it left off, rather than starting over from the beginning.\n",
    "\n",
    "In other words, a generator is a type of iterator that is created using a generator function, which uses the yield statement to produce a sequence of values one at a time, rather than returning a list or other collection of values all at once. This makes generators more memory-efficient than other types of iterators, as they only generate values on-the-fly as they are needed, rather than precomputing them all at once.\n",
    "\n",
    "In summary, generators are a type of iterator that are created using generator functions, which use the yield statement to produce a sequence of values one at a time, and which can be iterated over using the same syntax as for other iterators.\n"
   ]
  },
  {
   "cell_type": "markdown",
   "id": "a502d366",
   "metadata": {},
   "source": [
    "=============================================================================================================="
   ]
  },
  {
   "cell_type": "markdown",
   "id": "41c5bb90",
   "metadata": {},
   "source": [
    "## 3) What are the signs that a function is a generator function?"
   ]
  },
  {
   "cell_type": "markdown",
   "id": "65251519",
   "metadata": {},
   "source": [
    "In Python, a function is a generator function if it contains one or more yield statements. The yield statement is used to produce a value from the generator function and temporarily suspend its execution, allowing the generator to be iterated over and resumed later. Here are some signs that a function is a generator function:\n",
    "\n",
    "It contains one or more yield statements: This is the most obvious sign that a function is a generator function. If a function contains one or more yield statements, it is a generator function.\n",
    "\n",
    "It uses the yield keyword instead of return: In a regular function, the return keyword is used to return a value and exit the function. In a generator function, the yield keyword is used to produce a value and temporarily suspend the function's execution, allowing it to be resumed later.\n",
    "\n",
    "It returns a generator object: When a generator function is called, it returns a generator object, which can be iterated over to produce the values generated by the function. If a function returns a generator object, it is a generator function."
   ]
  },
  {
   "cell_type": "code",
   "execution_count": 15,
   "id": "a9e5e72a",
   "metadata": {},
   "outputs": [
    {
     "name": "stdout",
     "output_type": "stream",
     "text": [
      "0\n",
      "1\n",
      "2\n",
      "3\n",
      "4\n"
     ]
    }
   ],
   "source": [
    "def my_generator():\n",
    "    for i in range(5):\n",
    "        yield i\n",
    "\n",
    "# Call the generator function to get a generator object\n",
    "gen = my_generator()\n",
    "\n",
    "# Iterate over the generator object to produce the values\n",
    "for value in gen:\n",
    "    print(value)\n"
   ]
  },
  {
   "cell_type": "markdown",
   "id": "8a7bb945",
   "metadata": {},
   "source": [
    "In this example, the my_generator() function is a generator function because it contains a yield statement. When the function is called, it returns a generator object, which can be iterated over to produce the values 0, 1, 2, 3, and 4."
   ]
  },
  {
   "cell_type": "markdown",
   "id": "4c85dc77",
   "metadata": {},
   "source": [
    "=============================================================================================================="
   ]
  },
  {
   "cell_type": "markdown",
   "id": "0c5c32d0",
   "metadata": {},
   "source": [
    "## 4) What is the purpose of a yield statement?"
   ]
  },
  {
   "cell_type": "markdown",
   "id": "42f5d5c8",
   "metadata": {},
   "source": [
    "In Python, the yield statement is used in generator functions to produce a value and temporarily suspend the function's execution, allowing it to be resumed later. The purpose of the yield statement is to enable a function to generate a sequence of values one at a time, without having to precompute them all at once.\n",
    "\n",
    "When a yield statement is encountered in a generator function, it produces a value and temporarily suspends the function's execution, preserving its state so that it can be resumed later. The value produced by the yield statement is returned to the caller of the generator function, and the caller can then iterate over the generator to retrieve the sequence of values produced by the function.\n",
    "\n",
    "The yield statement differs from the return statement in that it does not terminate the function's execution, but rather suspends it and allows it to be resumed later. This makes it possible to generate a sequence of values on-the-fly, without having to compute them all at once and store them in memory."
   ]
  },
  {
   "cell_type": "code",
   "execution_count": 16,
   "id": "93c5a645",
   "metadata": {},
   "outputs": [
    {
     "name": "stdout",
     "output_type": "stream",
     "text": [
      "0\n",
      "1\n",
      "2\n",
      "3\n",
      "4\n"
     ]
    }
   ],
   "source": [
    "def my_generator():\n",
    "    for i in range(5):\n",
    "        yield i\n",
    "\n",
    "# Call the generator function to get a generator object\n",
    "gen = my_generator()\n",
    "\n",
    "# Iterate over the generator object to produce the values\n",
    "for value in gen:\n",
    "    print(value)\n"
   ]
  },
  {
   "cell_type": "markdown",
   "id": "cdf7f018",
   "metadata": {},
   "source": [
    "In this example, the my_generator() function uses the yield statement to produce the sequence of numbers 0, 1, 2, 3, and 4. Each time the yield statement is encountered, it produces a value and temporarily suspends the function's execution, allowing it to be resumed later. When the generator object is iterated over, the values produced by the yield statements are retrieved one at a time, until there are no more values to be produced."
   ]
  },
  {
   "cell_type": "markdown",
   "id": "9026e7ac",
   "metadata": {},
   "source": [
    "=============================================================================================================="
   ]
  },
  {
   "cell_type": "markdown",
   "id": "c49a60a7",
   "metadata": {},
   "source": [
    "## 5) What is the relationship between map calls and list comprehensions? Make a comparison and contrast between the two."
   ]
  },
  {
   "cell_type": "markdown",
   "id": "eff50c1b",
   "metadata": {},
   "source": [
    "Both map calls and list comprehensions are ways of applying a function to a sequence of values and returning a new sequence of transformed values. However, they have some differences in their syntax and behavior.\n",
    "\n",
    "Syntax: Map calls and list comprehensions have different syntax. A map call takes a function and a sequence as arguments, and returns an iterator that applies the function to each element of the sequence. The syntax for a map call is map(function, sequence). On the other hand, a list comprehension is a compact way of creating a new list by applying an expression to each element of an existing list or other iterable. The syntax for a list comprehension is [expression for element in sequence if condition].\n",
    "\n",
    "Return type: The return type of a map call is an iterator, while the return type of a list comprehension is a list.\n",
    "\n",
    "Laziness: map calls are lazy, meaning that they produce values on-the-fly as they are needed. This can be more memory-efficient than creating a list of all transformed values at once, but it also means that the values are not available until they are requested. List comprehensions, on the other hand, are eager, meaning that they produce a list of transformed values all at once.\n",
    "\n",
    "Expressiveness: List comprehensions can be more expressive than map calls because they allow for the use of conditional expressions and multiple levels of nesting. They can also be used to create lists of tuples or other complex data structures, while map calls are limited to producing simple lists of transformed values."
   ]
  },
  {
   "cell_type": "code",
   "execution_count": 17,
   "id": "7846d713",
   "metadata": {},
   "outputs": [
    {
     "name": "stdout",
     "output_type": "stream",
     "text": [
      "[1, 4, 9, 16, 25]\n",
      "[1, 4, 9, 16, 25]\n"
     ]
    }
   ],
   "source": [
    "# Using map\n",
    "numbers = [1, 2, 3, 4, 5]\n",
    "squared = map(lambda x: x ** 2, numbers)\n",
    "print(list(squared))  # Output: [1, 4, 9, 16, 25]\n",
    "\n",
    "# Using list comprehension\n",
    "numbers = [1, 2, 3, 4, 5]\n",
    "squared = [x ** 2 for x in numbers]\n",
    "print(squared)  # Output: [1, 4, 9, 16, 25]\n"
   ]
  },
  {
   "cell_type": "markdown",
   "id": "fac6a175",
   "metadata": {},
   "source": [
    "In this example, both approaches produce the same result. However, the map call produces an iterator that needs to be converted to a list, while the list comprehension produces a list directly. The list comprehension is also more expressive, as it allows for the use of the if condition to filter the elements being transformed."
   ]
  },
  {
   "cell_type": "markdown",
   "id": "c07ad59e",
   "metadata": {},
   "source": [
    "=============================================================================================================="
   ]
  }
 ],
 "metadata": {
  "kernelspec": {
   "display_name": "Python 3",
   "language": "python",
   "name": "python3"
  },
  "language_info": {
   "codemirror_mode": {
    "name": "ipython",
    "version": 3
   },
   "file_extension": ".py",
   "mimetype": "text/x-python",
   "name": "python",
   "nbconvert_exporter": "python",
   "pygments_lexer": "ipython3",
   "version": "3.6.2"
  }
 },
 "nbformat": 4,
 "nbformat_minor": 5
}
