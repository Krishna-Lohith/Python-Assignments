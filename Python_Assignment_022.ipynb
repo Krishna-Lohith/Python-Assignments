{
 "cells": [
  {
   "cell_type": "markdown",
   "id": "927e5c2c",
   "metadata": {},
   "source": [
    "# Python_Assignment_022"
   ]
  },
  {
   "cell_type": "markdown",
   "id": "8c8b1853",
   "metadata": {},
   "source": [
    "**Concepts Used:-**  \n",
    "global scope  \n",
    "nonlocal scope  \n",
    "nested functions"
   ]
  },
  {
   "cell_type": "markdown",
   "id": "7fa6e349",
   "metadata": {},
   "source": [
    "=============================================================================================================="
   ]
  },
  {
   "cell_type": "markdown",
   "id": "ff56f936",
   "metadata": {},
   "source": [
    "## 1. What is the result of the code, and explain?\n",
    "\n",
    "&gt;&gt;&gt; X = &#39;krishna&#39;  \n",
    "&gt;&gt;&gt; def func():  \n",
    "print(X)  \n",
    "\n",
    "&gt;&gt;&gt; func()"
   ]
  },
  {
   "cell_type": "code",
   "execution_count": 4,
   "id": "205696d8",
   "metadata": {},
   "outputs": [
    {
     "name": "stdout",
     "output_type": "stream",
     "text": [
      "iNeuron\n"
     ]
    }
   ],
   "source": [
    "x = 'iNeuron'\n",
    "def func():\n",
    "    print(x)\n",
    "    \n",
    "func()"
   ]
  },
  {
   "cell_type": "markdown",
   "id": "059c38bb",
   "metadata": {},
   "source": [
    "**Explaination:-** The result will be 'krishna'. Here we have assigned a string to variable outside the function which acts as a **Global variable**. Any function can use the x variable."
   ]
  },
  {
   "cell_type": "code",
   "execution_count": 8,
   "id": "7043522c",
   "metadata": {},
   "outputs": [
    {
     "name": "stdout",
     "output_type": "stream",
     "text": [
      "krishna\n",
      "krishna\n"
     ]
    }
   ],
   "source": [
    "x = 'krishna'\n",
    "def func():\n",
    "    print(x)\n",
    "    \n",
    "func()\n",
    "\n",
    "def func2():\n",
    "    print(x)\n",
    "    \n",
    "func2()"
   ]
  },
  {
   "cell_type": "markdown",
   "id": "362cccdb",
   "metadata": {},
   "source": [
    "=============================================================================================================="
   ]
  },
  {
   "cell_type": "markdown",
   "id": "ef10397b",
   "metadata": {},
   "source": [
    "## 2. What is the result of the code, and explain?\n",
    "\n",
    "&gt;&gt;&gt; X = &#39;krishna&#39;   \n",
    "&gt;&gt;&gt; def func():  \n",
    "X = &#39;NI!&#39;  \n",
    "\n",
    "&gt;&gt;&gt; func()  \n",
    "&gt;&gt;&gt; print(X)"
   ]
  },
  {
   "cell_type": "code",
   "execution_count": 7,
   "id": "8975042e",
   "metadata": {},
   "outputs": [
    {
     "name": "stdout",
     "output_type": "stream",
     "text": [
      "iNeuron\n"
     ]
    }
   ],
   "source": [
    "x = 'krishna'\n",
    "def func():\n",
    "    x = 'Nl!'\n",
    "func()\n",
    "print(x)"
   ]
  },
  {
   "cell_type": "markdown",
   "id": "51b499eb",
   "metadata": {},
   "source": [
    "**Explaination:-**  \n",
    "The code defines a variable x and assigns it the value 'krishna'. It then defines a function func() that creates a new variable x and assigns it the value 'Nl!'. This variable x is defined in the local scope of the function, which means it is separate from the global variable x defined outside the function.\n",
    "\n",
    "When the func() function is called, it creates a new variable x and assigns it the value 'Nl!'. However, since this variable is defined in the local scope of the function, it is separate from the global variable x that was defined earlier.\n",
    "\n",
    "Finally, the code prints the value of the global variable x, which is still set to 'krishna' because the local variable x defined in func() does not affect the global variable."
   ]
  },
  {
   "cell_type": "markdown",
   "id": "b70bfc91",
   "metadata": {},
   "source": [
    "=============================================================================================================="
   ]
  },
  {
   "cell_type": "markdown",
   "id": "8b648ef2",
   "metadata": {},
   "source": [
    "## 3. What does this code print, and why?\n",
    "\n",
    "&gt;&gt;&gt; X = &#39;krishna&#39;  \n",
    "&gt;&gt;&gt; def func():  \n",
    "X = &#39;NI&#39;  \n",
    "print(X)  \n",
    "\n",
    "&gt;&gt;&gt; func()  \n",
    "&gt;&gt;&gt; print(X)"
   ]
  },
  {
   "cell_type": "code",
   "execution_count": 9,
   "id": "9cc0ac42",
   "metadata": {},
   "outputs": [
    {
     "name": "stdout",
     "output_type": "stream",
     "text": [
      "Nl\n",
      "krishna\n"
     ]
    }
   ],
   "source": [
    "x = 'krishna'\n",
    "def func():\n",
    "    x = 'Nl'\n",
    "    print(x)\n",
    "    \n",
    "func()\n",
    "print(x)"
   ]
  },
  {
   "cell_type": "markdown",
   "id": "e245d046",
   "metadata": {},
   "source": [
    "**Explaination:-**   \n",
    "This code defines a variable x with the value 'krishna'. It then defines a function func() that creates a new variable x with the value 'Nl' in its local scope and prints the value of the local variable x. The func() function is then called, which prints the value 'Nl' to the console.\n",
    "\n",
    "After the func() function is called, the code then prints the value of the global variable x to the console, which is still set to 'krishna'. This is because the local variable x defined in func() has its own separate scope, and does not affect the global variable x."
   ]
  },
  {
   "cell_type": "markdown",
   "id": "53800a57",
   "metadata": {},
   "source": [
    "=============================================================================================================="
   ]
  },
  {
   "cell_type": "markdown",
   "id": "2216ff1e",
   "metadata": {},
   "source": [
    "## 4. What output does this code produce? Why?  \n",
    "\n",
    "&gt;&gt;&gt; X = &#39;krishna&#39;  \n",
    "&gt;&gt;&gt; def func():  \n",
    "global X  \n",
    "X = &#39;NI&#39;  \n",
    "\n",
    "&gt;&gt;&gt; func()  \n",
    "&gt;&gt;&gt; print(X)  "
   ]
  },
  {
   "cell_type": "code",
   "execution_count": 12,
   "id": "d083cac1",
   "metadata": {},
   "outputs": [
    {
     "name": "stdout",
     "output_type": "stream",
     "text": [
      "Nl\n"
     ]
    }
   ],
   "source": [
    "x = 'krishna'\n",
    "def func():\n",
    "    global x\n",
    "    x = 'Nl'\n",
    "    \n",
    "func()\n",
    "print(x)"
   ]
  },
  {
   "cell_type": "markdown",
   "id": "1d56c0b5",
   "metadata": {},
   "source": [
    "**Explaination:-**  \n",
    "This code defines a variable x with the value 'krishna'. It then defines a function func() that uses the global keyword to indicate that the variable x being referred to inside the function is the global variable x, not a local variable with the same name. The func() function then sets the value of the global variable x to 'Nl'.\n",
    "\n",
    "After the func() function is called, the code then prints the value of the global variable x to the console, which has been updated to 'Nl' by the func() function."
   ]
  },
  {
   "cell_type": "markdown",
   "id": "0ac63145",
   "metadata": {},
   "source": [
    "=============================================================================================================="
   ]
  },
  {
   "cell_type": "markdown",
   "id": "77f9a77b",
   "metadata": {},
   "source": [
    "## 5. What about this code—what’s the output, and why?  \n",
    "\n",
    "&gt;&gt;&gt; X = &#39;krishna&#39;  \n",
    "&gt;&gt;&gt; def func():  \n",
    "X = &#39;NI&#39;  \n",
    "def nested():  \n",
    "print(X)  \n",
    "nested()  \n",
    "\n",
    "&gt;&gt;&gt; func()  \n",
    "&gt;&gt;&gt; X  "
   ]
  },
  {
   "cell_type": "code",
   "execution_count": 16,
   "id": "dbdb4f82",
   "metadata": {},
   "outputs": [
    {
     "name": "stdout",
     "output_type": "stream",
     "text": [
      "krishna\n"
     ]
    },
    {
     "data": {
      "text/plain": [
       "'krishna'"
      ]
     },
     "execution_count": 16,
     "metadata": {},
     "output_type": "execute_result"
    }
   ],
   "source": [
    "x = 'krishna'\n",
    "def func():\n",
    "    x='Nl'\n",
    "    \n",
    "def nested():\n",
    "    print(x)\n",
    "    \n",
    "nested()\n",
    "func()\n",
    "x"
   ]
  },
  {
   "cell_type": "markdown",
   "id": "5f71f10b",
   "metadata": {},
   "source": [
    "**Explaination:-**  \n",
    "The nested() function is called first, which tries to print the value of the global variable x. Since the x variable is not defined in the local scope of nested(), Python looks for a global variable named x and finds the global variable with the value 'krishna'. Therefore, the print(x) statement inside nested() will output 'krishna'.\n",
    "\n",
    "After that, the func() function is called, which creates a new local variable x with the value 'Nl'. This variable does not affect the global variable x in any way.\n",
    "\n",
    "Finally, the value of the global variable x is returned to the console, which is still set to 'krishna' and has not been changed by the func() function."
   ]
  },
  {
   "cell_type": "markdown",
   "id": "4b814423",
   "metadata": {},
   "source": [
    "=============================================================================================================="
   ]
  },
  {
   "cell_type": "markdown",
   "id": "6a4e1270",
   "metadata": {},
   "source": [
    "## 6. How about this code: what is its output in Python 3, and explain?  \n",
    "\n",
    "&gt;&gt;&gt; def func():  \n",
    "X = &#39;NI&#39;  \n",
    "def nested():  \n",
    "nonlocal X  \n",
    "X = &#39;Spam&#39;  \n",
    "nested()  \n",
    "print(X)  \n",
    "\n",
    "&gt;&gt;&gt; func()  "
   ]
  },
  {
   "cell_type": "code",
   "execution_count": 7,
   "id": "d23835d2",
   "metadata": {},
   "outputs": [
    {
     "name": "stdout",
     "output_type": "stream",
     "text": [
      "spam\n"
     ]
    }
   ],
   "source": [
    "def func():\n",
    "    x='Nl'\n",
    "    def nested():\n",
    "        nonlocal x\n",
    "        x = 'spam'\n",
    "    nested()\n",
    "    print(x)\n",
    "    \n",
    "func()"
   ]
  },
  {
   "cell_type": "markdown",
   "id": "390a2b25",
   "metadata": {},
   "source": [
    "**Explaination:-**  \n",
    "This code defines a function func() that creates a local variable x with the value 'Nl'. It also defines a nested function nested() that modifies the value of x to 'spam' using the nonlocal keyword.\n",
    "\n",
    "When func() is called, it first calls nested(), which modifies the value of x to 'spam' using the nonlocal keyword. Then, the code prints the value of x to the console, which is 'spam'"
   ]
  },
  {
   "cell_type": "markdown",
   "id": "b79bdc4c",
   "metadata": {},
   "source": [
    "=============================================================================================================="
   ]
  }
 ],
 "metadata": {
  "kernelspec": {
   "display_name": "Python 3",
   "language": "python",
   "name": "python3"
  },
  "language_info": {
   "codemirror_mode": {
    "name": "ipython",
    "version": 3
   },
   "file_extension": ".py",
   "mimetype": "text/x-python",
   "name": "python",
   "nbconvert_exporter": "python",
   "pygments_lexer": "ipython3",
   "version": "3.6.2"
  }
 },
 "nbformat": 4,
 "nbformat_minor": 5
}
