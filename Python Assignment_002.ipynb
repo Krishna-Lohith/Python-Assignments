{
 "cells": [
  {
   "cell_type": "markdown",
   "id": "0fdf9ddc",
   "metadata": {},
   "source": [
    "# Python Assignment_002"
   ]
  },
  {
   "cell_type": "markdown",
   "id": "ef2da5d9",
   "metadata": {},
   "source": [
    "Concepts used:-  \n",
    "Data types  \n",
    "operators  \n",
    "break and continue  \n",
    "loops  "
   ]
  },
  {
   "cell_type": "markdown",
   "id": "708870c0",
   "metadata": {},
   "source": [
    "=============================================================================================================="
   ]
  },
  {
   "cell_type": "markdown",
   "id": "48cf909d",
   "metadata": {},
   "source": [
    "### 1.What are the two values of the Boolean data type? How do you write them?  \n",
    "Boolean has 2 datatypes which are True and False. True is 1 and False is 0."
   ]
  },
  {
   "cell_type": "code",
   "execution_count": 2,
   "id": "0f74a26b",
   "metadata": {},
   "outputs": [
    {
     "name": "stdout",
     "output_type": "stream",
     "text": [
      "True False\n"
     ]
    }
   ],
   "source": [
    "a = True\n",
    "b = False\n",
    "print(a, b)"
   ]
  },
  {
   "cell_type": "markdown",
   "id": "0437223d",
   "metadata": {},
   "source": [
    "=============================================================================================================="
   ]
  },
  {
   "cell_type": "markdown",
   "id": "8c81ad71",
   "metadata": {},
   "source": [
    "### 2. What are the three different types of Boolean operators?\n",
    "\n",
    "Operator | Defination\n",
    "-|-\n",
    "AND  | If all the conditions are True  \n",
    "OR   | If anyone of the condition is True  \n",
    "NOT  | opposite of any operator   "
   ]
  },
  {
   "cell_type": "markdown",
   "id": "1ea28b40",
   "metadata": {},
   "source": [
    "=============================================================================================================="
   ]
  },
  {
   "cell_type": "markdown",
   "id": "0b38869a",
   "metadata": {},
   "source": [
    "### 3. Make a list of each Boolean operator's truth tables (i.e. every possible combination of Boolean values for the operator and what it evaluate.\n",
    "\n",
    "There are three boolean operators which are AND, OR, NOT  \n",
    "\n",
    "                                                        AND Truth Table  \n",
    "\n",
    "a|b|result \n",
    "-|-|-\n",
    "True|True|True  \n",
    "True|False|False  \n",
    "False|True|False  \n",
    "False|False|False  \n",
    "\n",
    "                                                        OR Truth Table  \n",
    "a|b|result \n",
    "-|-|-\n",
    "True|True|True  \n",
    "True|False|True  \n",
    "False|True|True  \n",
    "False|False|False\n",
    "\n",
    "                                                        NOT Truth Table \n",
    "a|result \n",
    "-|-\n",
    "True|  False\n",
    "False|True "
   ]
  },
  {
   "cell_type": "markdown",
   "id": "9ba53bb3",
   "metadata": {},
   "source": [
    "=============================================================================================================="
   ]
  },
  {
   "cell_type": "markdown",
   "id": "a97da479",
   "metadata": {},
   "source": [
    "### 4. What are the values of the following expressions?\n",
    "\n",
    "(5 > 4) and (3 == 5)              - False     \n",
    "not (5 > 4)                      - False    \n",
    "(5 > 4) or (3 == 5)               - True     \n",
    "not ((5 > 4) or (3 == 5))             - False    \n",
    "(True and True) and (True == False)  - False    \n",
    "(not False) or (not True)             - True    "
   ]
  },
  {
   "cell_type": "markdown",
   "id": "4f6844f9",
   "metadata": {},
   "source": [
    "=============================================================================================================="
   ]
  },
  {
   "cell_type": "markdown",
   "id": "df66c9e2",
   "metadata": {},
   "source": [
    "### 5. What are the six comparison operators?"
   ]
  },
  {
   "cell_type": "markdown",
   "id": "f1127521",
   "metadata": {},
   "source": [
    ">, <, >=, <=, ==, !="
   ]
  },
  {
   "cell_type": "markdown",
   "id": "2b2f5351",
   "metadata": {},
   "source": [
    "=============================================================================================================="
   ]
  },
  {
   "cell_type": "markdown",
   "id": "d674a201",
   "metadata": {},
   "source": [
    "### 6. How do you tell the difference between the equal to and assignment operators?Describe a condition and when you would use one.\n",
    "\n",
    "Assignment operator symbol is a single(=) which is =  \n",
    "Equal to operator symbol is a double (=) which is ==   "
   ]
  },
  {
   "cell_type": "code",
   "execution_count": 24,
   "id": "7c560ee0",
   "metadata": {},
   "outputs": [
    {
     "data": {
      "text/plain": [
       "True"
      ]
     },
     "execution_count": 24,
     "metadata": {},
     "output_type": "execute_result"
    }
   ],
   "source": [
    "age = 25    #is an assignment  \n",
    "#To check the value is 25. Then use ==   \n",
    "age == 25 \n",
    "#output is False "
   ]
  },
  {
   "cell_type": "markdown",
   "id": "27b8223f",
   "metadata": {},
   "source": [
    "=============================================================================================================="
   ]
  },
  {
   "cell_type": "markdown",
   "id": "b621a250",
   "metadata": {},
   "source": [
    "### 7. Identify the three blocks in this code:\n",
    "if, if and else are the three blocks of the code."
   ]
  },
  {
   "cell_type": "code",
   "execution_count": 5,
   "id": "17bce36d",
   "metadata": {},
   "outputs": [
    {
     "name": "stdout",
     "output_type": "stream",
     "text": [
      "ham\n",
      "spam\n",
      "spam\n"
     ]
    }
   ],
   "source": [
    "spam = 0\n",
    "if spam == 10:\n",
    "    print('eggs')\n",
    "if spam > 5:\n",
    "    print('bacon')\n",
    "else:\n",
    "    print('ham')\n",
    "    print('spam')\n",
    "    print('spam')"
   ]
  },
  {
   "cell_type": "markdown",
   "id": "7b4730c5",
   "metadata": {},
   "source": [
    "=============================================================================================================="
   ]
  },
  {
   "cell_type": "markdown",
   "id": "9a702c42",
   "metadata": {},
   "source": [
    "### 8. Write code that prints Hello if 1 is stored in spam, prints Howdy if 2 is stored in spam, and prints Greetings! if anything else is stored in spam."
   ]
  },
  {
   "cell_type": "code",
   "execution_count": 11,
   "id": "8fd22625",
   "metadata": {},
   "outputs": [
    {
     "name": "stdout",
     "output_type": "stream",
     "text": [
      "Enter a number :- 7\n",
      "Greetings!\n"
     ]
    }
   ],
   "source": [
    "spam = int(input('Enter a number :- '))\n",
    "if spam==1:\n",
    "    print('Hello')\n",
    "elif spam==2:\n",
    "    print('Howdy')\n",
    "else:\n",
    "    print('Greetings!')"
   ]
  },
  {
   "cell_type": "markdown",
   "id": "1cfd1d8f",
   "metadata": {},
   "source": [
    "=============================================================================================================="
   ]
  },
  {
   "cell_type": "markdown",
   "id": "f0f6ff51",
   "metadata": {},
   "source": [
    "### 9.If your programme is stuck in an endless loop, what keys you’ll press?\n",
    "\n",
    "Ans:-   CTRL + C"
   ]
  },
  {
   "cell_type": "markdown",
   "id": "e7551d7e",
   "metadata": {},
   "source": [
    "=============================================================================================================="
   ]
  },
  {
   "cell_type": "markdown",
   "id": "c106ae82",
   "metadata": {},
   "source": [
    "### 10. How can you tell the difference between break and continue?\n",
    "\n",
    "Break:- If the condition is true then the loop breaks and exit the loop.  \n",
    "Continue:- If the condition is true then it will goes to starting of the loop. "
   ]
  },
  {
   "cell_type": "markdown",
   "id": "4aa359c8",
   "metadata": {},
   "source": [
    "=============================================================================================================="
   ]
  },
  {
   "cell_type": "markdown",
   "id": "0f1c0f8a",
   "metadata": {},
   "source": [
    "### 11. In a for loop, what is the difference between range(10), range(0, 10), and range(0, 10, 1)?"
   ]
  },
  {
   "cell_type": "code",
   "execution_count": 31,
   "id": "56e4bb88",
   "metadata": {},
   "outputs": [
    {
     "name": "stdout",
     "output_type": "stream",
     "text": [
      "0,1,2,3,4,5,6,7,8,9,\n",
      "\n",
      "0,1,2,3,4,5,6,7,8,9,\n",
      "\n",
      "0,1,2,3,4,5,6,7,8,9,"
     ]
    }
   ],
   "source": [
    "#range(start,stop,step)\n",
    "\n",
    "#By default range will start from 0 at 9(n-1)  \n",
    "for i in range(10):     \n",
    "    print(i, end=',')\n",
    "print('\\n')\n",
    "\n",
    "#Range starts from 0 and stops at 9  \n",
    "for i in range(0,10):  \n",
    "    print(i,end=',')  \n",
    "print('\\n')\n",
    "#Range starts from 0 and stops at 9 and changes at every 1 value.  \n",
    "for i in range(0,10,1):  \n",
    "    print(i, end=',')  \n",
    "    \n",
    "#In this example all the three gives same output."
   ]
  },
  {
   "cell_type": "markdown",
   "id": "3dca67d1",
   "metadata": {},
   "source": [
    "=============================================================================================================="
   ]
  },
  {
   "cell_type": "markdown",
   "id": "c98ffb46",
   "metadata": {},
   "source": [
    "### 12. Write a short program that prints the numbers 1 to 10 using a for loop. Then write an equivalent program that prints the numbers 1 to 10 using a while loop."
   ]
  },
  {
   "cell_type": "code",
   "execution_count": 17,
   "id": "f105c006",
   "metadata": {},
   "outputs": [
    {
     "name": "stdout",
     "output_type": "stream",
     "text": [
      "1,2,3,4,5,6,7,8,9,10,"
     ]
    }
   ],
   "source": [
    "#for loop\n",
    "for i in range(1,11):\n",
    "    print(i, end=',')"
   ]
  },
  {
   "cell_type": "code",
   "execution_count": 20,
   "id": "01dd2c29",
   "metadata": {},
   "outputs": [
    {
     "name": "stdout",
     "output_type": "stream",
     "text": [
      "1,2,3,4,5,6,7,8,9,10,"
     ]
    }
   ],
   "source": [
    "#While loop\n",
    "i = 1\n",
    "while i<=10:\n",
    "    print(i,end=',')\n",
    "    i += 1"
   ]
  },
  {
   "cell_type": "markdown",
   "id": "ac602aa8",
   "metadata": {},
   "source": [
    "=============================================================================================================="
   ]
  },
  {
   "cell_type": "markdown",
   "id": "783781e7",
   "metadata": {},
   "source": [
    "### 13. If you had a function named bacon() inside a module named spam, how would you call it after importing spam?  "
   ]
  },
  {
   "cell_type": "code",
   "execution_count": 22,
   "id": "8774b6e7",
   "metadata": {},
   "outputs": [],
   "source": [
    "import spam\n",
    "spam.bacon()"
   ]
  },
  {
   "cell_type": "markdown",
   "id": "0e346da1",
   "metadata": {},
   "source": [
    "=============================================================================================================="
   ]
  }
 ],
 "metadata": {
  "kernelspec": {
   "display_name": "Python 3",
   "language": "python",
   "name": "python3"
  },
  "language_info": {
   "codemirror_mode": {
    "name": "ipython",
    "version": 3
   },
   "file_extension": ".py",
   "mimetype": "text/x-python",
   "name": "python",
   "nbconvert_exporter": "python",
   "pygments_lexer": "ipython3",
   "version": "3.6.2"
  }
 },
 "nbformat": 4,
 "nbformat_minor": 5
}
