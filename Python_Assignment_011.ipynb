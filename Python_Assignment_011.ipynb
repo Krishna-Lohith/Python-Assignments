{
 "cells": [
  {
   "cell_type": "markdown",
   "id": "b711dc5e",
   "metadata": {},
   "source": [
    "# Python_Assignment_011"
   ]
  },
  {
   "cell_type": "markdown",
   "id": "45e28a80",
   "metadata": {},
   "source": [
    "Concepts used:-  \n",
    "assert  \n",
    "logging  \n",
    "pdb library  \n",
    "debugging - step over, step in, step out    \n",
    "breakpoint  "
   ]
  },
  {
   "cell_type": "markdown",
   "id": "13ecf940",
   "metadata": {},
   "source": [
    "=============================================================================================================="
   ]
  },
  {
   "cell_type": "markdown",
   "id": "df0b91e7",
   "metadata": {},
   "source": [
    "### 1. Create an assert statement that throws an AssertionError if the variable spam is a negative integer.\n",
    "\n",
    "assert is a built-in statement in Python that is used for debugging and error checking during development. It is used to test if a given condition is True, and if it is not, an AssertionError is raised.\n",
    "\n",
    "assert condition, error_message\n",
    "\n",
    "Where:\n",
    "condition: A boolean expression or value that is expected to be True. If the condition is False, an AssertionError is raised.\n",
    "error_message: An optional error message that can be provided to describe the reason for the assertion failure. This message will be displayed in the error traceback.\n",
    "When an assert statement is executed and the condition is False, an AssertionError is raised, and the program execution stops. The error message (if provided) is displayed in the error traceback, which can help in identifying the cause of the assertion failure.\n",
    "\n",
    "The primary use of assert statements is to catch programming errors early during development, by checking if certain conditions are met at runtime. "
   ]
  },
  {
   "cell_type": "code",
   "execution_count": 6,
   "id": "0e367259",
   "metadata": {},
   "outputs": [
    {
     "ename": "AssertionError",
     "evalue": "Error",
     "output_type": "error",
     "traceback": [
      "\u001b[1;31m---------------------------------------------------------------------------\u001b[0m",
      "\u001b[1;31mAssertionError\u001b[0m                            Traceback (most recent call last)",
      "\u001b[1;32m<ipython-input-6-4a842cfde223>\u001b[0m in \u001b[0;36m<module>\u001b[1;34m\u001b[0m\n\u001b[0;32m      1\u001b[0m \u001b[0mspam\u001b[0m \u001b[1;33m=\u001b[0m \u001b[1;33m-\u001b[0m\u001b[1;36m5\u001b[0m\u001b[1;33m\u001b[0m\u001b[0m\n\u001b[1;32m----> 2\u001b[1;33m \u001b[1;32massert\u001b[0m \u001b[0mspam\u001b[0m \u001b[1;33m>\u001b[0m \u001b[1;36m0\u001b[0m\u001b[1;33m,\u001b[0m \u001b[1;34m'Error'\u001b[0m\u001b[1;33m\u001b[0m\u001b[0m\n\u001b[0m",
      "\u001b[1;31mAssertionError\u001b[0m: Error"
     ]
    }
   ],
   "source": [
    "spam = -5\n",
    "assert spam > 0, 'Error'"
   ]
  },
  {
   "cell_type": "markdown",
   "id": "1c3796ef",
   "metadata": {},
   "source": [
    "=============================================================================================================="
   ]
  },
  {
   "cell_type": "markdown",
   "id": "a9c7d884",
   "metadata": {},
   "source": [
    "### 2. Write an assert statement that triggers an AssertionError if the variables eggs and bacon contain strings that are the same as each other, even if their cases are different (that is, &#39;hello&#39; and &#39;hello&#39; are considered the same, and &#39;goodbye&#39; and &#39;GOODbye&#39; are also considered the same)."
   ]
  },
  {
   "cell_type": "code",
   "execution_count": 13,
   "id": "6429bb8e",
   "metadata": {},
   "outputs": [
    {
     "name": "stdout",
     "output_type": "stream",
     "text": [
      "Enter something:- hello\n",
      "Enter something:- HELLO\n"
     ]
    }
   ],
   "source": [
    "eggs  = input('Enter something:- ').lower()\n",
    "bacon  = input('Enter something:- ').lower()\n",
    "\n",
    "assert eggs == bacon, 'Error'"
   ]
  },
  {
   "cell_type": "markdown",
   "id": "ced4b32f",
   "metadata": {},
   "source": [
    "=============================================================================================================="
   ]
  },
  {
   "cell_type": "markdown",
   "id": "aa06cdc6",
   "metadata": {},
   "source": [
    "### 3. Create an assert statement that throws an AssertionError every time."
   ]
  },
  {
   "cell_type": "code",
   "execution_count": 14,
   "id": "fc58fdd5",
   "metadata": {},
   "outputs": [
    {
     "ename": "AssertionError",
     "evalue": "Gets Error everytime",
     "output_type": "error",
     "traceback": [
      "\u001b[1;31m---------------------------------------------------------------------------\u001b[0m",
      "\u001b[1;31mAssertionError\u001b[0m                            Traceback (most recent call last)",
      "\u001b[1;32m<ipython-input-14-c913502ab2ee>\u001b[0m in \u001b[0;36m<module>\u001b[1;34m\u001b[0m\n\u001b[1;32m----> 1\u001b[1;33m \u001b[1;32massert\u001b[0m \u001b[1;32mFalse\u001b[0m\u001b[1;33m,\u001b[0m \u001b[1;34m\"Gets Error everytime\"\u001b[0m\u001b[1;33m\u001b[0m\u001b[0m\n\u001b[0m",
      "\u001b[1;31mAssertionError\u001b[0m: Gets Error everytime"
     ]
    }
   ],
   "source": [
    "assert False, \"Gets Error everytime\""
   ]
  },
  {
   "cell_type": "markdown",
   "id": "639ce69a",
   "metadata": {},
   "source": [
    "=============================================================================================================="
   ]
  },
  {
   "cell_type": "markdown",
   "id": "fd961bd7",
   "metadata": {},
   "source": [
    "### 4. What are the two lines that must be present in your software in order to call logging.debug()?"
   ]
  },
  {
   "cell_type": "code",
   "execution_count": 16,
   "id": "0df41c54",
   "metadata": {},
   "outputs": [
    {
     "name": "stderr",
     "output_type": "stream",
     "text": [
      "DEBUG:root:Gets debug status\n"
     ]
    }
   ],
   "source": [
    "import logging\n",
    "\n",
    "# Creating a logging debug\n",
    "logging.basicConfig(level = logging.DEBUG)\n",
    "\n",
    "#Using it\n",
    "logging.debug('Gets debug status')"
   ]
  },
  {
   "cell_type": "markdown",
   "id": "c1283cb4",
   "metadata": {},
   "source": [
    "=============================================================================================================="
   ]
  },
  {
   "cell_type": "markdown",
   "id": "3c249bab",
   "metadata": {},
   "source": [
    "### 5. What are the two lines that your program must have in order to have logging.debug() send a logging message to a file named programLog.txt?"
   ]
  },
  {
   "cell_type": "code",
   "execution_count": 3,
   "id": "7e8837e5",
   "metadata": {},
   "outputs": [],
   "source": [
    "import logging\n",
    "logging.basicConfig(filename='ProgramLog.txt',level=logging.DEBUG,format='%(message)s')\n",
    "\n",
    "# Call logging.debug() to log a debug-level message\n",
    "logging.debug(\"This is a debug message.\")"
   ]
  },
  {
   "cell_type": "markdown",
   "id": "a79e8b71",
   "metadata": {},
   "source": [
    "=============================================================================================================="
   ]
  },
  {
   "cell_type": "markdown",
   "id": "57e5e1f2",
   "metadata": {},
   "source": [
    "### 6. What are the five levels of logging?\n",
    "\n",
    "Debug  \n",
    "Error  \n",
    "warning  \n",
    "Info  \n",
    "critical  "
   ]
  },
  {
   "cell_type": "markdown",
   "id": "6ea5fe92",
   "metadata": {},
   "source": [
    "=============================================================================================================="
   ]
  },
  {
   "cell_type": "markdown",
   "id": "29df4a2d",
   "metadata": {},
   "source": [
    "### 7. What line of code would you add to your software to disable all logging messages?\n",
    "\n",
    "logging.disable(logging.DEBUG)"
   ]
  },
  {
   "cell_type": "markdown",
   "id": "92045349",
   "metadata": {},
   "source": [
    "=============================================================================================================="
   ]
  },
  {
   "cell_type": "markdown",
   "id": "61cafa44",
   "metadata": {},
   "source": [
    "### 8.Why is using logging messages better than using print() to display the same message?\n",
    "\n",
    "Using logging messages instead of print() statements provides a more flexible, configurable, and powerful way to handle program output, allowing for better control, separation of concerns, and runtime flexibility, which can be especially beneficial for complex or production-level applications."
   ]
  },
  {
   "cell_type": "markdown",
   "id": "45059b6d",
   "metadata": {},
   "source": [
    "=============================================================================================================="
   ]
  },
  {
   "cell_type": "markdown",
   "id": "ec85327c",
   "metadata": {},
   "source": [
    "### 9. What are the differences between the Step Over, Step In, and Step Out buttons in the debugger?"
   ]
  },
  {
   "cell_type": "markdown",
   "id": "c8d4e51e",
   "metadata": {},
   "source": [
    "Step Over command:\n",
    "\n",
    "This command lets the application execute the next action. If the action involves a call to an operation, it does not step into its implementation (it steps over it instead).\n",
    "Step Into command:\n",
    "\n",
    "This command lets the application execute the next action. If the action involves a call to an operation, it steps into its implementation and breaks the execution on the first action of that implementation.\n",
    "Step Out command:\n",
    "\n",
    "This command lets the application execute until the currently executed operation implementation is returned."
   ]
  },
  {
   "cell_type": "markdown",
   "id": "464ef35f",
   "metadata": {},
   "source": [
    "--------------------------------------------------------------------------------------------------------------"
   ]
  },
  {
   "cell_type": "code",
   "execution_count": null,
   "id": "7b747f90",
   "metadata": {},
   "outputs": [],
   "source": [
    "import pdb"
   ]
  },
  {
   "cell_type": "markdown",
   "id": "409248fb",
   "metadata": {},
   "source": [
    "Step Over:\n",
    "The \"Step Over\" action in a debugger allows you to execute the current line of code and move to the next line without stepping into any function calls. This is useful when you want to skip over function calls and continue with the execution of the main code. Here's an example:"
   ]
  },
  {
   "cell_type": "code",
   "execution_count": null,
   "id": "3d780d18",
   "metadata": {},
   "outputs": [],
   "source": [
    "def foo():\n",
    "    print(\"Inside foo() function\")\n",
    "    bar()\n",
    "\n",
    "def bar():\n",
    "    print(\"Inside bar() function\")\n",
    "    baz()\n",
    "\n",
    "def baz():\n",
    "    print(\"Inside baz() function\")\n",
    "\n",
    "print(\"Start\")\n",
    "foo()\n",
    "print(\"End\")\n",
    "\n",
    "#If you set a breakpoint at the first line of the foo() function using a debugger, and then use the \"Step Over\" action, \n",
    "#the output will be:\n",
    "Start\n",
    "Inside foo() function\n",
    "End\n",
    "\n",
    "#As you can see, the debugger executes the foo() function \n",
    "#and moves to the next line, which is print(\"End\"), without stepping into the bar() function."
   ]
  },
  {
   "cell_type": "markdown",
   "id": "b6498176",
   "metadata": {},
   "source": [
    "--------------------------------------------------------------------------------------------------------------"
   ]
  },
  {
   "cell_type": "markdown",
   "id": "969b664c",
   "metadata": {},
   "source": [
    "Step In:\n",
    "The \"Step In\" action in a debugger allows you to step into a function call and pause at the first line of the called function, allowing you to inspect and debug the function in detail. Here's an example:"
   ]
  },
  {
   "cell_type": "code",
   "execution_count": null,
   "id": "df8dc90f",
   "metadata": {},
   "outputs": [],
   "source": [
    "def foo():\n",
    "    print(\"Inside foo() function\")\n",
    "    bar()\n",
    "\n",
    "def bar():\n",
    "    print(\"Inside bar() function\")\n",
    "    baz()\n",
    "\n",
    "def baz():\n",
    "    print(\"Inside baz() function\")\n",
    "\n",
    "print(\"Start\")\n",
    "foo()\n",
    "print(\"End\")\n",
    "\n",
    "#If you set a breakpoint at the first line of the foo() function using a debugger, and then use the \"Step In\" action, \n",
    "#the output will be:\n",
    "Start\n",
    "Inside foo() function\n",
    "\n",
    "#As you can see, the debugger steps into the foo() function and pauses at the line print(\"Inside foo() function\"), \n",
    "#allowing you to inspect and debug the function before proceeding further."
   ]
  },
  {
   "cell_type": "markdown",
   "id": "068c1a37",
   "metadata": {},
   "source": [
    "--------------------------------------------------------------------------------------------------------------"
   ]
  },
  {
   "cell_type": "markdown",
   "id": "6727be69",
   "metadata": {},
   "source": [
    "Step Out:\n",
    "The \"Step Out\" action in a debugger allows you to continue executing the current function until it reaches the end and returns to the caller function. It is useful when you want to quickly exit a nested function and return to the calling function. Here's an example:"
   ]
  },
  {
   "cell_type": "code",
   "execution_count": null,
   "id": "2936fe8b",
   "metadata": {},
   "outputs": [],
   "source": [
    "def foo():\n",
    "    print(\"Inside foo() function\")\n",
    "    bar()\n",
    "\n",
    "def bar():\n",
    "    print(\"Inside bar() function\")\n",
    "    baz()\n",
    "\n",
    "def baz():\n",
    "    print(\"Inside baz() function\")\n",
    "\n",
    "print(\"Start\")\n",
    "foo()\n",
    "print(\"End\")\n",
    "\n",
    "#If you set a breakpoint at the first line of the foo() function using a debugger, and then use the \"Step Out\" action, \n",
    "#the output will be:\n",
    "Start\n",
    "Inside foo() function\n",
    "End\n",
    "\n",
    "#As you can see, the debugger continues executing the foo() function until it reaches the end,\n",
    "#which is the last line of the function and then returns to the print(\"Start\") line, effectively \"stepping out\" of the function."
   ]
  },
  {
   "cell_type": "markdown",
   "id": "909b16fb",
   "metadata": {},
   "source": [
    "=============================================================================================================="
   ]
  },
  {
   "cell_type": "markdown",
   "id": "f084aef5",
   "metadata": {},
   "source": [
    "### 10.After you click Continue, when will the debugger stop ?"
   ]
  },
  {
   "cell_type": "markdown",
   "id": "ab36584e",
   "metadata": {},
   "source": [
    "After clicking the \"Continue\" button in a debugger, the debugger will continue the execution of the program without any further interruptions until it reaches the end of the program, encounters an error or exception, or encounters a breakpoint that has been set."
   ]
  },
  {
   "cell_type": "markdown",
   "id": "c1c17ee8",
   "metadata": {},
   "source": [
    "=============================================================================================================="
   ]
  },
  {
   "cell_type": "markdown",
   "id": "13ba0031",
   "metadata": {},
   "source": [
    "### 11. What is the concept of a breakpoint?"
   ]
  },
  {
   "cell_type": "markdown",
   "id": "6e52c506",
   "metadata": {},
   "source": [
    "A breakpoint is a designated point in the code where the debugger will pause the execution of the program, allowing you to inspect the state of variables, step through the code line by line, and debug any issues. When a breakpoint is encountered during the execution of the program, the debugger will stop at that line, and you can then analyze the program's state and continue with further debugging actions, such as stepping through the code, inspecting variables, or modifying the code."
   ]
  },
  {
   "cell_type": "markdown",
   "id": "4951f898",
   "metadata": {},
   "source": [
    "In Python, you can set breakpoints using a debugger such as pdb (Python Debugger) or an integrated development environment (IDE) that provides debugging features, such as PyCharm, VSCode, or PyDev. Here's how you can set breakpoints using pdb as an "
   ]
  },
  {
   "cell_type": "markdown",
   "id": "db1ecb62",
   "metadata": {},
   "source": [
    "=============================================================================================================="
   ]
  }
 ],
 "metadata": {
  "kernelspec": {
   "display_name": "Python 3",
   "language": "python",
   "name": "python3"
  },
  "language_info": {
   "codemirror_mode": {
    "name": "ipython",
    "version": 3
   },
   "file_extension": ".py",
   "mimetype": "text/x-python",
   "name": "python",
   "nbconvert_exporter": "python",
   "pygments_lexer": "ipython3",
   "version": "3.6.2"
  }
 },
 "nbformat": 4,
 "nbformat_minor": 5
}
