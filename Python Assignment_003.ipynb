{
 "cells": [
  {
   "cell_type": "markdown",
   "id": "4a23d065",
   "metadata": {},
   "source": [
    "# Python_Assignment_003"
   ]
  },
  {
   "cell_type": "markdown",
   "id": "9bc61d57",
   "metadata": {},
   "source": [
    "Concepts used:-  \n",
    "functions  \n",
    "global and local scopes  \n",
    "import  \n",
    "try and except   "
   ]
  },
  {
   "cell_type": "markdown",
   "id": "40efa11a",
   "metadata": {},
   "source": [
    "=============================================================================================================="
   ]
  },
  {
   "cell_type": "markdown",
   "id": "0b7371ef",
   "metadata": {},
   "source": [
    "### 1. Why are functions advantageous to have in your programs?  \n",
    "\n",
    "Function is just a set of code or operation to perform a task. Functions are used in programs bcoz we can call a particular function by it's defined name whenever we need. so that we do not need to write the same code again and again.   \n",
    "a. Reduces Time.  \n",
    "b. Short and neat code."
   ]
  },
  {
   "cell_type": "markdown",
   "id": "81fcc91f",
   "metadata": {},
   "source": [
    "=============================================================================================================="
   ]
  },
  {
   "cell_type": "markdown",
   "id": "b83e6cea",
   "metadata": {},
   "source": [
    "### 2. When does the code in a function run: when it's specified or when it's called?\n",
    "\n",
    "The code inside a function will run whenever we call the function with it's name."
   ]
  },
  {
   "cell_type": "markdown",
   "id": "45c91d6c",
   "metadata": {},
   "source": [
    "=============================================================================================================="
   ]
  },
  {
   "cell_type": "markdown",
   "id": "782c403e",
   "metadata": {},
   "source": [
    "### 3. What statement creates a function?  \n",
    "\n",
    "'def' keyword defines a function"
   ]
  },
  {
   "cell_type": "markdown",
   "id": "863db712",
   "metadata": {},
   "source": [
    "=============================================================================================================="
   ]
  },
  {
   "cell_type": "markdown",
   "id": "fc3ad5b4",
   "metadata": {},
   "source": [
    "### 4. What is the difference between a function and a function call?\n",
    "\n",
    "When we define(writing code) a function it will not do anything. When we call the function with it's name then it will execute the code inside the function. "
   ]
  },
  {
   "cell_type": "code",
   "execution_count": 1,
   "id": "fdef1fef",
   "metadata": {},
   "outputs": [
    {
     "data": {
      "text/plain": [
       "5"
      ]
     },
     "execution_count": 1,
     "metadata": {},
     "output_type": "execute_result"
    }
   ],
   "source": [
    "# Defining or creating a function\n",
    "def function_name(argument):\n",
    "    # logic\n",
    "    return argument\n",
    "\n",
    "#Calling a function\n",
    "function_name(5)"
   ]
  },
  {
   "cell_type": "markdown",
   "id": "ebe20f7a",
   "metadata": {},
   "source": [
    "=============================================================================================================="
   ]
  },
  {
   "cell_type": "markdown",
   "id": "f9120e8d",
   "metadata": {},
   "source": [
    "### 5. How many global scopes are there in a Python program? How many local scopes?\n",
    "\n",
    "**Global scopes:-**\n",
    "Only one global scope will be there in a python programming language. We can use that global variable at any time and anywhere inside function or outside function in a project."
   ]
  },
  {
   "cell_type": "code",
   "execution_count": 2,
   "id": "4405b529",
   "metadata": {},
   "outputs": [
    {
     "name": "stdout",
     "output_type": "stream",
     "text": [
      "15\n"
     ]
    }
   ],
   "source": [
    "# global scope - outside a function\n",
    "g = 10\n",
    "def global_scope1():\n",
    "    return g+5\n",
    "print(global_scope1())\n",
    "#Here we declared the g value outside the function not inside. still we got the value"
   ]
  },
  {
   "cell_type": "code",
   "execution_count": 4,
   "id": "17683485",
   "metadata": {},
   "outputs": [
    {
     "data": {
      "text/plain": [
       "5"
      ]
     },
     "execution_count": 4,
     "metadata": {},
     "output_type": "execute_result"
    }
   ],
   "source": [
    "# Here we didn't declared the g value anywhere but still it shows up. bcoz we declared above so g is a gobal variable.\n",
    "def global_scope2():\n",
    "    return g-5\n",
    "\n",
    "global_scope2()"
   ]
  },
  {
   "cell_type": "markdown",
   "id": "42ba18f1",
   "metadata": {},
   "source": [
    "**Local scopes:-**\n",
    "We can create multiple Local scopes inside each functions bcoz local scopes only works inside a particular function. It will not work outside a function. So we can use local scopes inside an individual functions. The lifetime of a local scope expires when the function returns to the caller."
   ]
  },
  {
   "cell_type": "code",
   "execution_count": 7,
   "id": "1f6edb7f",
   "metadata": {},
   "outputs": [
    {
     "data": {
      "text/plain": [
       "2"
      ]
     },
     "execution_count": 7,
     "metadata": {},
     "output_type": "execute_result"
    }
   ],
   "source": [
    "# Local scope - inside a function\n",
    "def local_scope1():\n",
    "    l = 2\n",
    "    return l\n",
    "\n",
    "local_scope1()\n",
    "# Here we decalred the value inside a function it works well for this function. After the function ls gets empty"
   ]
  },
  {
   "cell_type": "code",
   "execution_count": null,
   "id": "18b31c05",
   "metadata": {},
   "outputs": [],
   "source": [
    "# Here the function doesn't know what is ls bcoz it will be empty. so we need to decalre again or use global variable. \n",
    "def local_scope2():\n",
    "    return l\n",
    "local_scope2()\n",
    "\n",
    "#ouput:-  NameError: name 'l' is not defined"
   ]
  },
  {
   "cell_type": "markdown",
   "id": "26c5b524",
   "metadata": {},
   "source": [
    "=============================================================================================================="
   ]
  },
  {
   "cell_type": "markdown",
   "id": "d68e51f3",
   "metadata": {},
   "source": [
    "### 6. What happens to variables in a local scope when the function call returns?"
   ]
  },
  {
   "cell_type": "markdown",
   "id": "d71de33d",
   "metadata": {},
   "source": [
    "When the function call returns then a local variable will useless(Empty). We cannot use the varaible outside the function with the same value. But we can allocate new value to the same variable which we used in local varaible."
   ]
  },
  {
   "cell_type": "code",
   "execution_count": 16,
   "id": "3e40ad25",
   "metadata": {},
   "outputs": [
    {
     "name": "stdout",
     "output_type": "stream",
     "text": [
      "2\n"
     ]
    },
    {
     "data": {
      "text/plain": [
       "5"
      ]
     },
     "execution_count": 16,
     "metadata": {},
     "output_type": "execute_result"
    }
   ],
   "source": [
    "#Here local variable is v in function t2\n",
    "def t2():\n",
    "    v = 2\n",
    "    return v\n",
    "print(t2())\n",
    "\n",
    "# After t2 the v variable gets empty so we can assign new value.\n",
    "#We used same local variable which is v in another function.\n",
    "\n",
    "def t3():\n",
    "    v = 5\n",
    "    return v\n",
    "t3()"
   ]
  },
  {
   "cell_type": "markdown",
   "id": "82a8a8b7",
   "metadata": {},
   "source": [
    "=============================================================================================================="
   ]
  },
  {
   "cell_type": "markdown",
   "id": "ab5449c6",
   "metadata": {},
   "source": [
    "### 7. What is the concept of a return value? Is it possible to have a return value in an expression?"
   ]
  },
  {
   "cell_type": "markdown",
   "id": "96fc9315",
   "metadata": {},
   "source": [
    "Return value is a method which returns the latest output in a function after completing or inbetween an execution. Yes, it will be possible to have a return value in a expression."
   ]
  },
  {
   "cell_type": "code",
   "execution_count": 21,
   "id": "ce3a4512",
   "metadata": {},
   "outputs": [
    {
     "data": {
      "text/plain": [
       "9"
      ]
     },
     "execution_count": 21,
     "metadata": {},
     "output_type": "execute_result"
    }
   ],
   "source": [
    "def q7(a):\n",
    "    for i in range(a):\n",
    "        pass\n",
    "    return i  # Here return method returns any expression or varaible with last updated value.\n",
    "q7(10)"
   ]
  },
  {
   "cell_type": "markdown",
   "id": "2f987d50",
   "metadata": {},
   "source": [
    "=============================================================================================================="
   ]
  },
  {
   "cell_type": "markdown",
   "id": "1df461aa",
   "metadata": {},
   "source": [
    "### 8. If a function does not have a return statement, what is the return value of a call to that function?\n",
    "\n",
    "If function doesnot have return or print statements then we get an error (**unexpected EOF while parsing**) so a function can't be without a return or print statements."
   ]
  },
  {
   "cell_type": "code",
   "execution_count": null,
   "id": "f3caba78",
   "metadata": {},
   "outputs": [],
   "source": [
    "# unexpected EOF while parsing\n",
    "def q8():"
   ]
  },
  {
   "cell_type": "markdown",
   "id": "6c838ff6",
   "metadata": {},
   "source": [
    "If a function in Python has print statement and does not have a return statement, or if the return statement does not explicitly specify a value to be returned, the function will implicitly return None. None is a special value in Python that represents the absence of a value or the lack of a return value."
   ]
  },
  {
   "cell_type": "code",
   "execution_count": 38,
   "id": "89a395ca",
   "metadata": {},
   "outputs": [
    {
     "name": "stdout",
     "output_type": "stream",
     "text": [
      "Hello, world!\n",
      "Result: None\n"
     ]
    }
   ],
   "source": [
    "def my_function():\n",
    "    print(\"Hello, world!\")\n",
    "\n",
    "result = my_function()  # Call the function and storing the result in a variable\n",
    "print(\"Result:\", result)  # Output: Result: None bcoz none is returning"
   ]
  },
  {
   "cell_type": "code",
   "execution_count": 36,
   "id": "639ad5a5",
   "metadata": {},
   "outputs": [
    {
     "name": "stdout",
     "output_type": "stream",
     "text": [
      "Hello, world!\n",
      "Result: Hello, world!\n"
     ]
    }
   ],
   "source": [
    "def my_function():\n",
    "    print(\"Hello, world!\")\n",
    "    return \"Hello, world!\"   #Returning the data\n",
    "\n",
    "result = my_function()  # Call the function and storing the result in a variable\n",
    "print(\"Result:\", result)  # Output: Result:data. bcoz we are returning data."
   ]
  },
  {
   "cell_type": "markdown",
   "id": "bc4eee84",
   "metadata": {},
   "source": [
    "=============================================================================================================="
   ]
  },
  {
   "cell_type": "markdown",
   "id": "6d02f72d",
   "metadata": {},
   "source": [
    "### 9. How do you make a function variable refer to the global variable?\n",
    "\n",
    "To make a local varaible inside a function to a global variable we can use global keyword inside the function."
   ]
  },
  {
   "cell_type": "code",
   "execution_count": 46,
   "id": "b9ec5f17",
   "metadata": {},
   "outputs": [
    {
     "data": {
      "text/plain": [
       "10"
      ]
     },
     "execution_count": 46,
     "metadata": {},
     "output_type": "execute_result"
    }
   ],
   "source": [
    "# use keyword global it will convert a variable into global vriable.\n",
    "def local_scope1():\n",
    "    global g    # converted local variable as a global varaible using global keyword\n",
    "    g = 10\n",
    "    return g\n",
    "\n",
    "local_scope1()"
   ]
  },
  {
   "cell_type": "code",
   "execution_count": 47,
   "id": "50699278",
   "metadata": {},
   "outputs": [
    {
     "data": {
      "text/plain": [
       "10"
      ]
     },
     "execution_count": 47,
     "metadata": {},
     "output_type": "execute_result"
    }
   ],
   "source": [
    "def local_scope2():\n",
    "    return g\n",
    "local_scope2()"
   ]
  },
  {
   "cell_type": "code",
   "execution_count": 48,
   "id": "485e579d",
   "metadata": {},
   "outputs": [
    {
     "data": {
      "text/plain": [
       "10"
      ]
     },
     "execution_count": 48,
     "metadata": {},
     "output_type": "execute_result"
    }
   ],
   "source": [
    "g"
   ]
  },
  {
   "cell_type": "markdown",
   "id": "df858ab5",
   "metadata": {},
   "source": [
    "=============================================================================================================="
   ]
  },
  {
   "cell_type": "markdown",
   "id": "9eb0d81a",
   "metadata": {},
   "source": [
    "### 10. What is the data type of None?\n",
    "\n",
    "The Datatype of None is Nonetype. we will get NoneType for print in a function. So to get original datatype we use return in a function."
   ]
  },
  {
   "cell_type": "code",
   "execution_count": 49,
   "id": "e831f149",
   "metadata": {},
   "outputs": [
    {
     "name": "stdout",
     "output_type": "stream",
     "text": [
      "5\n"
     ]
    },
    {
     "data": {
      "text/plain": [
       "NoneType"
      ]
     },
     "execution_count": 49,
     "metadata": {},
     "output_type": "execute_result"
    }
   ],
   "source": [
    "def q10(a):\n",
    "    print(a)\n",
    "    \n",
    "type(q10(5))"
   ]
  },
  {
   "cell_type": "code",
   "execution_count": 52,
   "id": "bfc173bb",
   "metadata": {},
   "outputs": [
    {
     "name": "stdout",
     "output_type": "stream",
     "text": [
      "5 <class 'int'>\n"
     ]
    }
   ],
   "source": [
    "def q10(a):\n",
    "    return(a)\n",
    "    \n",
    "print(q10(5), type(q10(5)))"
   ]
  },
  {
   "cell_type": "markdown",
   "id": "97b5762a",
   "metadata": {},
   "source": [
    "=============================================================================================================="
   ]
  },
  {
   "cell_type": "markdown",
   "id": "c3858c2e",
   "metadata": {},
   "source": [
    "### 11. What does the sentence import areallyourpetsnamederic do?"
   ]
  },
  {
   "cell_type": "markdown",
   "id": "9da41510",
   "metadata": {},
   "source": [
    "This is a module which has a function which checks weather all the pet names has eric or not kind of."
   ]
  },
  {
   "cell_type": "markdown",
   "id": "236b1723",
   "metadata": {},
   "source": [
    "=============================================================================================================="
   ]
  },
  {
   "cell_type": "markdown",
   "id": "9bc25a1f",
   "metadata": {},
   "source": [
    "### 12. If you had a bacon() feature in a spam module, what would you call it after importing spam?"
   ]
  },
  {
   "cell_type": "markdown",
   "id": "39abd758",
   "metadata": {},
   "source": [
    "We can call a bacon() as a function or method which is inside a spam module."
   ]
  },
  {
   "cell_type": "code",
   "execution_count": null,
   "id": "a4010253",
   "metadata": {},
   "outputs": [],
   "source": [
    "import spam\n",
    "\n",
    "spam.bacon()"
   ]
  },
  {
   "cell_type": "markdown",
   "id": "1bdbd082",
   "metadata": {},
   "source": [
    "=============================================================================================================="
   ]
  },
  {
   "cell_type": "markdown",
   "id": "9aa6105d",
   "metadata": {},
   "source": [
    "### 13. What can you do to save a programme from crashing if it encounters an error?"
   ]
  },
  {
   "cell_type": "markdown",
   "id": "464dde6e",
   "metadata": {},
   "source": [
    "We can use try and except method to catch an error."
   ]
  },
  {
   "cell_type": "code",
   "execution_count": 64,
   "id": "fc571951",
   "metadata": {},
   "outputs": [
    {
     "name": "stdout",
     "output_type": "stream",
     "text": [
      "Enter something:- krishna\n",
      "invalid literal for int() with base 10: 'krishna'\n"
     ]
    }
   ],
   "source": [
    "def q13():\n",
    "    try:\n",
    "        n = int(input('Enter something:- '))\n",
    "        return n\n",
    "    except Exception as e:\n",
    "        print(e)\n",
    "        \n",
    "q13()"
   ]
  },
  {
   "cell_type": "markdown",
   "id": "3aacf7aa",
   "metadata": {},
   "source": [
    "=============================================================================================================="
   ]
  },
  {
   "cell_type": "markdown",
   "id": "d42c2eb6",
   "metadata": {},
   "source": [
    "### 14. What is the purpose of the try clause? What is the purpose of the except clause?"
   ]
  },
  {
   "cell_type": "markdown",
   "id": "88d03d4b",
   "metadata": {},
   "source": [
    "The code is written in try block. Whenever an error occurs then the except block will catch the error.\n",
    "So, it's like if and else condition. If the code is correct then only the code will run in try block. If the code got any error then except block will catch the error. This will not crash the code even if we done any mistake."
   ]
  },
  {
   "cell_type": "markdown",
   "id": "fc05b4ca",
   "metadata": {},
   "source": [
    "=============================================================================================================="
   ]
  }
 ],
 "metadata": {
  "kernelspec": {
   "display_name": "Python 3",
   "language": "python",
   "name": "python3"
  },
  "language_info": {
   "codemirror_mode": {
    "name": "ipython",
    "version": 3
   },
   "file_extension": ".py",
   "mimetype": "text/x-python",
   "name": "python",
   "nbconvert_exporter": "python",
   "pygments_lexer": "ipython3",
   "version": "3.6.2"
  }
 },
 "nbformat": 4,
 "nbformat_minor": 5
}
