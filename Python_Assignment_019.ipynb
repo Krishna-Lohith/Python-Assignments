{
 "cells": [
  {
   "cell_type": "markdown",
   "id": "e7402ca4",
   "metadata": {},
   "source": [
    "# Python_Assignment_019"
   ]
  },
  {
   "cell_type": "markdown",
   "id": "20dbb356",
   "metadata": {},
   "source": [
    "**Concepts used:-**  \n",
    "Classes and objects    \n",
    "getter method, property decorater  \n",
    "Encapsulation  "
   ]
  },
  {
   "cell_type": "markdown",
   "id": "b7e6e565",
   "metadata": {},
   "source": [
    "=============================================================================================================="
   ]
  },
  {
   "cell_type": "markdown",
   "id": "685f639d",
   "metadata": {},
   "source": [
    "### 1. Make a class called Thing with no contents and print it. Then, create an object called example from this class and also print it. Are the printed values the same or different?"
   ]
  },
  {
   "cell_type": "code",
   "execution_count": 7,
   "id": "e7758d07",
   "metadata": {},
   "outputs": [],
   "source": [
    "class Thing:\n",
    "    pass"
   ]
  },
  {
   "cell_type": "code",
   "execution_count": 11,
   "id": "e0c87b22",
   "metadata": {},
   "outputs": [],
   "source": [
    "example = Thing()"
   ]
  },
  {
   "cell_type": "code",
   "execution_count": 12,
   "id": "bea4cf75",
   "metadata": {},
   "outputs": [
    {
     "name": "stdout",
     "output_type": "stream",
     "text": [
      "<class '__main__.Thing'>\n",
      "<__main__.Thing object at 0x000001BECBCAF6A0>\n"
     ]
    }
   ],
   "source": [
    "print(Thing)\n",
    "print(example)"
   ]
  },
  {
   "cell_type": "markdown",
   "id": "149b4af2",
   "metadata": {},
   "source": [
    "The printed values are different. The first print statement prints the class definition itself (<class '__main__.Thing'>), while the second print statement prints an instance of the class (<__main__.Thing object at 0x7f8c4d4f47d0>). This is because Thing is a class, while example is an object or instance of that class."
   ]
  },
  {
   "cell_type": "markdown",
   "id": "067c6970",
   "metadata": {},
   "source": [
    "=============================================================================================================="
   ]
  },
  {
   "cell_type": "markdown",
   "id": "b4dd6037",
   "metadata": {},
   "source": [
    "### 2. Create a new class called Thing2 and add the value &#39;abc&#39; to the letters class attribute. Letters should be printed."
   ]
  },
  {
   "cell_type": "code",
   "execution_count": 14,
   "id": "b313bd29",
   "metadata": {},
   "outputs": [],
   "source": [
    "class Thing2:\n",
    "    letters = 'abc'"
   ]
  },
  {
   "cell_type": "code",
   "execution_count": 18,
   "id": "55b49ecf",
   "metadata": {},
   "outputs": [
    {
     "data": {
      "text/plain": [
       "'abc'"
      ]
     },
     "execution_count": 18,
     "metadata": {},
     "output_type": "execute_result"
    }
   ],
   "source": [
    "Thing2.letters"
   ]
  },
  {
   "cell_type": "code",
   "execution_count": 15,
   "id": "9157a48a",
   "metadata": {},
   "outputs": [],
   "source": [
    "example2 = Thing2()"
   ]
  },
  {
   "cell_type": "code",
   "execution_count": 17,
   "id": "8b608855",
   "metadata": {},
   "outputs": [
    {
     "data": {
      "text/plain": [
       "'abc'"
      ]
     },
     "execution_count": 17,
     "metadata": {},
     "output_type": "execute_result"
    }
   ],
   "source": [
    "example2.letters"
   ]
  },
  {
   "cell_type": "markdown",
   "id": "087e6660",
   "metadata": {},
   "source": [
    "=============================================================================================================="
   ]
  },
  {
   "cell_type": "markdown",
   "id": "6b965fb0",
   "metadata": {},
   "source": [
    "### 3. Make yet another class called, of course, Thing3. This time, assign the value &#39;xyz&#39; to an instance (object) attribute called letters. Print letters. Do you need to make an object from the class to do this?"
   ]
  },
  {
   "cell_type": "code",
   "execution_count": 29,
   "id": "e75b0172",
   "metadata": {},
   "outputs": [],
   "source": [
    "class Thing3:\n",
    "    def __init__(self):\n",
    "        self.letters = 'xyz'"
   ]
  },
  {
   "cell_type": "code",
   "execution_count": 30,
   "id": "9cf26a2d",
   "metadata": {},
   "outputs": [
    {
     "data": {
      "text/plain": [
       "<function Thing3.mro>"
      ]
     },
     "execution_count": 30,
     "metadata": {},
     "output_type": "execute_result"
    }
   ],
   "source": [
    "Thing3.mro   # we cannot call an instance object without an object"
   ]
  },
  {
   "cell_type": "code",
   "execution_count": 31,
   "id": "b983a952",
   "metadata": {},
   "outputs": [],
   "source": [
    "example3 = Thing3()"
   ]
  },
  {
   "cell_type": "code",
   "execution_count": 32,
   "id": "b975944d",
   "metadata": {},
   "outputs": [
    {
     "data": {
      "text/plain": [
       "'xyz'"
      ]
     },
     "execution_count": 32,
     "metadata": {},
     "output_type": "execute_result"
    }
   ],
   "source": [
    "example3.letters"
   ]
  },
  {
   "cell_type": "markdown",
   "id": "cafa54e2",
   "metadata": {},
   "source": [
    "=============================================================================================================="
   ]
  },
  {
   "cell_type": "markdown",
   "id": "6520574d",
   "metadata": {},
   "source": [
    "### 4. Create an Element class with the instance attributes name, symbol, and number. Create a class object with the values &#39;Hydrogen,&#39; &#39;H,&#39; and 1."
   ]
  },
  {
   "cell_type": "code",
   "execution_count": 59,
   "id": "94b86a81",
   "metadata": {},
   "outputs": [
    {
     "name": "stdout",
     "output_type": "stream",
     "text": [
      "Hydrogen\n",
      "H\n",
      "1\n"
     ]
    }
   ],
   "source": [
    "class Element:\n",
    "    def __init__(self, name, symbol, number):\n",
    "        self.name = name\n",
    "        self.symbol =  symbol\n",
    "        self.number = number\n",
    "        \n",
    "example4 = Element('Hydrogen', 'H', 1)\n",
    "\n",
    "print(example4.name)\n",
    "print(example4.symbol)\n",
    "print(example4.number)"
   ]
  },
  {
   "cell_type": "code",
   "execution_count": 42,
   "id": "c2bcdae4",
   "metadata": {},
   "outputs": [],
   "source": [
    "# This is another way of assigning the values. Here anyone can update the values.\n",
    "\n",
    "class Element:\n",
    "    def __init__(self):\n",
    "        self.name = ''\n",
    "        self.symbol =  ''\n",
    "        self.number = ''"
   ]
  },
  {
   "cell_type": "code",
   "execution_count": 43,
   "id": "50ff03e1",
   "metadata": {},
   "outputs": [],
   "source": [
    "example4 = Element"
   ]
  },
  {
   "cell_type": "code",
   "execution_count": 44,
   "id": "ae6dad0c",
   "metadata": {},
   "outputs": [
    {
     "ename": "AttributeError",
     "evalue": "type object 'Element' has no attribute 'name'",
     "output_type": "error",
     "traceback": [
      "\u001b[1;31m---------------------------------------------------------------------------\u001b[0m",
      "\u001b[1;31mAttributeError\u001b[0m                            Traceback (most recent call last)",
      "\u001b[1;32m<ipython-input-44-3ae57dc6264b>\u001b[0m in \u001b[0;36m<module>\u001b[1;34m\u001b[0m\n\u001b[1;32m----> 1\u001b[1;33m \u001b[0mexample4\u001b[0m\u001b[1;33m.\u001b[0m\u001b[0mname\u001b[0m\u001b[1;33m\u001b[0m\u001b[0m\n\u001b[0m",
      "\u001b[1;31mAttributeError\u001b[0m: type object 'Element' has no attribute 'name'"
     ]
    }
   ],
   "source": [
    "example4.name"
   ]
  },
  {
   "cell_type": "code",
   "execution_count": 45,
   "id": "e1629a70",
   "metadata": {},
   "outputs": [],
   "source": [
    "example4.name = 'Hydrogen'"
   ]
  },
  {
   "cell_type": "code",
   "execution_count": 46,
   "id": "a5efd957",
   "metadata": {},
   "outputs": [
    {
     "data": {
      "text/plain": [
       "'Hydrogen'"
      ]
     },
     "execution_count": 46,
     "metadata": {},
     "output_type": "execute_result"
    }
   ],
   "source": [
    "example4.name"
   ]
  },
  {
   "cell_type": "code",
   "execution_count": 48,
   "id": "11d504d3",
   "metadata": {},
   "outputs": [
    {
     "data": {
      "text/plain": [
       "'H'"
      ]
     },
     "execution_count": 48,
     "metadata": {},
     "output_type": "execute_result"
    }
   ],
   "source": [
    "example4.symbol = 'H'\n",
    "example4.symbol"
   ]
  },
  {
   "cell_type": "code",
   "execution_count": 49,
   "id": "0b07307e",
   "metadata": {},
   "outputs": [],
   "source": [
    "example4.number = 1"
   ]
  },
  {
   "cell_type": "code",
   "execution_count": 50,
   "id": "de95227d",
   "metadata": {},
   "outputs": [
    {
     "data": {
      "text/plain": [
       "1"
      ]
     },
     "execution_count": 50,
     "metadata": {},
     "output_type": "execute_result"
    }
   ],
   "source": [
    "example4.number"
   ]
  },
  {
   "cell_type": "markdown",
   "id": "110a283d",
   "metadata": {},
   "source": [
    "=============================================================================================================="
   ]
  },
  {
   "cell_type": "markdown",
   "id": "0f3fb1c1",
   "metadata": {},
   "source": [
    "### 5. Make a dictionary with these keys and values: &#39;name&#39;: &#39;Hydrogen&#39;, &#39;symbol&#39;: &#39;H&#39;, &#39;number&#39;: 1. Then, create an object called hydrogen from class Element using this dictionary."
   ]
  },
  {
   "cell_type": "code",
   "execution_count": 76,
   "id": "ea3ddb33",
   "metadata": {},
   "outputs": [
    {
     "name": "stdout",
     "output_type": "stream",
     "text": [
      "Hydrogen\n",
      "H\n",
      "1\n"
     ]
    }
   ],
   "source": [
    "d = {'name':'Hydrogen', 'symbol': 'H', 'number': 1}\n",
    "\n",
    "hydrogen = Element(**d)    ## as ** accepts dictionary items.\n",
    "\n",
    "print(hydrogen.name)\n",
    "print(hydrogen.symbol)\n",
    "print(hydrogen.number)"
   ]
  },
  {
   "cell_type": "markdown",
   "id": "f5f83cfe",
   "metadata": {},
   "source": [
    "=============================================================================================================="
   ]
  },
  {
   "cell_type": "markdown",
   "id": "6885312b",
   "metadata": {},
   "source": [
    "### 6. For the Element class, define a method called dump() that prints the values of the object’s attributes (name, symbol, and number). Create the hydrogen object from this new definition and use dump() to print its attributes."
   ]
  },
  {
   "cell_type": "code",
   "execution_count": 77,
   "id": "7ed66fd7",
   "metadata": {},
   "outputs": [],
   "source": [
    "class Element:\n",
    "    def __init__(self, name, symbol, number):\n",
    "        self.name = name\n",
    "        self.symbol =  symbol\n",
    "        self.number = number\n",
    "    \n",
    "    def dump(self):\n",
    "        print(self.name)\n",
    "        print(self.symbol)\n",
    "        print(self.number)"
   ]
  },
  {
   "cell_type": "code",
   "execution_count": 78,
   "id": "620cf4a8",
   "metadata": {},
   "outputs": [],
   "source": [
    "d = {'name':'Hydrogen', 'symbol': 'H', 'number': 1}\n",
    "\n",
    "hydrogen = Element(**d)"
   ]
  },
  {
   "cell_type": "code",
   "execution_count": 79,
   "id": "afda422c",
   "metadata": {},
   "outputs": [
    {
     "name": "stdout",
     "output_type": "stream",
     "text": [
      "Hydrogen\n",
      "H\n",
      "1\n"
     ]
    }
   ],
   "source": [
    "hydrogen.dump()"
   ]
  },
  {
   "cell_type": "markdown",
   "id": "94f6b8f2",
   "metadata": {},
   "source": [
    "=============================================================================================================="
   ]
  },
  {
   "cell_type": "markdown",
   "id": "f8c0fa1c",
   "metadata": {},
   "source": [
    "### 7. Call print(hydrogen). In the definition of Element, change the name of method dump to __str__, create a new hydrogen object, and call print(hydrogen) again."
   ]
  },
  {
   "cell_type": "code",
   "execution_count": 7,
   "id": "756cad88",
   "metadata": {},
   "outputs": [
    {
     "name": "stdout",
     "output_type": "stream",
     "text": [
      "<__main__.Element object at 0x000001D9B92AD908>\n"
     ]
    }
   ],
   "source": [
    "class Element:\n",
    "    def __init__(self, name, symbol, number):\n",
    "        self.name = name\n",
    "        self.symbol = symbol\n",
    "        self.number = number\n",
    "    \n",
    "    def dump(self):\n",
    "        return f\"{self.name} ({self.symbol}), number {self.number}\"\n",
    "    \n",
    "# Create hydrogen object using a dictionary\n",
    "data = {'name': 'Hydrogen', 'symbol': 'H', 'number': 1}\n",
    "hydrogen = Element(**data)\n",
    "\n",
    "print(hydrogen)\n",
    "\n",
    "# print statement outputs the default string representation of the Element object, which is the memory location of the object in memory."
   ]
  },
  {
   "cell_type": "code",
   "execution_count": 10,
   "id": "32330777",
   "metadata": {},
   "outputs": [
    {
     "name": "stdout",
     "output_type": "stream",
     "text": [
      "Hydrogen (H), number 1\n"
     ]
    }
   ],
   "source": [
    "class Element:\n",
    "    def __init__(self, name, symbol, number):\n",
    "        self.name = name\n",
    "        self.symbol = symbol\n",
    "        self.number = number\n",
    "    \n",
    "    def __str__(self):\n",
    "        return f\"{self.name} ({self.symbol}), number {self.number}\"\n",
    "        \n",
    "hydrogen = Element(**data)\n",
    "print(hydrogen)\n",
    "\n",
    "# The second print statement calls the __str__() method to provide a more meaningful string representation of the hydrogen object, which includes its name, symbol, and number."
   ]
  },
  {
   "cell_type": "markdown",
   "id": "90db14a2",
   "metadata": {},
   "source": [
    "=============================================================================================================="
   ]
  },
  {
   "cell_type": "markdown",
   "id": "5861ed5c",
   "metadata": {},
   "source": [
    "### 8. Modify Element to make the attributes name, symbol, and number private. Define a getter property for each to return its value.\n",
    "\n",
    "\n",
    "Getter methods are used to provide controlled access to class attributes from outside the class. In Python, all attributes are public by default, which means that they can be accessed and modified from outside the class. However, it is often desirable to restrict direct access to certain attributes, either to ensure that they are used correctly or to maintain encapsulation and data privacy.\n",
    "\n",
    "Getter methods provide a way to access the value of an attribute from outside the class without allowing direct access to the attribute itself. By defining a getter method for an attribute, you can enforce any necessary constraints or validation checks on the attribute value before returning it. This helps to ensure that the attribute is used correctly and that its value is always in a valid state."
   ]
  },
  {
   "cell_type": "code",
   "execution_count": 12,
   "id": "575aba18",
   "metadata": {},
   "outputs": [],
   "source": [
    "class Element:\n",
    "    def __init__(self, name, symbol, number):\n",
    "        self.__name = name\n",
    "        self.__symbol = symbol\n",
    "        self.__number = number\n",
    "        \n",
    "    @property\n",
    "    def name(self):\n",
    "        return self.__name\n",
    "    \n",
    "    @property\n",
    "    def symbol(self):\n",
    "        return self.__symbol\n",
    "    \n",
    "    @property\n",
    "    def number(self):\n",
    "        return self.__number\n",
    "    \n",
    "    def dump(self):\n",
    "        return f\"{self.name} ({self.symbol}), number {self.number}\""
   ]
  },
  {
   "cell_type": "code",
   "execution_count": 13,
   "id": "a827da4c",
   "metadata": {},
   "outputs": [],
   "source": [
    "hydrogen = Element('Hydrogen','H',1)"
   ]
  },
  {
   "cell_type": "code",
   "execution_count": 14,
   "id": "023e8c04",
   "metadata": {},
   "outputs": [
    {
     "data": {
      "text/plain": [
       "'Hydrogen'"
      ]
     },
     "execution_count": 14,
     "metadata": {},
     "output_type": "execute_result"
    }
   ],
   "source": [
    "hydrogen.name"
   ]
  },
  {
   "cell_type": "markdown",
   "id": "8b0d959e",
   "metadata": {},
   "source": [
    "=============================================================================================================="
   ]
  },
  {
   "cell_type": "markdown",
   "id": "93ac5812",
   "metadata": {},
   "source": [
    "### 9. Define three classes: Bear, Rabbit, and Octothorpe. For each, define only one method: eats(). This should return &#39;berries&#39; (Bear), &#39;clover&#39; (Rabbit), or &#39;campers&#39; (Octothorpe). Create one object from each and print what it eats."
   ]
  },
  {
   "cell_type": "code",
   "execution_count": 15,
   "id": "d67c3759",
   "metadata": {},
   "outputs": [],
   "source": [
    "class Bear:\n",
    "    def eats():\n",
    "        return 'berries'\n",
    "\n",
    "class Rabbit:\n",
    "    def eats():\n",
    "        return 'clover'\n",
    "\n",
    "class Octothrope:\n",
    "    def eats():\n",
    "        return 'campers'"
   ]
  },
  {
   "cell_type": "code",
   "execution_count": 19,
   "id": "24b1f9e7",
   "metadata": {},
   "outputs": [
    {
     "data": {
      "text/plain": [
       "'berries'"
      ]
     },
     "execution_count": 19,
     "metadata": {},
     "output_type": "execute_result"
    }
   ],
   "source": [
    "bear  = Bear\n",
    "\n",
    "bear.eats()"
   ]
  },
  {
   "cell_type": "code",
   "execution_count": 20,
   "id": "ee2e664f",
   "metadata": {},
   "outputs": [
    {
     "data": {
      "text/plain": [
       "'clover'"
      ]
     },
     "execution_count": 20,
     "metadata": {},
     "output_type": "execute_result"
    }
   ],
   "source": [
    "rabbit = Rabbit\n",
    "\n",
    "rabbit.eats()"
   ]
  },
  {
   "cell_type": "code",
   "execution_count": 21,
   "id": "69303f09",
   "metadata": {},
   "outputs": [
    {
     "data": {
      "text/plain": [
       "'campers'"
      ]
     },
     "execution_count": 21,
     "metadata": {},
     "output_type": "execute_result"
    }
   ],
   "source": [
    "octo = Octothrope\n",
    "\n",
    "octo.eats()"
   ]
  },
  {
   "cell_type": "markdown",
   "id": "643dd0b5",
   "metadata": {},
   "source": [
    "=============================================================================================================="
   ]
  },
  {
   "cell_type": "markdown",
   "id": "2c1e1ecd",
   "metadata": {},
   "source": [
    "### 10. Define these classes: Laser, Claw, and SmartPhone. Each has only one method: does(). This returns &#39;disintegrate&#39; (Laser), &#39;crush&#39; (Claw), or &#39;ring&#39; (SmartPhone). Then, define the class Robot that  has one instance (object) of each of these. Define a does() method for the Robot that prints what its component objects do."
   ]
  },
  {
   "cell_type": "code",
   "execution_count": 45,
   "id": "946135b0",
   "metadata": {},
   "outputs": [],
   "source": [
    "class Laser:\n",
    "    def does(self):\n",
    "        return 'disintegrate'\n",
    "    \n",
    "class Claw:\n",
    "    def does(self):\n",
    "        return 'crush'\n",
    "    \n",
    "class Smartphone:\n",
    "    def does(self):\n",
    "        return 'ring'"
   ]
  },
  {
   "cell_type": "code",
   "execution_count": 47,
   "id": "852f6101",
   "metadata": {},
   "outputs": [],
   "source": [
    "class Robot:\n",
    "    def __init__(self):\n",
    "        self.laser = Laser()\n",
    "        self.claw = Claw()\n",
    "        self.smartphone = Smartphone()\n",
    "        \n",
    "    def does(self):\n",
    "        print('Laser:', self.laser.does())\n",
    "        print('Claw:', self.claw.does())\n",
    "        print('SmartPhone:', self.smartphone.does())"
   ]
  },
  {
   "cell_type": "code",
   "execution_count": 48,
   "id": "3b046ea6",
   "metadata": {},
   "outputs": [
    {
     "name": "stdout",
     "output_type": "stream",
     "text": [
      "Laser: disintegrate\n",
      "Claw: crush\n",
      "SmartPhone: ring\n"
     ]
    }
   ],
   "source": [
    "robot = Robot()\n",
    "robot.does()"
   ]
  },
  {
   "cell_type": "markdown",
   "id": "ede5ed4d",
   "metadata": {},
   "source": [
    "=============================================================================================================="
   ]
  }
 ],
 "metadata": {
  "kernelspec": {
   "display_name": "Python 3",
   "language": "python",
   "name": "python3"
  },
  "language_info": {
   "codemirror_mode": {
    "name": "ipython",
    "version": 3
   },
   "file_extension": ".py",
   "mimetype": "text/x-python",
   "name": "python",
   "nbconvert_exporter": "python",
   "pygments_lexer": "ipython3",
   "version": "3.6.2"
  }
 },
 "nbformat": 4,
 "nbformat_minor": 5
}
